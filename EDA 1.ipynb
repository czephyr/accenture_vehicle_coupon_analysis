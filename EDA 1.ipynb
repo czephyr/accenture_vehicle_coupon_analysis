{
 "cells": [
  {
   "cell_type": "code",
   "execution_count": 2,
   "metadata": {},
   "outputs": [],
   "source": [
    "import pandas as pd\n",
    "import matplotlib.pyplot as plt\n",
    "import numpy as np\n",
    "import seaborn as sns"
   ]
  },
  {
   "cell_type": "code",
   "execution_count": 3,
   "metadata": {},
   "outputs": [],
   "source": [
    "##### BUSINESS PROBLEM DESCRIPTION\n",
    "## Ha senso investire soldi per fare advertising per ristorazione con i coupon attraverso le metriche\n",
    "## raccolte dai dispositivi di geolocalizzazione? Sarebbe un business model monetizzabile? \n",
    "## Quale segmento di clientela potrebbe essere più responsive alla call to action? \n",
    "## Che abitudini ha la clientela che sarebbe responsive? \n",
    "## Che caratteristiche deve avere il coupon per essere interessante? (Distanza, Expiration date, \n",
    "# Tipologia di ristorante, Comodità per l'utente in viaggio [direzione], \n",
    "# Dove sta andando l'utente [destinazione], con chi è [passenger (magari giovani con amici che stanno uscendo a divertirsi????)])\n",
    "######## Lavoratori che vanno a lavoro? \n",
    "## Ci sarebbe un periodo \n",
    "\n",
    "\n",
    "##### GENERAL STUFF \n",
    "## A noi interessa essere più accurati sullo scoprire quelli che useranno il coupon o quello che non lo useranno?\n",
    "## ne dipende la metrica del modello, e le implicazioni di business sul come agire (nel caso si usino risorse per \n",
    "## inviare i coupon ci piacerebbe evitare che vengano sprecati e non inviarli a chi non li userebbe)\n",
    "\n",
    "##### VARIABLES\n",
    "## Weather not distributed evenly so i'd say not statistically relevant\n",
    "## Time, seems like 7AM and 10PM don't offer any insights (orari strambi per mangiare)\n",
    "## Coupon type, \"Carry out & Take away\" and \"Restaurant <20\" are extremely good performers, while Bars suck\n",
    "## Expiration, 1day is performing extremely good, the other one not relevant\n",
    "## Gender, males are 59, females 54, seems not relevant\n",
    "## Age, don't really know what to do, all positive, below21 most performing\n",
    "## maritalStatus, mostly positive but singles have 60, widowed and diverced are useless because of sample size\n",
    "## has_children, no children have 0\n",
    "## education, not really statistical, might be useful to feature engineer into overHighschool, underHighschool\n",
    "## income, lesser income\n",
    "\n",
    "##### FEATURE ENGINEERING\n",
    "## GEQ Variables just one feature \n",
    "## direction Variables just one feature \n",
    "## Implicazioni di business nel capire \n",
    "## Interaction between GEQ and Direction (and maybe Expiration, [Vizualization on these ones]) \n",
    "## Education feature engineer into overHighschool, underHighschool"
   ]
  },
  {
   "cell_type": "code",
   "execution_count": 4,
   "metadata": {},
   "outputs": [],
   "source": [
    "df = pd.read_csv(\"Vehicle Coupon Recommendation.csv\")"
   ]
  },
  {
   "cell_type": "code",
   "execution_count": 5,
   "metadata": {},
   "outputs": [],
   "source": [
    "def clear(x):\n",
    "    if x == \"Less than $12500\":\n",
    "        return \"12499\"\n",
    "    elif x == \"$12500 - $24999\":\n",
    "        return \"12500\"\n",
    "    elif x == \"$25000 - $37499\":\n",
    "        return \"25000\"\n",
    "    elif x == \"$37500 - $49999\":\n",
    "        return \"37500\"\n",
    "    elif x == \"$50000 - $62499\":\n",
    "        return \"50000\"\n",
    "    elif x == \"$62500 - $74999\":\n",
    "        return \"62500\"\n",
    "    elif x == \"$75000 - $87499\":\n",
    "        return \"75000\"\n",
    "    elif x == \"$87500 - $99999\":\n",
    "        return \"87500\"\n",
    "    elif x ==\"$100000 or More\":\n",
    "        return \"more than 100k\""
   ]
  },
  {
   "cell_type": "code",
   "execution_count": 6,
   "metadata": {},
   "outputs": [],
   "source": [
    "def rich(x):\n",
    "    if x in [\"62500\",\"75000\",\"87500\",\"more than 100k\"]:\n",
    "        return 1\n",
    "    else:\n",
    "        return 0\n",
    "def middle(x):\n",
    "    if x in [\"25000\",\"37500\",\"50000\"]:\n",
    "        return 1\n",
    "    else:\n",
    "        return 0\n",
    "def poor(x):\n",
    "    if x in [\"12499\",\"12500\"]:\n",
    "        return 1\n",
    "    else:\n",
    "        return 0"
   ]
  },
  {
   "cell_type": "code",
   "execution_count": 7,
   "metadata": {},
   "outputs": [],
   "source": [
    "df[\"income\"]= df[\"income\"].apply(clear)"
   ]
  },
  {
   "cell_type": "code",
   "execution_count": 8,
   "metadata": {},
   "outputs": [],
   "source": [
    "df[\"rich\"] = df[\"income\"].apply(rich)\n",
    "df[\"middleclass\"] = df[\"income\"].apply(middle)\n",
    "df[\"poor\"] = df[\"income\"].apply(poor)"
   ]
  },
  {
   "cell_type": "code",
   "execution_count": 9,
   "metadata": {},
   "outputs": [
    {
     "name": "stdout",
     "output_type": "stream",
     "text": [
      "rich           0.539917\n",
      "poor           0.581274\n",
      "middleclass    0.584261\n",
      "Name: Wealth, dtype: float64\n"
     ]
    },
    {
     "data": {
      "image/png": "[encoded data removed]",
      "text/plain": [
       "<Figure size 432x288 with 1 Axes>"
      ]
     },
     "metadata": {
      "needs_background": "light"
     },
     "output_type": "display_data"
    }
   ],
   "source": [
    "show = {}\n",
    "\n",
    "count = df[[\"rich\",\"middleclass\",\"poor\"]].sum()\n",
    "\n",
    "for val in count.index:\n",
    "    show[val] = (df[df[val]==1][\"Y\"].sum() / df[df[val]==1][\"Y\"].count())\n",
    "ser = pd.Series(show,name=\"Wealth\")\n",
    "f, ax = plt.subplots(1)\n",
    "ser = ser.sort_values(ascending=True)\n",
    "plt.axhline(y=0.60,linewidth=1, color='red')\n",
    "plt.bar(ser.index,ser)\n",
    "ax.set_ylim(ymin=0.50)\n",
    "print(ser.sort_values())"
   ]
  },
  {
   "cell_type": "code",
   "execution_count": 10,
   "metadata": {},
   "outputs": [
    {
     "name": "stdout",
     "output_type": "stream",
     "text": [
      "rich           4334\n",
      "middleclass    5477\n",
      "poor           2873\n",
      "dtype: int64\n"
     ]
    },
    {
     "data": {
      "image/png": "[encoded data removed]",
      "text/plain": [
       "<Figure size 432x288 with 1 Axes>"
      ]
     },
     "metadata": {},
     "output_type": "display_data"
    }
   ],
   "source": [
    "sizes = df[[\"rich\",\"middleclass\",\"poor\"]].sum()\n",
    "explode = (0, 0, 0)\n",
    "\n",
    "fig1, ax1 = plt.subplots(1)\n",
    "ax1.pie(sizes, explode=explode,labels=sizes.index, autopct='%1.1f%%',\n",
    "        shadow=True, startangle=90)\n",
    "ax1.axis('equal')  # Equal aspect ratio ensures that pie is drawn as a circle.\n",
    "\n",
    "print(df[[\"rich\",\"middleclass\",\"poor\"]].sum())"
   ]
  },
  {
   "cell_type": "code",
   "execution_count": 11,
   "metadata": {},
   "outputs": [
    {
     "data": {
      "text/plain": [
       "(-1.2202963239941453,\n",
       " 1.1118001307821304,\n",
       " -1.1121077874372518,\n",
       " 1.1835236307282337)"
      ]
     },
     "execution_count": 11,
     "metadata": {},
     "output_type": "execute_result"
    },
    {
     "data": {
      "image/png": "[encoded data removed]",
      "text/plain": [
       "<Figure size 432x288 with 1 Axes>"
      ]
     },
     "metadata": {},
     "output_type": "display_data"
    }
   ],
   "source": [
    "sizes = df[\"age\"].value_counts()\n",
    "explode = (0.1, 0.1, 0,0,0,0,0,0)\n",
    "\n",
    "fig1, ax1 = plt.subplots(1)\n",
    "ax1.pie(sizes, explode=explode,labels=sizes.index, autopct='%1.1f%%',\n",
    "        shadow=True, startangle=90)\n",
    "ax1.axis('equal')  # Equal aspect ratio ensures that pie is drawn as a circle."
   ]
  },
  {
   "cell_type": "code",
   "execution_count": 12,
   "metadata": {},
   "outputs": [],
   "source": [
    "df[\"age0\"] = df[\"age\"].apply(lambda x: 1 if x ==\"below21\" else 0)\n",
    "df[\"age21\"] = df[\"age\"].apply(lambda x: 1 if x in [\"21\",\"26\"] else 0)\n",
    "df[\"age31\"] = df[\"age\"].apply(lambda x: 1 if x in [\"31\",\"36\"] else 0)\n",
    "df[\"age41\"] = df[\"age\"].apply(lambda x: 1 if x in [\"41\",\"46\"] else 0)\n",
    "df[\"age51\"] = df[\"age\"].apply(lambda x: 1 if x in [\"50plus\"] else 0)"
   ]
  },
  {
   "cell_type": "code",
   "execution_count": 44,
   "metadata": {},
   "outputs": [
    {
     "name": "stdout",
     "output_type": "stream",
     "text": [
      "50plus     0.508949\n",
      "36         0.535254\n",
      "31         0.546346\n",
      "41         0.572736\n",
      "46         0.575802\n",
      "26         0.595936\n",
      "21         0.598191\n",
      "below21    0.634369\n",
      "Name: Age, dtype: float64\n"
     ]
    },
    {
     "data": {
      "image/png": "[encoded data removed]",
      "text/plain": [
       "<Figure size 432x288 with 1 Axes>"
      ]
     },
     "metadata": {
      "needs_background": "light"
     },
     "output_type": "display_data"
    }
   ],
   "source": [
    "show = {}\n",
    "for val in df[\"age\"].unique():\n",
    "    show[val]=(df[df[\"age\"]==val][\"Y\"].sum() / df[df[\"age\"]==val][\"Y\"].count())\n",
    "ser = pd.Series(show,name=\"Age\")\n",
    "f, ax = plt.subplots(1)\n",
    "ser = ser.sort_values(ascending=True)\n",
    "plt.axhline(y=0.60,linewidth=1, color='red')\n",
    "plt.bar(ser.index,ser)\n",
    "ax.set_ylim(ymin=0.50)\n",
    "print(ser.sort_values())"
   ]
  },
  {
   "cell_type": "markdown",
   "metadata": {},
   "source": [
    "Potrebbe essere interessante capire come mai i 50plus sono il 14% ma performano così male"
   ]
  },
  {
   "cell_type": "markdown",
   "metadata": {},
   "source": [
    "31, 26 e 21 rappresentano più della metà delle persone intervistate, ma 31 ha meno adesione, quindi guardiamo 26 e 21."
   ]
  },
  {
   "cell_type": "code",
   "execution_count": 14,
   "metadata": {},
   "outputs": [
    {
     "data": {
      "text/plain": [
       "<BarContainer object of 9 artists>"
      ]
     },
     "execution_count": 14,
     "metadata": {},
     "output_type": "execute_result"
    },
    {
     "data": {
      "image/png": "[encoded data removed]",
      "text/plain": [
       "<Figure size 432x288 with 1 Axes>"
      ]
     },
     "metadata": {
      "needs_background": "light"
     },
     "output_type": "display_data"
    }
   ],
   "source": [
    "ser = df[df[\"age\"].isin([\"21\",\"26\"]) & df[\"Y\"]==1][\"income\"].value_counts().sort_index()\n",
    "plt.bar(ser.index,ser)"
   ]
  },
  {
   "cell_type": "code",
   "execution_count": 15,
   "metadata": {},
   "outputs": [
    {
     "data": {
      "text/plain": [
       "<BarContainer object of 9 artists>"
      ]
     },
     "execution_count": 15,
     "metadata": {},
     "output_type": "execute_result"
    },
    {
     "data": {
      "image/png": "[encoded data removed]",
      "text/plain": [
       "<Figure size 432x288 with 1 Axes>"
      ]
     },
     "metadata": {
      "needs_background": "light"
     },
     "output_type": "display_data"
    }
   ],
   "source": [
    "ser = df[df[\"age\"].isin([\"31\",\"36\",\"41\",\"46\"]) & df[\"Y\"]==1][\"income\"].value_counts().sort_index()\n",
    "plt.bar(ser.index,ser)"
   ]
  },
  {
   "cell_type": "code",
   "execution_count": 82,
   "metadata": {},
   "outputs": [
    {
     "data": {
      "text/plain": [
       "([0, 1, 2, 3, 4, 5],\n",
       " [Text(0, 0, ''),\n",
       "  Text(0, 0, ''),\n",
       "  Text(0, 0, ''),\n",
       "  Text(0, 0, ''),\n",
       "  Text(0, 0, ''),\n",
       "  Text(0, 0, '')])"
      ]
     },
     "execution_count": 82,
     "metadata": {},
     "output_type": "execute_result"
    },
    {
     "data": {
      "image/png": "[encoded data removed]",
      "text/plain": [
       "<Figure size 432x288 with 1 Axes>"
      ]
     },
     "metadata": {
      "needs_background": "light"
     },
     "output_type": "display_data"
    }
   ],
   "source": [
    "ser = df[df[\"age\"].isin([\"21\",\"26\"]) & df[\"Y\"]==1][\"education\"].value_counts()\n",
    "plt.bar(ser.index,ser)\n",
    "plt.xticks(rotation='vertical')"
   ]
  },
  {
   "cell_type": "code",
   "execution_count": 83,
   "metadata": {},
   "outputs": [
    {
     "data": {
      "text/plain": [
       "<BarContainer object of 2 artists>"
      ]
     },
     "execution_count": 83,
     "metadata": {},
     "output_type": "execute_result"
    },
    {
     "data": {
      "image/png": "[encoded data removed]",
      "text/plain": [
       "<Figure size 432x288 with 1 Axes>"
      ]
     },
     "metadata": {
      "needs_background": "light"
     },
     "output_type": "display_data"
    }
   ],
   "source": [
    "ser = df[df[\"age\"].isin([\"21\",\"26\"]) & df[\"Y\"]==1][\"has_children\"].value_counts()\n",
    "plt.bar(ser.index,ser)"
   ]
  },
  {
   "cell_type": "code",
   "execution_count": 38,
   "metadata": {},
   "outputs": [
    {
     "data": {
      "text/plain": [
       "<BarContainer object of 5 artists>"
      ]
     },
     "execution_count": 38,
     "metadata": {},
     "output_type": "execute_result"
    },
    {
     "data": {
      "image/png": "[encoded data removed]",
      "text/plain": [
       "<Figure size 432x288 with 1 Axes>"
      ]
     },
     "metadata": {
      "needs_background": "light"
     },
     "output_type": "display_data"
    }
   ],
   "source": [
    "ser = df[df[\"Y\"]==1][\"coupon\"].value_counts()\n",
    "plt.bar(ser.index,ser)"
   ]
  },
  {
   "cell_type": "code",
   "execution_count": 87,
   "metadata": {},
   "outputs": [
    {
     "data": {
      "text/plain": [
       "<BarContainer object of 5 artists>"
      ]
     },
     "execution_count": 87,
     "metadata": {},
     "output_type": "execute_result"
    },
    {
     "data": {
      "image/png": "[encoded data removed]",
      "text/plain": [
       "<Figure size 432x288 with 1 Axes>"
      ]
     },
     "metadata": {
      "needs_background": "light"
     },
     "output_type": "display_data"
    }
   ],
   "source": [
    "ser = df[df[\"age\"].isin([\"21\",\"26\"]) & df[\"Y\"]==1][\"Bar\"].value_counts()\n",
    "plt.bar(ser.index,ser)"
   ]
  },
  {
   "cell_type": "code",
   "execution_count": 88,
   "metadata": {},
   "outputs": [
    {
     "data": {
      "text/plain": [
       "<BarContainer object of 5 artists>"
      ]
     },
     "execution_count": 88,
     "metadata": {},
     "output_type": "execute_result"
    },
    {
     "data": {
      "image/png": "[encoded data removed]",
      "text/plain": [
       "<Figure size 432x288 with 1 Axes>"
      ]
     },
     "metadata": {
      "needs_background": "light"
     },
     "output_type": "display_data"
    }
   ],
   "source": [
    "ser = df[df[\"age\"].isin([\"21\",\"26\"]) & df[\"Y\"]==1][\"CarryAway\"].value_counts()\n",
    "plt.bar(ser.index,ser)"
   ]
  },
  {
   "cell_type": "code",
   "execution_count": 89,
   "metadata": {},
   "outputs": [
    {
     "data": {
      "text/plain": [
       "<BarContainer object of 5 artists>"
      ]
     },
     "execution_count": 89,
     "metadata": {},
     "output_type": "execute_result"
    },
    {
     "data": {
      "image/png": "[encoded data removed]",
      "text/plain": [
       "<Figure size 432x288 with 1 Axes>"
      ]
     },
     "metadata": {
      "needs_background": "light"
     },
     "output_type": "display_data"
    }
   ],
   "source": [
    "ser = df[df[\"age\"].isin([\"21\",\"26\"]) & df[\"Y\"]==1][\"CoffeeHouse\"].value_counts()\n",
    "plt.bar(ser.index,ser)"
   ]
  },
  {
   "cell_type": "code",
   "execution_count": 91,
   "metadata": {},
   "outputs": [],
   "source": [
    "young = df[df[\"age\"].isin([\"21\",\"26\"])]"
   ]
  },
  {
   "cell_type": "code",
   "execution_count": 110,
   "metadata": {},
   "outputs": [
    {
     "data": {
      "text/plain": [
       "Text(0.5, 0, 'How many times you usually go to...')"
      ]
     },
     "execution_count": 110,
     "metadata": {},
     "output_type": "execute_result"
    },
    {
     "data": {
      "image/png": "[encoded data removed]",
      "text/plain": [
       "<Figure size 432x288 with 1 Axes>"
      ]
     },
     "metadata": {
      "needs_background": "light"
     },
     "output_type": "display_data"
    }
   ],
   "source": [
    "wow = pd.pivot_table(df[df[\"coupon\"]==\"Restaurant(<20)\"],index=[\"RestaurantLessThan20\"],values=\"Y\")\n",
    "wow.index=pd.Categorical(wow.index,categories=['never', 'less1', '1~3',\"4~8\",\"gt8\"])\n",
    "wow=wow.sort_index()\n",
    "ax = wow.plot(marker=\"o\",linestyle=\"dashed\")\n",
    "\n",
    "q=pd.pivot_table(df[df[\"coupon\"]==\"Restaurant(20-50)\"],index=[\"Restaurant20To50\",],values=\"Y\")\n",
    "q.index=pd.Categorical(q.index,categories=['never', 'less1', '1~3',\"4~8\",\"gt8\"])\n",
    "q=q.sort_index()\n",
    "q.plot(ax=ax,marker=\"o\",linestyle=\"dashed\")\n",
    "\n",
    "\n",
    "w=pd.pivot_table(df[df[\"coupon\"]==\"Bar\"],index=[\"Bar\"],values=\"Y\")\n",
    "w.index=pd.Categorical(w.index,categories=['never', 'less1', '1~3',\"4~8\",\"gt8\"])\n",
    "w=w.sort_index()\n",
    "w.plot(ax=ax,marker=\"o\",linestyle=\"dashed\")\n",
    "\n",
    "\n",
    "\n",
    "r=pd.pivot_table(df[df[\"coupon\"]==\"Coffee House\"],index=[\"CoffeeHouse\"],values=\"Y\")\n",
    "r.index=pd.Categorical(r.index,categories=['never', 'less1', '1~3',\"4~8\",\"gt8\"])\n",
    "r=r.sort_index()\n",
    "r.plot(ax=ax,marker=\"o\",linestyle=\"dashed\")\n",
    "\n",
    "ax.legend([\"Restaurant (<20$)\", \"Restaurant (20$-50$)\",\"Bar\",\"Coffee House\"])\n",
    "ax.set_ylabel(\"Acceptance Rate\")\n",
    "ax.set_xlabel(\"How many times you usually go to...\")\n"
   ]
  },
  {
   "cell_type": "code",
   "execution_count": 106,
   "metadata": {},
   "outputs": [
    {
     "data": {
      "text/plain": [
       "Text(0.5, 0, 'How many times you usually go to...')"
      ]
     },
     "execution_count": 106,
     "metadata": {},
     "output_type": "execute_result"
    },
    {
     "data": {
      "image/png": "[encoded data removed]",
      "text/plain": [
       "<Figure size 432x288 with 1 Axes>"
      ]
     },
     "metadata": {
      "needs_background": "light"
     },
     "output_type": "display_data"
    }
   ],
   "source": [
    "wow = pd.pivot_table(df[df[\"coupon\"]==\"Carry out & Take away\"],index=[\"CarryAway\"],values=\"Y\")\n",
    "wow.index=pd.Categorical(wow.index,categories=['never', 'less1', '1~3',\"4~8\",\"gt8\"])\n",
    "wow=wow.sort_index()\n",
    "ax = wow.plot(color=\"m\",marker=\"o\",linestyle=\"dashed\")\n",
    "ax.legend([\"Take Away\"],loc=\"lower right\")\n",
    "ax.set_ylim(ymin=0.2,ymax=0.81)\n",
    "ax.set_ylabel(\"Acceptance Rate\")\n",
    "ax.set_xlabel(\"How many times you usually go to...\")\n",
    "\n"
   ]
  },
  {
   "cell_type": "code",
   "execution_count": 91,
   "metadata": {},
   "outputs": [
    {
     "data": {
      "text/html": [
       "<div>\n",
       "<style scoped>\n",
       "    .dataframe tbody tr th:only-of-type {\n",
       "        vertical-align: middle;\n",
       "    }\n",
       "\n",
       "    .dataframe tbody tr th {\n",
       "        vertical-align: top;\n",
       "    }\n",
       "\n",
       "    .dataframe thead th {\n",
       "        text-align: right;\n",
       "    }\n",
       "</style>\n",
       "<table border=\"1\" class=\"dataframe\">\n",
       "  <thead>\n",
       "    <tr style=\"text-align: right;\">\n",
       "      <th></th>\n",
       "      <th>Y</th>\n",
       "    </tr>\n",
       "    <tr>\n",
       "      <th>CoffeeHouse</th>\n",
       "      <th></th>\n",
       "    </tr>\n",
       "  </thead>\n",
       "  <tbody>\n",
       "    <tr>\n",
       "      <th>1~3</th>\n",
       "      <td>0.647793</td>\n",
       "    </tr>\n",
       "    <tr>\n",
       "      <th>4~8</th>\n",
       "      <td>0.685874</td>\n",
       "    </tr>\n",
       "    <tr>\n",
       "      <th>gt8</th>\n",
       "      <td>0.657895</td>\n",
       "    </tr>\n",
       "    <tr>\n",
       "      <th>less1</th>\n",
       "      <td>0.481860</td>\n",
       "    </tr>\n",
       "    <tr>\n",
       "      <th>never</th>\n",
       "      <td>0.188781</td>\n",
       "    </tr>\n",
       "  </tbody>\n",
       "</table>\n",
       "</div>"
      ],
      "text/plain": [
       "                    Y\n",
       "CoffeeHouse          \n",
       "1~3          0.647793\n",
       "4~8          0.685874\n",
       "gt8          0.657895\n",
       "less1        0.481860\n",
       "never        0.188781"
      ]
     },
     "execution_count": 91,
     "metadata": {},
     "output_type": "execute_result"
    }
   ],
   "source": [
    "r=pd.pivot_table(df[df[\"coupon\"]==\"Coffee House\"],index=[\"CoffeeHouse\"],values=\"Y\")\n",
    "r"
   ]
  },
  {
   "cell_type": "code",
   "execution_count": 64,
   "metadata": {},
   "outputs": [
    {
     "data": {
      "text/html": [
       "<div>\n",
       "<style scoped>\n",
       "    .dataframe tbody tr th:only-of-type {\n",
       "        vertical-align: middle;\n",
       "    }\n",
       "\n",
       "    .dataframe tbody tr th {\n",
       "        vertical-align: top;\n",
       "    }\n",
       "\n",
       "    .dataframe thead th {\n",
       "        text-align: right;\n",
       "    }\n",
       "</style>\n",
       "<table border=\"1\" class=\"dataframe\">\n",
       "  <thead>\n",
       "    <tr style=\"text-align: right;\">\n",
       "      <th></th>\n",
       "      <th>Y</th>\n",
       "    </tr>\n",
       "    <tr>\n",
       "      <th>Restaurant20To50</th>\n",
       "      <th></th>\n",
       "    </tr>\n",
       "  </thead>\n",
       "  <tbody>\n",
       "    <tr>\n",
       "      <th>1~3</th>\n",
       "      <td>0.527415</td>\n",
       "    </tr>\n",
       "    <tr>\n",
       "      <th>4~8</th>\n",
       "      <td>0.626374</td>\n",
       "    </tr>\n",
       "    <tr>\n",
       "      <th>gt8</th>\n",
       "      <td>0.687500</td>\n",
       "    </tr>\n",
       "    <tr>\n",
       "      <th>less1</th>\n",
       "      <td>0.411444</td>\n",
       "    </tr>\n",
       "    <tr>\n",
       "      <th>never</th>\n",
       "      <td>0.295652</td>\n",
       "    </tr>\n",
       "  </tbody>\n",
       "</table>\n",
       "</div>"
      ],
      "text/plain": [
       "                         Y\n",
       "Restaurant20To50          \n",
       "1~3               0.527415\n",
       "4~8               0.626374\n",
       "gt8               0.687500\n",
       "less1             0.411444\n",
       "never             0.295652"
      ]
     },
     "execution_count": 64,
     "metadata": {},
     "output_type": "execute_result"
    }
   ],
   "source": [
    "pd.pivot_table(df[df[\"coupon\"]==\"Restaurant(20-50)\"],index=[\"Restaurant20To50\",],values=\"Y\")"
   ]
  },
  {
   "cell_type": "code",
   "execution_count": 68,
   "metadata": {},
   "outputs": [
    {
     "data": {
      "text/html": [
       "<div>\n",
       "<style scoped>\n",
       "    .dataframe tbody tr th:only-of-type {\n",
       "        vertical-align: middle;\n",
       "    }\n",
       "\n",
       "    .dataframe tbody tr th {\n",
       "        vertical-align: top;\n",
       "    }\n",
       "\n",
       "    .dataframe thead th {\n",
       "        text-align: right;\n",
       "    }\n",
       "</style>\n",
       "<table border=\"1\" class=\"dataframe\">\n",
       "  <thead>\n",
       "    <tr style=\"text-align: right;\">\n",
       "      <th></th>\n",
       "      <th>Y</th>\n",
       "    </tr>\n",
       "    <tr>\n",
       "      <th>Bar</th>\n",
       "      <th></th>\n",
       "    </tr>\n",
       "  </thead>\n",
       "  <tbody>\n",
       "    <tr>\n",
       "      <th>1~3</th>\n",
       "      <td>0.647355</td>\n",
       "    </tr>\n",
       "    <tr>\n",
       "      <th>4~8</th>\n",
       "      <td>0.780000</td>\n",
       "    </tr>\n",
       "    <tr>\n",
       "      <th>gt8</th>\n",
       "      <td>0.734694</td>\n",
       "    </tr>\n",
       "    <tr>\n",
       "      <th>less1</th>\n",
       "      <td>0.443860</td>\n",
       "    </tr>\n",
       "    <tr>\n",
       "      <th>never</th>\n",
       "      <td>0.187952</td>\n",
       "    </tr>\n",
       "  </tbody>\n",
       "</table>\n",
       "</div>"
      ],
      "text/plain": [
       "              Y\n",
       "Bar            \n",
       "1~3    0.647355\n",
       "4~8    0.780000\n",
       "gt8    0.734694\n",
       "less1  0.443860\n",
       "never  0.187952"
      ]
     },
     "execution_count": 68,
     "metadata": {},
     "output_type": "execute_result"
    }
   ],
   "source": [
    "pd.pivot_table(df[df[\"coupon\"]==\"Bar\"],index=[\"Bar\"],values=\"Y\")"
   ]
  },
  {
   "cell_type": "code",
   "execution_count": 70,
   "metadata": {},
   "outputs": [
    {
     "data": {
      "text/html": [
       "<div>\n",
       "<style scoped>\n",
       "    .dataframe tbody tr th:only-of-type {\n",
       "        vertical-align: middle;\n",
       "    }\n",
       "\n",
       "    .dataframe tbody tr th {\n",
       "        vertical-align: top;\n",
       "    }\n",
       "\n",
       "    .dataframe thead th {\n",
       "        text-align: right;\n",
       "    }\n",
       "</style>\n",
       "<table border=\"1\" class=\"dataframe\">\n",
       "  <thead>\n",
       "    <tr style=\"text-align: right;\">\n",
       "      <th></th>\n",
       "      <th>Y</th>\n",
       "    </tr>\n",
       "    <tr>\n",
       "      <th>CarryAway</th>\n",
       "      <th></th>\n",
       "    </tr>\n",
       "  </thead>\n",
       "  <tbody>\n",
       "    <tr>\n",
       "      <th>1~3</th>\n",
       "      <td>0.736111</td>\n",
       "    </tr>\n",
       "    <tr>\n",
       "      <th>4~8</th>\n",
       "      <td>0.753659</td>\n",
       "    </tr>\n",
       "    <tr>\n",
       "      <th>gt8</th>\n",
       "      <td>0.738411</td>\n",
       "    </tr>\n",
       "    <tr>\n",
       "      <th>less1</th>\n",
       "      <td>0.679887</td>\n",
       "    </tr>\n",
       "    <tr>\n",
       "      <th>never</th>\n",
       "      <td>0.750000</td>\n",
       "    </tr>\n",
       "  </tbody>\n",
       "</table>\n",
       "</div>"
      ],
      "text/plain": [
       "                  Y\n",
       "CarryAway          \n",
       "1~3        0.736111\n",
       "4~8        0.753659\n",
       "gt8        0.738411\n",
       "less1      0.679887\n",
       "never      0.750000"
      ]
     },
     "execution_count": 70,
     "metadata": {},
     "output_type": "execute_result"
    }
   ],
   "source": [
    "pd.pivot_table(df[df[\"coupon\"]==\"Carry out & Take away\"],index=[\"CarryAway\"],values=\"Y\")"
   ]
  },
  {
   "cell_type": "code",
   "execution_count": 121,
   "metadata": {},
   "outputs": [
    {
     "data": {
      "text/plain": [
       "Index(['destination', 'passanger', 'weather', 'temperature', 'time', 'coupon',\n",
       "       'expiration', 'gender', 'age', 'maritalStatus', 'has_children',\n",
       "       'education', 'occupation', 'income', 'car', 'Bar', 'CoffeeHouse',\n",
       "       'CarryAway', 'RestaurantLessThan20', 'Restaurant20To50',\n",
       "       'toCoupon_GEQ5min', 'toCoupon_GEQ15min', 'toCoupon_GEQ25min',\n",
       "       'direction_same', 'direction_opp', 'Y', 'rich', 'middleclass', 'poor',\n",
       "       'age0', 'age21', 'age31', 'age41', 'age51'],\n",
       "      dtype='object')"
      ]
     },
     "execution_count": 121,
     "metadata": {},
     "output_type": "execute_result"
    }
   ],
   "source": [
    "df.columns"
   ]
  },
  {
   "cell_type": "code",
   "execution_count": 61,
   "metadata": {},
   "outputs": [
    {
     "data": {
      "text/html": [
       "<div>\n",
       "<style scoped>\n",
       "    .dataframe tbody tr th:only-of-type {\n",
       "        vertical-align: middle;\n",
       "    }\n",
       "\n",
       "    .dataframe tbody tr th {\n",
       "        vertical-align: top;\n",
       "    }\n",
       "\n",
       "    .dataframe thead th {\n",
       "        text-align: right;\n",
       "    }\n",
       "</style>\n",
       "<table border=\"1\" class=\"dataframe\">\n",
       "  <thead>\n",
       "    <tr style=\"text-align: right;\">\n",
       "      <th></th>\n",
       "      <th>Y</th>\n",
       "    </tr>\n",
       "    <tr>\n",
       "      <th>toCoupon_GEQ5min</th>\n",
       "      <th></th>\n",
       "    </tr>\n",
       "  </thead>\n",
       "  <tbody>\n",
       "    <tr>\n",
       "      <th>1</th>\n",
       "      <td>0.568433</td>\n",
       "    </tr>\n",
       "  </tbody>\n",
       "</table>\n",
       "</div>"
      ],
      "text/plain": [
       "                         Y\n",
       "toCoupon_GEQ5min          \n",
       "1                 0.568433"
      ]
     },
     "execution_count": 61,
     "metadata": {},
     "output_type": "execute_result"
    }
   ],
   "source": [
    "coupon = pd.pivot_table(df,index=[\"toCoupon_GEQ5min\"],values=\"Y\").sort_values(\"Y\")\n",
    "coupon"
   ]
  },
  {
   "cell_type": "code",
   "execution_count": 186,
   "metadata": {},
   "outputs": [],
   "source": [
    "some = []\n",
    "for col in ['rich', 'middleclass', 'poor','age0', 'age21', 'age31', 'age41', 'age51']:\n",
    "  for col2 in ['destination', 'passanger', 'weather', 'temperature', 'time', 'coupon',\n",
    "    'expiration', 'gender', 'maritalStatus', 'has_children',\n",
    "    'Bar', 'CoffeeHouse',\n",
    "    'CarryAway', 'RestaurantLessThan20', 'Restaurant20To50',\n",
    "    'toCoupon_GEQ5min', 'toCoupon_GEQ15min', 'toCoupon_GEQ25min',\n",
    "    'direction_same', 'direction_opp']:\n",
    "    found = pd.pivot_table(df[df[col]==1],index=[col2],values=\"Y\")\n",
    "    if not ((found[found[\"Y\"]>0.70]).empty):\n",
    "        some.append((col,(found[found[\"Y\"]>0.70])))\n",
    "\n",
    "\n",
    "######### CHECK DURING WINTER WHAT PLACE PREFERRED, AND CHECK AT WHAT TIME WHAT PLACE PREFERRED\n",
    "######### CHECK POPULATION WITH CHILDREN WHAT PREFERS\n",
    "######### \n"
   ]
  },
  {
   "cell_type": "code",
   "execution_count": 187,
   "metadata": {},
   "outputs": [
    {
     "data": {
      "text/plain": [
       "[('rich',\n",
       "                                Y\n",
       "  coupon                         \n",
       "  Carry out & Take away  0.702439),\n",
       " ('middleclass',\n",
       "                                Y\n",
       "  coupon                         \n",
       "  Carry out & Take away  0.753196\n",
       "  Restaurant(<20)        0.738294),\n",
       " ('middleclass',\n",
       "                           Y\n",
       "  Restaurant20To50          \n",
       "  4~8               0.721591),\n",
       " ('poor',\n",
       "                                Y\n",
       "  coupon                         \n",
       "  Carry out & Take away  0.751799),\n",
       " ('poor',\n",
       "                           Y\n",
       "  Restaurant20To50          \n",
       "  4~8               0.812183),\n",
       " ('age0',\n",
       "                    Y\n",
       "  passanger          \n",
       "  Friend(s)  0.712121),\n",
       " ('age0',\n",
       "                     Y\n",
       "  temperature         \n",
       "  80           0.72242),\n",
       " ('age0',\n",
       "               Y\n",
       "  time          \n",
       "  2PM   0.702703),\n",
       " ('age0',\n",
       "                                Y\n",
       "  coupon                         \n",
       "  Carry out & Take away  0.728070\n",
       "  Restaurant(<20)        0.734375),\n",
       " ('age0',\n",
       "                      Y\n",
       "  CoffeeHouse          \n",
       "  less1        0.753846),\n",
       " ('age0',\n",
       "                    Y\n",
       "  CarryAway          \n",
       "  never      0.863636),\n",
       " ('age0',\n",
       "                               Y\n",
       "  RestaurantLessThan20          \n",
       "  1~3                   0.718954),\n",
       " ('age0',\n",
       "                           Y\n",
       "  Restaurant20To50          \n",
       "  1~3               0.747126),\n",
       " ('age0',\n",
       "                            Y\n",
       "  toCoupon_GEQ15min          \n",
       "  0                  0.704724),\n",
       " ('age21',\n",
       "                    Y\n",
       "  passanger          \n",
       "  Friend(s)  0.710767),\n",
       " ('age21',\n",
       "              Y\n",
       "  time         \n",
       "  2PM   0.70119),\n",
       " ('age21',\n",
       "                                Y\n",
       "  coupon                         \n",
       "  Carry out & Take away  0.736402\n",
       "  Restaurant(<20)        0.736283),\n",
       " ('age21',\n",
       "                           Y\n",
       "  Restaurant20To50          \n",
       "  4~8               0.742424),\n",
       " ('age31',\n",
       "                                Y\n",
       "  coupon                         \n",
       "  Carry out & Take away  0.721617),\n",
       " ('age41',\n",
       "                    Y\n",
       "  passanger          \n",
       "  Partner    0.756757),\n",
       " ('age41',\n",
       "                                Y\n",
       "  coupon                         \n",
       "  Carry out & Take away  0.721557\n",
       "  Restaurant(<20)        0.726582),\n",
       " ('age51',\n",
       "                                Y\n",
       "  coupon                         \n",
       "  Carry out & Take away  0.774566),\n",
       " ('age51',\n",
       "                           Y\n",
       "  Restaurant20To50          \n",
       "  4~8               0.757576)]"
      ]
     },
     "execution_count": 187,
     "metadata": {},
     "output_type": "execute_result"
    }
   ],
   "source": [
    "some"
   ]
  },
  {
   "cell_type": "code",
   "execution_count": 110,
   "metadata": {},
   "outputs": [
    {
     "data": {
      "text/plain": [
       "<BarContainer object of 4 artists>"
      ]
     },
     "execution_count": 110,
     "metadata": {},
     "output_type": "execute_result"
    },
    {
     "data": {
      "image/png": "[encoded data removed]",
      "text/plain": [
       "<Figure size 432x288 with 1 Axes>"
      ]
     },
     "metadata": {
      "needs_background": "light"
     },
     "output_type": "display_data"
    }
   ],
   "source": [
    "ser = df[df[\"income\"]==\"more than 100k\"][\"Restaurant20To50\"].value_counts()\n",
    "plt.bar(ser.index,ser)\n"
   ]
  },
  {
   "cell_type": "markdown",
   "metadata": {},
   "source": [
    "Lets get a general look at the accepted the coupons"
   ]
  },
  {
   "cell_type": "code",
   "execution_count": 86,
   "metadata": {},
   "outputs": [
    {
     "data": {
      "text/plain": [
       "<BarContainer object of 5 artists>"
      ]
     },
     "execution_count": 86,
     "metadata": {},
     "output_type": "execute_result"
    },
    {
     "data": {
      "image/png": "[encoded data removed]",
      "text/plain": [
       "<Figure size 432x288 with 1 Axes>"
      ]
     },
     "metadata": {
      "needs_background": "light"
     },
     "output_type": "display_data"
    }
   ],
   "source": [
    "ser = df[df[\"Y\"]==1][\"coupon\"].value_counts()\n",
    "plt.bar(ser.index,ser)"
   ]
  },
  {
   "cell_type": "code",
   "execution_count": 7,
   "metadata": {},
   "outputs": [
    {
     "data": {
      "text/plain": [
       "Index(['destination', 'passanger', 'weather', 'temperature', 'time', 'coupon',\n",
       "       'expiration', 'gender', 'age', 'maritalStatus', 'has_children',\n",
       "       'education', 'occupation', 'income', 'car', 'Bar', 'CoffeeHouse',\n",
       "       'CarryAway', 'RestaurantLessThan20', 'Restaurant20To50',\n",
       "       'toCoupon_GEQ5min', 'toCoupon_GEQ15min', 'toCoupon_GEQ25min',\n",
       "       'direction_same', 'direction_opp', 'Y'],\n",
       "      dtype='object')"
      ]
     },
     "execution_count": 7,
     "metadata": {},
     "output_type": "execute_result"
    }
   ],
   "source": [
    "df.columns"
   ]
  },
  {
   "cell_type": "code",
   "execution_count": 69,
   "metadata": {},
   "outputs": [
    {
     "data": {
      "text/plain": [
       "destination             object\n",
       "passanger               object\n",
       "weather                 object\n",
       "temperature              int64\n",
       "time                    object\n",
       "coupon                  object\n",
       "expiration              object\n",
       "gender                  object\n",
       "age                     object\n",
       "maritalStatus           object\n",
       "has_children             int64\n",
       "education               object\n",
       "occupation              object\n",
       "income                  object\n",
       "car                     object\n",
       "Bar                     object\n",
       "CoffeeHouse             object\n",
       "CarryAway               object\n",
       "RestaurantLessThan20    object\n",
       "Restaurant20To50        object\n",
       "toCoupon_GEQ5min         int64\n",
       "toCoupon_GEQ15min        int64\n",
       "toCoupon_GEQ25min        int64\n",
       "direction_same           int64\n",
       "direction_opp            int64\n",
       "Y                        int64\n",
       "dtype: object"
      ]
     },
     "execution_count": 69,
     "metadata": {},
     "output_type": "execute_result"
    }
   ],
   "source": [
    "df.dtypes"
   ]
  },
  {
   "cell_type": "code",
   "execution_count": 108,
   "metadata": {},
   "outputs": [
    {
     "data": {
      "text/html": [
       "<div>\n",
       "<style scoped>\n",
       "    .dataframe tbody tr th:only-of-type {\n",
       "        vertical-align: middle;\n",
       "    }\n",
       "\n",
       "    .dataframe tbody tr th {\n",
       "        vertical-align: top;\n",
       "    }\n",
       "\n",
       "    .dataframe thead th {\n",
       "        text-align: right;\n",
       "    }\n",
       "</style>\n",
       "<table border=\"1\" class=\"dataframe\">\n",
       "  <thead>\n",
       "    <tr style=\"text-align: right;\">\n",
       "      <th></th>\n",
       "      <th>Y</th>\n",
       "    </tr>\n",
       "    <tr>\n",
       "      <th>maritalStatus</th>\n",
       "      <th></th>\n",
       "    </tr>\n",
       "  </thead>\n",
       "  <tbody>\n",
       "    <tr>\n",
       "      <th>Divorced</th>\n",
       "      <td>0.529070</td>\n",
       "    </tr>\n",
       "    <tr>\n",
       "      <th>Married partner</th>\n",
       "      <td>0.542941</td>\n",
       "    </tr>\n",
       "    <tr>\n",
       "      <th>Single</th>\n",
       "      <td>0.605850</td>\n",
       "    </tr>\n",
       "    <tr>\n",
       "      <th>Unmarried partner</th>\n",
       "      <td>0.561299</td>\n",
       "    </tr>\n",
       "    <tr>\n",
       "      <th>Widowed</th>\n",
       "      <td>0.476923</td>\n",
       "    </tr>\n",
       "  </tbody>\n",
       "</table>\n",
       "</div>"
      ],
      "text/plain": [
       "                          Y\n",
       "maritalStatus              \n",
       "Divorced           0.529070\n",
       "Married partner    0.542941\n",
       "Single             0.605850\n",
       "Unmarried partner  0.561299\n",
       "Widowed            0.476923"
      ]
     },
     "execution_count": 108,
     "metadata": {},
     "output_type": "execute_result"
    }
   ],
   "source": [
    "pd.pivot_table(df, values='Y', index=['maritalStatus'], aggfunc=np.mean)"
   ]
  },
  {
   "cell_type": "markdown",
   "metadata": {},
   "source": [
    "# Dataset balanced/unbalanced"
   ]
  },
  {
   "cell_type": "code",
   "execution_count": 4,
   "metadata": {},
   "outputs": [
    {
     "data": {
      "text/plain": [
       "1    7210\n",
       "0    5474\n",
       "Name: Y, dtype: int64"
      ]
     },
     "execution_count": 4,
     "metadata": {},
     "output_type": "execute_result"
    }
   ],
   "source": [
    "df[\"Y\"].value_counts()"
   ]
  },
  {
   "cell_type": "code",
   "execution_count": 9,
   "metadata": {},
   "outputs": [
    {
     "data": {
      "text/plain": [
       "(array([5474., 7210.]),\n",
       " array([0. , 0.5, 1. ]),\n",
       " <BarContainer object of 2 artists>)"
      ]
     },
     "execution_count": 9,
     "metadata": {},
     "output_type": "execute_result"
    },
    {
     "data": {
      "image/png": "[encoded data removed]",
      "text/plain": [
       "<Figure size 432x288 with 1 Axes>"
      ]
     },
     "metadata": {
      "needs_background": "light"
     },
     "output_type": "display_data"
    }
   ],
   "source": [
    "plt.hist(df[\"Y\"],bins = 2, edgecolor = 'black')"
   ]
  },
  {
   "cell_type": "code",
   "execution_count": 15,
   "metadata": {},
   "outputs": [
    {
     "data": {
      "text/plain": [
       "1    7210\n",
       "0    5474\n",
       "Name: Y, dtype: int64"
      ]
     },
     "execution_count": 15,
     "metadata": {},
     "output_type": "execute_result"
    }
   ],
   "source": [
    "df[\"Y\"].value_counts()"
   ]
  },
  {
   "cell_type": "code",
   "execution_count": 22,
   "metadata": {},
   "outputs": [
    {
     "data": {
      "text/plain": [
       "([<matplotlib.patches.Wedge at 0x2307cf0da60>,\n",
       "  <matplotlib.patches.Wedge at 0x2307cf1c310>],\n",
       " [Text(-0.2560024141966815, 1.1723748393434033, 'Used coupon'),\n",
       "  Text(0.25600252396233425, -1.1723748153747227, 'Not used coupon')],\n",
       " [Text(-0.14933474161473087, 0.6838853229503186, '56.8%'),\n",
       "  Text(0.14933480564469495, -0.6838853089685881, '43.2%')])"
      ]
     },
     "execution_count": 22,
     "metadata": {},
     "output_type": "execute_result"
    },
    {
     "data": {
      "image/png": "[encoded data removed]",
      "text/plain": [
       "<Figure size 432x288 with 1 Axes>"
      ]
     },
     "metadata": {},
     "output_type": "display_data"
    }
   ],
   "source": [
    "sizes = list(df[\"Y\"].value_counts())\n",
    "plt.pie(sizes, labels = [\"Used coupon\",\"Not used coupon\"],explode = (0.1,0.1), autopct='%1.1f%%', shadow = True)"
   ]
  },
  {
   "cell_type": "markdown",
   "metadata": {},
   "source": [
    "The dataset is balanced. This prevents us from oversampling/undersampling in order to obtain better accuracy. An imbalanced dataset can inject bias in the solution towards the majority class."
   ]
  },
  {
   "cell_type": "markdown",
   "metadata": {},
   "source": [
    "# NaN values identification"
   ]
  },
  {
   "cell_type": "code",
   "execution_count": 5,
   "metadata": {},
   "outputs": [
    {
     "data": {
      "text/plain": [
       "destination             False\n",
       "passanger               False\n",
       "weather                 False\n",
       "temperature             False\n",
       "time                    False\n",
       "coupon                  False\n",
       "expiration              False\n",
       "gender                  False\n",
       "age                     False\n",
       "maritalStatus           False\n",
       "has_children            False\n",
       "education               False\n",
       "occupation              False\n",
       "income                  False\n",
       "car                      True\n",
       "Bar                      True\n",
       "CoffeeHouse              True\n",
       "CarryAway                True\n",
       "RestaurantLessThan20     True\n",
       "Restaurant20To50         True\n",
       "toCoupon_GEQ5min        False\n",
       "toCoupon_GEQ15min       False\n",
       "toCoupon_GEQ25min       False\n",
       "direction_same          False\n",
       "direction_opp           False\n",
       "Y                       False\n",
       "dtype: bool"
      ]
     },
     "execution_count": 5,
     "metadata": {},
     "output_type": "execute_result"
    }
   ],
   "source": [
    "df.isnull().any()"
   ]
  },
  {
   "cell_type": "code",
   "execution_count": 34,
   "metadata": {},
   "outputs": [
    {
     "data": {
      "text/plain": [
       "{'car': 12576,\n",
       " 'Bar': 107,\n",
       " 'CoffeeHouse': 217,\n",
       " 'CarryAway': 151,\n",
       " 'RestaurantLessThan20': 130,\n",
       " 'Restaurant20To50': 189}"
      ]
     },
     "execution_count": 34,
     "metadata": {},
     "output_type": "execute_result"
    }
   ],
   "source": [
    "null_values = {}\n",
    "for el in range(len(df.isnull().any())):\n",
    "    if df.isnull().any()[el] == True:\n",
    "        null_values[df.columns[el]] = sum(df.iloc[:,el].isna())\n",
    "null_values #Number of NaN values per columns"
   ]
  },
  {
   "cell_type": "code",
   "execution_count": 39,
   "metadata": {},
   "outputs": [
    {
     "data": {
      "text/plain": [
       "{'car': 99.14853358561967,\n",
       " 'Bar': 0.8435824660990224,\n",
       " 'CoffeeHouse': 1.7108167770419427,\n",
       " 'CarryAway': 1.1904761904761905,\n",
       " 'RestaurantLessThan20': 1.0249132765689057,\n",
       " 'Restaurant20To50': 1.490066225165563}"
      ]
     },
     "execution_count": 39,
     "metadata": {},
     "output_type": "execute_result"
    }
   ],
   "source": [
    "null_values_perc = {}\n",
    "for el in range(len(df.isnull().any())):\n",
    "    if df.isnull().any()[el] == True:\n",
    "        null_values_perc[df.columns[el]] = (sum(df.iloc[:,el].isna())/len(df)*100)\n",
    "null_values_perc # Percentage of instances with null values"
   ]
  },
  {
   "cell_type": "markdown",
   "metadata": {},
   "source": [
    "\"Car\" variable contains NaN for almost all the instances, while all the other variables have a percentage of NaN values within 2%."
   ]
  },
  {
   "cell_type": "code",
   "execution_count": 47,
   "metadata": {},
   "outputs": [
    {
     "name": "stdout",
     "output_type": "stream",
     "text": [
      "object\n",
      "object\n",
      "object\n",
      "object\n",
      "object\n",
      "object\n"
     ]
    }
   ],
   "source": [
    "for el in null_values.keys():\n",
    "    print(df.dtypes[el]) # all the variables with NaN are categorical"
   ]
  },
  {
   "cell_type": "markdown",
   "metadata": {},
   "source": [
    "How to deal with Nan values? \n",
    "Ideas:\n",
    "   1. using the mean for numerical features and the mode for categorical features (methods which dosen't prone for overfitting)\n",
    "   2. back-fill and forward-fill (used for Time-series data)\n",
    "   3. identificating NaN values as new categories (if the variables are categorical)\n",
    "   4. deleting columns with too many NaNs (look at the \"car\" column. If the info we are deleting is not important that's a good solution)"
   ]
  },
  {
   "cell_type": "code",
   "execution_count": 53,
   "metadata": {},
   "outputs": [
    {
     "data": {
      "text/plain": [
       "Mazda5                                      22\n",
       "Scooter and motorcycle                      22\n",
       "do not drive                                22\n",
       "Car that is too old to install Onstar :D    21\n",
       "crossover                                   21\n",
       "Name: car, dtype: int64"
      ]
     },
     "execution_count": 53,
     "metadata": {},
     "output_type": "execute_result"
    }
   ],
   "source": [
    "df[\"car\"].value_counts() # the few present data are evenly distributed with regard to the type"
   ]
  },
  {
   "cell_type": "markdown",
   "metadata": {},
   "source": [
    "In the following subsections there are two different implemented choices:\n",
    "   * \"car NaN\" values identified with a new category and the other NaN with the mode\n",
    "   * all the NaN are replaced with new categories (these new categories differ based on the feature they come from)\n",
    "   * drop the \"car column and then proxy the other columns with the mode"
   ]
  },
  {
   "cell_type": "markdown",
   "metadata": {},
   "source": [
    "## FIRST NaN REPLACEMENT"
   ]
  },
  {
   "cell_type": "code",
   "execution_count": 75,
   "metadata": {},
   "outputs": [
    {
     "data": {
      "text/plain": [
       "no_info_car                                 12576\n",
       "Mazda5                                         22\n",
       "Scooter and motorcycle                         22\n",
       "do not drive                                   22\n",
       "Car that is too old to install Onstar :D       21\n",
       "crossover                                      21\n",
       "Name: car, dtype: int64"
      ]
     },
     "execution_count": 75,
     "metadata": {},
     "output_type": "execute_result"
    }
   ],
   "source": [
    "new_df1 = df.copy()\n",
    "new_df1['car'] = new_df1['car'].fillna('no_info_car')\n",
    "new_df1['car'].value_counts()"
   ]
  },
  {
   "cell_type": "code",
   "execution_count": 76,
   "metadata": {},
   "outputs": [],
   "source": [
    "for el in list(null_values.keys())[1:]:\n",
    "    new_df1[el] = new_df1[el].fillna(new_df1[el].mode()[0])"
   ]
  },
  {
   "cell_type": "code",
   "execution_count": 77,
   "metadata": {},
   "outputs": [
    {
     "data": {
      "text/plain": [
       "destination             False\n",
       "passanger               False\n",
       "weather                 False\n",
       "temperature             False\n",
       "time                    False\n",
       "coupon                  False\n",
       "expiration              False\n",
       "gender                  False\n",
       "age                     False\n",
       "maritalStatus           False\n",
       "has_children            False\n",
       "education               False\n",
       "occupation              False\n",
       "income                  False\n",
       "car                     False\n",
       "Bar                     False\n",
       "CoffeeHouse             False\n",
       "CarryAway               False\n",
       "RestaurantLessThan20    False\n",
       "Restaurant20To50        False\n",
       "toCoupon_GEQ5min        False\n",
       "toCoupon_GEQ15min       False\n",
       "toCoupon_GEQ25min       False\n",
       "direction_same          False\n",
       "direction_opp           False\n",
       "Y                       False\n",
       "dtype: bool"
      ]
     },
     "execution_count": 77,
     "metadata": {},
     "output_type": "execute_result"
    }
   ],
   "source": [
    "new_df1.isnull().any() #check no NaNs"
   ]
  },
  {
   "cell_type": "markdown",
   "metadata": {},
   "source": [
    "## SECOND NaN REPLACEMENT"
   ]
  },
  {
   "cell_type": "code",
   "execution_count": 83,
   "metadata": {},
   "outputs": [],
   "source": [
    "new_df2 = df.copy()\n",
    "new_cat = ['no_info_car','no_info_bar','no_info_coffeehouse','no_info_carryaway','no_info_rest<20','no_info_rest20to50']\n",
    "for el in range(len(new_cat)):\n",
    "    new_df2[list(null_values.keys())[el]] = new_df2[list(null_values.keys())[el]].fillna(new_cat[el])\n"
   ]
  },
  {
   "cell_type": "code",
   "execution_count": 85,
   "metadata": {},
   "outputs": [
    {
     "data": {
      "text/plain": [
       "never          5197\n",
       "less1          3482\n",
       "1~3            2473\n",
       "4~8            1076\n",
       "gt8             349\n",
       "no_info_bar     107\n",
       "Name: Bar, dtype: int64"
      ]
     },
     "execution_count": 85,
     "metadata": {},
     "output_type": "execute_result"
    }
   ],
   "source": [
    "new_df2['Bar'].value_counts() #as example, check the Bar column"
   ]
  },
  {
   "cell_type": "code",
   "execution_count": 86,
   "metadata": {},
   "outputs": [
    {
     "data": {
      "text/plain": [
       "destination             False\n",
       "passanger               False\n",
       "weather                 False\n",
       "temperature             False\n",
       "time                    False\n",
       "coupon                  False\n",
       "expiration              False\n",
       "gender                  False\n",
       "age                     False\n",
       "maritalStatus           False\n",
       "has_children            False\n",
       "education               False\n",
       "occupation              False\n",
       "income                  False\n",
       "car                     False\n",
       "Bar                     False\n",
       "CoffeeHouse             False\n",
       "CarryAway               False\n",
       "RestaurantLessThan20    False\n",
       "Restaurant20To50        False\n",
       "toCoupon_GEQ5min        False\n",
       "toCoupon_GEQ15min       False\n",
       "toCoupon_GEQ25min       False\n",
       "direction_same          False\n",
       "direction_opp           False\n",
       "Y                       False\n",
       "dtype: bool"
      ]
     },
     "execution_count": 86,
     "metadata": {},
     "output_type": "execute_result"
    }
   ],
   "source": [
    "new_df2.isnull().any() #check no NaNs"
   ]
  },
  {
   "cell_type": "markdown",
   "metadata": {},
   "source": [
    "## THIRD NaN REPLACEMENT"
   ]
  },
  {
   "cell_type": "code",
   "execution_count": 88,
   "metadata": {},
   "outputs": [],
   "source": [
    "new_df3 = df.copy()\n",
    "del new_df3['car']"
   ]
  },
  {
   "cell_type": "code",
   "execution_count": 95,
   "metadata": {},
   "outputs": [
    {
     "data": {
      "text/plain": [
       "never    5197\n",
       "less1    3482\n",
       "1~3      2473\n",
       "4~8      1076\n",
       "gt8       349\n",
       "Name: Bar, dtype: int64"
      ]
     },
     "execution_count": 95,
     "metadata": {},
     "output_type": "execute_result"
    }
   ],
   "source": [
    "new_df3['Bar'].value_counts()"
   ]
  },
  {
   "cell_type": "code",
   "execution_count": 96,
   "metadata": {},
   "outputs": [],
   "source": [
    "for el in list(null_values.keys())[1:]:\n",
    "    new_df3[el] = new_df3[el].fillna(new_df3[el].mode()[0])"
   ]
  },
  {
   "cell_type": "code",
   "execution_count": 97,
   "metadata": {},
   "outputs": [
    {
     "data": {
      "text/plain": [
       "destination             False\n",
       "passanger               False\n",
       "weather                 False\n",
       "temperature             False\n",
       "time                    False\n",
       "coupon                  False\n",
       "expiration              False\n",
       "gender                  False\n",
       "age                     False\n",
       "maritalStatus           False\n",
       "has_children            False\n",
       "education               False\n",
       "occupation              False\n",
       "income                  False\n",
       "Bar                     False\n",
       "CoffeeHouse             False\n",
       "CarryAway               False\n",
       "RestaurantLessThan20    False\n",
       "Restaurant20To50        False\n",
       "toCoupon_GEQ5min        False\n",
       "toCoupon_GEQ15min       False\n",
       "toCoupon_GEQ25min       False\n",
       "direction_same          False\n",
       "direction_opp           False\n",
       "Y                       False\n",
       "dtype: bool"
      ]
     },
     "execution_count": 97,
     "metadata": {},
     "output_type": "execute_result"
    }
   ],
   "source": [
    "new_df3.isnull().any() #check no NaNs"
   ]
  },
  {
   "cell_type": "markdown",
   "metadata": {},
   "source": [
    "# ONEHOT ENCODING OF CATEGORICAL VARIABLES"
   ]
  },
  {
   "cell_type": "markdown",
   "metadata": {},
   "source": [
    "## First case (to match \"First NaN replacement\")"
   ]
  },
  {
   "cell_type": "code",
   "execution_count": 142,
   "metadata": {},
   "outputs": [
    {
     "data": {
      "text/plain": [
       "Index(['destination', 'passanger', 'weather', 'temperature', 'time', 'coupon',\n",
       "       'expiration', 'gender', 'age', 'maritalStatus', 'has_children',\n",
       "       'education', 'occupation', 'income', 'car', 'Bar', 'CoffeeHouse',\n",
       "       'CarryAway', 'RestaurantLessThan20', 'Restaurant20To50',\n",
       "       'toCoupon_GEQ5min', 'toCoupon_GEQ15min', 'toCoupon_GEQ25min',\n",
       "       'direction_same', 'direction_opp', 'Y'],\n",
       "      dtype='object')"
      ]
     },
     "execution_count": 142,
     "metadata": {},
     "output_type": "execute_result"
    }
   ],
   "source": [
    "new_df1.columns"
   ]
  },
  {
   "cell_type": "code",
   "execution_count": 143,
   "metadata": {},
   "outputs": [
    {
     "data": {
      "text/html": [
       "<div>\n",
       "<style scoped>\n",
       "    .dataframe tbody tr th:only-of-type {\n",
       "        vertical-align: middle;\n",
       "    }\n",
       "\n",
       "    .dataframe tbody tr th {\n",
       "        vertical-align: top;\n",
       "    }\n",
       "\n",
       "    .dataframe thead th {\n",
       "        text-align: right;\n",
       "    }\n",
       "</style>\n",
       "<table border=\"1\" class=\"dataframe\">\n",
       "  <thead>\n",
       "    <tr style=\"text-align: right;\">\n",
       "      <th></th>\n",
       "      <th>Home</th>\n",
       "      <th>No Urgent Place</th>\n",
       "      <th>Work</th>\n",
       "      <th>Alone</th>\n",
       "      <th>Friend(s)</th>\n",
       "      <th>Kid(s)</th>\n",
       "      <th>Partner</th>\n",
       "      <th>Rainy</th>\n",
       "      <th>Snowy</th>\n",
       "      <th>Sunny</th>\n",
       "      <th>...</th>\n",
       "      <th>0</th>\n",
       "      <th>1</th>\n",
       "      <th>0</th>\n",
       "      <th>1</th>\n",
       "      <th>0</th>\n",
       "      <th>1</th>\n",
       "      <th>0</th>\n",
       "      <th>1</th>\n",
       "      <th>0</th>\n",
       "      <th>1</th>\n",
       "    </tr>\n",
       "  </thead>\n",
       "  <tbody>\n",
       "    <tr>\n",
       "      <th>0</th>\n",
       "      <td>0</td>\n",
       "      <td>1</td>\n",
       "      <td>0</td>\n",
       "      <td>1</td>\n",
       "      <td>0</td>\n",
       "      <td>0</td>\n",
       "      <td>0</td>\n",
       "      <td>0</td>\n",
       "      <td>0</td>\n",
       "      <td>1</td>\n",
       "      <td>...</td>\n",
       "      <td>1</td>\n",
       "      <td>0</td>\n",
       "      <td>1</td>\n",
       "      <td>0</td>\n",
       "      <td>1</td>\n",
       "      <td>0</td>\n",
       "      <td>0</td>\n",
       "      <td>1</td>\n",
       "      <td>0</td>\n",
       "      <td>1</td>\n",
       "    </tr>\n",
       "    <tr>\n",
       "      <th>1</th>\n",
       "      <td>0</td>\n",
       "      <td>1</td>\n",
       "      <td>0</td>\n",
       "      <td>0</td>\n",
       "      <td>1</td>\n",
       "      <td>0</td>\n",
       "      <td>0</td>\n",
       "      <td>0</td>\n",
       "      <td>0</td>\n",
       "      <td>1</td>\n",
       "      <td>...</td>\n",
       "      <td>1</td>\n",
       "      <td>0</td>\n",
       "      <td>1</td>\n",
       "      <td>0</td>\n",
       "      <td>1</td>\n",
       "      <td>0</td>\n",
       "      <td>0</td>\n",
       "      <td>1</td>\n",
       "      <td>1</td>\n",
       "      <td>0</td>\n",
       "    </tr>\n",
       "    <tr>\n",
       "      <th>2</th>\n",
       "      <td>0</td>\n",
       "      <td>1</td>\n",
       "      <td>0</td>\n",
       "      <td>0</td>\n",
       "      <td>1</td>\n",
       "      <td>0</td>\n",
       "      <td>0</td>\n",
       "      <td>0</td>\n",
       "      <td>0</td>\n",
       "      <td>1</td>\n",
       "      <td>...</td>\n",
       "      <td>0</td>\n",
       "      <td>1</td>\n",
       "      <td>1</td>\n",
       "      <td>0</td>\n",
       "      <td>1</td>\n",
       "      <td>0</td>\n",
       "      <td>0</td>\n",
       "      <td>1</td>\n",
       "      <td>0</td>\n",
       "      <td>1</td>\n",
       "    </tr>\n",
       "    <tr>\n",
       "      <th>3</th>\n",
       "      <td>0</td>\n",
       "      <td>1</td>\n",
       "      <td>0</td>\n",
       "      <td>0</td>\n",
       "      <td>1</td>\n",
       "      <td>0</td>\n",
       "      <td>0</td>\n",
       "      <td>0</td>\n",
       "      <td>0</td>\n",
       "      <td>1</td>\n",
       "      <td>...</td>\n",
       "      <td>0</td>\n",
       "      <td>1</td>\n",
       "      <td>1</td>\n",
       "      <td>0</td>\n",
       "      <td>1</td>\n",
       "      <td>0</td>\n",
       "      <td>0</td>\n",
       "      <td>1</td>\n",
       "      <td>1</td>\n",
       "      <td>0</td>\n",
       "    </tr>\n",
       "    <tr>\n",
       "      <th>4</th>\n",
       "      <td>0</td>\n",
       "      <td>1</td>\n",
       "      <td>0</td>\n",
       "      <td>0</td>\n",
       "      <td>1</td>\n",
       "      <td>0</td>\n",
       "      <td>0</td>\n",
       "      <td>0</td>\n",
       "      <td>0</td>\n",
       "      <td>1</td>\n",
       "      <td>...</td>\n",
       "      <td>0</td>\n",
       "      <td>1</td>\n",
       "      <td>1</td>\n",
       "      <td>0</td>\n",
       "      <td>1</td>\n",
       "      <td>0</td>\n",
       "      <td>0</td>\n",
       "      <td>1</td>\n",
       "      <td>1</td>\n",
       "      <td>0</td>\n",
       "    </tr>\n",
       "    <tr>\n",
       "      <th>...</th>\n",
       "      <td>...</td>\n",
       "      <td>...</td>\n",
       "      <td>...</td>\n",
       "      <td>...</td>\n",
       "      <td>...</td>\n",
       "      <td>...</td>\n",
       "      <td>...</td>\n",
       "      <td>...</td>\n",
       "      <td>...</td>\n",
       "      <td>...</td>\n",
       "      <td>...</td>\n",
       "      <td>...</td>\n",
       "      <td>...</td>\n",
       "      <td>...</td>\n",
       "      <td>...</td>\n",
       "      <td>...</td>\n",
       "      <td>...</td>\n",
       "      <td>...</td>\n",
       "      <td>...</td>\n",
       "      <td>...</td>\n",
       "      <td>...</td>\n",
       "    </tr>\n",
       "    <tr>\n",
       "      <th>12679</th>\n",
       "      <td>1</td>\n",
       "      <td>0</td>\n",
       "      <td>0</td>\n",
       "      <td>0</td>\n",
       "      <td>0</td>\n",
       "      <td>0</td>\n",
       "      <td>1</td>\n",
       "      <td>1</td>\n",
       "      <td>0</td>\n",
       "      <td>0</td>\n",
       "      <td>...</td>\n",
       "      <td>1</td>\n",
       "      <td>0</td>\n",
       "      <td>1</td>\n",
       "      <td>0</td>\n",
       "      <td>0</td>\n",
       "      <td>1</td>\n",
       "      <td>1</td>\n",
       "      <td>0</td>\n",
       "      <td>0</td>\n",
       "      <td>1</td>\n",
       "    </tr>\n",
       "    <tr>\n",
       "      <th>12680</th>\n",
       "      <td>0</td>\n",
       "      <td>0</td>\n",
       "      <td>1</td>\n",
       "      <td>1</td>\n",
       "      <td>0</td>\n",
       "      <td>0</td>\n",
       "      <td>0</td>\n",
       "      <td>1</td>\n",
       "      <td>0</td>\n",
       "      <td>0</td>\n",
       "      <td>...</td>\n",
       "      <td>1</td>\n",
       "      <td>0</td>\n",
       "      <td>1</td>\n",
       "      <td>0</td>\n",
       "      <td>1</td>\n",
       "      <td>0</td>\n",
       "      <td>0</td>\n",
       "      <td>1</td>\n",
       "      <td>0</td>\n",
       "      <td>1</td>\n",
       "    </tr>\n",
       "    <tr>\n",
       "      <th>12681</th>\n",
       "      <td>0</td>\n",
       "      <td>0</td>\n",
       "      <td>1</td>\n",
       "      <td>1</td>\n",
       "      <td>0</td>\n",
       "      <td>0</td>\n",
       "      <td>0</td>\n",
       "      <td>0</td>\n",
       "      <td>1</td>\n",
       "      <td>0</td>\n",
       "      <td>...</td>\n",
       "      <td>1</td>\n",
       "      <td>0</td>\n",
       "      <td>1</td>\n",
       "      <td>0</td>\n",
       "      <td>0</td>\n",
       "      <td>1</td>\n",
       "      <td>1</td>\n",
       "      <td>0</td>\n",
       "      <td>1</td>\n",
       "      <td>0</td>\n",
       "    </tr>\n",
       "    <tr>\n",
       "      <th>12682</th>\n",
       "      <td>0</td>\n",
       "      <td>0</td>\n",
       "      <td>1</td>\n",
       "      <td>1</td>\n",
       "      <td>0</td>\n",
       "      <td>0</td>\n",
       "      <td>0</td>\n",
       "      <td>0</td>\n",
       "      <td>1</td>\n",
       "      <td>0</td>\n",
       "      <td>...</td>\n",
       "      <td>0</td>\n",
       "      <td>1</td>\n",
       "      <td>0</td>\n",
       "      <td>1</td>\n",
       "      <td>1</td>\n",
       "      <td>0</td>\n",
       "      <td>0</td>\n",
       "      <td>1</td>\n",
       "      <td>1</td>\n",
       "      <td>0</td>\n",
       "    </tr>\n",
       "    <tr>\n",
       "      <th>12683</th>\n",
       "      <td>0</td>\n",
       "      <td>0</td>\n",
       "      <td>1</td>\n",
       "      <td>1</td>\n",
       "      <td>0</td>\n",
       "      <td>0</td>\n",
       "      <td>0</td>\n",
       "      <td>0</td>\n",
       "      <td>0</td>\n",
       "      <td>1</td>\n",
       "      <td>...</td>\n",
       "      <td>1</td>\n",
       "      <td>0</td>\n",
       "      <td>1</td>\n",
       "      <td>0</td>\n",
       "      <td>0</td>\n",
       "      <td>1</td>\n",
       "      <td>1</td>\n",
       "      <td>0</td>\n",
       "      <td>1</td>\n",
       "      <td>0</td>\n",
       "    </tr>\n",
       "  </tbody>\n",
       "</table>\n",
       "<p>12684 rows × 124 columns</p>\n",
       "</div>"
      ],
      "text/plain": [
       "       Home  No Urgent Place  Work  Alone  Friend(s)  Kid(s)  Partner  Rainy  \\\n",
       "0         0                1     0      1          0       0        0      0   \n",
       "1         0                1     0      0          1       0        0      0   \n",
       "2         0                1     0      0          1       0        0      0   \n",
       "3         0                1     0      0          1       0        0      0   \n",
       "4         0                1     0      0          1       0        0      0   \n",
       "...     ...              ...   ...    ...        ...     ...      ...    ...   \n",
       "12679     1                0     0      0          0       0        1      1   \n",
       "12680     0                0     1      1          0       0        0      1   \n",
       "12681     0                0     1      1          0       0        0      0   \n",
       "12682     0                0     1      1          0       0        0      0   \n",
       "12683     0                0     1      1          0       0        0      0   \n",
       "\n",
       "       Snowy  Sunny  ...  0  1  0  1  0  1  0  1  0  1  \n",
       "0          0      1  ...  1  0  1  0  1  0  0  1  0  1  \n",
       "1          0      1  ...  1  0  1  0  1  0  0  1  1  0  \n",
       "2          0      1  ...  0  1  1  0  1  0  0  1  0  1  \n",
       "3          0      1  ...  0  1  1  0  1  0  0  1  1  0  \n",
       "4          0      1  ...  0  1  1  0  1  0  0  1  1  0  \n",
       "...      ...    ...  ... .. .. .. .. .. .. .. .. .. ..  \n",
       "12679      0      0  ...  1  0  1  0  0  1  1  0  0  1  \n",
       "12680      0      0  ...  1  0  1  0  1  0  0  1  0  1  \n",
       "12681      1      0  ...  1  0  1  0  0  1  1  0  1  0  \n",
       "12682      1      0  ...  0  1  0  1  1  0  0  1  1  0  \n",
       "12683      0      1  ...  1  0  1  0  0  1  1  0  1  0  \n",
       "\n",
       "[12684 rows x 124 columns]"
      ]
     },
     "execution_count": 143,
     "metadata": {},
     "output_type": "execute_result"
    }
   ],
   "source": [
    "prova = pd.DataFrame()\n",
    "for el in new_df1.columns:\n",
    "    prova = pd.concat([prova,pd.get_dummies(new_df1[el])],axis=1)\n",
    "prova"
   ]
  },
  {
   "cell_type": "code",
   "execution_count": 144,
   "metadata": {},
   "outputs": [
    {
     "data": {
      "text/plain": [
       "124"
      ]
     },
     "execution_count": 144,
     "metadata": {},
     "output_type": "execute_result"
    }
   ],
   "source": [
    "count = 0 #check the number of columns matches the number of categories\n",
    "for el in new_df1.columns:\n",
    "    count += len(new_df1[el].value_counts())\n",
    "count"
   ]
  },
  {
   "cell_type": "code",
   "execution_count": null,
   "metadata": {},
   "outputs": [],
   "source": []
  }
 ],
 "metadata": {
  "interpreter": {
   "hash": "ac59ebe37160ed0dfa835113d9b8498d9f09ceb179beaac4002f036b9467c963"
  },
  "kernelspec": {
   "display_name": "Python 3",
   "language": "python",
   "name": "python3"
  },
  "language_info": {
   "codemirror_mode": {
    "name": "ipython",
    "version": 3
   },
   "file_extension": ".py",
   "mimetype": "text/x-python",
   "name": "python",
   "nbconvert_exporter": "python",
   "pygments_lexer": "ipython3",
   "version": "3.9.7"
  }
 },
 "nbformat": 4,
 "nbformat_minor": 2
}
