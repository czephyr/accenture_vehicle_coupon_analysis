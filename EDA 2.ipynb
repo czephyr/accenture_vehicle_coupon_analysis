{
 "cells": [
  {
   "cell_type": "code",
   "execution_count": 1,
   "metadata": {},
   "outputs": [],
   "source": [
    "import pandas as pd\n",
    "import matplotlib.pyplot as plt\n",
    "import numpy as np\n",
    "import seaborn as sns\n",
    "from numpy import linalg as LA\n",
    "from sklearn import tree\n",
    "from sklearn.metrics import accuracy_score,classification_report,cohen_kappa_score\n",
    "from sklearn.tree import DecisionTreeClassifier\n",
    "from sklearn.ensemble import RandomForestClassifier\n",
    "from sklearn.ensemble import BaggingClassifier\n",
    "from sklearn.model_selection import train_test_split, cross_val_score, validation_curve, learning_curve,GridSearchCV, ParameterGrid, cross_validate, StratifiedKFold,RandomizedSearchCV\n",
    "from imblearn.over_sampling import RandomOverSampler\n",
    "from imblearn.under_sampling import NearMiss,CondensedNearestNeighbour\n",
    "from collections import Counter\n",
    "from kmodes.kmodes import KModes\n",
    "from statsmodels.stats.outliers_influence import variance_inflation_factor\n",
    "import scipy.stats\n",
    "from scipy.stats import chi2_contingency\n",
    "from scipy.stats import chi2\n",
    "#conda install imbalanced-learn\n",
    "# pip install kmodes"
   ]
  },
  {
   "cell_type": "code",
   "execution_count": 2,
   "metadata": {},
   "outputs": [],
   "source": [
    "##### BUSINESS PROBLEM DESCRIPTION\n",
    "## Ha senso investire soldi per fare advertising per ristorazione con i coupon attraverso le metriche\n",
    "## raccolte dai dispositivi di geolocalizzazione? Sarebbe un business model monetizzabile? \n",
    "## Quale segmento di clientela potrebbe essere più responsive alla call to action? \n",
    "## Che abitudini ha la clientela che sarebbe responsive? \n",
    "## Che caratteristiche deve avere il coupon per essere interessante? (Distanza, Expiration date, \n",
    "# Tipologia di ristorante, Comodità per l'utente in viaggio [direzione], \n",
    "# Dove sta andando l'utente [destinazione], con chi è [passenger (magari giovani con amici che stanno uscendo a divertirsi????)])\n",
    "######## Lavoratori che vanno a lavoro? \n",
    "## Ci sarebbe un periodo \n",
    "\n",
    "\n",
    "##### GENERAL STUFF \n",
    "## A noi interessa essere più accurati sullo scoprire quelli che useranno il coupon o quello che non lo useranno?\n",
    "## ne dipende la metrica del modello, e le implicazioni di business sul come agire (nel caso si usino risorse per \n",
    "## inviare i coupon ci piacerebbe evitare che vengano sprecati e non inviarli a chi non li userebbe)\n",
    "\n",
    "##### VARIABLES\n",
    "## Weather not distributed evenly so i'd say not statistically relevant\n",
    "## Time, seems like 7AM and 10PM don't offer any insights (orari strambi per mangiare)\n",
    "## Coupon type, \"Carry out & Take away\" and \"Restaurant <20\" are extremely good performers, while Bars suck\n",
    "## Expiration, 1day is performing extremely good, the other one not relevant\n",
    "## Gender, males are 59, females 54, seems not relevant\n",
    "## Age, don't really know what to do, all positive, below21 most performing\n",
    "## maritalStatus, mostly positive but singles have 60, widowed and diverced are useless because of sample size\n",
    "## has_children, no children have 0\n",
    "## education, not really statistical, might be useful to feature engineer into overHighschool, underHighschool\n",
    "## income, lesser income\n",
    "\n",
    "##### FEATURE ENGINEERING\n",
    "## GEQ Variables just one feature \n",
    "## direction Variables just one feature \n",
    "## Implicazioni di business nel capire \n",
    "## Interaction between GEQ and Direction (and maybe Expiration, [Vizualization on these ones]) \n",
    "## Education feature engineer into overHighschool, underHighschool"
   ]
  },
  {
   "cell_type": "code",
   "execution_count": 3,
   "metadata": {},
   "outputs": [
    {
     "data": {
      "text/html": [
       "<div>\n",
       "<style scoped>\n",
       "    .dataframe tbody tr th:only-of-type {\n",
       "        vertical-align: middle;\n",
       "    }\n",
       "\n",
       "    .dataframe tbody tr th {\n",
       "        vertical-align: top;\n",
       "    }\n",
       "\n",
       "    .dataframe thead th {\n",
       "        text-align: right;\n",
       "    }\n",
       "</style>\n",
       "<table border=\"1\" class=\"dataframe\">\n",
       "  <thead>\n",
       "    <tr style=\"text-align: right;\">\n",
       "      <th></th>\n",
       "      <th>destination</th>\n",
       "      <th>passanger</th>\n",
       "      <th>weather</th>\n",
       "      <th>temperature</th>\n",
       "      <th>time</th>\n",
       "      <th>coupon</th>\n",
       "      <th>expiration</th>\n",
       "      <th>gender</th>\n",
       "      <th>age</th>\n",
       "      <th>maritalStatus</th>\n",
       "      <th>...</th>\n",
       "      <th>CoffeeHouse</th>\n",
       "      <th>CarryAway</th>\n",
       "      <th>RestaurantLessThan20</th>\n",
       "      <th>Restaurant20To50</th>\n",
       "      <th>toCoupon_GEQ5min</th>\n",
       "      <th>toCoupon_GEQ15min</th>\n",
       "      <th>toCoupon_GEQ25min</th>\n",
       "      <th>direction_same</th>\n",
       "      <th>direction_opp</th>\n",
       "      <th>Y</th>\n",
       "    </tr>\n",
       "  </thead>\n",
       "  <tbody>\n",
       "    <tr>\n",
       "      <th>0</th>\n",
       "      <td>No Urgent Place</td>\n",
       "      <td>Alone</td>\n",
       "      <td>Sunny</td>\n",
       "      <td>55</td>\n",
       "      <td>2PM</td>\n",
       "      <td>Restaurant(&lt;20)</td>\n",
       "      <td>1d</td>\n",
       "      <td>Female</td>\n",
       "      <td>21</td>\n",
       "      <td>Unmarried partner</td>\n",
       "      <td>...</td>\n",
       "      <td>never</td>\n",
       "      <td>NaN</td>\n",
       "      <td>4~8</td>\n",
       "      <td>1~3</td>\n",
       "      <td>1</td>\n",
       "      <td>0</td>\n",
       "      <td>0</td>\n",
       "      <td>0</td>\n",
       "      <td>1</td>\n",
       "      <td>1</td>\n",
       "    </tr>\n",
       "    <tr>\n",
       "      <th>1</th>\n",
       "      <td>No Urgent Place</td>\n",
       "      <td>Friend(s)</td>\n",
       "      <td>Sunny</td>\n",
       "      <td>80</td>\n",
       "      <td>10AM</td>\n",
       "      <td>Coffee House</td>\n",
       "      <td>2h</td>\n",
       "      <td>Female</td>\n",
       "      <td>21</td>\n",
       "      <td>Unmarried partner</td>\n",
       "      <td>...</td>\n",
       "      <td>never</td>\n",
       "      <td>NaN</td>\n",
       "      <td>4~8</td>\n",
       "      <td>1~3</td>\n",
       "      <td>1</td>\n",
       "      <td>0</td>\n",
       "      <td>0</td>\n",
       "      <td>0</td>\n",
       "      <td>1</td>\n",
       "      <td>0</td>\n",
       "    </tr>\n",
       "    <tr>\n",
       "      <th>2</th>\n",
       "      <td>No Urgent Place</td>\n",
       "      <td>Friend(s)</td>\n",
       "      <td>Sunny</td>\n",
       "      <td>80</td>\n",
       "      <td>10AM</td>\n",
       "      <td>Carry out &amp; Take away</td>\n",
       "      <td>2h</td>\n",
       "      <td>Female</td>\n",
       "      <td>21</td>\n",
       "      <td>Unmarried partner</td>\n",
       "      <td>...</td>\n",
       "      <td>never</td>\n",
       "      <td>NaN</td>\n",
       "      <td>4~8</td>\n",
       "      <td>1~3</td>\n",
       "      <td>1</td>\n",
       "      <td>1</td>\n",
       "      <td>0</td>\n",
       "      <td>0</td>\n",
       "      <td>1</td>\n",
       "      <td>1</td>\n",
       "    </tr>\n",
       "    <tr>\n",
       "      <th>3</th>\n",
       "      <td>No Urgent Place</td>\n",
       "      <td>Friend(s)</td>\n",
       "      <td>Sunny</td>\n",
       "      <td>80</td>\n",
       "      <td>2PM</td>\n",
       "      <td>Coffee House</td>\n",
       "      <td>2h</td>\n",
       "      <td>Female</td>\n",
       "      <td>21</td>\n",
       "      <td>Unmarried partner</td>\n",
       "      <td>...</td>\n",
       "      <td>never</td>\n",
       "      <td>NaN</td>\n",
       "      <td>4~8</td>\n",
       "      <td>1~3</td>\n",
       "      <td>1</td>\n",
       "      <td>1</td>\n",
       "      <td>0</td>\n",
       "      <td>0</td>\n",
       "      <td>1</td>\n",
       "      <td>0</td>\n",
       "    </tr>\n",
       "    <tr>\n",
       "      <th>4</th>\n",
       "      <td>No Urgent Place</td>\n",
       "      <td>Friend(s)</td>\n",
       "      <td>Sunny</td>\n",
       "      <td>80</td>\n",
       "      <td>2PM</td>\n",
       "      <td>Coffee House</td>\n",
       "      <td>1d</td>\n",
       "      <td>Female</td>\n",
       "      <td>21</td>\n",
       "      <td>Unmarried partner</td>\n",
       "      <td>...</td>\n",
       "      <td>never</td>\n",
       "      <td>NaN</td>\n",
       "      <td>4~8</td>\n",
       "      <td>1~3</td>\n",
       "      <td>1</td>\n",
       "      <td>1</td>\n",
       "      <td>0</td>\n",
       "      <td>0</td>\n",
       "      <td>1</td>\n",
       "      <td>0</td>\n",
       "    </tr>\n",
       "    <tr>\n",
       "      <th>...</th>\n",
       "      <td>...</td>\n",
       "      <td>...</td>\n",
       "      <td>...</td>\n",
       "      <td>...</td>\n",
       "      <td>...</td>\n",
       "      <td>...</td>\n",
       "      <td>...</td>\n",
       "      <td>...</td>\n",
       "      <td>...</td>\n",
       "      <td>...</td>\n",
       "      <td>...</td>\n",
       "      <td>...</td>\n",
       "      <td>...</td>\n",
       "      <td>...</td>\n",
       "      <td>...</td>\n",
       "      <td>...</td>\n",
       "      <td>...</td>\n",
       "      <td>...</td>\n",
       "      <td>...</td>\n",
       "      <td>...</td>\n",
       "      <td>...</td>\n",
       "    </tr>\n",
       "    <tr>\n",
       "      <th>12679</th>\n",
       "      <td>Home</td>\n",
       "      <td>Partner</td>\n",
       "      <td>Rainy</td>\n",
       "      <td>55</td>\n",
       "      <td>6PM</td>\n",
       "      <td>Carry out &amp; Take away</td>\n",
       "      <td>1d</td>\n",
       "      <td>Male</td>\n",
       "      <td>26</td>\n",
       "      <td>Single</td>\n",
       "      <td>...</td>\n",
       "      <td>never</td>\n",
       "      <td>1~3</td>\n",
       "      <td>4~8</td>\n",
       "      <td>1~3</td>\n",
       "      <td>1</td>\n",
       "      <td>0</td>\n",
       "      <td>0</td>\n",
       "      <td>1</td>\n",
       "      <td>0</td>\n",
       "      <td>1</td>\n",
       "    </tr>\n",
       "    <tr>\n",
       "      <th>12680</th>\n",
       "      <td>Work</td>\n",
       "      <td>Alone</td>\n",
       "      <td>Rainy</td>\n",
       "      <td>55</td>\n",
       "      <td>7AM</td>\n",
       "      <td>Carry out &amp; Take away</td>\n",
       "      <td>1d</td>\n",
       "      <td>Male</td>\n",
       "      <td>26</td>\n",
       "      <td>Single</td>\n",
       "      <td>...</td>\n",
       "      <td>never</td>\n",
       "      <td>1~3</td>\n",
       "      <td>4~8</td>\n",
       "      <td>1~3</td>\n",
       "      <td>1</td>\n",
       "      <td>0</td>\n",
       "      <td>0</td>\n",
       "      <td>0</td>\n",
       "      <td>1</td>\n",
       "      <td>1</td>\n",
       "    </tr>\n",
       "    <tr>\n",
       "      <th>12681</th>\n",
       "      <td>Work</td>\n",
       "      <td>Alone</td>\n",
       "      <td>Snowy</td>\n",
       "      <td>30</td>\n",
       "      <td>7AM</td>\n",
       "      <td>Coffee House</td>\n",
       "      <td>1d</td>\n",
       "      <td>Male</td>\n",
       "      <td>26</td>\n",
       "      <td>Single</td>\n",
       "      <td>...</td>\n",
       "      <td>never</td>\n",
       "      <td>1~3</td>\n",
       "      <td>4~8</td>\n",
       "      <td>1~3</td>\n",
       "      <td>1</td>\n",
       "      <td>0</td>\n",
       "      <td>0</td>\n",
       "      <td>1</td>\n",
       "      <td>0</td>\n",
       "      <td>0</td>\n",
       "    </tr>\n",
       "    <tr>\n",
       "      <th>12682</th>\n",
       "      <td>Work</td>\n",
       "      <td>Alone</td>\n",
       "      <td>Snowy</td>\n",
       "      <td>30</td>\n",
       "      <td>7AM</td>\n",
       "      <td>Bar</td>\n",
       "      <td>1d</td>\n",
       "      <td>Male</td>\n",
       "      <td>26</td>\n",
       "      <td>Single</td>\n",
       "      <td>...</td>\n",
       "      <td>never</td>\n",
       "      <td>1~3</td>\n",
       "      <td>4~8</td>\n",
       "      <td>1~3</td>\n",
       "      <td>1</td>\n",
       "      <td>1</td>\n",
       "      <td>1</td>\n",
       "      <td>0</td>\n",
       "      <td>1</td>\n",
       "      <td>0</td>\n",
       "    </tr>\n",
       "    <tr>\n",
       "      <th>12683</th>\n",
       "      <td>Work</td>\n",
       "      <td>Alone</td>\n",
       "      <td>Sunny</td>\n",
       "      <td>80</td>\n",
       "      <td>7AM</td>\n",
       "      <td>Restaurant(20-50)</td>\n",
       "      <td>2h</td>\n",
       "      <td>Male</td>\n",
       "      <td>26</td>\n",
       "      <td>Single</td>\n",
       "      <td>...</td>\n",
       "      <td>never</td>\n",
       "      <td>1~3</td>\n",
       "      <td>4~8</td>\n",
       "      <td>1~3</td>\n",
       "      <td>1</td>\n",
       "      <td>0</td>\n",
       "      <td>0</td>\n",
       "      <td>1</td>\n",
       "      <td>0</td>\n",
       "      <td>0</td>\n",
       "    </tr>\n",
       "  </tbody>\n",
       "</table>\n",
       "<p>12684 rows × 26 columns</p>\n",
       "</div>"
      ],
      "text/plain": [
       "           destination  passanger weather  temperature  time  \\\n",
       "0      No Urgent Place      Alone   Sunny           55   2PM   \n",
       "1      No Urgent Place  Friend(s)   Sunny           80  10AM   \n",
       "2      No Urgent Place  Friend(s)   Sunny           80  10AM   \n",
       "3      No Urgent Place  Friend(s)   Sunny           80   2PM   \n",
       "4      No Urgent Place  Friend(s)   Sunny           80   2PM   \n",
       "...                ...        ...     ...          ...   ...   \n",
       "12679             Home    Partner   Rainy           55   6PM   \n",
       "12680             Work      Alone   Rainy           55   7AM   \n",
       "12681             Work      Alone   Snowy           30   7AM   \n",
       "12682             Work      Alone   Snowy           30   7AM   \n",
       "12683             Work      Alone   Sunny           80   7AM   \n",
       "\n",
       "                      coupon expiration  gender age      maritalStatus  ...  \\\n",
       "0            Restaurant(<20)         1d  Female  21  Unmarried partner  ...   \n",
       "1               Coffee House         2h  Female  21  Unmarried partner  ...   \n",
       "2      Carry out & Take away         2h  Female  21  Unmarried partner  ...   \n",
       "3               Coffee House         2h  Female  21  Unmarried partner  ...   \n",
       "4               Coffee House         1d  Female  21  Unmarried partner  ...   \n",
       "...                      ...        ...     ...  ..                ...  ...   \n",
       "12679  Carry out & Take away         1d    Male  26             Single  ...   \n",
       "12680  Carry out & Take away         1d    Male  26             Single  ...   \n",
       "12681           Coffee House         1d    Male  26             Single  ...   \n",
       "12682                    Bar         1d    Male  26             Single  ...   \n",
       "12683      Restaurant(20-50)         2h    Male  26             Single  ...   \n",
       "\n",
       "       CoffeeHouse CarryAway RestaurantLessThan20 Restaurant20To50  \\\n",
       "0            never       NaN                  4~8              1~3   \n",
       "1            never       NaN                  4~8              1~3   \n",
       "2            never       NaN                  4~8              1~3   \n",
       "3            never       NaN                  4~8              1~3   \n",
       "4            never       NaN                  4~8              1~3   \n",
       "...            ...       ...                  ...              ...   \n",
       "12679        never       1~3                  4~8              1~3   \n",
       "12680        never       1~3                  4~8              1~3   \n",
       "12681        never       1~3                  4~8              1~3   \n",
       "12682        never       1~3                  4~8              1~3   \n",
       "12683        never       1~3                  4~8              1~3   \n",
       "\n",
       "      toCoupon_GEQ5min toCoupon_GEQ15min toCoupon_GEQ25min direction_same  \\\n",
       "0                    1                 0                 0              0   \n",
       "1                    1                 0                 0              0   \n",
       "2                    1                 1                 0              0   \n",
       "3                    1                 1                 0              0   \n",
       "4                    1                 1                 0              0   \n",
       "...                ...               ...               ...            ...   \n",
       "12679                1                 0                 0              1   \n",
       "12680                1                 0                 0              0   \n",
       "12681                1                 0                 0              1   \n",
       "12682                1                 1                 1              0   \n",
       "12683                1                 0                 0              1   \n",
       "\n",
       "      direction_opp  Y  \n",
       "0                 1  1  \n",
       "1                 1  0  \n",
       "2                 1  1  \n",
       "3                 1  0  \n",
       "4                 1  0  \n",
       "...             ... ..  \n",
       "12679             0  1  \n",
       "12680             1  1  \n",
       "12681             0  0  \n",
       "12682             1  0  \n",
       "12683             0  0  \n",
       "\n",
       "[12684 rows x 26 columns]"
      ]
     },
     "execution_count": 3,
     "metadata": {},
     "output_type": "execute_result"
    }
   ],
   "source": [
    "df = pd.read_csv(\"C:\\\\Users\\\\Matteo\\\\Desktop\\\\ACCENTURE LAB\\\\Vehicle Coupon Recommendation.csv\")\n",
    "df"
   ]
  },
  {
   "cell_type": "code",
   "execution_count": 4,
   "metadata": {},
   "outputs": [],
   "source": [
    "def clear(x):\n",
    "    if x == \"Less than $12500\":\n",
    "        return \"12499\"\n",
    "    elif x == \"$12500 - $24999\":\n",
    "        return \"12500\"\n",
    "    elif x == \"$25000 - $37499\":\n",
    "        return \"25000\"\n",
    "    elif x == \"$37500 - $49999\":\n",
    "        return \"37500\"\n",
    "    elif x == \"$50000 - $62499\":\n",
    "        return \"50000\"\n",
    "    elif x == \"$62500 - $74999\":\n",
    "        return \"62500\"\n",
    "    elif x == \"$75000 - $87499\":\n",
    "        return \"75000\"\n",
    "    elif x == \"$87500 - $99999\":\n",
    "        return \"87500\"\n",
    "    elif x ==\"$100000 or More\":\n",
    "        return \"more than 100k\""
   ]
  },
  {
   "cell_type": "code",
   "execution_count": 5,
   "metadata": {},
   "outputs": [],
   "source": [
    "def rich(x):\n",
    "    if x in [\"62500\",\"75000\",\"87500\",\"more than 100k\"]:\n",
    "        return 1\n",
    "    else:\n",
    "        return 0\n",
    "def middle(x):\n",
    "    if x in [\"25000\",\"37500\",\"50000\"]:\n",
    "        return 1\n",
    "    else:\n",
    "        return 0\n",
    "def poor(x):\n",
    "    if x in [\"12499\",\"12500\"]:\n",
    "        return 1\n",
    "    else:\n",
    "        return 0"
   ]
  },
  {
   "cell_type": "code",
   "execution_count": 6,
   "metadata": {},
   "outputs": [],
   "source": [
    "df[\"income\"]= df[\"income\"].apply(clear)"
   ]
  },
  {
   "cell_type": "code",
   "execution_count": 7,
   "metadata": {},
   "outputs": [],
   "source": [
    "df[\"rich\"] = df[\"income\"].apply(rich)\n",
    "df[\"middleclass\"] = df[\"income\"].apply(middle)\n",
    "df[\"poor\"] = df[\"income\"].apply(poor)"
   ]
  },
  {
   "cell_type": "code",
   "execution_count": 8,
   "metadata": {},
   "outputs": [
    {
     "name": "stdout",
     "output_type": "stream",
     "text": [
      "rich           0.539917\n",
      "poor           0.581274\n",
      "middleclass    0.584261\n",
      "Name: Wealth, dtype: float64\n"
     ]
    },
    {
     "data": {
      "image/png": "[encoded data removed]",
      "text/plain": [
       "<Figure size 432x288 with 1 Axes>"
      ]
     },
     "metadata": {
      "needs_background": "light"
     },
     "output_type": "display_data"
    }
   ],
   "source": [
    "show = {}\n",
    "\n",
    "count = df[[\"rich\",\"middleclass\",\"poor\"]].sum()\n",
    "\n",
    "for val in count.index:\n",
    "    show[val] = (df[df[val]==1][\"Y\"].sum() / df[df[val]==1][\"Y\"].count())\n",
    "ser = pd.Series(show,name=\"Wealth\")\n",
    "f, ax = plt.subplots(1)\n",
    "ser = ser.sort_values(ascending=True)\n",
    "plt.axhline(y=0.60,linewidth=1, color='red')\n",
    "plt.bar(ser.index,ser)\n",
    "ax.set_ylim(ymin=0.50)\n",
    "print(ser.sort_values())"
   ]
  },
  {
   "cell_type": "code",
   "execution_count": 9,
   "metadata": {},
   "outputs": [
    {
     "name": "stdout",
     "output_type": "stream",
     "text": [
      "rich           4334\n",
      "middleclass    5477\n",
      "poor           2873\n",
      "dtype: int64\n"
     ]
    },
    {
     "data": {
      "text/plain": [
       "Text(0.5, 1.0, 'Income')"
      ]
     },
     "execution_count": 9,
     "metadata": {},
     "output_type": "execute_result"
    },
    {
     "data": {
      "image/png": "[encoded data removed]",
      "text/plain": [
       "<Figure size 432x288 with 1 Axes>"
      ]
     },
     "metadata": {},
     "output_type": "display_data"
    }
   ],
   "source": [
    "sizes = df[[\"rich\",\"middleclass\",\"poor\"]].sum()\n",
    "explode = (0, 0, 0)\n",
    "\n",
    "fig1, ax1 = plt.subplots(1)\n",
    "ax1.pie(sizes, explode=explode,labels=sizes.index, autopct='%1.1f%%',\n",
    "        shadow=True, startangle=90)\n",
    "ax1.axis('equal')  # Equal aspect ratio ensures that pie is drawn as a circle.\n",
    "\n",
    "print(df[[\"rich\",\"middleclass\",\"poor\"]].sum())\n",
    "plt.title(\"Income\")"
   ]
  },
  {
   "cell_type": "code",
   "execution_count": 10,
   "metadata": {},
   "outputs": [
    {
     "data": {
      "text/plain": [
       "Text(0.5, 1.0, 'Age')"
      ]
     },
     "execution_count": 10,
     "metadata": {},
     "output_type": "execute_result"
    },
    {
     "data": {
      "image/png": "[encoded data removed]",
      "text/plain": [
       "<Figure size 432x288 with 1 Axes>"
      ]
     },
     "metadata": {},
     "output_type": "display_data"
    }
   ],
   "source": [
    "sizes = df[\"age\"].value_counts()\n",
    "explode = (0.1, 0.1, 0,0,0,0,0,0)\n",
    "\n",
    "fig1, ax1 = plt.subplots(1)\n",
    "ax1.pie(sizes, explode=explode,labels=sizes.index, autopct='%1.1f%%',\n",
    "        shadow=True, startangle=90)\n",
    "ax1.axis('equal')  # Equal aspect ratio ensures that pie is drawn as a circle.\n",
    "plt.title(\"Age\")"
   ]
  },
  {
   "cell_type": "code",
   "execution_count": 11,
   "metadata": {},
   "outputs": [],
   "source": [
    "df[\"age0\"] = df[\"age\"].apply(lambda x: 1 if x ==\"below21\" else 0)\n",
    "df[\"age21\"] = df[\"age\"].apply(lambda x: 1 if x in [\"21\",\"26\"] else 0)\n",
    "df[\"age31\"] = df[\"age\"].apply(lambda x: 1 if x in [\"31\",\"36\"] else 0)\n",
    "df[\"age41\"] = df[\"age\"].apply(lambda x: 1 if x in [\"41\",\"46\"] else 0)\n",
    "df[\"age51\"] = df[\"age\"].apply(lambda x: 1 if x in [\"50plus\"] else 0)"
   ]
  },
  {
   "cell_type": "code",
   "execution_count": 12,
   "metadata": {},
   "outputs": [
    {
     "name": "stdout",
     "output_type": "stream",
     "text": [
      "50plus     0.508949\n",
      "36         0.535254\n",
      "31         0.546346\n",
      "41         0.572736\n",
      "46         0.575802\n",
      "26         0.595936\n",
      "21         0.598191\n",
      "below21    0.634369\n",
      "Name: Age, dtype: float64\n"
     ]
    },
    {
     "data": {
      "image/png": "[encoded data removed]",
      "text/plain": [
       "<Figure size 432x288 with 1 Axes>"
      ]
     },
     "metadata": {
      "needs_background": "light"
     },
     "output_type": "display_data"
    }
   ],
   "source": [
    "show = {}\n",
    "for val in df[\"age\"].unique():\n",
    "    show[val]=(df[df[\"age\"]==val][\"Y\"].sum() / df[df[\"age\"]==val][\"Y\"].count())\n",
    "ser = pd.Series(show,name=\"Age\")\n",
    "f, ax = plt.subplots(1)\n",
    "ser = ser.sort_values(ascending=True)\n",
    "plt.axhline(y=0.60,linewidth=1, color='red')\n",
    "plt.bar(ser.index,ser)\n",
    "ax.set_ylim(ymin=0.50)\n",
    "print(ser.sort_values())"
   ]
  },
  {
   "cell_type": "markdown",
   "metadata": {},
   "source": [
    "Potrebbe essere interessante capire come mai i 50plus sono il 14% ma performano così male"
   ]
  },
  {
   "cell_type": "markdown",
   "metadata": {},
   "source": [
    "31, 26 e 21 rappresentano più della metà delle persone intervistate, ma 31 ha meno adesione, quindi guardiamo 26 e 21."
   ]
  },
  {
   "cell_type": "code",
   "execution_count": 13,
   "metadata": {},
   "outputs": [
    {
     "data": {
      "text/plain": [
       "<BarContainer object of 9 artists>"
      ]
     },
     "execution_count": 13,
     "metadata": {},
     "output_type": "execute_result"
    },
    {
     "data": {
      "image/png": "[encoded data removed]",
      "text/plain": [
       "<Figure size 432x288 with 1 Axes>"
      ]
     },
     "metadata": {
      "needs_background": "light"
     },
     "output_type": "display_data"
    }
   ],
   "source": [
    "ser = df[df[\"age\"].isin([\"21\",\"26\"]) & df[\"Y\"]==1][\"income\"].value_counts().sort_index()\n",
    "plt.bar(ser.index,ser)"
   ]
  },
  {
   "cell_type": "code",
   "execution_count": 14,
   "metadata": {},
   "outputs": [
    {
     "data": {
      "text/plain": [
       "([0, 1, 2, 3, 4, 5],\n",
       " [Text(0, 0, ''),\n",
       "  Text(0, 0, ''),\n",
       "  Text(0, 0, ''),\n",
       "  Text(0, 0, ''),\n",
       "  Text(0, 0, ''),\n",
       "  Text(0, 0, '')])"
      ]
     },
     "execution_count": 14,
     "metadata": {},
     "output_type": "execute_result"
    },
    {
     "data": {
      "image/png": "[encoded data removed]",
      "text/plain": [
       "<Figure size 432x288 with 1 Axes>"
      ]
     },
     "metadata": {
      "needs_background": "light"
     },
     "output_type": "display_data"
    }
   ],
   "source": [
    "ser = df[df[\"age\"].isin([\"21\",\"26\"]) & df[\"Y\"]==1][\"education\"].value_counts()\n",
    "plt.bar(ser.index,ser)\n",
    "plt.xticks(rotation='vertical')"
   ]
  },
  {
   "cell_type": "code",
   "execution_count": 15,
   "metadata": {},
   "outputs": [
    {
     "data": {
      "text/plain": [
       "<BarContainer object of 2 artists>"
      ]
     },
     "execution_count": 15,
     "metadata": {},
     "output_type": "execute_result"
    },
    {
     "data": {
      "image/png": "[encoded data removed]",
      "text/plain": [
       "<Figure size 432x288 with 1 Axes>"
      ]
     },
     "metadata": {
      "needs_background": "light"
     },
     "output_type": "display_data"
    }
   ],
   "source": [
    "ser = df[df[\"age\"].isin([\"21\",\"26\"]) & df[\"Y\"]==1][\"has_children\"].value_counts()\n",
    "plt.bar(ser.index,ser)"
   ]
  },
  {
   "cell_type": "code",
   "execution_count": 16,
   "metadata": {},
   "outputs": [
    {
     "data": {
      "text/plain": [
       "<BarContainer object of 5 artists>"
      ]
     },
     "execution_count": 16,
     "metadata": {},
     "output_type": "execute_result"
    },
    {
     "data": {
      "image/png": "[encoded data removed]",
      "text/plain": [
       "<Figure size 432x288 with 1 Axes>"
      ]
     },
     "metadata": {
      "needs_background": "light"
     },
     "output_type": "display_data"
    }
   ],
   "source": [
    "ser = df[df[\"age\"].isin([\"21\",\"26\"]) & df[\"Y\"]==1][\"coupon\"].value_counts()\n",
    "plt.bar(ser.index,ser)"
   ]
  },
  {
   "cell_type": "code",
   "execution_count": 17,
   "metadata": {},
   "outputs": [
    {
     "data": {
      "text/plain": [
       "<BarContainer object of 5 artists>"
      ]
     },
     "execution_count": 17,
     "metadata": {},
     "output_type": "execute_result"
    },
    {
     "data": {
      "image/png": "[encoded data removed]",
      "text/plain": [
       "<Figure size 432x288 with 1 Axes>"
      ]
     },
     "metadata": {
      "needs_background": "light"
     },
     "output_type": "display_data"
    }
   ],
   "source": [
    "ser = df[df[\"age\"].isin([\"21\",\"26\"]) & df[\"Y\"]==1][\"Bar\"].value_counts()\n",
    "plt.bar(ser.index,ser)"
   ]
  },
  {
   "cell_type": "code",
   "execution_count": 18,
   "metadata": {},
   "outputs": [
    {
     "data": {
      "text/plain": [
       "<BarContainer object of 5 artists>"
      ]
     },
     "execution_count": 18,
     "metadata": {},
     "output_type": "execute_result"
    },
    {
     "data": {
      "image/png": "[encoded data removed]",
      "text/plain": [
       "<Figure size 432x288 with 1 Axes>"
      ]
     },
     "metadata": {
      "needs_background": "light"
     },
     "output_type": "display_data"
    }
   ],
   "source": [
    "ser = df[df[\"age\"].isin([\"21\",\"26\"]) & df[\"Y\"]==1][\"CarryAway\"].value_counts()\n",
    "plt.bar(ser.index,ser)"
   ]
  },
  {
   "cell_type": "code",
   "execution_count": 19,
   "metadata": {},
   "outputs": [
    {
     "data": {
      "text/plain": [
       "<BarContainer object of 5 artists>"
      ]
     },
     "execution_count": 19,
     "metadata": {},
     "output_type": "execute_result"
    },
    {
     "data": {
      "image/png": "[encoded data removed]",
      "text/plain": [
       "<Figure size 432x288 with 1 Axes>"
      ]
     },
     "metadata": {
      "needs_background": "light"
     },
     "output_type": "display_data"
    }
   ],
   "source": [
    "ser = df[df[\"age\"].isin([\"21\",\"26\"]) & df[\"Y\"]==1][\"CoffeeHouse\"].value_counts()\n",
    "plt.bar(ser.index,ser)"
   ]
  },
  {
   "cell_type": "code",
   "execution_count": 20,
   "metadata": {},
   "outputs": [],
   "source": [
    "young = df[df[\"age\"].isin([\"21\",\"26\"])]"
   ]
  },
  {
   "cell_type": "code",
   "execution_count": 1,
   "metadata": {},
   "outputs": [
    {
     "ename": "NameError",
     "evalue": "name 'pd' is not defined",
     "output_type": "error",
     "traceback": [
      "\u001b[1;31m---------------------------------------------------------------------------\u001b[0m",
      "\u001b[1;31mNameError\u001b[0m                                 Traceback (most recent call last)",
      "\u001b[1;32m~\\AppData\\Local\\Temp/ipykernel_4420/715918808.py\u001b[0m in \u001b[0;36m<module>\u001b[1;34m\u001b[0m\n\u001b[1;32m----> 1\u001b[1;33m \u001b[0mfound\u001b[0m \u001b[1;33m=\u001b[0m \u001b[0mpd\u001b[0m\u001b[1;33m.\u001b[0m\u001b[0mpivot_table\u001b[0m\u001b[1;33m(\u001b[0m\u001b[0mdf\u001b[0m\u001b[1;33m,\u001b[0m\u001b[0mindex\u001b[0m\u001b[1;33m=\u001b[0m\u001b[1;33m[\u001b[0m\u001b[1;34m\"RestaurantLessThan20\"\u001b[0m\u001b[1;33m,\u001b[0m\u001b[1;34m\"coupon\"\u001b[0m\u001b[1;33m]\u001b[0m\u001b[1;33m,\u001b[0m\u001b[0mvalues\u001b[0m\u001b[1;33m=\u001b[0m\u001b[1;34m\"Y\"\u001b[0m\u001b[1;33m)\u001b[0m\u001b[1;33m\u001b[0m\u001b[1;33m\u001b[0m\u001b[0m\n\u001b[0m\u001b[0;32m      2\u001b[0m \u001b[0mfound\u001b[0m\u001b[1;33m\u001b[0m\u001b[1;33m\u001b[0m\u001b[0m\n",
      "\u001b[1;31mNameError\u001b[0m: name 'pd' is not defined"
     ]
    }
   ],
   "source": [
    "found = pd.pivot_table(df,index=[\"RestaurantLessThan20\",\"coupon\"],values=\"Y\")\n",
    "found"
   ]
  },
  {
   "cell_type": "code",
   "execution_count": 22,
   "metadata": {},
   "outputs": [
    {
     "data": {
      "text/plain": [
       "Index(['destination', 'passanger', 'weather', 'temperature', 'time', 'coupon',\n",
       "       'expiration', 'gender', 'age', 'maritalStatus', 'has_children',\n",
       "       'education', 'occupation', 'income', 'car', 'Bar', 'CoffeeHouse',\n",
       "       'CarryAway', 'RestaurantLessThan20', 'Restaurant20To50',\n",
       "       'toCoupon_GEQ5min', 'toCoupon_GEQ15min', 'toCoupon_GEQ25min',\n",
       "       'direction_same', 'direction_opp', 'Y', 'rich', 'middleclass', 'poor',\n",
       "       'age0', 'age21', 'age31', 'age41', 'age51'],\n",
       "      dtype='object')"
      ]
     },
     "execution_count": 22,
     "metadata": {},
     "output_type": "execute_result"
    }
   ],
   "source": [
    "df.columns"
   ]
  },
  {
   "cell_type": "code",
   "execution_count": 23,
   "metadata": {},
   "outputs": [
    {
     "data": {
      "text/html": [
       "<div>\n",
       "<style scoped>\n",
       "    .dataframe tbody tr th:only-of-type {\n",
       "        vertical-align: middle;\n",
       "    }\n",
       "\n",
       "    .dataframe tbody tr th {\n",
       "        vertical-align: top;\n",
       "    }\n",
       "\n",
       "    .dataframe thead th {\n",
       "        text-align: right;\n",
       "    }\n",
       "</style>\n",
       "<table border=\"1\" class=\"dataframe\">\n",
       "  <thead>\n",
       "    <tr style=\"text-align: right;\">\n",
       "      <th></th>\n",
       "      <th>Y</th>\n",
       "    </tr>\n",
       "    <tr>\n",
       "      <th>passanger</th>\n",
       "      <th></th>\n",
       "    </tr>\n",
       "  </thead>\n",
       "  <tbody>\n",
       "    <tr>\n",
       "      <th>Alone</th>\n",
       "      <td>0.611570</td>\n",
       "    </tr>\n",
       "    <tr>\n",
       "      <th>Friend(s)</th>\n",
       "      <td>0.712121</td>\n",
       "    </tr>\n",
       "    <tr>\n",
       "      <th>Partner</th>\n",
       "      <td>0.596154</td>\n",
       "    </tr>\n",
       "  </tbody>\n",
       "</table>\n",
       "</div>"
      ],
      "text/plain": [
       "                  Y\n",
       "passanger          \n",
       "Alone      0.611570\n",
       "Friend(s)  0.712121\n",
       "Partner    0.596154"
      ]
     },
     "execution_count": 23,
     "metadata": {},
     "output_type": "execute_result"
    }
   ],
   "source": [
    "pd.pivot_table(df[df[\"age0\"]==1],index=[\"passanger\"],values=\"Y\")"
   ]
  },
  {
   "cell_type": "code",
   "execution_count": 24,
   "metadata": {},
   "outputs": [],
   "source": [
    "some = []\n",
    "for col in ['rich', 'middleclass', 'poor','age0', 'age21', 'age31', 'age41', 'age51']:\n",
    "  for col2 in ['destination', 'passanger', 'weather', 'temperature', 'time', 'coupon',\n",
    "    'expiration', 'gender', 'maritalStatus', 'has_children',\n",
    "    'Bar', 'CoffeeHouse',\n",
    "    'CarryAway', 'RestaurantLessThan20', 'Restaurant20To50',\n",
    "    'toCoupon_GEQ5min', 'toCoupon_GEQ15min', 'toCoupon_GEQ25min',\n",
    "    'direction_same', 'direction_opp']:\n",
    "    found = pd.pivot_table(df[df[col]==1],index=[col2],values=\"Y\")\n",
    "    if not ((found[found[\"Y\"]>0.70]).empty):\n",
    "        some.append((col,(found[found[\"Y\"]>0.70])))\n",
    "\n",
    "\n",
    "######### CHECK DURING WINTER WHAT PLACE PREFERRED, AND CHECK AT WHAT TIME WHAT PLACE PREFERRED\n",
    "######### CHECK POPULATION WITH CHILDREN WHAT PREFERS\n",
    "######### \n"
   ]
  },
  {
   "cell_type": "code",
   "execution_count": 25,
   "metadata": {},
   "outputs": [
    {
     "data": {
      "text/plain": [
       "[('rich',\n",
       "                                Y\n",
       "  coupon                         \n",
       "  Carry out & Take away  0.702439),\n",
       " ('middleclass',\n",
       "                                Y\n",
       "  coupon                         \n",
       "  Carry out & Take away  0.753196\n",
       "  Restaurant(<20)        0.738294),\n",
       " ('middleclass',\n",
       "                           Y\n",
       "  Restaurant20To50          \n",
       "  4~8               0.721591),\n",
       " ('poor',\n",
       "                                Y\n",
       "  coupon                         \n",
       "  Carry out & Take away  0.751799),\n",
       " ('poor',\n",
       "                           Y\n",
       "  Restaurant20To50          \n",
       "  4~8               0.812183),\n",
       " ('age0',\n",
       "                    Y\n",
       "  passanger          \n",
       "  Friend(s)  0.712121),\n",
       " ('age0',\n",
       "                     Y\n",
       "  temperature         \n",
       "  80           0.72242),\n",
       " ('age0',\n",
       "               Y\n",
       "  time          \n",
       "  2PM   0.702703),\n",
       " ('age0',\n",
       "                                Y\n",
       "  coupon                         \n",
       "  Carry out & Take away  0.728070\n",
       "  Restaurant(<20)        0.734375),\n",
       " ('age0',\n",
       "                      Y\n",
       "  CoffeeHouse          \n",
       "  less1        0.753846),\n",
       " ('age0',\n",
       "                    Y\n",
       "  CarryAway          \n",
       "  never      0.863636),\n",
       " ('age0',\n",
       "                               Y\n",
       "  RestaurantLessThan20          \n",
       "  1~3                   0.718954),\n",
       " ('age0',\n",
       "                           Y\n",
       "  Restaurant20To50          \n",
       "  1~3               0.747126),\n",
       " ('age0',\n",
       "                            Y\n",
       "  toCoupon_GEQ15min          \n",
       "  0                  0.704724),\n",
       " ('age21',\n",
       "                    Y\n",
       "  passanger          \n",
       "  Friend(s)  0.710767),\n",
       " ('age21',\n",
       "              Y\n",
       "  time         \n",
       "  2PM   0.70119),\n",
       " ('age21',\n",
       "                                Y\n",
       "  coupon                         \n",
       "  Carry out & Take away  0.736402\n",
       "  Restaurant(<20)        0.736283),\n",
       " ('age21',\n",
       "                           Y\n",
       "  Restaurant20To50          \n",
       "  4~8               0.742424),\n",
       " ('age31',\n",
       "                                Y\n",
       "  coupon                         \n",
       "  Carry out & Take away  0.721617),\n",
       " ('age41',\n",
       "                    Y\n",
       "  passanger          \n",
       "  Partner    0.756757),\n",
       " ('age41',\n",
       "                                Y\n",
       "  coupon                         \n",
       "  Carry out & Take away  0.721557\n",
       "  Restaurant(<20)        0.726582),\n",
       " ('age51',\n",
       "                                Y\n",
       "  coupon                         \n",
       "  Carry out & Take away  0.774566),\n",
       " ('age51',\n",
       "                           Y\n",
       "  Restaurant20To50          \n",
       "  4~8               0.757576)]"
      ]
     },
     "execution_count": 25,
     "metadata": {},
     "output_type": "execute_result"
    }
   ],
   "source": [
    "some"
   ]
  },
  {
   "cell_type": "code",
   "execution_count": 26,
   "metadata": {},
   "outputs": [
    {
     "data": {
      "text/plain": [
       "<BarContainer object of 4 artists>"
      ]
     },
     "execution_count": 26,
     "metadata": {},
     "output_type": "execute_result"
    },
    {
     "data": {
      "image/png": "[encoded data removed]",
      "text/plain": [
       "<Figure size 432x288 with 1 Axes>"
      ]
     },
     "metadata": {
      "needs_background": "light"
     },
     "output_type": "display_data"
    }
   ],
   "source": [
    "ser = df[df[\"income\"]==\"more than 100k\"][\"Restaurant20To50\"].value_counts()\n",
    "plt.bar(ser.index,ser)\n"
   ]
  },
  {
   "cell_type": "markdown",
   "metadata": {},
   "source": [
    "Lets get a general look at the accepted the coupons"
   ]
  },
  {
   "cell_type": "code",
   "execution_count": 27,
   "metadata": {},
   "outputs": [
    {
     "data": {
      "text/plain": [
       "<BarContainer object of 5 artists>"
      ]
     },
     "execution_count": 27,
     "metadata": {},
     "output_type": "execute_result"
    },
    {
     "data": {
      "image/png": "[encoded data removed]",
      "text/plain": [
       "<Figure size 432x288 with 1 Axes>"
      ]
     },
     "metadata": {
      "needs_background": "light"
     },
     "output_type": "display_data"
    }
   ],
   "source": [
    "ser = df[df[\"Y\"]==1][\"coupon\"].value_counts()\n",
    "plt.bar(ser.index,ser)"
   ]
  },
  {
   "cell_type": "code",
   "execution_count": 28,
   "metadata": {},
   "outputs": [
    {
     "data": {
      "text/plain": [
       "Index(['destination', 'passanger', 'weather', 'temperature', 'time', 'coupon',\n",
       "       'expiration', 'gender', 'age', 'maritalStatus', 'has_children',\n",
       "       'education', 'occupation', 'income', 'car', 'Bar', 'CoffeeHouse',\n",
       "       'CarryAway', 'RestaurantLessThan20', 'Restaurant20To50',\n",
       "       'toCoupon_GEQ5min', 'toCoupon_GEQ15min', 'toCoupon_GEQ25min',\n",
       "       'direction_same', 'direction_opp', 'Y', 'rich', 'middleclass', 'poor',\n",
       "       'age0', 'age21', 'age31', 'age41', 'age51'],\n",
       "      dtype='object')"
      ]
     },
     "execution_count": 28,
     "metadata": {},
     "output_type": "execute_result"
    }
   ],
   "source": [
    "df.columns"
   ]
  },
  {
   "cell_type": "code",
   "execution_count": 29,
   "metadata": {},
   "outputs": [
    {
     "data": {
      "text/plain": [
       "destination             object\n",
       "passanger               object\n",
       "weather                 object\n",
       "temperature              int64\n",
       "time                    object\n",
       "coupon                  object\n",
       "expiration              object\n",
       "gender                  object\n",
       "age                     object\n",
       "maritalStatus           object\n",
       "has_children             int64\n",
       "education               object\n",
       "occupation              object\n",
       "income                  object\n",
       "car                     object\n",
       "Bar                     object\n",
       "CoffeeHouse             object\n",
       "CarryAway               object\n",
       "RestaurantLessThan20    object\n",
       "Restaurant20To50        object\n",
       "toCoupon_GEQ5min         int64\n",
       "toCoupon_GEQ15min        int64\n",
       "toCoupon_GEQ25min        int64\n",
       "direction_same           int64\n",
       "direction_opp            int64\n",
       "Y                        int64\n",
       "rich                     int64\n",
       "middleclass              int64\n",
       "poor                     int64\n",
       "age0                     int64\n",
       "age21                    int64\n",
       "age31                    int64\n",
       "age41                    int64\n",
       "age51                    int64\n",
       "dtype: object"
      ]
     },
     "execution_count": 29,
     "metadata": {},
     "output_type": "execute_result"
    }
   ],
   "source": [
    "df.dtypes"
   ]
  },
  {
   "cell_type": "code",
   "execution_count": 30,
   "metadata": {},
   "outputs": [
    {
     "data": {
      "text/html": [
       "<div>\n",
       "<style scoped>\n",
       "    .dataframe tbody tr th:only-of-type {\n",
       "        vertical-align: middle;\n",
       "    }\n",
       "\n",
       "    .dataframe tbody tr th {\n",
       "        vertical-align: top;\n",
       "    }\n",
       "\n",
       "    .dataframe thead th {\n",
       "        text-align: right;\n",
       "    }\n",
       "</style>\n",
       "<table border=\"1\" class=\"dataframe\">\n",
       "  <thead>\n",
       "    <tr style=\"text-align: right;\">\n",
       "      <th></th>\n",
       "      <th>Y</th>\n",
       "    </tr>\n",
       "    <tr>\n",
       "      <th>maritalStatus</th>\n",
       "      <th></th>\n",
       "    </tr>\n",
       "  </thead>\n",
       "  <tbody>\n",
       "    <tr>\n",
       "      <th>Divorced</th>\n",
       "      <td>0.529070</td>\n",
       "    </tr>\n",
       "    <tr>\n",
       "      <th>Married partner</th>\n",
       "      <td>0.542941</td>\n",
       "    </tr>\n",
       "    <tr>\n",
       "      <th>Single</th>\n",
       "      <td>0.605850</td>\n",
       "    </tr>\n",
       "    <tr>\n",
       "      <th>Unmarried partner</th>\n",
       "      <td>0.561299</td>\n",
       "    </tr>\n",
       "    <tr>\n",
       "      <th>Widowed</th>\n",
       "      <td>0.476923</td>\n",
       "    </tr>\n",
       "  </tbody>\n",
       "</table>\n",
       "</div>"
      ],
      "text/plain": [
       "                          Y\n",
       "maritalStatus              \n",
       "Divorced           0.529070\n",
       "Married partner    0.542941\n",
       "Single             0.605850\n",
       "Unmarried partner  0.561299\n",
       "Widowed            0.476923"
      ]
     },
     "execution_count": 30,
     "metadata": {},
     "output_type": "execute_result"
    }
   ],
   "source": [
    "pd.pivot_table(df, values='Y', index=['maritalStatus'], aggfunc=np.mean)"
   ]
  },
  {
   "cell_type": "markdown",
   "metadata": {},
   "source": [
    "# Dataset balanced/unbalanced"
   ]
  },
  {
   "cell_type": "code",
   "execution_count": 31,
   "metadata": {},
   "outputs": [
    {
     "data": {
      "text/plain": [
       "1    7210\n",
       "0    5474\n",
       "Name: Y, dtype: int64"
      ]
     },
     "execution_count": 31,
     "metadata": {},
     "output_type": "execute_result"
    }
   ],
   "source": [
    "df[\"Y\"].value_counts()"
   ]
  },
  {
   "cell_type": "code",
   "execution_count": 32,
   "metadata": {
    "scrolled": true
   },
   "outputs": [
    {
     "data": {
      "text/plain": [
       "(array([5474., 7210.]),\n",
       " array([0. , 0.5, 1. ]),\n",
       " <BarContainer object of 2 artists>)"
      ]
     },
     "execution_count": 32,
     "metadata": {},
     "output_type": "execute_result"
    },
    {
     "data": {
      "image/png": "[encoded data removed]",
      "text/plain": [
       "<Figure size 432x288 with 1 Axes>"
      ]
     },
     "metadata": {
      "needs_background": "light"
     },
     "output_type": "display_data"
    }
   ],
   "source": [
    "plt.hist(df[\"Y\"],bins = 2, edgecolor = 'black')"
   ]
  },
  {
   "cell_type": "code",
   "execution_count": 33,
   "metadata": {},
   "outputs": [
    {
     "data": {
      "text/plain": [
       "1    7210\n",
       "0    5474\n",
       "Name: Y, dtype: int64"
      ]
     },
     "execution_count": 33,
     "metadata": {},
     "output_type": "execute_result"
    }
   ],
   "source": [
    "df[\"Y\"].value_counts()"
   ]
  },
  {
   "cell_type": "code",
   "execution_count": 34,
   "metadata": {},
   "outputs": [
    {
     "data": {
      "text/plain": [
       "([<matplotlib.patches.Wedge at 0x1b62c35e0d0>,\n",
       "  <matplotlib.patches.Wedge at 0x1b62c35ea00>],\n",
       " [Text(-0.2560024141966815, 1.1723748393434033, 'Used coupon'),\n",
       "  Text(0.25600252396233425, -1.1723748153747227, 'Not used coupon')],\n",
       " [Text(-0.14933474161473087, 0.6838853229503186, '56.8%'),\n",
       "  Text(0.14933480564469495, -0.6838853089685881, '43.2%')])"
      ]
     },
     "execution_count": 34,
     "metadata": {},
     "output_type": "execute_result"
    },
    {
     "data": {
      "image/png": "[encoded data removed]",
      "text/plain": [
       "<Figure size 432x288 with 1 Axes>"
      ]
     },
     "metadata": {},
     "output_type": "display_data"
    }
   ],
   "source": [
    "sizes = list(df[\"Y\"].value_counts())\n",
    "plt.pie(sizes, labels = [\"Used coupon\",\"Not used coupon\"],explode = (0.1,0.1), autopct='%1.1f%%', shadow = True)"
   ]
  },
  {
   "cell_type": "markdown",
   "metadata": {},
   "source": [
    "The dataset is balanced. This prevents us from oversampling/undersampling in order to obtain better accuracy. An imbalanced dataset can inject bias in the solution towards the majority class."
   ]
  },
  {
   "cell_type": "markdown",
   "metadata": {},
   "source": [
    "# Duplicated values checking and order Y"
   ]
  },
  {
   "cell_type": "code",
   "execution_count": 35,
   "metadata": {},
   "outputs": [
    {
     "data": {
      "text/plain": [
       "74"
      ]
     },
     "execution_count": 35,
     "metadata": {},
     "output_type": "execute_result"
    }
   ],
   "source": [
    "df.duplicated().sum()"
   ]
  },
  {
   "cell_type": "code",
   "execution_count": 36,
   "metadata": {},
   "outputs": [
    {
     "data": {
      "text/html": [
       "<div>\n",
       "<style scoped>\n",
       "    .dataframe tbody tr th:only-of-type {\n",
       "        vertical-align: middle;\n",
       "    }\n",
       "\n",
       "    .dataframe tbody tr th {\n",
       "        vertical-align: top;\n",
       "    }\n",
       "\n",
       "    .dataframe thead th {\n",
       "        text-align: right;\n",
       "    }\n",
       "</style>\n",
       "<table border=\"1\" class=\"dataframe\">\n",
       "  <thead>\n",
       "    <tr style=\"text-align: right;\">\n",
       "      <th></th>\n",
       "      <th>Y</th>\n",
       "      <th>destination</th>\n",
       "      <th>passanger</th>\n",
       "      <th>weather</th>\n",
       "      <th>temperature</th>\n",
       "      <th>time</th>\n",
       "      <th>coupon</th>\n",
       "      <th>expiration</th>\n",
       "      <th>gender</th>\n",
       "      <th>age</th>\n",
       "      <th>...</th>\n",
       "      <th>direction_same</th>\n",
       "      <th>direction_opp</th>\n",
       "      <th>rich</th>\n",
       "      <th>middleclass</th>\n",
       "      <th>poor</th>\n",
       "      <th>age0</th>\n",
       "      <th>age21</th>\n",
       "      <th>age31</th>\n",
       "      <th>age41</th>\n",
       "      <th>age51</th>\n",
       "    </tr>\n",
       "  </thead>\n",
       "  <tbody>\n",
       "    <tr>\n",
       "      <th>0</th>\n",
       "      <td>1</td>\n",
       "      <td>No Urgent Place</td>\n",
       "      <td>Alone</td>\n",
       "      <td>Sunny</td>\n",
       "      <td>55</td>\n",
       "      <td>2PM</td>\n",
       "      <td>Restaurant(&lt;20)</td>\n",
       "      <td>1d</td>\n",
       "      <td>Female</td>\n",
       "      <td>21</td>\n",
       "      <td>...</td>\n",
       "      <td>0</td>\n",
       "      <td>1</td>\n",
       "      <td>0</td>\n",
       "      <td>1</td>\n",
       "      <td>0</td>\n",
       "      <td>0</td>\n",
       "      <td>1</td>\n",
       "      <td>0</td>\n",
       "      <td>0</td>\n",
       "      <td>0</td>\n",
       "    </tr>\n",
       "    <tr>\n",
       "      <th>1</th>\n",
       "      <td>0</td>\n",
       "      <td>No Urgent Place</td>\n",
       "      <td>Friend(s)</td>\n",
       "      <td>Sunny</td>\n",
       "      <td>80</td>\n",
       "      <td>10AM</td>\n",
       "      <td>Coffee House</td>\n",
       "      <td>2h</td>\n",
       "      <td>Female</td>\n",
       "      <td>21</td>\n",
       "      <td>...</td>\n",
       "      <td>0</td>\n",
       "      <td>1</td>\n",
       "      <td>0</td>\n",
       "      <td>1</td>\n",
       "      <td>0</td>\n",
       "      <td>0</td>\n",
       "      <td>1</td>\n",
       "      <td>0</td>\n",
       "      <td>0</td>\n",
       "      <td>0</td>\n",
       "    </tr>\n",
       "    <tr>\n",
       "      <th>2</th>\n",
       "      <td>1</td>\n",
       "      <td>No Urgent Place</td>\n",
       "      <td>Friend(s)</td>\n",
       "      <td>Sunny</td>\n",
       "      <td>80</td>\n",
       "      <td>10AM</td>\n",
       "      <td>Carry out &amp; Take away</td>\n",
       "      <td>2h</td>\n",
       "      <td>Female</td>\n",
       "      <td>21</td>\n",
       "      <td>...</td>\n",
       "      <td>0</td>\n",
       "      <td>1</td>\n",
       "      <td>0</td>\n",
       "      <td>1</td>\n",
       "      <td>0</td>\n",
       "      <td>0</td>\n",
       "      <td>1</td>\n",
       "      <td>0</td>\n",
       "      <td>0</td>\n",
       "      <td>0</td>\n",
       "    </tr>\n",
       "    <tr>\n",
       "      <th>3</th>\n",
       "      <td>0</td>\n",
       "      <td>No Urgent Place</td>\n",
       "      <td>Friend(s)</td>\n",
       "      <td>Sunny</td>\n",
       "      <td>80</td>\n",
       "      <td>2PM</td>\n",
       "      <td>Coffee House</td>\n",
       "      <td>2h</td>\n",
       "      <td>Female</td>\n",
       "      <td>21</td>\n",
       "      <td>...</td>\n",
       "      <td>0</td>\n",
       "      <td>1</td>\n",
       "      <td>0</td>\n",
       "      <td>1</td>\n",
       "      <td>0</td>\n",
       "      <td>0</td>\n",
       "      <td>1</td>\n",
       "      <td>0</td>\n",
       "      <td>0</td>\n",
       "      <td>0</td>\n",
       "    </tr>\n",
       "    <tr>\n",
       "      <th>4</th>\n",
       "      <td>0</td>\n",
       "      <td>No Urgent Place</td>\n",
       "      <td>Friend(s)</td>\n",
       "      <td>Sunny</td>\n",
       "      <td>80</td>\n",
       "      <td>2PM</td>\n",
       "      <td>Coffee House</td>\n",
       "      <td>1d</td>\n",
       "      <td>Female</td>\n",
       "      <td>21</td>\n",
       "      <td>...</td>\n",
       "      <td>0</td>\n",
       "      <td>1</td>\n",
       "      <td>0</td>\n",
       "      <td>1</td>\n",
       "      <td>0</td>\n",
       "      <td>0</td>\n",
       "      <td>1</td>\n",
       "      <td>0</td>\n",
       "      <td>0</td>\n",
       "      <td>0</td>\n",
       "    </tr>\n",
       "    <tr>\n",
       "      <th>...</th>\n",
       "      <td>...</td>\n",
       "      <td>...</td>\n",
       "      <td>...</td>\n",
       "      <td>...</td>\n",
       "      <td>...</td>\n",
       "      <td>...</td>\n",
       "      <td>...</td>\n",
       "      <td>...</td>\n",
       "      <td>...</td>\n",
       "      <td>...</td>\n",
       "      <td>...</td>\n",
       "      <td>...</td>\n",
       "      <td>...</td>\n",
       "      <td>...</td>\n",
       "      <td>...</td>\n",
       "      <td>...</td>\n",
       "      <td>...</td>\n",
       "      <td>...</td>\n",
       "      <td>...</td>\n",
       "      <td>...</td>\n",
       "      <td>...</td>\n",
       "    </tr>\n",
       "    <tr>\n",
       "      <th>12679</th>\n",
       "      <td>1</td>\n",
       "      <td>Home</td>\n",
       "      <td>Partner</td>\n",
       "      <td>Rainy</td>\n",
       "      <td>55</td>\n",
       "      <td>6PM</td>\n",
       "      <td>Carry out &amp; Take away</td>\n",
       "      <td>1d</td>\n",
       "      <td>Male</td>\n",
       "      <td>26</td>\n",
       "      <td>...</td>\n",
       "      <td>1</td>\n",
       "      <td>0</td>\n",
       "      <td>1</td>\n",
       "      <td>0</td>\n",
       "      <td>0</td>\n",
       "      <td>0</td>\n",
       "      <td>1</td>\n",
       "      <td>0</td>\n",
       "      <td>0</td>\n",
       "      <td>0</td>\n",
       "    </tr>\n",
       "    <tr>\n",
       "      <th>12680</th>\n",
       "      <td>1</td>\n",
       "      <td>Work</td>\n",
       "      <td>Alone</td>\n",
       "      <td>Rainy</td>\n",
       "      <td>55</td>\n",
       "      <td>7AM</td>\n",
       "      <td>Carry out &amp; Take away</td>\n",
       "      <td>1d</td>\n",
       "      <td>Male</td>\n",
       "      <td>26</td>\n",
       "      <td>...</td>\n",
       "      <td>0</td>\n",
       "      <td>1</td>\n",
       "      <td>1</td>\n",
       "      <td>0</td>\n",
       "      <td>0</td>\n",
       "      <td>0</td>\n",
       "      <td>1</td>\n",
       "      <td>0</td>\n",
       "      <td>0</td>\n",
       "      <td>0</td>\n",
       "    </tr>\n",
       "    <tr>\n",
       "      <th>12681</th>\n",
       "      <td>0</td>\n",
       "      <td>Work</td>\n",
       "      <td>Alone</td>\n",
       "      <td>Snowy</td>\n",
       "      <td>30</td>\n",
       "      <td>7AM</td>\n",
       "      <td>Coffee House</td>\n",
       "      <td>1d</td>\n",
       "      <td>Male</td>\n",
       "      <td>26</td>\n",
       "      <td>...</td>\n",
       "      <td>1</td>\n",
       "      <td>0</td>\n",
       "      <td>1</td>\n",
       "      <td>0</td>\n",
       "      <td>0</td>\n",
       "      <td>0</td>\n",
       "      <td>1</td>\n",
       "      <td>0</td>\n",
       "      <td>0</td>\n",
       "      <td>0</td>\n",
       "    </tr>\n",
       "    <tr>\n",
       "      <th>12682</th>\n",
       "      <td>0</td>\n",
       "      <td>Work</td>\n",
       "      <td>Alone</td>\n",
       "      <td>Snowy</td>\n",
       "      <td>30</td>\n",
       "      <td>7AM</td>\n",
       "      <td>Bar</td>\n",
       "      <td>1d</td>\n",
       "      <td>Male</td>\n",
       "      <td>26</td>\n",
       "      <td>...</td>\n",
       "      <td>0</td>\n",
       "      <td>1</td>\n",
       "      <td>1</td>\n",
       "      <td>0</td>\n",
       "      <td>0</td>\n",
       "      <td>0</td>\n",
       "      <td>1</td>\n",
       "      <td>0</td>\n",
       "      <td>0</td>\n",
       "      <td>0</td>\n",
       "    </tr>\n",
       "    <tr>\n",
       "      <th>12683</th>\n",
       "      <td>0</td>\n",
       "      <td>Work</td>\n",
       "      <td>Alone</td>\n",
       "      <td>Sunny</td>\n",
       "      <td>80</td>\n",
       "      <td>7AM</td>\n",
       "      <td>Restaurant(20-50)</td>\n",
       "      <td>2h</td>\n",
       "      <td>Male</td>\n",
       "      <td>26</td>\n",
       "      <td>...</td>\n",
       "      <td>1</td>\n",
       "      <td>0</td>\n",
       "      <td>1</td>\n",
       "      <td>0</td>\n",
       "      <td>0</td>\n",
       "      <td>0</td>\n",
       "      <td>1</td>\n",
       "      <td>0</td>\n",
       "      <td>0</td>\n",
       "      <td>0</td>\n",
       "    </tr>\n",
       "  </tbody>\n",
       "</table>\n",
       "<p>12684 rows × 34 columns</p>\n",
       "</div>"
      ],
      "text/plain": [
       "       Y      destination  passanger weather  temperature  time  \\\n",
       "0      1  No Urgent Place      Alone   Sunny           55   2PM   \n",
       "1      0  No Urgent Place  Friend(s)   Sunny           80  10AM   \n",
       "2      1  No Urgent Place  Friend(s)   Sunny           80  10AM   \n",
       "3      0  No Urgent Place  Friend(s)   Sunny           80   2PM   \n",
       "4      0  No Urgent Place  Friend(s)   Sunny           80   2PM   \n",
       "...   ..              ...        ...     ...          ...   ...   \n",
       "12679  1             Home    Partner   Rainy           55   6PM   \n",
       "12680  1             Work      Alone   Rainy           55   7AM   \n",
       "12681  0             Work      Alone   Snowy           30   7AM   \n",
       "12682  0             Work      Alone   Snowy           30   7AM   \n",
       "12683  0             Work      Alone   Sunny           80   7AM   \n",
       "\n",
       "                      coupon expiration  gender age  ... direction_same  \\\n",
       "0            Restaurant(<20)         1d  Female  21  ...              0   \n",
       "1               Coffee House         2h  Female  21  ...              0   \n",
       "2      Carry out & Take away         2h  Female  21  ...              0   \n",
       "3               Coffee House         2h  Female  21  ...              0   \n",
       "4               Coffee House         1d  Female  21  ...              0   \n",
       "...                      ...        ...     ...  ..  ...            ...   \n",
       "12679  Carry out & Take away         1d    Male  26  ...              1   \n",
       "12680  Carry out & Take away         1d    Male  26  ...              0   \n",
       "12681           Coffee House         1d    Male  26  ...              1   \n",
       "12682                    Bar         1d    Male  26  ...              0   \n",
       "12683      Restaurant(20-50)         2h    Male  26  ...              1   \n",
       "\n",
       "       direction_opp rich middleclass poor age0 age21 age31 age41 age51  \n",
       "0                  1    0           1    0    0     1     0     0     0  \n",
       "1                  1    0           1    0    0     1     0     0     0  \n",
       "2                  1    0           1    0    0     1     0     0     0  \n",
       "3                  1    0           1    0    0     1     0     0     0  \n",
       "4                  1    0           1    0    0     1     0     0     0  \n",
       "...              ...  ...         ...  ...  ...   ...   ...   ...   ...  \n",
       "12679              0    1           0    0    0     1     0     0     0  \n",
       "12680              1    1           0    0    0     1     0     0     0  \n",
       "12681              0    1           0    0    0     1     0     0     0  \n",
       "12682              1    1           0    0    0     1     0     0     0  \n",
       "12683              0    1           0    0    0     1     0     0     0  \n",
       "\n",
       "[12684 rows x 34 columns]"
      ]
     },
     "execution_count": 36,
     "metadata": {},
     "output_type": "execute_result"
    }
   ],
   "source": [
    "df.set_index(df.pop('Y'), inplace=True)\n",
    "df.reset_index(inplace=True)\n",
    "df # colonna Y spostata all'inizio"
   ]
  },
  {
   "cell_type": "markdown",
   "metadata": {},
   "source": [
    "# NaN values identification"
   ]
  },
  {
   "cell_type": "code",
   "execution_count": 37,
   "metadata": {},
   "outputs": [
    {
     "data": {
      "text/plain": [
       "Y                       False\n",
       "destination             False\n",
       "passanger               False\n",
       "weather                 False\n",
       "temperature             False\n",
       "time                    False\n",
       "coupon                  False\n",
       "expiration              False\n",
       "gender                  False\n",
       "age                     False\n",
       "maritalStatus           False\n",
       "has_children            False\n",
       "education               False\n",
       "occupation              False\n",
       "income                  False\n",
       "car                      True\n",
       "Bar                      True\n",
       "CoffeeHouse              True\n",
       "CarryAway                True\n",
       "RestaurantLessThan20     True\n",
       "Restaurant20To50         True\n",
       "toCoupon_GEQ5min        False\n",
       "toCoupon_GEQ15min       False\n",
       "toCoupon_GEQ25min       False\n",
       "direction_same          False\n",
       "direction_opp           False\n",
       "rich                    False\n",
       "middleclass             False\n",
       "poor                    False\n",
       "age0                    False\n",
       "age21                   False\n",
       "age31                   False\n",
       "age41                   False\n",
       "age51                   False\n",
       "dtype: bool"
      ]
     },
     "execution_count": 37,
     "metadata": {},
     "output_type": "execute_result"
    }
   ],
   "source": [
    "df.isnull().any()"
   ]
  },
  {
   "cell_type": "code",
   "execution_count": 38,
   "metadata": {},
   "outputs": [
    {
     "data": {
      "text/plain": [
       "[0,\n",
       " 0,\n",
       " 0,\n",
       " 0,\n",
       " 0,\n",
       " 0,\n",
       " 0,\n",
       " 0,\n",
       " 0,\n",
       " 0,\n",
       " 0,\n",
       " 0,\n",
       " 0,\n",
       " 0,\n",
       " 0,\n",
       " 12576,\n",
       " 107,\n",
       " 217,\n",
       " 151,\n",
       " 130,\n",
       " 189,\n",
       " 0,\n",
       " 0,\n",
       " 0,\n",
       " 0,\n",
       " 0,\n",
       " 0,\n",
       " 0,\n",
       " 0,\n",
       " 0,\n",
       " 0,\n",
       " 0,\n",
       " 0,\n",
       " 0]"
      ]
     },
     "execution_count": 38,
     "metadata": {},
     "output_type": "execute_result"
    }
   ],
   "source": [
    "hist_list = []\n",
    "for el in range(len(df.isnull().any())):\n",
    "        hist_list.append(sum(df.iloc[:,el].isna()))\n",
    "hist_list"
   ]
  },
  {
   "cell_type": "code",
   "execution_count": 39,
   "metadata": {},
   "outputs": [
    {
     "data": {
      "text/plain": [
       "['Y',\n",
       " 'destination',\n",
       " 'passanger',\n",
       " 'weather',\n",
       " 'temperature',\n",
       " 'time',\n",
       " 'coupon',\n",
       " 'expiration',\n",
       " 'gender',\n",
       " 'age',\n",
       " 'maritalStatus',\n",
       " 'has_children',\n",
       " 'education',\n",
       " 'occupation',\n",
       " 'income',\n",
       " 'car',\n",
       " 'Bar',\n",
       " 'CoffeeHouse',\n",
       " 'CarryAway',\n",
       " 'RestaurantLessThan20',\n",
       " 'Restaurant20To50',\n",
       " 'toCoupon_GEQ5min',\n",
       " 'toCoupon_GEQ15min',\n",
       " 'toCoupon_GEQ25min',\n",
       " 'direction_same',\n",
       " 'direction_opp',\n",
       " 'rich',\n",
       " 'middleclass',\n",
       " 'poor',\n",
       " 'age0',\n",
       " 'age21',\n",
       " 'age31',\n",
       " 'age41',\n",
       " 'age51']"
      ]
     },
     "execution_count": 39,
     "metadata": {},
     "output_type": "execute_result"
    }
   ],
   "source": [
    "col_names = list(df.columns)\n",
    "col_names"
   ]
  },
  {
   "cell_type": "code",
   "execution_count": 40,
   "metadata": {},
   "outputs": [
    {
     "data": {
      "text/plain": [
       "([0,\n",
       "  1,\n",
       "  2,\n",
       "  3,\n",
       "  4,\n",
       "  5,\n",
       "  6,\n",
       "  7,\n",
       "  8,\n",
       "  9,\n",
       "  10,\n",
       "  11,\n",
       "  12,\n",
       "  13,\n",
       "  14,\n",
       "  15,\n",
       "  16,\n",
       "  17,\n",
       "  18,\n",
       "  19,\n",
       "  20,\n",
       "  21,\n",
       "  22,\n",
       "  23,\n",
       "  24,\n",
       "  25,\n",
       "  26,\n",
       "  27,\n",
       "  28,\n",
       "  29,\n",
       "  30,\n",
       "  31,\n",
       "  32,\n",
       "  33],\n",
       " [Text(0, 0, ''),\n",
       "  Text(0, 0, ''),\n",
       "  Text(0, 0, ''),\n",
       "  Text(0, 0, ''),\n",
       "  Text(0, 0, ''),\n",
       "  Text(0, 0, ''),\n",
       "  Text(0, 0, ''),\n",
       "  Text(0, 0, ''),\n",
       "  Text(0, 0, ''),\n",
       "  Text(0, 0, ''),\n",
       "  Text(0, 0, ''),\n",
       "  Text(0, 0, ''),\n",
       "  Text(0, 0, ''),\n",
       "  Text(0, 0, ''),\n",
       "  Text(0, 0, ''),\n",
       "  Text(0, 0, ''),\n",
       "  Text(0, 0, ''),\n",
       "  Text(0, 0, ''),\n",
       "  Text(0, 0, ''),\n",
       "  Text(0, 0, ''),\n",
       "  Text(0, 0, ''),\n",
       "  Text(0, 0, ''),\n",
       "  Text(0, 0, ''),\n",
       "  Text(0, 0, ''),\n",
       "  Text(0, 0, ''),\n",
       "  Text(0, 0, ''),\n",
       "  Text(0, 0, ''),\n",
       "  Text(0, 0, ''),\n",
       "  Text(0, 0, ''),\n",
       "  Text(0, 0, ''),\n",
       "  Text(0, 0, ''),\n",
       "  Text(0, 0, ''),\n",
       "  Text(0, 0, ''),\n",
       "  Text(0, 0, '')])"
      ]
     },
     "execution_count": 40,
     "metadata": {},
     "output_type": "execute_result"
    },
    {
     "data": {
      "image/png": "[encoded data removed]",
      "text/plain": [
       "<Figure size 720x360 with 1 Axes>"
      ]
     },
     "metadata": {
      "needs_background": "light"
     },
     "output_type": "display_data"
    }
   ],
   "source": [
    "fig = plt.figure(figsize = (10, 5))\n",
    "plt.bar(col_names, hist_list, color ='#7500c0',\n",
    "        width = 0.5)\n",
    "plt.xticks(rotation=90)"
   ]
  },
  {
   "cell_type": "code",
   "execution_count": 41,
   "metadata": {},
   "outputs": [
    {
     "data": {
      "text/plain": [
       "{'car': 12576,\n",
       " 'Bar': 107,\n",
       " 'CoffeeHouse': 217,\n",
       " 'CarryAway': 151,\n",
       " 'RestaurantLessThan20': 130,\n",
       " 'Restaurant20To50': 189}"
      ]
     },
     "execution_count": 41,
     "metadata": {},
     "output_type": "execute_result"
    }
   ],
   "source": [
    "null_values = {}\n",
    "for el in range(len(df.isnull().any())):\n",
    "    if df.isnull().any()[el] == True:\n",
    "        null_values[df.columns[el]] = sum(df.iloc[:,el].isna())\n",
    "null_values #Number of NaN values per columns"
   ]
  },
  {
   "cell_type": "code",
   "execution_count": 42,
   "metadata": {},
   "outputs": [
    {
     "data": {
      "text/plain": [
       "{'car': 99.14853358561967,\n",
       " 'Bar': 0.8435824660990224,\n",
       " 'CoffeeHouse': 1.7108167770419427,\n",
       " 'CarryAway': 1.1904761904761905,\n",
       " 'RestaurantLessThan20': 1.0249132765689057,\n",
       " 'Restaurant20To50': 1.490066225165563}"
      ]
     },
     "execution_count": 42,
     "metadata": {},
     "output_type": "execute_result"
    }
   ],
   "source": [
    "null_values_perc = {}\n",
    "for el in range(len(df.isnull().any())):\n",
    "    if df.isnull().any()[el] == True:\n",
    "        null_values_perc[df.columns[el]] = (sum(df.iloc[:,el].isna())/len(df)*100)\n",
    "null_values_perc # Percentage of instances with null values"
   ]
  },
  {
   "cell_type": "markdown",
   "metadata": {},
   "source": [
    "\"Car\" variable contains NaN for almost all the instances, while all the other variables have a percentage of NaN values within 2%."
   ]
  },
  {
   "cell_type": "code",
   "execution_count": 43,
   "metadata": {},
   "outputs": [
    {
     "name": "stdout",
     "output_type": "stream",
     "text": [
      "object\n",
      "object\n",
      "object\n",
      "object\n",
      "object\n",
      "object\n"
     ]
    }
   ],
   "source": [
    "for el in null_values.keys():\n",
    "    print(df.dtypes[el]) # all the variables with NaN are categorical"
   ]
  },
  {
   "cell_type": "markdown",
   "metadata": {},
   "source": [
    "How to deal with Nan values? \n",
    "Ideas:\n",
    "   1. using the mean for numerical features and the mode for categorical features (methods which dosen't prone for overfitting)\n",
    "   2. back-fill and forward-fill (used for Time-series data)\n",
    "   3. identificating NaN values as new categories (if the variables are categorical)\n",
    "   4. deleting columns with too many NaNs (look at the \"car\" column. If the info we are deleting is not important that's a good solution)"
   ]
  },
  {
   "cell_type": "code",
   "execution_count": 44,
   "metadata": {},
   "outputs": [
    {
     "data": {
      "text/plain": [
       "do not drive                                22\n",
       "Mazda5                                      22\n",
       "Scooter and motorcycle                      22\n",
       "Car that is too old to install Onstar :D    21\n",
       "crossover                                   21\n",
       "Name: car, dtype: int64"
      ]
     },
     "execution_count": 44,
     "metadata": {},
     "output_type": "execute_result"
    }
   ],
   "source": [
    "df[\"car\"].value_counts() # the few present data are evenly distributed with regard to the type"
   ]
  },
  {
   "cell_type": "markdown",
   "metadata": {},
   "source": [
    "In the following subsections there are two different implemented choices:\n",
    "   * \"car NaN\" values identified with a new category and the other NaN with the mode\n",
    "   * all the NaN are replaced with new categories (these new categories differ based on the feature they come from)\n",
    "   * drop the \"car column and then proxy the other columns with the mode\n",
    "   * delete \"car\" column and rows with NaN"
   ]
  },
  {
   "cell_type": "markdown",
   "metadata": {},
   "source": [
    "# Deleting unesuful column "
   ]
  },
  {
   "cell_type": "code",
   "execution_count": 45,
   "metadata": {},
   "outputs": [
    {
     "data": {
      "text/plain": [
       "Y                        2\n",
       "destination              3\n",
       "passanger                4\n",
       "weather                  3\n",
       "temperature              3\n",
       "time                     5\n",
       "coupon                   5\n",
       "expiration               2\n",
       "gender                   2\n",
       "age                      8\n",
       "maritalStatus            5\n",
       "has_children             2\n",
       "education                6\n",
       "occupation              25\n",
       "income                   9\n",
       "car                      5\n",
       "Bar                      5\n",
       "CoffeeHouse              5\n",
       "CarryAway                5\n",
       "RestaurantLessThan20     5\n",
       "Restaurant20To50         5\n",
       "toCoupon_GEQ5min         1\n",
       "toCoupon_GEQ15min        2\n",
       "toCoupon_GEQ25min        2\n",
       "direction_same           2\n",
       "direction_opp            2\n",
       "rich                     2\n",
       "middleclass              2\n",
       "poor                     2\n",
       "age0                     2\n",
       "age21                    2\n",
       "age31                    2\n",
       "age41                    2\n",
       "age51                    2\n",
       "dtype: int64"
      ]
     },
     "execution_count": 45,
     "metadata": {},
     "output_type": "execute_result"
    }
   ],
   "source": [
    "df.nunique()"
   ]
  },
  {
   "cell_type": "code",
   "execution_count": 46,
   "metadata": {},
   "outputs": [],
   "source": [
    "del df['toCoupon_GEQ5min']"
   ]
  },
  {
   "cell_type": "code",
   "execution_count": 47,
   "metadata": {},
   "outputs": [],
   "source": [
    "del df[\"age0\"]\n",
    "del df[\"age21\"]\n",
    "del df[\"age31\"]\n",
    "del df[\"age41\"]\n",
    "del df[\"age51\"]"
   ]
  },
  {
   "cell_type": "markdown",
   "metadata": {},
   "source": [
    "## FIRST NaN REPLACEMENT"
   ]
  },
  {
   "cell_type": "code",
   "execution_count": 48,
   "metadata": {},
   "outputs": [
    {
     "data": {
      "text/plain": [
       "no_info_car                                 12576\n",
       "do not drive                                   22\n",
       "Mazda5                                         22\n",
       "Scooter and motorcycle                         22\n",
       "Car that is too old to install Onstar :D       21\n",
       "crossover                                      21\n",
       "Name: car, dtype: int64"
      ]
     },
     "execution_count": 48,
     "metadata": {},
     "output_type": "execute_result"
    }
   ],
   "source": [
    "new_df1 = df.copy()\n",
    "new_df1['car'] = new_df1['car'].fillna('no_info_car')\n",
    "new_df1['car'].value_counts()"
   ]
  },
  {
   "cell_type": "code",
   "execution_count": 49,
   "metadata": {},
   "outputs": [],
   "source": [
    "for el in list(null_values.keys())[1:]:\n",
    "    new_df1[el] = new_df1[el].fillna(new_df1[el].mode()[0])"
   ]
  },
  {
   "cell_type": "code",
   "execution_count": 50,
   "metadata": {},
   "outputs": [
    {
     "data": {
      "text/plain": [
       "Y                       False\n",
       "destination             False\n",
       "passanger               False\n",
       "weather                 False\n",
       "temperature             False\n",
       "time                    False\n",
       "coupon                  False\n",
       "expiration              False\n",
       "gender                  False\n",
       "age                     False\n",
       "maritalStatus           False\n",
       "has_children            False\n",
       "education               False\n",
       "occupation              False\n",
       "income                  False\n",
       "car                     False\n",
       "Bar                     False\n",
       "CoffeeHouse             False\n",
       "CarryAway               False\n",
       "RestaurantLessThan20    False\n",
       "Restaurant20To50        False\n",
       "toCoupon_GEQ15min       False\n",
       "toCoupon_GEQ25min       False\n",
       "direction_same          False\n",
       "direction_opp           False\n",
       "rich                    False\n",
       "middleclass             False\n",
       "poor                    False\n",
       "dtype: bool"
      ]
     },
     "execution_count": 50,
     "metadata": {},
     "output_type": "execute_result"
    }
   ],
   "source": [
    "new_df1.isnull().any() #check no NaNs"
   ]
  },
  {
   "cell_type": "markdown",
   "metadata": {},
   "source": [
    "## SECOND NaN REPLACEMENT"
   ]
  },
  {
   "cell_type": "code",
   "execution_count": 51,
   "metadata": {},
   "outputs": [],
   "source": [
    "new_df2 = df.copy()\n",
    "new_cat = ['no_info_car','no_info_bar','no_info_coffeehouse','no_info_carryaway','no_info_rest<20','no_info_rest20to50']\n",
    "for el in range(len(new_cat)):\n",
    "    new_df2[list(null_values.keys())[el]] = new_df2[list(null_values.keys())[el]].fillna(new_cat[el])\n"
   ]
  },
  {
   "cell_type": "code",
   "execution_count": 52,
   "metadata": {},
   "outputs": [
    {
     "data": {
      "text/plain": [
       "never          5197\n",
       "less1          3482\n",
       "1~3            2473\n",
       "4~8            1076\n",
       "gt8             349\n",
       "no_info_bar     107\n",
       "Name: Bar, dtype: int64"
      ]
     },
     "execution_count": 52,
     "metadata": {},
     "output_type": "execute_result"
    }
   ],
   "source": [
    "new_df2['Bar'].value_counts() #as example, check the Bar column"
   ]
  },
  {
   "cell_type": "code",
   "execution_count": 53,
   "metadata": {},
   "outputs": [
    {
     "data": {
      "text/plain": [
       "Y                       False\n",
       "destination             False\n",
       "passanger               False\n",
       "weather                 False\n",
       "temperature             False\n",
       "time                    False\n",
       "coupon                  False\n",
       "expiration              False\n",
       "gender                  False\n",
       "age                     False\n",
       "maritalStatus           False\n",
       "has_children            False\n",
       "education               False\n",
       "occupation              False\n",
       "income                  False\n",
       "car                     False\n",
       "Bar                     False\n",
       "CoffeeHouse             False\n",
       "CarryAway               False\n",
       "RestaurantLessThan20    False\n",
       "Restaurant20To50        False\n",
       "toCoupon_GEQ15min       False\n",
       "toCoupon_GEQ25min       False\n",
       "direction_same          False\n",
       "direction_opp           False\n",
       "rich                    False\n",
       "middleclass             False\n",
       "poor                    False\n",
       "dtype: bool"
      ]
     },
     "execution_count": 53,
     "metadata": {},
     "output_type": "execute_result"
    }
   ],
   "source": [
    "new_df2.isnull().any() #check no NaNs"
   ]
  },
  {
   "cell_type": "markdown",
   "metadata": {},
   "source": [
    "## THIRD NaN REPLACEMENT"
   ]
  },
  {
   "cell_type": "code",
   "execution_count": 54,
   "metadata": {},
   "outputs": [],
   "source": [
    "new_df3 = df.copy()\n",
    "del new_df3['car']"
   ]
  },
  {
   "cell_type": "code",
   "execution_count": 55,
   "metadata": {},
   "outputs": [
    {
     "data": {
      "text/plain": [
       "never    5197\n",
       "less1    3482\n",
       "1~3      2473\n",
       "4~8      1076\n",
       "gt8       349\n",
       "Name: Bar, dtype: int64"
      ]
     },
     "execution_count": 55,
     "metadata": {},
     "output_type": "execute_result"
    }
   ],
   "source": [
    "new_df3['Bar'].value_counts()"
   ]
  },
  {
   "cell_type": "code",
   "execution_count": 56,
   "metadata": {},
   "outputs": [],
   "source": [
    "for el in list(null_values.keys())[1:]:\n",
    "    new_df3[el] = new_df3[el].fillna(new_df3[el].mode()[0])"
   ]
  },
  {
   "cell_type": "code",
   "execution_count": 57,
   "metadata": {},
   "outputs": [
    {
     "data": {
      "text/plain": [
       "Y                       False\n",
       "destination             False\n",
       "passanger               False\n",
       "weather                 False\n",
       "temperature             False\n",
       "time                    False\n",
       "coupon                  False\n",
       "expiration              False\n",
       "gender                  False\n",
       "age                     False\n",
       "maritalStatus           False\n",
       "has_children            False\n",
       "education               False\n",
       "occupation              False\n",
       "income                  False\n",
       "Bar                     False\n",
       "CoffeeHouse             False\n",
       "CarryAway               False\n",
       "RestaurantLessThan20    False\n",
       "Restaurant20To50        False\n",
       "toCoupon_GEQ15min       False\n",
       "toCoupon_GEQ25min       False\n",
       "direction_same          False\n",
       "direction_opp           False\n",
       "rich                    False\n",
       "middleclass             False\n",
       "poor                    False\n",
       "dtype: bool"
      ]
     },
     "execution_count": 57,
     "metadata": {},
     "output_type": "execute_result"
    }
   ],
   "source": [
    "new_df3.isnull().any() #check no NaNs"
   ]
  },
  {
   "cell_type": "markdown",
   "metadata": {},
   "source": [
    "## FOURTH NaN REPLACEMENT"
   ]
  },
  {
   "cell_type": "code",
   "execution_count": 58,
   "metadata": {},
   "outputs": [
    {
     "data": {
      "text/html": [
       "<div>\n",
       "<style scoped>\n",
       "    .dataframe tbody tr th:only-of-type {\n",
       "        vertical-align: middle;\n",
       "    }\n",
       "\n",
       "    .dataframe tbody tr th {\n",
       "        vertical-align: top;\n",
       "    }\n",
       "\n",
       "    .dataframe thead th {\n",
       "        text-align: right;\n",
       "    }\n",
       "</style>\n",
       "<table border=\"1\" class=\"dataframe\">\n",
       "  <thead>\n",
       "    <tr style=\"text-align: right;\">\n",
       "      <th></th>\n",
       "      <th>Y</th>\n",
       "      <th>destination</th>\n",
       "      <th>passanger</th>\n",
       "      <th>weather</th>\n",
       "      <th>temperature</th>\n",
       "      <th>time</th>\n",
       "      <th>coupon</th>\n",
       "      <th>expiration</th>\n",
       "      <th>gender</th>\n",
       "      <th>age</th>\n",
       "      <th>...</th>\n",
       "      <th>CarryAway</th>\n",
       "      <th>RestaurantLessThan20</th>\n",
       "      <th>Restaurant20To50</th>\n",
       "      <th>toCoupon_GEQ15min</th>\n",
       "      <th>toCoupon_GEQ25min</th>\n",
       "      <th>direction_same</th>\n",
       "      <th>direction_opp</th>\n",
       "      <th>rich</th>\n",
       "      <th>middleclass</th>\n",
       "      <th>poor</th>\n",
       "    </tr>\n",
       "  </thead>\n",
       "  <tbody>\n",
       "    <tr>\n",
       "      <th>22</th>\n",
       "      <td>1</td>\n",
       "      <td>No Urgent Place</td>\n",
       "      <td>Alone</td>\n",
       "      <td>Sunny</td>\n",
       "      <td>55</td>\n",
       "      <td>2PM</td>\n",
       "      <td>Restaurant(&lt;20)</td>\n",
       "      <td>1d</td>\n",
       "      <td>Male</td>\n",
       "      <td>21</td>\n",
       "      <td>...</td>\n",
       "      <td>4~8</td>\n",
       "      <td>4~8</td>\n",
       "      <td>less1</td>\n",
       "      <td>0</td>\n",
       "      <td>0</td>\n",
       "      <td>0</td>\n",
       "      <td>1</td>\n",
       "      <td>1</td>\n",
       "      <td>0</td>\n",
       "      <td>0</td>\n",
       "    </tr>\n",
       "    <tr>\n",
       "      <th>23</th>\n",
       "      <td>0</td>\n",
       "      <td>No Urgent Place</td>\n",
       "      <td>Friend(s)</td>\n",
       "      <td>Sunny</td>\n",
       "      <td>80</td>\n",
       "      <td>10AM</td>\n",
       "      <td>Coffee House</td>\n",
       "      <td>2h</td>\n",
       "      <td>Male</td>\n",
       "      <td>21</td>\n",
       "      <td>...</td>\n",
       "      <td>4~8</td>\n",
       "      <td>4~8</td>\n",
       "      <td>less1</td>\n",
       "      <td>0</td>\n",
       "      <td>0</td>\n",
       "      <td>0</td>\n",
       "      <td>1</td>\n",
       "      <td>1</td>\n",
       "      <td>0</td>\n",
       "      <td>0</td>\n",
       "    </tr>\n",
       "    <tr>\n",
       "      <th>24</th>\n",
       "      <td>1</td>\n",
       "      <td>No Urgent Place</td>\n",
       "      <td>Friend(s)</td>\n",
       "      <td>Sunny</td>\n",
       "      <td>80</td>\n",
       "      <td>10AM</td>\n",
       "      <td>Bar</td>\n",
       "      <td>1d</td>\n",
       "      <td>Male</td>\n",
       "      <td>21</td>\n",
       "      <td>...</td>\n",
       "      <td>4~8</td>\n",
       "      <td>4~8</td>\n",
       "      <td>less1</td>\n",
       "      <td>0</td>\n",
       "      <td>0</td>\n",
       "      <td>0</td>\n",
       "      <td>1</td>\n",
       "      <td>1</td>\n",
       "      <td>0</td>\n",
       "      <td>0</td>\n",
       "    </tr>\n",
       "    <tr>\n",
       "      <th>25</th>\n",
       "      <td>0</td>\n",
       "      <td>No Urgent Place</td>\n",
       "      <td>Friend(s)</td>\n",
       "      <td>Sunny</td>\n",
       "      <td>80</td>\n",
       "      <td>10AM</td>\n",
       "      <td>Carry out &amp; Take away</td>\n",
       "      <td>2h</td>\n",
       "      <td>Male</td>\n",
       "      <td>21</td>\n",
       "      <td>...</td>\n",
       "      <td>4~8</td>\n",
       "      <td>4~8</td>\n",
       "      <td>less1</td>\n",
       "      <td>1</td>\n",
       "      <td>0</td>\n",
       "      <td>0</td>\n",
       "      <td>1</td>\n",
       "      <td>1</td>\n",
       "      <td>0</td>\n",
       "      <td>0</td>\n",
       "    </tr>\n",
       "    <tr>\n",
       "      <th>26</th>\n",
       "      <td>0</td>\n",
       "      <td>No Urgent Place</td>\n",
       "      <td>Friend(s)</td>\n",
       "      <td>Sunny</td>\n",
       "      <td>80</td>\n",
       "      <td>2PM</td>\n",
       "      <td>Coffee House</td>\n",
       "      <td>1d</td>\n",
       "      <td>Male</td>\n",
       "      <td>21</td>\n",
       "      <td>...</td>\n",
       "      <td>4~8</td>\n",
       "      <td>4~8</td>\n",
       "      <td>less1</td>\n",
       "      <td>0</td>\n",
       "      <td>0</td>\n",
       "      <td>0</td>\n",
       "      <td>1</td>\n",
       "      <td>1</td>\n",
       "      <td>0</td>\n",
       "      <td>0</td>\n",
       "    </tr>\n",
       "    <tr>\n",
       "      <th>...</th>\n",
       "      <td>...</td>\n",
       "      <td>...</td>\n",
       "      <td>...</td>\n",
       "      <td>...</td>\n",
       "      <td>...</td>\n",
       "      <td>...</td>\n",
       "      <td>...</td>\n",
       "      <td>...</td>\n",
       "      <td>...</td>\n",
       "      <td>...</td>\n",
       "      <td>...</td>\n",
       "      <td>...</td>\n",
       "      <td>...</td>\n",
       "      <td>...</td>\n",
       "      <td>...</td>\n",
       "      <td>...</td>\n",
       "      <td>...</td>\n",
       "      <td>...</td>\n",
       "      <td>...</td>\n",
       "      <td>...</td>\n",
       "      <td>...</td>\n",
       "    </tr>\n",
       "    <tr>\n",
       "      <th>12679</th>\n",
       "      <td>1</td>\n",
       "      <td>Home</td>\n",
       "      <td>Partner</td>\n",
       "      <td>Rainy</td>\n",
       "      <td>55</td>\n",
       "      <td>6PM</td>\n",
       "      <td>Carry out &amp; Take away</td>\n",
       "      <td>1d</td>\n",
       "      <td>Male</td>\n",
       "      <td>26</td>\n",
       "      <td>...</td>\n",
       "      <td>1~3</td>\n",
       "      <td>4~8</td>\n",
       "      <td>1~3</td>\n",
       "      <td>0</td>\n",
       "      <td>0</td>\n",
       "      <td>1</td>\n",
       "      <td>0</td>\n",
       "      <td>1</td>\n",
       "      <td>0</td>\n",
       "      <td>0</td>\n",
       "    </tr>\n",
       "    <tr>\n",
       "      <th>12680</th>\n",
       "      <td>1</td>\n",
       "      <td>Work</td>\n",
       "      <td>Alone</td>\n",
       "      <td>Rainy</td>\n",
       "      <td>55</td>\n",
       "      <td>7AM</td>\n",
       "      <td>Carry out &amp; Take away</td>\n",
       "      <td>1d</td>\n",
       "      <td>Male</td>\n",
       "      <td>26</td>\n",
       "      <td>...</td>\n",
       "      <td>1~3</td>\n",
       "      <td>4~8</td>\n",
       "      <td>1~3</td>\n",
       "      <td>0</td>\n",
       "      <td>0</td>\n",
       "      <td>0</td>\n",
       "      <td>1</td>\n",
       "      <td>1</td>\n",
       "      <td>0</td>\n",
       "      <td>0</td>\n",
       "    </tr>\n",
       "    <tr>\n",
       "      <th>12681</th>\n",
       "      <td>0</td>\n",
       "      <td>Work</td>\n",
       "      <td>Alone</td>\n",
       "      <td>Snowy</td>\n",
       "      <td>30</td>\n",
       "      <td>7AM</td>\n",
       "      <td>Coffee House</td>\n",
       "      <td>1d</td>\n",
       "      <td>Male</td>\n",
       "      <td>26</td>\n",
       "      <td>...</td>\n",
       "      <td>1~3</td>\n",
       "      <td>4~8</td>\n",
       "      <td>1~3</td>\n",
       "      <td>0</td>\n",
       "      <td>0</td>\n",
       "      <td>1</td>\n",
       "      <td>0</td>\n",
       "      <td>1</td>\n",
       "      <td>0</td>\n",
       "      <td>0</td>\n",
       "    </tr>\n",
       "    <tr>\n",
       "      <th>12682</th>\n",
       "      <td>0</td>\n",
       "      <td>Work</td>\n",
       "      <td>Alone</td>\n",
       "      <td>Snowy</td>\n",
       "      <td>30</td>\n",
       "      <td>7AM</td>\n",
       "      <td>Bar</td>\n",
       "      <td>1d</td>\n",
       "      <td>Male</td>\n",
       "      <td>26</td>\n",
       "      <td>...</td>\n",
       "      <td>1~3</td>\n",
       "      <td>4~8</td>\n",
       "      <td>1~3</td>\n",
       "      <td>1</td>\n",
       "      <td>1</td>\n",
       "      <td>0</td>\n",
       "      <td>1</td>\n",
       "      <td>1</td>\n",
       "      <td>0</td>\n",
       "      <td>0</td>\n",
       "    </tr>\n",
       "    <tr>\n",
       "      <th>12683</th>\n",
       "      <td>0</td>\n",
       "      <td>Work</td>\n",
       "      <td>Alone</td>\n",
       "      <td>Sunny</td>\n",
       "      <td>80</td>\n",
       "      <td>7AM</td>\n",
       "      <td>Restaurant(20-50)</td>\n",
       "      <td>2h</td>\n",
       "      <td>Male</td>\n",
       "      <td>26</td>\n",
       "      <td>...</td>\n",
       "      <td>1~3</td>\n",
       "      <td>4~8</td>\n",
       "      <td>1~3</td>\n",
       "      <td>0</td>\n",
       "      <td>0</td>\n",
       "      <td>1</td>\n",
       "      <td>0</td>\n",
       "      <td>1</td>\n",
       "      <td>0</td>\n",
       "      <td>0</td>\n",
       "    </tr>\n",
       "  </tbody>\n",
       "</table>\n",
       "<p>12079 rows × 27 columns</p>\n",
       "</div>"
      ],
      "text/plain": [
       "       Y      destination  passanger weather  temperature  time  \\\n",
       "22     1  No Urgent Place      Alone   Sunny           55   2PM   \n",
       "23     0  No Urgent Place  Friend(s)   Sunny           80  10AM   \n",
       "24     1  No Urgent Place  Friend(s)   Sunny           80  10AM   \n",
       "25     0  No Urgent Place  Friend(s)   Sunny           80  10AM   \n",
       "26     0  No Urgent Place  Friend(s)   Sunny           80   2PM   \n",
       "...   ..              ...        ...     ...          ...   ...   \n",
       "12679  1             Home    Partner   Rainy           55   6PM   \n",
       "12680  1             Work      Alone   Rainy           55   7AM   \n",
       "12681  0             Work      Alone   Snowy           30   7AM   \n",
       "12682  0             Work      Alone   Snowy           30   7AM   \n",
       "12683  0             Work      Alone   Sunny           80   7AM   \n",
       "\n",
       "                      coupon expiration gender age  ... CarryAway  \\\n",
       "22           Restaurant(<20)         1d   Male  21  ...       4~8   \n",
       "23              Coffee House         2h   Male  21  ...       4~8   \n",
       "24                       Bar         1d   Male  21  ...       4~8   \n",
       "25     Carry out & Take away         2h   Male  21  ...       4~8   \n",
       "26              Coffee House         1d   Male  21  ...       4~8   \n",
       "...                      ...        ...    ...  ..  ...       ...   \n",
       "12679  Carry out & Take away         1d   Male  26  ...       1~3   \n",
       "12680  Carry out & Take away         1d   Male  26  ...       1~3   \n",
       "12681           Coffee House         1d   Male  26  ...       1~3   \n",
       "12682                    Bar         1d   Male  26  ...       1~3   \n",
       "12683      Restaurant(20-50)         2h   Male  26  ...       1~3   \n",
       "\n",
       "       RestaurantLessThan20 Restaurant20To50 toCoupon_GEQ15min  \\\n",
       "22                      4~8            less1                 0   \n",
       "23                      4~8            less1                 0   \n",
       "24                      4~8            less1                 0   \n",
       "25                      4~8            less1                 1   \n",
       "26                      4~8            less1                 0   \n",
       "...                     ...              ...               ...   \n",
       "12679                   4~8              1~3                 0   \n",
       "12680                   4~8              1~3                 0   \n",
       "12681                   4~8              1~3                 0   \n",
       "12682                   4~8              1~3                 1   \n",
       "12683                   4~8              1~3                 0   \n",
       "\n",
       "      toCoupon_GEQ25min direction_same direction_opp rich middleclass poor  \n",
       "22                    0              0             1    1           0    0  \n",
       "23                    0              0             1    1           0    0  \n",
       "24                    0              0             1    1           0    0  \n",
       "25                    0              0             1    1           0    0  \n",
       "26                    0              0             1    1           0    0  \n",
       "...                 ...            ...           ...  ...         ...  ...  \n",
       "12679                 0              1             0    1           0    0  \n",
       "12680                 0              0             1    1           0    0  \n",
       "12681                 0              1             0    1           0    0  \n",
       "12682                 1              0             1    1           0    0  \n",
       "12683                 0              1             0    1           0    0  \n",
       "\n",
       "[12079 rows x 27 columns]"
      ]
     },
     "execution_count": 58,
     "metadata": {},
     "output_type": "execute_result"
    }
   ],
   "source": [
    "new_df4 = df.copy()\n",
    "del new_df4['car']\n",
    "new_df4 = new_df4.dropna(axis = \"rows\")\n",
    "new_df4"
   ]
  },
  {
   "cell_type": "markdown",
   "metadata": {},
   "source": [
    "# FEATURE ENGINEERING"
   ]
  },
  {
   "cell_type": "markdown",
   "metadata": {},
   "source": [
    "First it is needed the split into train and test. This because the clustering and the tests cannot rely on test data we will use to evaluate the model."
   ]
  },
  {
   "cell_type": "code",
   "execution_count": 59,
   "metadata": {},
   "outputs": [],
   "source": [
    "cleaned = new_df1\n",
    "X, y = cleaned.iloc[:,1:].values, cleaned.iloc[:,0].values\n",
    "X_train, X_test, y_train, y_test = train_test_split(X, y, test_size=0.2, random_state=76, stratify = y) # 80% training and 20% test"
   ]
  },
  {
   "cell_type": "markdown",
   "metadata": {},
   "source": [
    "## KMODES, CHI-SQUARE TESTS, RELEVANCE OF CATEGORIES"
   ]
  },
  {
   "cell_type": "code",
   "execution_count": 60,
   "metadata": {},
   "outputs": [],
   "source": [
    "new_df1_train = pd.DataFrame(X_train, columns = cleaned.columns[1:])\n",
    "new_df1_test = pd.DataFrame(X_test, columns = cleaned.columns[1:])"
   ]
  },
  {
   "cell_type": "markdown",
   "metadata": {},
   "source": [
    "### RELEVANCE OF CATEGORIES"
   ]
  },
  {
   "cell_type": "markdown",
   "metadata": {},
   "source": [
    "Here we want to identify those categories which are not properly represented in our dataset, according to a given threshold, fixing this threshold equal to 1% of the length of the dataset. Values of these categories can be then identified as null values or split equally to the remaining categories. In this way, we can decrease the dimensionality of the dataset."
   ]
  },
  {
   "cell_type": "code",
   "execution_count": 61,
   "metadata": {},
   "outputs": [
    {
     "data": {
      "text/plain": [
       "101"
      ]
     },
     "execution_count": 61,
     "metadata": {},
     "output_type": "execute_result"
    }
   ],
   "source": [
    "threshold = len(X_train)/100\n",
    "int(threshold)"
   ]
  },
  {
   "cell_type": "code",
   "execution_count": 62,
   "metadata": {},
   "outputs": [
    {
     "data": {
      "text/plain": [
       "[['education', 'Some High School', 71],\n",
       " ['occupation', 'Production Occupations', 96],\n",
       " ['occupation', 'Building & Grounds Cleaning & Maintenance', 35],\n",
       " ['occupation', 'Farming Fishing & Forestry', 33],\n",
       " ['car', 'do not drive', 18],\n",
       " ['car', 'Mazda5', 18],\n",
       " ['car', 'Scooter and motorcycle', 15],\n",
       " ['car', 'crossover', 15],\n",
       " ['car', 'Car that is too old to install Onstar :D', 14]]"
      ]
     },
     "execution_count": 62,
     "metadata": {},
     "output_type": "execute_result"
    }
   ],
   "source": [
    "no_representative = []\n",
    "for el in new_df1_train.columns:\n",
    "    for i in range(len(new_df1_train[el].value_counts())):\n",
    "        if list(new_df1_train[el].value_counts())[i] < threshold:\n",
    "            no_representative.append([el,new_df1_train[el].value_counts().index[i],list(new_df1_train[el].value_counts())[i]])\n",
    "no_representative        "
   ]
  },
  {
   "cell_type": "markdown",
   "metadata": {},
   "source": [
    "\"Car\" categories are under-represented. We may delete the column, but the Chi-Square test (coming below) suggests the relevance of this category on the output. What to do so? "
   ]
  },
  {
   "cell_type": "code",
   "execution_count": 63,
   "metadata": {},
   "outputs": [],
   "source": [
    "# Here we try to delete the \"car\" column.\n",
    "del new_df1_train[\"car\"]\n",
    "del new_df1_test[\"car\"]"
   ]
  },
  {
   "cell_type": "code",
   "execution_count": 64,
   "metadata": {},
   "outputs": [
    {
     "data": {
      "text/plain": [
       "[['education', 'Some High School', 71],\n",
       " ['occupation', 'Production Occupations', 96],\n",
       " ['occupation', 'Building & Grounds Cleaning & Maintenance', 35],\n",
       " ['occupation', 'Farming Fishing & Forestry', 33]]"
      ]
     },
     "execution_count": 64,
     "metadata": {},
     "output_type": "execute_result"
    }
   ],
   "source": [
    "no_representative = []\n",
    "for el in new_df1_train.columns:\n",
    "    for i in range(len(new_df1_train[el].value_counts())):\n",
    "        if list(new_df1_train[el].value_counts())[i] < threshold:\n",
    "            no_representative.append([el,new_df1_train[el].value_counts().index[i],list(new_df1_train[el].value_counts())[i]])\n",
    "no_representative   "
   ]
  },
  {
   "cell_type": "markdown",
   "metadata": {},
   "source": [
    "Next, we decide to set the \"occupation\" categories reported in \"no_representative\" to a new \"no_info_occupation\" column."
   ]
  },
  {
   "cell_type": "code",
   "execution_count": 65,
   "metadata": {},
   "outputs": [
    {
     "data": {
      "text/plain": [
       "['Production Occupations',\n",
       " 'Building & Grounds Cleaning & Maintenance',\n",
       " 'Farming Fishing & Forestry']"
      ]
     },
     "execution_count": 65,
     "metadata": {},
     "output_type": "execute_result"
    }
   ],
   "source": [
    "forbidden_occ_cat = []\n",
    "for el in no_representative:\n",
    "    if el[0] == 'occupation':\n",
    "        forbidden_occ_cat.append(el[1])\n",
    "forbidden_occ_cat"
   ]
  },
  {
   "cell_type": "code",
   "execution_count": 66,
   "metadata": {},
   "outputs": [],
   "source": [
    "new_occupation = []\n",
    "for el in list(new_df1_train[\"occupation\"]):\n",
    "    if el in forbidden_occ_cat:\n",
    "        new_occupation.append(\"no_info_occupation\")\n",
    "    else:\n",
    "        new_occupation.append(el)\n",
    "new_df1_train[\"occupation\"] = new_occupation\n",
    "new_occupation_test = []\n",
    "for el in list(new_df1_test[\"occupation\"]):\n",
    "    if el in forbidden_occ_cat:\n",
    "        new_occupation_test.append(\"no_info_occupation\")\n",
    "    else:\n",
    "        new_occupation_test.append(el)\n",
    "new_df1_test[\"occupation\"] = new_occupation_test"
   ]
  },
  {
   "cell_type": "code",
   "execution_count": 67,
   "metadata": {},
   "outputs": [
    {
     "data": {
      "text/plain": [
       "[['education', 'Some High School', 71]]"
      ]
     },
     "execution_count": 67,
     "metadata": {},
     "output_type": "execute_result"
    }
   ],
   "source": [
    "no_representative = []\n",
    "for el in new_df1_train.columns:\n",
    "    for i in range(len(new_df1_train[el].value_counts())):\n",
    "        if list(new_df1_train[el].value_counts())[i] < threshold:\n",
    "            no_representative.append([el,new_df1_train[el].value_counts().index[i],list(new_df1_train[el].value_counts())[i]])\n",
    "no_representative   "
   ]
  },
  {
   "cell_type": "markdown",
   "metadata": {},
   "source": [
    "We decide to keep this category."
   ]
  },
  {
   "cell_type": "markdown",
   "metadata": {},
   "source": [
    "### KMODES"
   ]
  },
  {
   "cell_type": "code",
   "execution_count": 68,
   "metadata": {},
   "outputs": [
    {
     "name": "stdout",
     "output_type": "stream",
     "text": [
      "Best run was number 1\n",
      "Best run was number 2\n",
      "Best run was number 1\n",
      "Best run was number 3\n",
      "Best run was number 5\n"
     ]
    },
    {
     "data": {
      "image/png": "[encoded data removed]",
      "text/plain": [
       "<Figure size 432x288 with 1 Axes>"
      ]
     },
     "metadata": {
      "needs_background": "light"
     },
     "output_type": "display_data"
    }
   ],
   "source": [
    "# Elbow curve to find optimal K\n",
    "cost = []\n",
    "K = range(1,6)\n",
    "for num_clusters in list(K):\n",
    "    kmode = KModes(n_clusters=num_clusters, init = \"random\", n_init = 5, verbose=1,n_jobs=-1)\n",
    "    kmode.fit_predict(X_train)\n",
    "    cost.append(kmode.cost_)\n",
    "    \n",
    "plt.plot(K, cost, 'bx-')\n",
    "plt.xlabel('No. of clusters')\n",
    "plt.ylabel('Cost')\n",
    "plt.title('Elbow Method For Optimal k')\n",
    "plt.show()\n"
   ]
  },
  {
   "cell_type": "code",
   "execution_count": 69,
   "metadata": {},
   "outputs": [
    {
     "name": "stdout",
     "output_type": "stream",
     "text": [
      "Best run was number 3\n"
     ]
    },
    {
     "data": {
      "text/plain": [
       "array([2, 0, 3, ..., 1, 1, 0], dtype=uint16)"
      ]
     },
     "execution_count": 69,
     "metadata": {},
     "output_type": "execute_result"
    }
   ],
   "source": [
    "# Building the model with 4 clusters\n",
    "kmode = KModes(n_clusters=4, init = \"random\", n_init = 5, verbose=1,n_jobs=-1)\n",
    "clusters = kmode.fit_predict(X_train)\n",
    "clusters"
   ]
  },
  {
   "cell_type": "code",
   "execution_count": 70,
   "metadata": {},
   "outputs": [],
   "source": [
    "test_cl = kmode.predict(X_test)"
   ]
  },
  {
   "cell_type": "code",
   "execution_count": 71,
   "metadata": {},
   "outputs": [],
   "source": [
    "new_df1_train.insert(0, \"Cluster\", clusters, True) \n",
    "new_df1_test.insert(0, \"Cluster\", test_cl, True)"
   ]
  },
  {
   "cell_type": "markdown",
   "metadata": {},
   "source": [
    "### CHI-SQUARE TESTS"
   ]
  },
  {
   "cell_type": "code",
   "execution_count": 72,
   "metadata": {},
   "outputs": [
    {
     "name": "stdout",
     "output_type": "stream",
     "text": [
      "0.8344442991204987\n",
      "0.8344442991204988\n",
      "0.7611688116099755\n",
      "6.6348966010212145\n"
     ]
    },
    {
     "data": {
      "text/plain": [
       "['direction_same', 'direction_opp', 'poor']"
      ]
     },
     "execution_count": 72,
     "metadata": {},
     "output_type": "execute_result"
    }
   ],
   "source": [
    "new_df = pd.concat([pd.DataFrame(y_train,columns=[\"Y\"]),new_df1_train],axis=1)\n",
    "new_df_test = pd.concat([pd.DataFrame(y_test,columns=[\"Y\"]),new_df1_test],axis=1)\n",
    "target = list(np.unique(y_train))\n",
    "independent = []\n",
    "for el in new_df.columns[1:]:\n",
    "    table=pd.crosstab(new_df[\"Y\"],new_df[el])\n",
    "    stat, p, dof, expected = chi2_contingency(table)\n",
    "    if stat < scipy.stats.chi2.ppf(1-.05, df=dof) and np.all(table.values > 5):\n",
    "        independent.append(el)\n",
    "        print(stat)\n",
    "print(scipy.stats.chi2.ppf(1-.01, df=dof))\n",
    "independent"
   ]
  },
  {
   "cell_type": "markdown",
   "metadata": {},
   "source": [
    "Is it reasonable to drop these variables?"
   ]
  },
  {
   "cell_type": "code",
   "execution_count": 73,
   "metadata": {},
   "outputs": [],
   "source": [
    "# dropping correposnding features in tr and test set\n",
    "new_df_test.drop(independent,1,inplace = True)\n",
    "new_df.drop(independent,1,inplace = True)"
   ]
  },
  {
   "cell_type": "markdown",
   "metadata": {},
   "source": [
    "## ONEHOT ENCODING OF CATEGORICAL VARIABLES"
   ]
  },
  {
   "cell_type": "code",
   "execution_count": 74,
   "metadata": {},
   "outputs": [],
   "source": [
    "new_df = pd.concat([pd.DataFrame(y_train,columns=[\"Y\"]),new_df1_train],axis=1)\n",
    "new_df_test = pd.concat([pd.DataFrame(y_test,columns=[\"Y\"]),new_df1_test],axis=1)\n",
    "target = list(np.unique(y_train))"
   ]
  },
  {
   "cell_type": "markdown",
   "metadata": {},
   "source": [
    "## First case (to match \"First NaN replacement\")"
   ]
  },
  {
   "cell_type": "code",
   "execution_count": 75,
   "metadata": {},
   "outputs": [],
   "source": [
    "# pref = []\n",
    "# dum = sorted(list(new_df1['destination'].unique()))\n",
    "# for i in dum:\n",
    "#    pref.append('%s-%s'% (new_df1.columns[1], i))\n",
    "# pref"
   ]
  },
  {
   "cell_type": "code",
   "execution_count": 76,
   "metadata": {},
   "outputs": [],
   "source": [
    "# prova = pd.DataFrame()\n",
    "# for el in new_df1.columns[1:]:\n",
    "#    pref = []\n",
    "#    dum = sorted(list(new_df1[el].unique()))\n",
    "#    for i in dum:\n",
    "#        pref.append('%s_%s'% (el, i))\n",
    "#    prova = pd.concat([prova,pd.get_dummies(new_df1[el],prefix = pref)],axis=1)\n",
    "# prova.insert(0,\"Y\",df[\"Y\"])\n",
    "# prova"
   ]
  },
  {
   "cell_type": "code",
   "execution_count": 77,
   "metadata": {},
   "outputs": [],
   "source": [
    "prova = pd.DataFrame()\n",
    "for el in new_df.columns[1:]:\n",
    "    prova = pd.concat([prova,pd.get_dummies(new_df[el], prefix = el, drop_first = True)],axis=1)\n",
    "prova.insert(0,\"Y\",new_df[\"Y\"])\n",
    "prova_test = pd.DataFrame()\n",
    "for el in new_df_test.columns[1:]:\n",
    "    prova_test = pd.concat([prova_test,pd.get_dummies(new_df_test[el], prefix = el, drop_first = True)],axis=1)\n",
    "prova_test.insert(0,\"Y\",new_df_test[\"Y\"])"
   ]
  },
  {
   "cell_type": "code",
   "execution_count": 78,
   "metadata": {},
   "outputs": [
    {
     "data": {
      "text/html": [
       "<div>\n",
       "<style scoped>\n",
       "    .dataframe tbody tr th:only-of-type {\n",
       "        vertical-align: middle;\n",
       "    }\n",
       "\n",
       "    .dataframe tbody tr th {\n",
       "        vertical-align: top;\n",
       "    }\n",
       "\n",
       "    .dataframe thead th {\n",
       "        text-align: right;\n",
       "    }\n",
       "</style>\n",
       "<table border=\"1\" class=\"dataframe\">\n",
       "  <thead>\n",
       "    <tr style=\"text-align: right;\">\n",
       "      <th></th>\n",
       "      <th>Y</th>\n",
       "      <th>Cluster_1</th>\n",
       "      <th>Cluster_2</th>\n",
       "      <th>Cluster_3</th>\n",
       "      <th>destination_No Urgent Place</th>\n",
       "      <th>destination_Work</th>\n",
       "      <th>passanger_Friend(s)</th>\n",
       "      <th>passanger_Kid(s)</th>\n",
       "      <th>passanger_Partner</th>\n",
       "      <th>weather_Snowy</th>\n",
       "      <th>...</th>\n",
       "      <th>Restaurant20To50_gt8</th>\n",
       "      <th>Restaurant20To50_less1</th>\n",
       "      <th>Restaurant20To50_never</th>\n",
       "      <th>toCoupon_GEQ15min_1</th>\n",
       "      <th>toCoupon_GEQ25min_1</th>\n",
       "      <th>direction_same_1</th>\n",
       "      <th>direction_opp_1</th>\n",
       "      <th>rich_1</th>\n",
       "      <th>middleclass_1</th>\n",
       "      <th>poor_1</th>\n",
       "    </tr>\n",
       "  </thead>\n",
       "  <tbody>\n",
       "    <tr>\n",
       "      <th>0</th>\n",
       "      <td>1</td>\n",
       "      <td>0</td>\n",
       "      <td>1</td>\n",
       "      <td>0</td>\n",
       "      <td>0</td>\n",
       "      <td>0</td>\n",
       "      <td>0</td>\n",
       "      <td>0</td>\n",
       "      <td>0</td>\n",
       "      <td>0</td>\n",
       "      <td>...</td>\n",
       "      <td>0</td>\n",
       "      <td>0</td>\n",
       "      <td>0</td>\n",
       "      <td>1</td>\n",
       "      <td>0</td>\n",
       "      <td>1</td>\n",
       "      <td>0</td>\n",
       "      <td>0</td>\n",
       "      <td>1</td>\n",
       "      <td>0</td>\n",
       "    </tr>\n",
       "    <tr>\n",
       "      <th>1</th>\n",
       "      <td>1</td>\n",
       "      <td>0</td>\n",
       "      <td>0</td>\n",
       "      <td>0</td>\n",
       "      <td>1</td>\n",
       "      <td>0</td>\n",
       "      <td>1</td>\n",
       "      <td>0</td>\n",
       "      <td>0</td>\n",
       "      <td>1</td>\n",
       "      <td>...</td>\n",
       "      <td>0</td>\n",
       "      <td>1</td>\n",
       "      <td>0</td>\n",
       "      <td>0</td>\n",
       "      <td>0</td>\n",
       "      <td>0</td>\n",
       "      <td>1</td>\n",
       "      <td>1</td>\n",
       "      <td>0</td>\n",
       "      <td>0</td>\n",
       "    </tr>\n",
       "    <tr>\n",
       "      <th>2</th>\n",
       "      <td>1</td>\n",
       "      <td>0</td>\n",
       "      <td>0</td>\n",
       "      <td>1</td>\n",
       "      <td>0</td>\n",
       "      <td>1</td>\n",
       "      <td>0</td>\n",
       "      <td>0</td>\n",
       "      <td>0</td>\n",
       "      <td>0</td>\n",
       "      <td>...</td>\n",
       "      <td>0</td>\n",
       "      <td>0</td>\n",
       "      <td>0</td>\n",
       "      <td>0</td>\n",
       "      <td>0</td>\n",
       "      <td>0</td>\n",
       "      <td>1</td>\n",
       "      <td>0</td>\n",
       "      <td>1</td>\n",
       "      <td>0</td>\n",
       "    </tr>\n",
       "    <tr>\n",
       "      <th>3</th>\n",
       "      <td>0</td>\n",
       "      <td>0</td>\n",
       "      <td>0</td>\n",
       "      <td>1</td>\n",
       "      <td>1</td>\n",
       "      <td>0</td>\n",
       "      <td>0</td>\n",
       "      <td>0</td>\n",
       "      <td>0</td>\n",
       "      <td>0</td>\n",
       "      <td>...</td>\n",
       "      <td>0</td>\n",
       "      <td>1</td>\n",
       "      <td>0</td>\n",
       "      <td>0</td>\n",
       "      <td>0</td>\n",
       "      <td>0</td>\n",
       "      <td>1</td>\n",
       "      <td>0</td>\n",
       "      <td>1</td>\n",
       "      <td>0</td>\n",
       "    </tr>\n",
       "    <tr>\n",
       "      <th>4</th>\n",
       "      <td>0</td>\n",
       "      <td>0</td>\n",
       "      <td>0</td>\n",
       "      <td>0</td>\n",
       "      <td>1</td>\n",
       "      <td>0</td>\n",
       "      <td>0</td>\n",
       "      <td>0</td>\n",
       "      <td>1</td>\n",
       "      <td>0</td>\n",
       "      <td>...</td>\n",
       "      <td>0</td>\n",
       "      <td>1</td>\n",
       "      <td>0</td>\n",
       "      <td>1</td>\n",
       "      <td>0</td>\n",
       "      <td>0</td>\n",
       "      <td>1</td>\n",
       "      <td>1</td>\n",
       "      <td>0</td>\n",
       "      <td>0</td>\n",
       "    </tr>\n",
       "    <tr>\n",
       "      <th>...</th>\n",
       "      <td>...</td>\n",
       "      <td>...</td>\n",
       "      <td>...</td>\n",
       "      <td>...</td>\n",
       "      <td>...</td>\n",
       "      <td>...</td>\n",
       "      <td>...</td>\n",
       "      <td>...</td>\n",
       "      <td>...</td>\n",
       "      <td>...</td>\n",
       "      <td>...</td>\n",
       "      <td>...</td>\n",
       "      <td>...</td>\n",
       "      <td>...</td>\n",
       "      <td>...</td>\n",
       "      <td>...</td>\n",
       "      <td>...</td>\n",
       "      <td>...</td>\n",
       "      <td>...</td>\n",
       "      <td>...</td>\n",
       "      <td>...</td>\n",
       "    </tr>\n",
       "    <tr>\n",
       "      <th>10142</th>\n",
       "      <td>1</td>\n",
       "      <td>0</td>\n",
       "      <td>0</td>\n",
       "      <td>0</td>\n",
       "      <td>0</td>\n",
       "      <td>0</td>\n",
       "      <td>0</td>\n",
       "      <td>0</td>\n",
       "      <td>0</td>\n",
       "      <td>0</td>\n",
       "      <td>...</td>\n",
       "      <td>0</td>\n",
       "      <td>1</td>\n",
       "      <td>0</td>\n",
       "      <td>0</td>\n",
       "      <td>0</td>\n",
       "      <td>0</td>\n",
       "      <td>1</td>\n",
       "      <td>1</td>\n",
       "      <td>0</td>\n",
       "      <td>0</td>\n",
       "    </tr>\n",
       "    <tr>\n",
       "      <th>10143</th>\n",
       "      <td>1</td>\n",
       "      <td>1</td>\n",
       "      <td>0</td>\n",
       "      <td>0</td>\n",
       "      <td>1</td>\n",
       "      <td>0</td>\n",
       "      <td>1</td>\n",
       "      <td>0</td>\n",
       "      <td>0</td>\n",
       "      <td>1</td>\n",
       "      <td>...</td>\n",
       "      <td>0</td>\n",
       "      <td>1</td>\n",
       "      <td>0</td>\n",
       "      <td>1</td>\n",
       "      <td>0</td>\n",
       "      <td>0</td>\n",
       "      <td>1</td>\n",
       "      <td>0</td>\n",
       "      <td>0</td>\n",
       "      <td>1</td>\n",
       "    </tr>\n",
       "    <tr>\n",
       "      <th>10144</th>\n",
       "      <td>1</td>\n",
       "      <td>1</td>\n",
       "      <td>0</td>\n",
       "      <td>0</td>\n",
       "      <td>1</td>\n",
       "      <td>0</td>\n",
       "      <td>1</td>\n",
       "      <td>0</td>\n",
       "      <td>0</td>\n",
       "      <td>0</td>\n",
       "      <td>...</td>\n",
       "      <td>0</td>\n",
       "      <td>1</td>\n",
       "      <td>0</td>\n",
       "      <td>0</td>\n",
       "      <td>0</td>\n",
       "      <td>0</td>\n",
       "      <td>1</td>\n",
       "      <td>0</td>\n",
       "      <td>1</td>\n",
       "      <td>0</td>\n",
       "    </tr>\n",
       "    <tr>\n",
       "      <th>10145</th>\n",
       "      <td>0</td>\n",
       "      <td>1</td>\n",
       "      <td>0</td>\n",
       "      <td>0</td>\n",
       "      <td>1</td>\n",
       "      <td>0</td>\n",
       "      <td>1</td>\n",
       "      <td>0</td>\n",
       "      <td>0</td>\n",
       "      <td>0</td>\n",
       "      <td>...</td>\n",
       "      <td>0</td>\n",
       "      <td>1</td>\n",
       "      <td>0</td>\n",
       "      <td>0</td>\n",
       "      <td>0</td>\n",
       "      <td>0</td>\n",
       "      <td>1</td>\n",
       "      <td>1</td>\n",
       "      <td>0</td>\n",
       "      <td>0</td>\n",
       "    </tr>\n",
       "    <tr>\n",
       "      <th>10146</th>\n",
       "      <td>1</td>\n",
       "      <td>0</td>\n",
       "      <td>0</td>\n",
       "      <td>0</td>\n",
       "      <td>1</td>\n",
       "      <td>0</td>\n",
       "      <td>1</td>\n",
       "      <td>0</td>\n",
       "      <td>0</td>\n",
       "      <td>0</td>\n",
       "      <td>...</td>\n",
       "      <td>0</td>\n",
       "      <td>1</td>\n",
       "      <td>0</td>\n",
       "      <td>1</td>\n",
       "      <td>0</td>\n",
       "      <td>0</td>\n",
       "      <td>1</td>\n",
       "      <td>1</td>\n",
       "      <td>0</td>\n",
       "      <td>0</td>\n",
       "    </tr>\n",
       "  </tbody>\n",
       "</table>\n",
       "<p>10147 rows × 97 columns</p>\n",
       "</div>"
      ],
      "text/plain": [
       "       Y  Cluster_1  Cluster_2  Cluster_3  destination_No Urgent Place  \\\n",
       "0      1          0          1          0                            0   \n",
       "1      1          0          0          0                            1   \n",
       "2      1          0          0          1                            0   \n",
       "3      0          0          0          1                            1   \n",
       "4      0          0          0          0                            1   \n",
       "...   ..        ...        ...        ...                          ...   \n",
       "10142  1          0          0          0                            0   \n",
       "10143  1          1          0          0                            1   \n",
       "10144  1          1          0          0                            1   \n",
       "10145  0          1          0          0                            1   \n",
       "10146  1          0          0          0                            1   \n",
       "\n",
       "       destination_Work  passanger_Friend(s)  passanger_Kid(s)  \\\n",
       "0                     0                    0                 0   \n",
       "1                     0                    1                 0   \n",
       "2                     1                    0                 0   \n",
       "3                     0                    0                 0   \n",
       "4                     0                    0                 0   \n",
       "...                 ...                  ...               ...   \n",
       "10142                 0                    0                 0   \n",
       "10143                 0                    1                 0   \n",
       "10144                 0                    1                 0   \n",
       "10145                 0                    1                 0   \n",
       "10146                 0                    1                 0   \n",
       "\n",
       "       passanger_Partner  weather_Snowy  ...  Restaurant20To50_gt8  \\\n",
       "0                      0              0  ...                     0   \n",
       "1                      0              1  ...                     0   \n",
       "2                      0              0  ...                     0   \n",
       "3                      0              0  ...                     0   \n",
       "4                      1              0  ...                     0   \n",
       "...                  ...            ...  ...                   ...   \n",
       "10142                  0              0  ...                     0   \n",
       "10143                  0              1  ...                     0   \n",
       "10144                  0              0  ...                     0   \n",
       "10145                  0              0  ...                     0   \n",
       "10146                  0              0  ...                     0   \n",
       "\n",
       "       Restaurant20To50_less1  Restaurant20To50_never  toCoupon_GEQ15min_1  \\\n",
       "0                           0                       0                    1   \n",
       "1                           1                       0                    0   \n",
       "2                           0                       0                    0   \n",
       "3                           1                       0                    0   \n",
       "4                           1                       0                    1   \n",
       "...                       ...                     ...                  ...   \n",
       "10142                       1                       0                    0   \n",
       "10143                       1                       0                    1   \n",
       "10144                       1                       0                    0   \n",
       "10145                       1                       0                    0   \n",
       "10146                       1                       0                    1   \n",
       "\n",
       "       toCoupon_GEQ25min_1  direction_same_1  direction_opp_1  rich_1  \\\n",
       "0                        0                 1                0       0   \n",
       "1                        0                 0                1       1   \n",
       "2                        0                 0                1       0   \n",
       "3                        0                 0                1       0   \n",
       "4                        0                 0                1       1   \n",
       "...                    ...               ...              ...     ...   \n",
       "10142                    0                 0                1       1   \n",
       "10143                    0                 0                1       0   \n",
       "10144                    0                 0                1       0   \n",
       "10145                    0                 0                1       1   \n",
       "10146                    0                 0                1       1   \n",
       "\n",
       "       middleclass_1  poor_1  \n",
       "0                  1       0  \n",
       "1                  0       0  \n",
       "2                  1       0  \n",
       "3                  1       0  \n",
       "4                  0       0  \n",
       "...              ...     ...  \n",
       "10142              0       0  \n",
       "10143              0       1  \n",
       "10144              1       0  \n",
       "10145              0       0  \n",
       "10146              0       0  \n",
       "\n",
       "[10147 rows x 97 columns]"
      ]
     },
     "execution_count": 78,
     "metadata": {},
     "output_type": "execute_result"
    }
   ],
   "source": [
    "prova"
   ]
  },
  {
   "cell_type": "code",
   "execution_count": 79,
   "metadata": {},
   "outputs": [
    {
     "data": {
      "text/plain": [
       "92"
      ]
     },
     "execution_count": 79,
     "metadata": {},
     "output_type": "execute_result"
    }
   ],
   "source": [
    "LA.matrix_rank(prova.iloc[:,1:]) "
   ]
  },
  {
   "cell_type": "code",
   "execution_count": 80,
   "metadata": {},
   "outputs": [
    {
     "data": {
      "text/html": [
       "<div>\n",
       "<style scoped>\n",
       "    .dataframe tbody tr th:only-of-type {\n",
       "        vertical-align: middle;\n",
       "    }\n",
       "\n",
       "    .dataframe tbody tr th {\n",
       "        vertical-align: top;\n",
       "    }\n",
       "\n",
       "    .dataframe thead th {\n",
       "        text-align: right;\n",
       "    }\n",
       "</style>\n",
       "<table border=\"1\" class=\"dataframe\">\n",
       "  <thead>\n",
       "    <tr style=\"text-align: right;\">\n",
       "      <th></th>\n",
       "      <th>Cluster_1</th>\n",
       "      <th>Cluster_2</th>\n",
       "      <th>Cluster_3</th>\n",
       "      <th>destination_No Urgent Place</th>\n",
       "      <th>destination_Work</th>\n",
       "      <th>passanger_Friend(s)</th>\n",
       "      <th>passanger_Kid(s)</th>\n",
       "      <th>passanger_Partner</th>\n",
       "      <th>weather_Snowy</th>\n",
       "      <th>weather_Sunny</th>\n",
       "      <th>...</th>\n",
       "      <th>Restaurant20To50_gt8</th>\n",
       "      <th>Restaurant20To50_less1</th>\n",
       "      <th>Restaurant20To50_never</th>\n",
       "      <th>toCoupon_GEQ15min_1</th>\n",
       "      <th>toCoupon_GEQ25min_1</th>\n",
       "      <th>direction_same_1</th>\n",
       "      <th>direction_opp_1</th>\n",
       "      <th>rich_1</th>\n",
       "      <th>middleclass_1</th>\n",
       "      <th>poor_1</th>\n",
       "    </tr>\n",
       "  </thead>\n",
       "  <tbody>\n",
       "    <tr>\n",
       "      <th>Cluster_1</th>\n",
       "      <td>True</td>\n",
       "      <td>False</td>\n",
       "      <td>False</td>\n",
       "      <td>False</td>\n",
       "      <td>False</td>\n",
       "      <td>False</td>\n",
       "      <td>False</td>\n",
       "      <td>False</td>\n",
       "      <td>False</td>\n",
       "      <td>False</td>\n",
       "      <td>...</td>\n",
       "      <td>False</td>\n",
       "      <td>False</td>\n",
       "      <td>False</td>\n",
       "      <td>False</td>\n",
       "      <td>False</td>\n",
       "      <td>False</td>\n",
       "      <td>False</td>\n",
       "      <td>False</td>\n",
       "      <td>False</td>\n",
       "      <td>False</td>\n",
       "    </tr>\n",
       "    <tr>\n",
       "      <th>Cluster_2</th>\n",
       "      <td>False</td>\n",
       "      <td>True</td>\n",
       "      <td>False</td>\n",
       "      <td>False</td>\n",
       "      <td>False</td>\n",
       "      <td>False</td>\n",
       "      <td>False</td>\n",
       "      <td>False</td>\n",
       "      <td>False</td>\n",
       "      <td>False</td>\n",
       "      <td>...</td>\n",
       "      <td>False</td>\n",
       "      <td>False</td>\n",
       "      <td>False</td>\n",
       "      <td>False</td>\n",
       "      <td>False</td>\n",
       "      <td>False</td>\n",
       "      <td>False</td>\n",
       "      <td>False</td>\n",
       "      <td>False</td>\n",
       "      <td>False</td>\n",
       "    </tr>\n",
       "    <tr>\n",
       "      <th>Cluster_3</th>\n",
       "      <td>False</td>\n",
       "      <td>False</td>\n",
       "      <td>True</td>\n",
       "      <td>False</td>\n",
       "      <td>False</td>\n",
       "      <td>False</td>\n",
       "      <td>False</td>\n",
       "      <td>False</td>\n",
       "      <td>False</td>\n",
       "      <td>False</td>\n",
       "      <td>...</td>\n",
       "      <td>False</td>\n",
       "      <td>False</td>\n",
       "      <td>False</td>\n",
       "      <td>False</td>\n",
       "      <td>False</td>\n",
       "      <td>False</td>\n",
       "      <td>False</td>\n",
       "      <td>False</td>\n",
       "      <td>False</td>\n",
       "      <td>False</td>\n",
       "    </tr>\n",
       "    <tr>\n",
       "      <th>destination_No Urgent Place</th>\n",
       "      <td>False</td>\n",
       "      <td>False</td>\n",
       "      <td>False</td>\n",
       "      <td>True</td>\n",
       "      <td>False</td>\n",
       "      <td>False</td>\n",
       "      <td>False</td>\n",
       "      <td>False</td>\n",
       "      <td>False</td>\n",
       "      <td>False</td>\n",
       "      <td>...</td>\n",
       "      <td>False</td>\n",
       "      <td>False</td>\n",
       "      <td>False</td>\n",
       "      <td>False</td>\n",
       "      <td>False</td>\n",
       "      <td>False</td>\n",
       "      <td>False</td>\n",
       "      <td>False</td>\n",
       "      <td>False</td>\n",
       "      <td>False</td>\n",
       "    </tr>\n",
       "    <tr>\n",
       "      <th>destination_Work</th>\n",
       "      <td>False</td>\n",
       "      <td>False</td>\n",
       "      <td>False</td>\n",
       "      <td>False</td>\n",
       "      <td>True</td>\n",
       "      <td>False</td>\n",
       "      <td>False</td>\n",
       "      <td>False</td>\n",
       "      <td>False</td>\n",
       "      <td>False</td>\n",
       "      <td>...</td>\n",
       "      <td>False</td>\n",
       "      <td>False</td>\n",
       "      <td>False</td>\n",
       "      <td>False</td>\n",
       "      <td>False</td>\n",
       "      <td>False</td>\n",
       "      <td>False</td>\n",
       "      <td>False</td>\n",
       "      <td>False</td>\n",
       "      <td>False</td>\n",
       "    </tr>\n",
       "    <tr>\n",
       "      <th>...</th>\n",
       "      <td>...</td>\n",
       "      <td>...</td>\n",
       "      <td>...</td>\n",
       "      <td>...</td>\n",
       "      <td>...</td>\n",
       "      <td>...</td>\n",
       "      <td>...</td>\n",
       "      <td>...</td>\n",
       "      <td>...</td>\n",
       "      <td>...</td>\n",
       "      <td>...</td>\n",
       "      <td>...</td>\n",
       "      <td>...</td>\n",
       "      <td>...</td>\n",
       "      <td>...</td>\n",
       "      <td>...</td>\n",
       "      <td>...</td>\n",
       "      <td>...</td>\n",
       "      <td>...</td>\n",
       "      <td>...</td>\n",
       "      <td>...</td>\n",
       "    </tr>\n",
       "    <tr>\n",
       "      <th>direction_same_1</th>\n",
       "      <td>False</td>\n",
       "      <td>False</td>\n",
       "      <td>False</td>\n",
       "      <td>False</td>\n",
       "      <td>False</td>\n",
       "      <td>False</td>\n",
       "      <td>False</td>\n",
       "      <td>False</td>\n",
       "      <td>False</td>\n",
       "      <td>False</td>\n",
       "      <td>...</td>\n",
       "      <td>False</td>\n",
       "      <td>False</td>\n",
       "      <td>False</td>\n",
       "      <td>False</td>\n",
       "      <td>False</td>\n",
       "      <td>True</td>\n",
       "      <td>False</td>\n",
       "      <td>False</td>\n",
       "      <td>False</td>\n",
       "      <td>False</td>\n",
       "    </tr>\n",
       "    <tr>\n",
       "      <th>direction_opp_1</th>\n",
       "      <td>False</td>\n",
       "      <td>False</td>\n",
       "      <td>False</td>\n",
       "      <td>False</td>\n",
       "      <td>False</td>\n",
       "      <td>False</td>\n",
       "      <td>False</td>\n",
       "      <td>False</td>\n",
       "      <td>False</td>\n",
       "      <td>False</td>\n",
       "      <td>...</td>\n",
       "      <td>False</td>\n",
       "      <td>False</td>\n",
       "      <td>False</td>\n",
       "      <td>False</td>\n",
       "      <td>False</td>\n",
       "      <td>False</td>\n",
       "      <td>True</td>\n",
       "      <td>False</td>\n",
       "      <td>False</td>\n",
       "      <td>False</td>\n",
       "    </tr>\n",
       "    <tr>\n",
       "      <th>rich_1</th>\n",
       "      <td>False</td>\n",
       "      <td>False</td>\n",
       "      <td>False</td>\n",
       "      <td>False</td>\n",
       "      <td>False</td>\n",
       "      <td>False</td>\n",
       "      <td>False</td>\n",
       "      <td>False</td>\n",
       "      <td>False</td>\n",
       "      <td>False</td>\n",
       "      <td>...</td>\n",
       "      <td>False</td>\n",
       "      <td>False</td>\n",
       "      <td>False</td>\n",
       "      <td>False</td>\n",
       "      <td>False</td>\n",
       "      <td>False</td>\n",
       "      <td>False</td>\n",
       "      <td>True</td>\n",
       "      <td>False</td>\n",
       "      <td>False</td>\n",
       "    </tr>\n",
       "    <tr>\n",
       "      <th>middleclass_1</th>\n",
       "      <td>False</td>\n",
       "      <td>False</td>\n",
       "      <td>False</td>\n",
       "      <td>False</td>\n",
       "      <td>False</td>\n",
       "      <td>False</td>\n",
       "      <td>False</td>\n",
       "      <td>False</td>\n",
       "      <td>False</td>\n",
       "      <td>False</td>\n",
       "      <td>...</td>\n",
       "      <td>False</td>\n",
       "      <td>False</td>\n",
       "      <td>False</td>\n",
       "      <td>False</td>\n",
       "      <td>False</td>\n",
       "      <td>False</td>\n",
       "      <td>False</td>\n",
       "      <td>False</td>\n",
       "      <td>True</td>\n",
       "      <td>False</td>\n",
       "    </tr>\n",
       "    <tr>\n",
       "      <th>poor_1</th>\n",
       "      <td>False</td>\n",
       "      <td>False</td>\n",
       "      <td>False</td>\n",
       "      <td>False</td>\n",
       "      <td>False</td>\n",
       "      <td>False</td>\n",
       "      <td>False</td>\n",
       "      <td>False</td>\n",
       "      <td>False</td>\n",
       "      <td>False</td>\n",
       "      <td>...</td>\n",
       "      <td>False</td>\n",
       "      <td>False</td>\n",
       "      <td>False</td>\n",
       "      <td>False</td>\n",
       "      <td>False</td>\n",
       "      <td>False</td>\n",
       "      <td>False</td>\n",
       "      <td>False</td>\n",
       "      <td>False</td>\n",
       "      <td>True</td>\n",
       "    </tr>\n",
       "  </tbody>\n",
       "</table>\n",
       "<p>96 rows × 96 columns</p>\n",
       "</div>"
      ],
      "text/plain": [
       "                             Cluster_1  Cluster_2  Cluster_3  \\\n",
       "Cluster_1                         True      False      False   \n",
       "Cluster_2                        False       True      False   \n",
       "Cluster_3                        False      False       True   \n",
       "destination_No Urgent Place      False      False      False   \n",
       "destination_Work                 False      False      False   \n",
       "...                                ...        ...        ...   \n",
       "direction_same_1                 False      False      False   \n",
       "direction_opp_1                  False      False      False   \n",
       "rich_1                           False      False      False   \n",
       "middleclass_1                    False      False      False   \n",
       "poor_1                           False      False      False   \n",
       "\n",
       "                             destination_No Urgent Place  destination_Work  \\\n",
       "Cluster_1                                          False             False   \n",
       "Cluster_2                                          False             False   \n",
       "Cluster_3                                          False             False   \n",
       "destination_No Urgent Place                         True             False   \n",
       "destination_Work                                   False              True   \n",
       "...                                                  ...               ...   \n",
       "direction_same_1                                   False             False   \n",
       "direction_opp_1                                    False             False   \n",
       "rich_1                                             False             False   \n",
       "middleclass_1                                      False             False   \n",
       "poor_1                                             False             False   \n",
       "\n",
       "                             passanger_Friend(s)  passanger_Kid(s)  \\\n",
       "Cluster_1                                  False             False   \n",
       "Cluster_2                                  False             False   \n",
       "Cluster_3                                  False             False   \n",
       "destination_No Urgent Place                False             False   \n",
       "destination_Work                           False             False   \n",
       "...                                          ...               ...   \n",
       "direction_same_1                           False             False   \n",
       "direction_opp_1                            False             False   \n",
       "rich_1                                     False             False   \n",
       "middleclass_1                              False             False   \n",
       "poor_1                                     False             False   \n",
       "\n",
       "                             passanger_Partner  weather_Snowy  weather_Sunny  \\\n",
       "Cluster_1                                False          False          False   \n",
       "Cluster_2                                False          False          False   \n",
       "Cluster_3                                False          False          False   \n",
       "destination_No Urgent Place              False          False          False   \n",
       "destination_Work                         False          False          False   \n",
       "...                                        ...            ...            ...   \n",
       "direction_same_1                         False          False          False   \n",
       "direction_opp_1                          False          False          False   \n",
       "rich_1                                   False          False          False   \n",
       "middleclass_1                            False          False          False   \n",
       "poor_1                                   False          False          False   \n",
       "\n",
       "                             ...  Restaurant20To50_gt8  \\\n",
       "Cluster_1                    ...                 False   \n",
       "Cluster_2                    ...                 False   \n",
       "Cluster_3                    ...                 False   \n",
       "destination_No Urgent Place  ...                 False   \n",
       "destination_Work             ...                 False   \n",
       "...                          ...                   ...   \n",
       "direction_same_1             ...                 False   \n",
       "direction_opp_1              ...                 False   \n",
       "rich_1                       ...                 False   \n",
       "middleclass_1                ...                 False   \n",
       "poor_1                       ...                 False   \n",
       "\n",
       "                             Restaurant20To50_less1  Restaurant20To50_never  \\\n",
       "Cluster_1                                     False                   False   \n",
       "Cluster_2                                     False                   False   \n",
       "Cluster_3                                     False                   False   \n",
       "destination_No Urgent Place                   False                   False   \n",
       "destination_Work                              False                   False   \n",
       "...                                             ...                     ...   \n",
       "direction_same_1                              False                   False   \n",
       "direction_opp_1                               False                   False   \n",
       "rich_1                                        False                   False   \n",
       "middleclass_1                                 False                   False   \n",
       "poor_1                                        False                   False   \n",
       "\n",
       "                             toCoupon_GEQ15min_1  toCoupon_GEQ25min_1  \\\n",
       "Cluster_1                                  False                False   \n",
       "Cluster_2                                  False                False   \n",
       "Cluster_3                                  False                False   \n",
       "destination_No Urgent Place                False                False   \n",
       "destination_Work                           False                False   \n",
       "...                                          ...                  ...   \n",
       "direction_same_1                           False                False   \n",
       "direction_opp_1                            False                False   \n",
       "rich_1                                     False                False   \n",
       "middleclass_1                              False                False   \n",
       "poor_1                                     False                False   \n",
       "\n",
       "                             direction_same_1  direction_opp_1  rich_1  \\\n",
       "Cluster_1                               False            False   False   \n",
       "Cluster_2                               False            False   False   \n",
       "Cluster_3                               False            False   False   \n",
       "destination_No Urgent Place             False            False   False   \n",
       "destination_Work                        False            False   False   \n",
       "...                                       ...              ...     ...   \n",
       "direction_same_1                         True            False   False   \n",
       "direction_opp_1                         False             True   False   \n",
       "rich_1                                  False            False    True   \n",
       "middleclass_1                           False            False   False   \n",
       "poor_1                                  False            False   False   \n",
       "\n",
       "                             middleclass_1  poor_1  \n",
       "Cluster_1                            False   False  \n",
       "Cluster_2                            False   False  \n",
       "Cluster_3                            False   False  \n",
       "destination_No Urgent Place          False   False  \n",
       "destination_Work                     False   False  \n",
       "...                                    ...     ...  \n",
       "direction_same_1                     False   False  \n",
       "direction_opp_1                      False   False  \n",
       "rich_1                               False   False  \n",
       "middleclass_1                         True   False  \n",
       "poor_1                               False    True  \n",
       "\n",
       "[96 rows x 96 columns]"
      ]
     },
     "execution_count": 80,
     "metadata": {},
     "output_type": "execute_result"
    }
   ],
   "source": [
    "a = prova.iloc[:,1:].corr()>0.7\n",
    "a"
   ]
  },
  {
   "cell_type": "code",
   "execution_count": 81,
   "metadata": {},
   "outputs": [
    {
     "data": {
      "text/plain": [
       "[['destination_Work', 'time_7AM'],\n",
       " ['time_7AM', 'destination_Work'],\n",
       " ['income_12500', 'poor_1'],\n",
       " ['poor_1', 'income_12500']]"
      ]
     },
     "execution_count": 81,
     "metadata": {},
     "output_type": "execute_result"
    }
   ],
   "source": [
    "indexes = []\n",
    "for el in a.columns:\n",
    "    for i in a.columns:\n",
    "        if a.loc[el,i] == True and el != i:\n",
    "            indexes.append([el,i])\n",
    "indexes\n"
   ]
  },
  {
   "cell_type": "code",
   "execution_count": 82,
   "metadata": {},
   "outputs": [
    {
     "data": {
      "text/plain": [
       "[['time_7AM', 'destination_Work'], ['poor_1', 'income_12500']]"
      ]
     },
     "execution_count": 82,
     "metadata": {},
     "output_type": "execute_result"
    }
   ],
   "source": [
    "for el in indexes:\n",
    "    if [el[1],el[0]] in indexes:\n",
    "        indexes.remove([el[0],el[1]])\n",
    "indexes"
   ]
  },
  {
   "cell_type": "code",
   "execution_count": 83,
   "metadata": {},
   "outputs": [],
   "source": [
    "# drop one of the columns on the previous couple of lists because they have the same information\n",
    "del prova['time_7AM']\n",
    "del prova_test['time_7AM']"
   ]
  },
  {
   "cell_type": "code",
   "execution_count": 84,
   "metadata": {},
   "outputs": [],
   "source": [
    "del prova['poor_1']\n",
    "del prova_test['poor_1']"
   ]
  },
  {
   "cell_type": "markdown",
   "metadata": {},
   "source": [
    "The rank of the matrix is the largest numbers of linearly independent columns/rows, therefore it is at most equal to the min(n_columns,n_rows). It represents the number of rows/columns which are able to carry out the information about all the rows/columns. If the rank is smaller than the number of rows/columns, this means that the number of rows/columns identified by the rank can be linearly combined and reproduced the other not-considered column. The rank gives as hint about multi-colinearity problem (\"Spearman correlation\" and \"Chi-square test\" problem since variables are only categorical, but check also the correlogram!)."
   ]
  },
  {
   "cell_type": "code",
   "execution_count": 85,
   "metadata": {},
   "outputs": [],
   "source": [
    "# vif_data = pd.DataFrame()\n",
    "# vif_data['features'] = prova.iloc[:,1:].columns\n",
    "# calculating VIF for each feature\n",
    "# vif_data[\"VIF\"] = [variance_inflation_factor(prova.iloc[:,1:].values, i)\n",
    "#                          for i in range(len(prova.iloc[:,1:].columns))]\n",
    "# w = vif_data.sort_values('VIF', ascending=False, ignore_index = True)[\"VIF\"]>10\n",
    "# w"
   ]
  },
  {
   "cell_type": "code",
   "execution_count": 86,
   "metadata": {},
   "outputs": [],
   "source": [
    "# ign_feat = []\n",
    "# vif_data = pd.DataFrame()\n",
    "# vif_data['features'] = prova.iloc[:,1:].columns\n",
    "# calculating VIF for each feature\n",
    "# vif_data[\"VIF\"] = [variance_inflation_factor(prova.iloc[:,1:].values, i)\n",
    "#                        for i in range(len(prova.iloc[:,1:].columns))]\n",
    "# while vif_data.sort_values('VIF', ascending=False,ignore_index = True).loc[0,\"VIF\"] > 10:\n",
    "#    ign_feat.append(vif_data.sort_values('VIF', ascending=False,ignore_index = True).loc[0,\"features\"])\n",
    "#    del prova[vif_data.sort_values('VIF', ascending=False,ignore_index = True).loc[0,\"features\"]]\n",
    "#    vif_data = pd.DataFrame()\n",
    "#    vif_data['features'] = prova.iloc[:,1:].columns\n",
    "    # calculating VIF for each feature\n",
    "#    vif_data[\"VIF\"] = [variance_inflation_factor(prova.iloc[:,1:].values, i)\n",
    "#                           for i in range(len(prova.iloc[:,1:].columns))]\n",
    "# ign_feat"
   ]
  },
  {
   "cell_type": "markdown",
   "metadata": {},
   "source": [
    "## Third case (to match \"third NaN replacemnt\")"
   ]
  },
  {
   "cell_type": "code",
   "execution_count": 87,
   "metadata": {},
   "outputs": [],
   "source": [
    "#new_df3"
   ]
  },
  {
   "cell_type": "code",
   "execution_count": 88,
   "metadata": {},
   "outputs": [],
   "source": [
    "#target = list(np.unique(new_df3[\"Y\"]))\n",
    "#independent = []\n",
    "#for el in new_df3.columns[1:]:\n",
    "#    table=pd.crosstab(new_df3[\"Y\"],new_df3[el])\n",
    "#    stat, p, dof, expected = chi2_contingency(table)\n",
    "#    if stat < scipy.stats.chi2.ppf(1-.05, df=dof):\n",
    "#        independent.append(el)\n",
    "#independent #HI-SQUARE TEST"
   ]
  },
  {
   "cell_type": "code",
   "execution_count": 89,
   "metadata": {},
   "outputs": [],
   "source": [
    "#prova3 = pd.DataFrame()\n",
    "#for el in new_df3.columns[1:]:\n",
    "#    prova3 = pd.concat([prova3,pd.get_dummies(new_df3[el], prefix = el, drop_first = True)],axis=1)\n",
    "#prova3.insert(0,\"Y\",df[\"Y\"])\n",
    "#prova3"
   ]
  },
  {
   "cell_type": "code",
   "execution_count": 90,
   "metadata": {},
   "outputs": [],
   "source": [
    "#cleaned = prova3"
   ]
  },
  {
   "cell_type": "markdown",
   "metadata": {},
   "source": [
    "## Fourth case"
   ]
  },
  {
   "cell_type": "code",
   "execution_count": 91,
   "metadata": {},
   "outputs": [],
   "source": [
    "#new_df4"
   ]
  },
  {
   "cell_type": "code",
   "execution_count": 92,
   "metadata": {},
   "outputs": [],
   "source": [
    "#import scipy.stats\n",
    "#from scipy.stats import chi2_contingency\n",
    "#from scipy.stats import chi2\n",
    "#target = list(np.unique(new_df4[\"Y\"]))\n",
    "#independent = []\n",
    "#for el in new_df4.columns[1:]:\n",
    "#    table=pd.crosstab(new_df4[\"Y\"],new_df4[el])\n",
    "#    stat, p, dof, expected = chi2_contingency(table)\n",
    "#    if stat < scipy.stats.chi2.ppf(1-.05, df=dof):\n",
    "#        independent.append(el)\n",
    "#        del new_df4[el]\n",
    "#independent"
   ]
  },
  {
   "cell_type": "code",
   "execution_count": 93,
   "metadata": {},
   "outputs": [],
   "source": [
    "#new_df4"
   ]
  },
  {
   "cell_type": "code",
   "execution_count": 94,
   "metadata": {},
   "outputs": [],
   "source": [
    "#prova4 = pd.DataFrame()\n",
    "#for el in new_df4.columns[1:]:\n",
    "#    prova4 = pd.concat([prova4,pd.get_dummies(new_df4[el], prefix = el, drop_first = True)],axis=1)\n",
    "#prova4.insert(0,\"Y\",df[\"Y\"])\n",
    "#prova4"
   ]
  },
  {
   "cell_type": "code",
   "execution_count": 95,
   "metadata": {},
   "outputs": [],
   "source": [
    "#bho = prova4"
   ]
  },
  {
   "cell_type": "markdown",
   "metadata": {},
   "source": [
    "# TREE ANALYSIS"
   ]
  },
  {
   "cell_type": "code",
   "execution_count": 96,
   "metadata": {},
   "outputs": [],
   "source": [
    "# ign_feat = []\n",
    "# vif_data = pd.DataFrame()\n",
    "# vif_data['features'] = prova.iloc[:,1:].columns\n",
    "# calculating VIF for each feature\n",
    "# vif_data[\"VIF\"] = [variance_inflation_factor(prova.iloc[:,1:].values, i)\n",
    "#                        for i in range(len(prova.iloc[:,1:].columns))]\n",
    "# while vif_data.sort_values('VIF', ascending=False,ignore_index = True).loc[0,\"VIF\"] > 5:\n",
    "#    ign_feat.append(vif_data.sort_values('VIF', ascending=False,ignore_index = True).loc[0,\"features\"])\n",
    "#    del prova[vif_data.sort_values('VIF', ascending=False,ignore_index = True).loc[0,\"features\"]]\n",
    "#    vif_data = pd.DataFrame()\n",
    "#    vif_data['features'] = prova.iloc[:,1:].columns\n",
    "    # calculating VIF for each feature\n",
    "#    vif_data[\"VIF\"] = [variance_inflation_factor(prova.iloc[:,1:].values, i)\n",
    "#                          for i in range(len(prova.iloc[:,1:].columns))]\n",
    "# ign_feat"
   ]
  },
  {
   "cell_type": "code",
   "execution_count": 97,
   "metadata": {},
   "outputs": [],
   "source": [
    "# OVERSAMPLING RANDOMLY\n",
    "#summarize class distribution\n",
    "# print(Counter(y))\n",
    "# define oversampling strategy\n",
    "# oversample = RandomOverSampler(sampling_strategy='minority')\n",
    "# fit and apply the transform\n",
    "#X_over, y_over = oversample.fit_resample(X, y) #now are oversampled\n",
    "# summarize class distribution\n",
    "#print(Counter(y))"
   ]
  },
  {
   "cell_type": "code",
   "execution_count": 98,
   "metadata": {},
   "outputs": [
    {
     "data": {
      "text/plain": [
       "{1: 0.5684326710816777, 0: 0.4315673289183223}"
      ]
     },
     "execution_count": 98,
     "metadata": {},
     "output_type": "execute_result"
    }
   ],
   "source": [
    "# UNDERSAMPLING WITH NEAR_MISS -> DOESN'T WORK!\n",
    "# summarize class distribution\n",
    "counter = Counter(y)\n",
    "counter = dict(counter)\n",
    "counter[1]=counter[1]/(cleaned[\"Y\"].value_counts()[0]+cleaned[\"Y\"].value_counts()[1])\n",
    "counter[0]=counter[0]/(cleaned[\"Y\"].value_counts()[0]+cleaned[\"Y\"].value_counts()[1])\n",
    "counter\n",
    "# print(counter)\n",
    "# define the undersampling method\n",
    "# undersample = NearMiss(version=3, n_neighbors_ver3=3)\n",
    "# transform the dataset\n",
    "# X, y = undersample.fit_resample(X, y)\n",
    "# summarize the new class distribution\n",
    "# counter = Counter(y)\n",
    "# print(counter)"
   ]
  },
  {
   "cell_type": "code",
   "execution_count": 99,
   "metadata": {},
   "outputs": [],
   "source": [
    "# RUNTIME PROBLEM WITH CONDENSED-NN\n",
    "# summarize class distribution\n",
    "# counter = Counter(y)\n",
    "# print(counter)\n",
    "# define the undersampling method\n",
    "# undersample = CondensedNearestNeighbour(n_neighbors=1)\n",
    "# transform the dataset\n",
    "# X, y = undersample.fit_resample(X, y)\n",
    "# summarize the new class distribution\n",
    "# counter = Counter(y)\n",
    "# print(counter)"
   ]
  },
  {
   "cell_type": "markdown",
   "metadata": {},
   "source": [
    "Stratify plays a key role, without it the whole process loses 1/1,5% accuracy. Therefore, the importance to obtain a perfectly balanced dataset, because it's the cross-validation estimate which gives the real accuracy of the estimator. Balancing the dataset, the accuracy might rise (using stratifiedKFold might add something too)."
   ]
  },
  {
   "cell_type": "code",
   "execution_count": 100,
   "metadata": {},
   "outputs": [],
   "source": [
    "# OVERSAMPLING RANDOMLY\n",
    "#summarize class distribution\n",
    "# print(Counter(y_train))\n",
    "# define oversampling strategy\n",
    "#oversample = RandomOverSampler(sampling_strategy='minority')\n",
    "# fit and apply the transform\n",
    "#X_over, y_over = oversample.fit_resample(X_train, y_train) #now are oversampled\n",
    "# summarize class distribution\n",
    "#print(Counter(y_over))"
   ]
  },
  {
   "cell_type": "code",
   "execution_count": 101,
   "metadata": {},
   "outputs": [
    {
     "name": "stdout",
     "output_type": "stream",
     "text": [
      "{1: 0.5684326710816777, 0: 0.4315673289183223}\n"
     ]
    }
   ],
   "source": [
    "# UNDERSAMPLING WITH NEAR_MISS \n",
    "# summarize class distribution\n",
    "counter = Counter(y)\n",
    "counter = dict(counter)\n",
    "counter[1]=counter[1]/(cleaned[\"Y\"].value_counts()[0]+cleaned[\"Y\"].value_counts()[1])\n",
    "counter[0]=counter[0]/(cleaned[\"Y\"].value_counts()[0]+cleaned[\"Y\"].value_counts()[1])\n",
    "print(counter)\n",
    "# define the undersampling method\n",
    "# undersample = NearMiss(version=3, n_neighbors_ver3=3)\n",
    "# transform the dataset\n",
    "# X_train_und, y_train_und = undersample.fit_resample(X_train, y_train)\n",
    "# summarize the new class distribution\n",
    "# counter = Counter(y)\n",
    "# print(counter)"
   ]
  },
  {
   "cell_type": "code",
   "execution_count": 102,
   "metadata": {},
   "outputs": [
    {
     "data": {
      "text/plain": [
       "(10147, 95)"
      ]
     },
     "execution_count": 102,
     "metadata": {},
     "output_type": "execute_result"
    }
   ],
   "source": [
    "prova.shape"
   ]
  },
  {
   "cell_type": "code",
   "execution_count": 103,
   "metadata": {},
   "outputs": [
    {
     "data": {
      "text/plain": [
       "5"
      ]
     },
     "execution_count": 103,
     "metadata": {},
     "output_type": "execute_result"
    }
   ],
   "source": [
    "skf = StratifiedKFold(n_splits=5)\n",
    "skf.get_n_splits(X_train, y_train) #folds stratified"
   ]
  },
  {
   "cell_type": "code",
   "execution_count": 104,
   "metadata": {},
   "outputs": [],
   "source": [
    "# multicollinearity in the train set\n",
    "#r = pd.DataFrame(X_train, columns = list(prova.columns)[1:])\n",
    "#ign_feat = []\n",
    "#vif_data = pd.DataFrame()\n",
    "#vif_data['features'] = r.iloc[:,1:].columns\n",
    "# calculating VIF for each feature\n",
    "#vif_data[\"VIF\"] = [variance_inflation_factor(r.iloc[:,1:].values, i)\n",
    "#                       for i in range(len(r.iloc[:,1:].columns))]\n",
    "#while vif_data.sort_values('VIF', ascending=False,ignore_index = True).loc[0,\"VIF\"] > 5:\n",
    "#    ign_feat.append(vif_data.sort_values('VIF', ascending=False,ignore_index = True).loc[0,\"features\"])\n",
    "#    del r[vif_data.sort_values('VIF', ascending=False,ignore_index = True).loc[0,\"features\"]]\n",
    "#    vif_data = pd.DataFrame()\n",
    "#    vif_data['features'] = r.iloc[:,1:].columns\n",
    "    # calculating VIF for each feature\n",
    "#    vif_data[\"VIF\"] = [variance_inflation_factor(r.iloc[:,1:].values, i)\n",
    "#                           for i in range(len(r.iloc[:,1:].columns))]\n",
    "#ign_feat"
   ]
  },
  {
   "cell_type": "code",
   "execution_count": 105,
   "metadata": {},
   "outputs": [],
   "source": [
    "# dropping correposnding features in test set\n",
    "#p = pd.DataFrame(X_test, columns = list(prova.columns)[1:])\n",
    "#p.drop(ign_feat,1,inplace = True) "
   ]
  },
  {
   "cell_type": "code",
   "execution_count": 106,
   "metadata": {},
   "outputs": [],
   "source": [
    "X_train, y_train = prova.iloc[:,1:].values,prova.iloc[:,:1].values\n",
    "X_test,y_test = prova_test.iloc[:,1:].values,prova_test.iloc[:,:1].values\n",
    "X,y = pd.concat([prova.iloc[:,1:],prova_test.iloc[:,1:]],axis=0),pd.concat([prova.iloc[:,:1],prova_test.iloc[:,:1]],axis=0)"
   ]
  },
  {
   "cell_type": "code",
   "execution_count": 107,
   "metadata": {},
   "outputs": [
    {
     "data": {
      "text/plain": [
       "0.6980685849428458"
      ]
     },
     "execution_count": 107,
     "metadata": {},
     "output_type": "execute_result"
    }
   ],
   "source": [
    "# we can change also criterion\n",
    "clf = tree.DecisionTreeClassifier(random_state=76)\n",
    "\n",
    "# Train Decision Tree Classifer\n",
    "clf = clf.fit(X_train,y_train)\n",
    "\n",
    "#Predict the response for test dataset\n",
    "y_pred = clf.predict(X_test)\n",
    "accuracy_score(y_test, y_pred)"
   ]
  },
  {
   "cell_type": "code",
   "execution_count": 108,
   "metadata": {},
   "outputs": [
    {
     "name": "stdout",
     "output_type": "stream",
     "text": [
      "              precision    recall  f1-score   support\n",
      "\n",
      "           0       0.65      0.65      0.65      1095\n",
      "           1       0.73      0.73      0.73      1442\n",
      "\n",
      "    accuracy                           0.70      2537\n",
      "   macro avg       0.69      0.69      0.69      2537\n",
      "weighted avg       0.70      0.70      0.70      2537\n",
      "\n"
     ]
    }
   ],
   "source": [
    "print(classification_report(y_test, y_pred))"
   ]
  },
  {
   "cell_type": "code",
   "execution_count": 109,
   "metadata": {},
   "outputs": [
    {
     "data": {
      "text/plain": [
       "(5171, 28)"
      ]
     },
     "execution_count": 109,
     "metadata": {},
     "output_type": "execute_result"
    }
   ],
   "source": [
    "int(clf.tree_.node_count), int(clf.tree_.max_depth)"
   ]
  },
  {
   "cell_type": "code",
   "execution_count": 110,
   "metadata": {},
   "outputs": [
    {
     "data": {
      "text/plain": [
       "(array([1000, 3000, 5000, 7000]),\n",
       " array([[1.        , 1.        , 1.        , 1.        , 1.        ],\n",
       "        [0.99933333, 0.99933333, 0.99966667, 0.99966667, 0.99966667],\n",
       "        [0.9996    , 0.9994    , 0.9992    , 0.9992    , 0.9992    ],\n",
       "        [0.99914286, 0.99871429, 0.99885714, 0.999     , 0.99928571]]),\n",
       " array([[0.60246305, 0.57980296, 0.58698866, 0.60128142, 0.58107442],\n",
       "        [0.65123153, 0.62660099, 0.62888122, 0.63824544, 0.64070971],\n",
       "        [0.66009852, 0.65566502, 0.6461311 , 0.65105964, 0.6673238 ],\n",
       "        [0.66945813, 0.69704433, 0.68358797, 0.67718088, 0.68358797]]))"
      ]
     },
     "execution_count": 110,
     "metadata": {},
     "output_type": "execute_result"
    }
   ],
   "source": [
    "sizes = range(1000, 8001, 2000)\n",
    "train_size, train_score, val_score = learning_curve(clf, X_train, y_train, train_sizes=sizes, cv=skf)\n",
    "train_size, train_score, val_score"
   ]
  },
  {
   "cell_type": "code",
   "execution_count": 111,
   "metadata": {},
   "outputs": [
    {
     "data": {
      "image/png": "[encoded data removed]",
      "text/plain": [
       "<Figure size 432x288 with 1 Axes>"
      ]
     },
     "metadata": {
      "needs_background": "light"
     },
     "output_type": "display_data"
    }
   ],
   "source": [
    "plt.title('Decision tree')\n",
    "train_score_mean = np.mean(train_score, axis=1)\n",
    "train_score_std = np.std(train_score, axis=1)\n",
    "val_score_mean = np.mean(val_score, axis=1)\n",
    "val_score_std = np.std(val_score, axis=1)\n",
    "plt.grid()\n",
    "plt.fill_between(train_size, train_score_mean - train_score_std,\n",
    "                 train_score_mean + train_score_std, alpha=0.1,\n",
    "                 color=\"r\")\n",
    "plt.fill_between(train_size, val_score_mean - val_score_std,\n",
    "                 val_score_mean + val_score_std, alpha=0.1, color=\"g\")\n",
    "plt.plot(train_size, train_score_mean, 'o-', color=\"r\",\n",
    "         label=\"Training score\")\n",
    "plt.plot(train_size, val_score_mean, 'o-', color=\"g\",\n",
    "         label=\"CV accuracy\")\n",
    "plt.legend()\n",
    "plt.xlabel('Training size')\n",
    "plt.ylabel('Accuracy')\n",
    "plt.show()"
   ]
  },
  {
   "cell_type": "code",
   "execution_count": 112,
   "metadata": {},
   "outputs": [
    {
     "data": {
      "text/plain": [
       "[0.59, 0.64, 0.66, 0.68]"
      ]
     },
     "execution_count": 112,
     "metadata": {},
     "output_type": "execute_result"
    }
   ],
   "source": [
    "list(np.round(np.mean(val_score, 1), decimals=2))"
   ]
  },
  {
   "cell_type": "markdown",
   "metadata": {},
   "source": [
    "No bias and large variance error -> Bagging and Random Forest!"
   ]
  },
  {
   "cell_type": "markdown",
   "metadata": {},
   "source": [
    "## TUNING MAX_DEPTH"
   ]
  },
  {
   "cell_type": "code",
   "execution_count": 113,
   "metadata": {},
   "outputs": [],
   "source": [
    "depths = range(1,40)\n",
    "train_score, val_score = validation_curve(DecisionTreeClassifier(), X_train, y_train, param_name = 'max_depth', param_range = depths, cv=skf,n_jobs=-1)\n",
    "gini_train_mean = []\n",
    "gini_val_mean = []\n",
    "for el in range(len(train_score)):\n",
    "    gini_train_mean.append(train_score[el].mean())\n",
    "    gini_val_mean.append(val_score[el].mean())"
   ]
  },
  {
   "cell_type": "code",
   "execution_count": 114,
   "metadata": {},
   "outputs": [
    {
     "data": {
      "image/png": "[encoded data removed]",
      "text/plain": [
       "<Figure size 432x288 with 1 Axes>"
      ]
     },
     "metadata": {
      "needs_background": "light"
     },
     "output_type": "display_data"
    }
   ],
   "source": [
    "plt.title('Gini_depths')\n",
    "plt.plot(depths, np.mean(val_score, 1), label='Testing accuracy')\n",
    "plt.plot(depths, np.mean(train_score, 1), label='CV_tuning_process')\n",
    "plt.legend()\n",
    "plt.xlabel('depths')\n",
    "plt.ylabel('Accuracy')\n",
    "plt.show()"
   ]
  },
  {
   "cell_type": "code",
   "execution_count": 115,
   "metadata": {},
   "outputs": [],
   "source": [
    "depths = range(1,50)\n",
    "entropy_train_score, entropy_val_score = validation_curve(tree.DecisionTreeClassifier(criterion = \"entropy\"), X_train, y_train, param_name = 'max_depth', param_range = depths, cv=skf,n_jobs=-1)\n",
    "entropy_train_mean = []\n",
    "entropy_val_mean = []\n",
    "for el in range(len(train_score)):\n",
    "    entropy_train_mean.append(entropy_train_score[el].mean())\n",
    "    entropy_val_mean.append(entropy_val_score[el].mean())"
   ]
  },
  {
   "cell_type": "code",
   "execution_count": 116,
   "metadata": {},
   "outputs": [
    {
     "data": {
      "image/png": "[encoded data removed]",
      "text/plain": [
       "<Figure size 432x288 with 1 Axes>"
      ]
     },
     "metadata": {
      "needs_background": "light"
     },
     "output_type": "display_data"
    }
   ],
   "source": [
    "plt.title('Entropy_depths')\n",
    "plt.plot(depths, np.mean(entropy_val_score, 1), label='CV_entropy_accuracy')\n",
    "plt.plot(depths, np.mean(entropy_train_score, 1), label='Training accuracy')\n",
    "plt.legend()\n",
    "plt.xlabel('depths')\n",
    "plt.ylabel('Accuracy')\n",
    "plt.show()"
   ]
  },
  {
   "cell_type": "code",
   "execution_count": 117,
   "metadata": {},
   "outputs": [
    {
     "data": {
      "text/plain": [
       "0.6968560309016794"
      ]
     },
     "execution_count": 117,
     "metadata": {},
     "output_type": "execute_result"
    }
   ],
   "source": [
    "max(entropy_val_mean) #slightly greater than gini criterion"
   ]
  },
  {
   "cell_type": "markdown",
   "metadata": {},
   "source": [
    "Automated selection of max_depth and criterion using GridSearchCV"
   ]
  },
  {
   "cell_type": "code",
   "execution_count": 118,
   "metadata": {},
   "outputs": [
    {
     "data": {
      "text/plain": [
       "({'criterion': 'gini', 'max_depth': 11}, 0.6976436255574952)"
      ]
     },
     "execution_count": 118,
     "metadata": {},
     "output_type": "execute_result"
    }
   ],
   "source": [
    "k_grid = {'max_depth': range(1, 40),'criterion':('gini','entropy')}\n",
    "learner = GridSearchCV(estimator=tree.DecisionTreeClassifier(), param_grid=k_grid, cv=skf, return_train_score=True,n_jobs=-1)\n",
    "learner.fit(X_train, y_train)\n",
    "learner.best_params_, learner.best_score_ # to check previous result"
   ]
  },
  {
   "cell_type": "code",
   "execution_count": 119,
   "metadata": {},
   "outputs": [
    {
     "data": {
      "text/plain": [
       "(0.8208176774221467, 0.7061655324540648)"
      ]
     },
     "execution_count": 119,
     "metadata": {},
     "output_type": "execute_result"
    }
   ],
   "source": [
    "model = learner.best_estimator_\n",
    "scores = cross_validate(model, X, y, cv=skf,return_train_score=True)\n",
    "scores['train_score'].mean(),scores[\"test_score\"].mean()"
   ]
  },
  {
   "cell_type": "markdown",
   "metadata": {},
   "source": [
    "Now we go through all the possible depths using CV to compare our selected model with the other possible depths to understand if it works well also in the previously unkonwn fold. "
   ]
  },
  {
   "cell_type": "code",
   "execution_count": 120,
   "metadata": {},
   "outputs": [
    {
     "name": "stdout",
     "output_type": "stream",
     "text": [
      "The Training Accuracy for max_depth 1 is: 0.5684326719649221\n",
      "The test Accuracy for max_depth 1 is: 0.5684326852177677\n",
      "\n",
      "The Training Accuracy for max_depth 2 is: 0.6114002426063317\n",
      "The test Accuracy for max_depth 2 is: 0.6114010437325686\n",
      "\n",
      "The Training Accuracy for max_depth 3 is: 0.6368653011996804\n",
      "The test Accuracy for max_depth 3 is: 0.6354462472753408\n",
      "\n",
      "The Training Accuracy for max_depth 4 is: 0.6661935667096908\n",
      "The test Accuracy for max_depth 4 is: 0.6620156696662269\n",
      "\n",
      "The Training Accuracy for max_depth 5 is: 0.677112858015163\n",
      "The test Accuracy for max_depth 5 is: 0.6710031284621669\n",
      "\n",
      "The Training Accuracy for max_depth 6 is: 0.7049431729609429\n",
      "The test Accuracy for max_depth 6 is: 0.6970990227907723\n",
      "\n",
      "The Training Accuracy for max_depth 7 is: 0.715251494788532\n",
      "The test Accuracy for max_depth 7 is: 0.6963889638399013\n",
      "\n",
      "The Training Accuracy for max_depth 8 is: 0.7354934784252878\n",
      "The test Accuracy for max_depth 8 is: 0.7049039514864548\n",
      "\n",
      "The Training Accuracy for max_depth 9 is: 0.7530944194056476\n",
      "The test Accuracy for max_depth 9 is: 0.700961977247774\n",
      "\n",
      "The Training Accuracy for max_depth 10 is: 0.7743614278074465\n",
      "The test Accuracy for max_depth 10 is: 0.6966258988422451\n",
      "\n",
      "The Training Accuracy for max_depth 11 is: 0.7971066124190405\n",
      "The test Accuracy for max_depth 11 is: 0.7049830334394805\n",
      "\n",
      "The Training Accuracy for max_depth 12 is: 0.8215468501867639\n",
      "The test Accuracy for max_depth 12 is: 0.7000158847790866\n",
      "\n",
      "The Training Accuracy for max_depth 13 is: 0.8426364312948106\n",
      "The test Accuracy for max_depth 13 is: 0.7037213281291772\n",
      "\n",
      "The Training Accuracy for max_depth 14 is: 0.8667809879827629\n",
      "The test Accuracy for max_depth 14 is: 0.7001737378284045\n",
      "\n",
      "The Training Accuracy for max_depth 15 is: 0.8879494081852892\n",
      "The test Accuracy for max_depth 15 is: 0.6953648152454089\n",
      "\n",
      "The Training Accuracy for max_depth 16 is: 0.9092163660878038\n",
      "The test Accuracy for max_depth 16 is: 0.6953650017594492\n",
      "\n",
      "The Training Accuracy for max_depth 17 is: 0.9265413576126642\n",
      "The test Accuracy for max_depth 17 is: 0.6957588572409102\n",
      "\n",
      "The Training Accuracy for max_depth 18 is: 0.9418953892560596\n",
      "The test Accuracy for max_depth 18 is: 0.6929210461199484\n",
      "\n",
      "The Training Accuracy for max_depth 19 is: 0.9548841839698256\n",
      "The test Accuracy for max_depth 19 is: 0.6853523374561226\n",
      "\n",
      "The Training Accuracy for max_depth 20 is: 0.9652712633161272\n",
      "The test Accuracy for max_depth 20 is: 0.6863768901643686\n",
      "\n",
      "The Training Accuracy for max_depth 21 is: 0.9732537998089494\n",
      "The test Accuracy for max_depth 21 is: 0.6862983366677899\n",
      "\n",
      "The Training Accuracy for max_depth 22 is: 0.9800733843948433\n",
      "The test Accuracy for max_depth 22 is: 0.6894519160587345\n",
      "\n",
      "The Training Accuracy for max_depth 23 is: 0.984646051874652\n",
      "The test Accuracy for max_depth 23 is: 0.6867708389028498\n",
      "\n",
      "The Training Accuracy for max_depth 24 is: 0.9887259725861138\n",
      "The test Accuracy for max_depth 24 is: 0.6851159309102258\n",
      "\n",
      "The Training Accuracy for max_depth 25 is: 0.991702163455385\n",
      "The test Accuracy for max_depth 25 is: 0.6858248086055092\n",
      "\n",
      "The Training Accuracy for max_depth 26 is: 0.9935943114342927\n",
      "The test Accuracy for max_depth 26 is: 0.684879089164902\n",
      "\n",
      "The Training Accuracy for max_depth 27 is: 0.9954470350102606\n",
      "The test Accuracy for max_depth 27 is: 0.687401909157715\n",
      "\n",
      "The Training Accuracy for max_depth 28 is: 0.9961960093212356\n",
      "The test Accuracy for max_depth 28 is: 0.6860616503508329\n",
      "\n",
      "The Training Accuracy for max_depth 29 is: 0.9969450030550124\n",
      "The test Accuracy for max_depth 29 is: 0.6866925962630047\n",
      "\n",
      "The Training Accuracy for max_depth 30 is: 0.9973194785568191\n",
      "The test Accuracy for max_depth 30 is: 0.6880325442131533\n",
      "\n",
      "The Training Accuracy for max_depth 31 is: 0.9975757002726067\n",
      "The test Accuracy for max_depth 31 is: 0.6860617125221797\n",
      "\n",
      "The Training Accuracy for max_depth 32 is: 0.9981275545111613\n",
      "The test Accuracy for max_depth 32 is: 0.6887418571078635\n",
      "\n",
      "The Training Accuracy for max_depth 33 is: 0.9980881475887425\n",
      "The test Accuracy for max_depth 33 is: 0.6848789337365353\n",
      "\n",
      "The Training Accuracy for max_depth 34 is: 0.9984429244850404\n",
      "The test Accuracy for max_depth 34 is: 0.6849577359185008\n",
      "\n",
      "The Training Accuracy for max_depth 35 is: 0.9982655360368915\n",
      "The test Accuracy for max_depth 35 is: 0.6870864828301393\n",
      "\n",
      "The Training Accuracy for max_depth 36 is: 0.9985414699541494\n",
      "The test Accuracy for max_depth 36 is: 0.6890574077781328\n",
      "\n",
      "The Training Accuracy for max_depth 37 is: 0.9985217616372395\n",
      "The test Accuracy for max_depth 37 is: 0.6855099418200539\n",
      "\n",
      "The Training Accuracy for max_depth 38 is: 0.9985414699541494\n",
      "The test Accuracy for max_depth 38 is: 0.6871650363267179\n",
      "\n",
      "The Training Accuracy for max_depth 39 is: 0.9985414699541494\n",
      "The test Accuracy for max_depth 39 is: 0.6844063071587819\n",
      "\n"
     ]
    }
   ],
   "source": [
    "train_perf = []\n",
    "test_perf = []\n",
    "depths = []\n",
    "for max_d in range(1,40):\n",
    "   scores = cross_validate(tree.DecisionTreeClassifier(criterion = \"entropy\",max_depth = max_d), X, y, cv=skf,return_train_score=True,n_jobs=-1) \n",
    "   print('The Training Accuracy for max_depth {} is:'.format(max_d), scores['train_score'].mean())\n",
    "   train_perf.append(scores['train_score'].mean())\n",
    "   print('The test Accuracy for max_depth {} is:'.format(max_d),scores[\"test_score\"].mean() )\n",
    "   test_perf.append(scores['test_score'].mean())\n",
    "   depths.append(max_d)\n",
    "   print('')"
   ]
  },
  {
   "cell_type": "code",
   "execution_count": 121,
   "metadata": {},
   "outputs": [
    {
     "data": {
      "text/plain": [
       "Text(0, 0.5, 'Accuracy')"
      ]
     },
     "execution_count": 121,
     "metadata": {},
     "output_type": "execute_result"
    },
    {
     "data": {
      "image/png": "[encoded data removed]",
      "text/plain": [
       "<Figure size 432x288 with 1 Axes>"
      ]
     },
     "metadata": {
      "needs_background": "light"
     },
     "output_type": "display_data"
    }
   ],
   "source": [
    "plt.title(\"Depth_tuning\")\n",
    "plt.plot(depths,train_perf,label = \"Training accuracy\")\n",
    "plt.plot(depths,test_perf,label = \"CV accuracy\")\n",
    "plt.legend()\n",
    "plt.xlabel('Depths')\n",
    "plt.ylabel('Accuracy')"
   ]
  },
  {
   "cell_type": "code",
   "execution_count": 122,
   "metadata": {},
   "outputs": [
    {
     "data": {
      "text/plain": [
       "0.7083169097359086"
      ]
     },
     "execution_count": 122,
     "metadata": {},
     "output_type": "execute_result"
    }
   ],
   "source": [
    "# we can change also criterion\n",
    "clf = model\n",
    "\n",
    "# Train Decision Tree Classifer\n",
    "clf = clf.fit(X_train,y_train)\n",
    "\n",
    "#Predict the response for test dataset\n",
    "y_pred = clf.predict(X_test)\n",
    "accuracy_score(y_test, y_pred)"
   ]
  },
  {
   "cell_type": "code",
   "execution_count": 123,
   "metadata": {},
   "outputs": [
    {
     "name": "stdout",
     "output_type": "stream",
     "text": [
      "              precision    recall  f1-score   support\n",
      "\n",
      "           0       0.68      0.62      0.65      1095\n",
      "           1       0.73      0.77      0.75      1442\n",
      "\n",
      "    accuracy                           0.71      2537\n",
      "   macro avg       0.70      0.70      0.70      2537\n",
      "weighted avg       0.71      0.71      0.71      2537\n",
      "\n"
     ]
    }
   ],
   "source": [
    "print(classification_report(y_test, y_pred))"
   ]
  },
  {
   "cell_type": "markdown",
   "metadata": {},
   "source": [
    "Precision (how many positive identification correct?) and recall (what proportion of true positive correctly identified?) are here given.\n",
    "(Note: Consider the values according the proportion of 1/0 in our dataset: a predictor without clues would classify following these proportions: 0.56 for 1, 0.43 for 0), based on this fact we should evaluate our metrics)."
   ]
  },
  {
   "cell_type": "markdown",
   "metadata": {},
   "source": [
    "Here what it would have been the best for our specific split."
   ]
  },
  {
   "cell_type": "code",
   "execution_count": 124,
   "metadata": {},
   "outputs": [
    {
     "name": "stdout",
     "output_type": "stream",
     "text": [
      "The Training Accuracy for max_depth 1 is: 0.5684438750369567\n",
      "The test Accuracy for max_depth 1 is: 0.5683878596767836\n",
      "\n",
      "The Training Accuracy for max_depth 2 is: 0.6087513550803193\n",
      "The test Accuracy for max_depth 2 is: 0.6219944816712653\n",
      "\n",
      "The Training Accuracy for max_depth 3 is: 0.6390066029368286\n",
      "The test Accuracy for max_depth 3 is: 0.6353961371698857\n",
      "\n",
      "The Training Accuracy for max_depth 4 is: 0.669458953385237\n",
      "The test Accuracy for max_depth 4 is: 0.668506109578242\n",
      "\n",
      "The Training Accuracy for max_depth 5 is: 0.6792155316842416\n",
      "The test Accuracy for max_depth 5 is: 0.6744186046511628\n",
      "\n",
      "The Training Accuracy for max_depth 6 is: 0.708189612693407\n",
      "The test Accuracy for max_depth 6 is: 0.7008277493102089\n",
      "\n",
      "The Training Accuracy for max_depth 7 is: 0.715482408593673\n",
      "The test Accuracy for max_depth 7 is: 0.6941269215608987\n",
      "\n",
      "The Training Accuracy for max_depth 8 is: 0.7384448605499162\n",
      "The test Accuracy for max_depth 8 is: 0.7079227433977139\n",
      "\n",
      "The Training Accuracy for max_depth 9 is: 0.7553956834532374\n",
      "The test Accuracy for max_depth 9 is: 0.703586913677572\n",
      "\n",
      "The Training Accuracy for max_depth 10 is: 0.7729378141322558\n",
      "The test Accuracy for max_depth 10 is: 0.7000394166338195\n",
      "\n",
      "The Training Accuracy for max_depth 11 is: 0.7978712920074899\n",
      "The test Accuracy for max_depth 11 is: 0.7094994087504927\n",
      "\n",
      "The Training Accuracy for max_depth 12 is: 0.8213265004434809\n",
      "The test Accuracy for max_depth 12 is: 0.6960977532518723\n",
      "\n",
      "The Training Accuracy for max_depth 13 is: 0.8428106829604809\n",
      "The test Accuracy for max_depth 13 is: 0.7024044146629878\n",
      "\n",
      "The Training Accuracy for max_depth 14 is: 0.8659702375086232\n",
      "The test Accuracy for max_depth 14 is: 0.7031927473393772\n",
      "\n",
      "The Training Accuracy for max_depth 15 is: 0.8842022272592884\n",
      "The test Accuracy for max_depth 15 is: 0.6953094205754828\n",
      "\n",
      "The Training Accuracy for max_depth 16 is: 0.9082487434709766\n",
      "The test Accuracy for max_depth 16 is: 0.7075285770595191\n",
      "\n",
      "The Training Accuracy for max_depth 17 is: 0.9236227456391052\n",
      "The test Accuracy for max_depth 17 is: 0.6984627512810406\n",
      "\n",
      "The Training Accuracy for max_depth 18 is: 0.9356460037449492\n",
      "The test Accuracy for max_depth 18 is: 0.7004335829720142\n",
      "\n",
      "The Training Accuracy for max_depth 19 is: 0.9488518774021878\n",
      "The test Accuracy for max_depth 19 is: 0.6980685849428458\n",
      "\n",
      "The Training Accuracy for max_depth 20 is: 0.9643244308662658\n",
      "The test Accuracy for max_depth 20 is: 0.6917619235317304\n",
      "\n",
      "The Training Accuracy for max_depth 21 is: 0.9695476495515916\n",
      "The test Accuracy for max_depth 21 is: 0.689396925502562\n",
      "\n",
      "The Training Accuracy for max_depth 22 is: 0.9765447915640091\n",
      "The test Accuracy for max_depth 22 is: 0.6929444225463145\n",
      "\n",
      "The Training Accuracy for max_depth 23 is: 0.9825564206169312\n",
      "The test Accuracy for max_depth 23 is: 0.6878202601497833\n",
      "\n",
      "The Training Accuracy for max_depth 24 is: 0.9880752931901055\n",
      "The test Accuracy for max_depth 24 is: 0.6949152542372882\n",
      "\n",
      "The Training Accuracy for max_depth 25 is: 0.9925101015078348\n",
      "The test Accuracy for max_depth 25 is: 0.6886085928261726\n",
      "\n",
      "The Training Accuracy for max_depth 26 is: 0.9936927170592293\n",
      "The test Accuracy for max_depth 26 is: 0.6874260938115885\n",
      "\n",
      "The Training Accuracy for max_depth 27 is: 0.9939883709470779\n",
      "The test Accuracy for max_depth 27 is: 0.689396925502562\n",
      "\n"
     ]
    }
   ],
   "source": [
    "train_perf = []\n",
    "test_perf = []\n",
    "depths = []\n",
    "for max_d in range(1,28):\n",
    "   model = tree.DecisionTreeClassifier(criterion = \"entropy\", max_depth=max_d, random_state=22)\n",
    "   model.fit(X_train, y_train)\n",
    "   print('The Training Accuracy for max_depth {} is:'.format(max_d), model.score(X_train, y_train))\n",
    "   train_perf.append(model.score(X_train, y_train))\n",
    "   print('The test Accuracy for max_depth {} is:'.format(max_d), model.score(X_test,y_test))\n",
    "   test_perf.append(model.score(X_test,y_test))\n",
    "   depths.append(max_d)\n",
    "   print('') #8 should be the best one, given the prvious result"
   ]
  },
  {
   "cell_type": "code",
   "execution_count": 125,
   "metadata": {},
   "outputs": [
    {
     "data": {
      "text/plain": [
       "Text(0, 0.5, 'Accuracy')"
      ]
     },
     "execution_count": 125,
     "metadata": {},
     "output_type": "execute_result"
    },
    {
     "data": {
      "image/png": "[encoded data removed]",
      "text/plain": [
       "<Figure size 432x288 with 1 Axes>"
      ]
     },
     "metadata": {
      "needs_background": "light"
     },
     "output_type": "display_data"
    }
   ],
   "source": [
    "plt.title(\"Optimal_split_performance\")\n",
    "plt.plot(depths,train_perf,label = \"Training accuracy\")\n",
    "plt.plot(depths,test_perf,label = \"test accuracy\")\n",
    "plt.legend()\n",
    "plt.xlabel('Depths')\n",
    "plt.ylabel('Accuracy')"
   ]
  },
  {
   "cell_type": "markdown",
   "metadata": {},
   "source": [
    "The performance on our initial split is instead 0.70, improved performance respect the starting point."
   ]
  },
  {
   "cell_type": "markdown",
   "metadata": {},
   "source": [
    "### TRYING TO TUNE MORE PARAMTERS"
   ]
  },
  {
   "cell_type": "code",
   "execution_count": 126,
   "metadata": {},
   "outputs": [
    {
     "data": {
      "text/plain": [
       "({'criterion': 'entropy', 'max_depth': 9, 'min_samples_leaf': 1},\n",
       " 0.6966587437816683)"
      ]
     },
     "execution_count": 126,
     "metadata": {},
     "output_type": "execute_result"
    }
   ],
   "source": [
    "k_grid = {'max_depth': range(1, 40),'min_samples_leaf': range(1,10,3),'criterion':('gini','entropy')}\n",
    "learner = GridSearchCV(estimator=tree.DecisionTreeClassifier(random_state=9), param_grid=k_grid, cv=skf, return_train_score=True,n_jobs=-1)\n",
    "learner.fit(X_train, y_train)\n",
    "learner.best_params_, learner.best_score_ # to check previous result"
   ]
  },
  {
   "cell_type": "code",
   "execution_count": 127,
   "metadata": {},
   "outputs": [
    {
     "data": {
      "text/plain": [
       "(0.7530944174633672, 0.7012774968323698)"
      ]
     },
     "execution_count": 127,
     "metadata": {},
     "output_type": "execute_result"
    }
   ],
   "source": [
    "model = learner.best_estimator_\n",
    "scores = cross_validate(model, X, y, cv=skf,return_train_score=True)\n",
    "scores['train_score'].mean(),scores[\"test_score\"].mean() #these are the performances on the entire dataset with cross-validate estimates"
   ]
  },
  {
   "cell_type": "markdown",
   "metadata": {},
   "source": [
    "The performance decreases and the overfitting increases."
   ]
  },
  {
   "cell_type": "code",
   "execution_count": 128,
   "metadata": {},
   "outputs": [
    {
     "name": "stdout",
     "output_type": "stream",
     "text": [
      "The Training Accuracy for max_depth 1 is: 0.5684326719649221\n",
      "The test Accuracy for max_depth 1 is: 0.5684326852177677\n",
      "\n",
      "The Training Accuracy for max_depth 2 is: 0.6114002426063317\n",
      "The test Accuracy for max_depth 2 is: 0.6114010437325686\n",
      "\n",
      "The Training Accuracy for max_depth 3 is: 0.6368653011996804\n",
      "The test Accuracy for max_depth 3 is: 0.6354462472753408\n",
      "\n",
      "The Training Accuracy for max_depth 4 is: 0.666154146191311\n",
      "The test Accuracy for max_depth 4 is: 0.6621733362015048\n",
      "\n",
      "The Training Accuracy for max_depth 5 is: 0.6770537233530328\n",
      "The test Accuracy for max_depth 5 is: 0.6710030662908202\n",
      "\n",
      "The Training Accuracy for max_depth 6 is: 0.7037803006875011\n",
      "The test Accuracy for max_depth 6 is: 0.6963106279430361\n",
      "\n",
      "The Training Accuracy for max_depth 7 is: 0.713832393030182\n",
      "The test Accuracy for max_depth 7 is: 0.6945757986842056\n",
      "\n",
      "The Training Accuracy for max_depth 8 is: 0.7322216628023707\n",
      "The test Accuracy for max_depth 8 is: 0.7030909417591257\n",
      "\n",
      "The Training Accuracy for max_depth 9 is: 0.7459003301837448\n",
      "The test Accuracy for max_depth 9 is: 0.7002526332673904\n",
      "\n",
      "The Training Accuracy for max_depth 10 is: 0.7619048042649675\n",
      "The test Accuracy for max_depth 10 is: 0.6948917845539019\n",
      "\n",
      "The Training Accuracy for max_depth 11 is: 0.7755637283683887\n",
      "The test Accuracy for max_depth 11 is: 0.6978875419812018\n",
      "\n",
      "The Training Accuracy for max_depth 12 is: 0.7889466991317503\n",
      "The test Accuracy for max_depth 12 is: 0.6911073525078055\n",
      "\n",
      "The Training Accuracy for max_depth 13 is: 0.7985651346957703\n",
      "The test Accuracy for max_depth 13 is: 0.6936301725006186\n",
      "\n",
      "The Training Accuracy for max_depth 14 is: 0.8066658414565641\n",
      "The test Accuracy for max_depth 14 is: 0.6887421990502706\n",
      "\n",
      "The Training Accuracy for max_depth 15 is: 0.8139585363582611\n",
      "The test Accuracy for max_depth 15 is: 0.6859836253107013\n",
      "\n",
      "The Training Accuracy for max_depth 16 is: 0.81900427530827\n",
      "The test Accuracy for max_depth 16 is: 0.6833032631253039\n",
      "\n",
      "The Training Accuracy for max_depth 17 is: 0.82229583615142\n",
      "The test Accuracy for max_depth 17 is: 0.6801495283059925\n",
      "\n",
      "The Training Accuracy for max_depth 18 is: 0.8245822067946478\n",
      "The test Accuracy for max_depth 18 is: 0.6833817544505358\n",
      "\n",
      "The Training Accuracy for max_depth 19 is: 0.8257056721456706\n",
      "The test Accuracy for max_depth 19 is: 0.6798340087213967\n",
      "\n",
      "The Training Accuracy for max_depth 20 is: 0.8266320290779541\n",
      "The test Accuracy for max_depth 20 is: 0.6820418065003874\n",
      "\n",
      "The Training Accuracy for max_depth 21 is: 0.8267305920275849\n",
      "The test Accuracy for max_depth 21 is: 0.6802285170019982\n",
      "\n",
      "The Training Accuracy for max_depth 22 is: 0.8271642002492412\n",
      "The test Accuracy for max_depth 22 is: 0.6802281750595912\n",
      "\n",
      "The Training Accuracy for max_depth 23 is: 0.826829129727573\n",
      "The test Accuracy for max_depth 23 is: 0.6810955586033332\n",
      "\n",
      "The Training Accuracy for max_depth 24 is: 0.8272430393437205\n",
      "The test Accuracy for max_depth 24 is: 0.6805433837874535\n",
      "\n",
      "The Training Accuracy for max_depth 25 is: 0.8270656606069726\n",
      "The test Accuracy for max_depth 25 is: 0.6825143709067939\n",
      "\n",
      "The Training Accuracy for max_depth 26 is: 0.8270065201180021\n",
      "The test Accuracy for max_depth 26 is: 0.6799126554749954\n",
      "\n",
      "The Training Accuracy for max_depth 27 is: 0.8271642099606421\n",
      "The test Accuracy for max_depth 27 is: 0.6803856239951556\n",
      "\n",
      "The Training Accuracy for max_depth 28 is: 0.8268094252952236\n",
      "The test Accuracy for max_depth 28 is: 0.6803065420421298\n",
      "\n",
      "The Training Accuracy for max_depth 29 is: 0.8274401361087792\n",
      "The test Accuracy for max_depth 29 is: 0.6818048714980435\n",
      "\n",
      "The Training Accuracy for max_depth 30 is: 0.8271050675293914\n",
      "The test Accuracy for max_depth 30 is: 0.6790453962739469\n",
      "\n",
      "The Training Accuracy for max_depth 31 is: 0.8271247855577017\n",
      "The test Accuracy for max_depth 31 is: 0.6807010192370581\n",
      "\n",
      "The Training Accuracy for max_depth 32 is: 0.8269671054264627\n",
      "The test Accuracy for max_depth 32 is: 0.6796762178434251\n",
      "\n",
      "The Training Accuracy for max_depth 33 is: 0.8268882566205825\n",
      "The test Accuracy for max_depth 33 is: 0.6787304984028182\n",
      "\n",
      "The Training Accuracy for max_depth 34 is: 0.8271642021915213\n",
      "The test Accuracy for max_depth 34 is: 0.678178105987225\n",
      "\n",
      "The Training Accuracy for max_depth 35 is: 0.8272233213154101\n",
      "The test Accuracy for max_depth 35 is: 0.6814893519134475\n",
      "\n",
      "The Training Accuracy for max_depth 36 is: 0.8270459464632223\n",
      "The test Accuracy for max_depth 36 is: 0.6792034047516318\n",
      "\n",
      "The Training Accuracy for max_depth 37 is: 0.8269671131955836\n",
      "The test Accuracy for max_depth 37 is: 0.6806224035691327\n",
      "\n",
      "The Training Accuracy for max_depth 38 is: 0.8272430451705611\n",
      "The test Accuracy for max_depth 38 is: 0.6816472671341123\n",
      "\n",
      "The Training Accuracy for max_depth 39 is: 0.8269868098588121\n",
      "The test Accuracy for max_depth 39 is: 0.6812529764532241\n",
      "\n"
     ]
    }
   ],
   "source": [
    "train_perf = []\n",
    "test_perf = []\n",
    "depths = []\n",
    "for max_d in range(1,40):\n",
    "   scores = cross_validate(tree.DecisionTreeClassifier(criterion='entropy',max_depth = max_d, min_samples_leaf=7), X, y, cv=skf,return_train_score=True) \n",
    "   print('The Training Accuracy for max_depth {} is:'.format(max_d), scores['train_score'].mean())\n",
    "   train_perf.append(scores['train_score'].mean())\n",
    "   print('The test Accuracy for max_depth {} is:'.format(max_d),scores[\"test_score\"].mean() )\n",
    "   test_perf.append(scores['test_score'].mean())\n",
    "   depths.append(max_d)\n",
    "   print('') #in the outside cv 6 is the best"
   ]
  },
  {
   "cell_type": "code",
   "execution_count": 129,
   "metadata": {},
   "outputs": [
    {
     "data": {
      "text/plain": [
       "Text(0, 0.5, 'Accuracy')"
      ]
     },
     "execution_count": 129,
     "metadata": {},
     "output_type": "execute_result"
    },
    {
     "data": {
      "image/png": "[encoded data removed]",
      "text/plain": [
       "<Figure size 432x288 with 1 Axes>"
      ]
     },
     "metadata": {
      "needs_background": "light"
     },
     "output_type": "display_data"
    }
   ],
   "source": [
    "plt.title(\"Depth_tuning\")\n",
    "plt.plot(depths,train_perf,label = \"Training accuracy\")\n",
    "plt.plot(depths,test_perf,label = \"CV accuracy\")\n",
    "plt.legend()\n",
    "plt.xlabel('Depths')\n",
    "plt.ylabel('Accuracy')"
   ]
  },
  {
   "cell_type": "code",
   "execution_count": 130,
   "metadata": {},
   "outputs": [
    {
     "data": {
      "text/plain": [
       "0.7030909417591257"
      ]
     },
     "execution_count": 130,
     "metadata": {},
     "output_type": "execute_result"
    }
   ],
   "source": [
    "max(test_perf)"
   ]
  },
  {
   "cell_type": "code",
   "execution_count": 131,
   "metadata": {},
   "outputs": [
    {
     "data": {
      "text/plain": [
       "0.7047694126921561"
      ]
     },
     "execution_count": 131,
     "metadata": {},
     "output_type": "execute_result"
    }
   ],
   "source": [
    "# we can change also criterion\n",
    "clf = model\n",
    "\n",
    "# Train Decision Tree Classifer\n",
    "clf = clf.fit(X_train,y_train)\n",
    "\n",
    "#Predict the response for test dataset\n",
    "y_pred = clf.predict(X_test)\n",
    "accuracy_score(y_test, y_pred)"
   ]
  },
  {
   "cell_type": "code",
   "execution_count": 132,
   "metadata": {},
   "outputs": [
    {
     "name": "stdout",
     "output_type": "stream",
     "text": [
      "              precision    recall  f1-score   support\n",
      "\n",
      "           0       0.67      0.63      0.65      1095\n",
      "           1       0.73      0.76      0.75      1442\n",
      "\n",
      "    accuracy                           0.70      2537\n",
      "   macro avg       0.70      0.70      0.70      2537\n",
      "weighted avg       0.70      0.70      0.70      2537\n",
      "\n"
     ]
    }
   ],
   "source": [
    "print(classification_report(y_test, y_pred))"
   ]
  },
  {
   "cell_type": "code",
   "execution_count": 133,
   "metadata": {},
   "outputs": [
    {
     "data": {
      "text/plain": [
       "0.39381943777631956"
      ]
     },
     "execution_count": 133,
     "metadata": {},
     "output_type": "execute_result"
    }
   ],
   "source": [
    "cohen_kappa_score(y_test, y_pred)"
   ]
  },
  {
   "cell_type": "markdown",
   "metadata": {},
   "source": [
    "Both the criterion give as best max_depth = 8. The Entropy criterion seems to perform better, therefore we will try to go on with this criterion. Here best performance given our split"
   ]
  },
  {
   "cell_type": "code",
   "execution_count": 134,
   "metadata": {},
   "outputs": [
    {
     "name": "stdout",
     "output_type": "stream",
     "text": [
      "The Training Accuracy for max_depth 1 is: 0.5684438750369567\n",
      "The test Accuracy for max_depth 1 is: 0.5683878596767836\n",
      "\n",
      "The Training Accuracy for max_depth 2 is: 0.6087513550803193\n",
      "The test Accuracy for max_depth 2 is: 0.6219944816712653\n",
      "\n",
      "The Training Accuracy for max_depth 3 is: 0.6390066029368286\n",
      "The test Accuracy for max_depth 3 is: 0.6353961371698857\n",
      "\n",
      "The Training Accuracy for max_depth 4 is: 0.669458953385237\n",
      "The test Accuracy for max_depth 4 is: 0.668506109578242\n",
      "\n",
      "The Training Accuracy for max_depth 5 is: 0.6794126342761407\n",
      "The test Accuracy for max_depth 5 is: 0.6736302719747733\n",
      "\n",
      "The Training Accuracy for max_depth 6 is: 0.7065142406622648\n",
      "The test Accuracy for max_depth 6 is: 0.7000394166338195\n",
      "\n",
      "The Training Accuracy for max_depth 7 is: 0.7136099339706317\n",
      "The test Accuracy for max_depth 7 is: 0.693732755222704\n",
      "\n",
      "The Training Accuracy for max_depth 8 is: 0.7337143983443383\n",
      "The test Accuracy for max_depth 8 is: 0.7075285770595191\n",
      "\n",
      "The Training Accuracy for max_depth 9 is: 0.7468217207056272\n",
      "The test Accuracy for max_depth 9 is: 0.703586913677572\n",
      "\n",
      "The Training Accuracy for max_depth 10 is: 0.7596333891790678\n",
      "The test Accuracy for max_depth 10 is: 0.7039810800157666\n",
      "\n",
      "The Training Accuracy for max_depth 11 is: 0.7744160835714989\n",
      "The test Accuracy for max_depth 11 is: 0.7016160819865983\n",
      "\n",
      "The Training Accuracy for max_depth 12 is: 0.7893958805558293\n",
      "The test Accuracy for max_depth 12 is: 0.6976744186046512\n",
      "\n",
      "The Training Accuracy for max_depth 13 is: 0.7977727407115404\n",
      "The test Accuracy for max_depth 13 is: 0.6988569176192353\n",
      "\n",
      "The Training Accuracy for max_depth 14 is: 0.8084162806740909\n",
      "The test Accuracy for max_depth 14 is: 0.6972802522664564\n",
      "\n",
      "The Training Accuracy for max_depth 15 is: 0.8139351532472652\n",
      "The test Accuracy for max_depth 15 is: 0.7004335829720142\n",
      "\n",
      "The Training Accuracy for max_depth 16 is: 0.8171873460136001\n",
      "The test Accuracy for max_depth 16 is: 0.7031927473393772\n",
      "\n",
      "The Training Accuracy for max_depth 17 is: 0.8210308465556322\n",
      "The test Accuracy for max_depth 17 is: 0.7012219156484036\n",
      "\n",
      "The Training Accuracy for max_depth 18 is: 0.8222134621070267\n",
      "The test Accuracy for max_depth 18 is: 0.7012219156484036\n",
      "\n",
      "The Training Accuracy for max_depth 19 is: 0.8233960776584212\n",
      "The test Accuracy for max_depth 19 is: 0.6957035869136776\n",
      "\n",
      "The Training Accuracy for max_depth 20 is: 0.8234946289543708\n",
      "The test Accuracy for max_depth 20 is: 0.7004335829720142\n",
      "\n",
      "The Training Accuracy for max_depth 21 is: 0.8237902828422193\n",
      "The test Accuracy for max_depth 21 is: 0.6988569176192353\n",
      "\n",
      "The Training Accuracy for max_depth 22 is: 0.8242830393219671\n",
      "The test Accuracy for max_depth 22 is: 0.6945210878990934\n",
      "\n",
      "The Training Accuracy for max_depth 23 is: 0.8246772445057653\n",
      "The test Accuracy for max_depth 23 is: 0.6953094205754828\n",
      "\n",
      "The Training Accuracy for max_depth 24 is: 0.8246772445057653\n",
      "The test Accuracy for max_depth 24 is: 0.6953094205754828\n",
      "\n",
      "The Training Accuracy for max_depth 25 is: 0.8246772445057653\n",
      "The test Accuracy for max_depth 25 is: 0.6953094205754828\n",
      "\n",
      "The Training Accuracy for max_depth 26 is: 0.8246772445057653\n",
      "The test Accuracy for max_depth 26 is: 0.6953094205754828\n",
      "\n",
      "The Training Accuracy for max_depth 27 is: 0.8246772445057653\n",
      "The test Accuracy for max_depth 27 is: 0.6953094205754828\n",
      "\n"
     ]
    }
   ],
   "source": [
    "train_perf = []\n",
    "test_perf = []\n",
    "depths = []\n",
    "for max_d in range(1,28):\n",
    "   model = tree.DecisionTreeClassifier(criterion = \"entropy\", max_depth=max_d, min_samples_leaf = 7, random_state=22)\n",
    "   model.fit(X_train, y_train)\n",
    "   print('The Training Accuracy for max_depth {} is:'.format(max_d), model.score(X_train, y_train))\n",
    "   train_perf.append(model.score(X_train, y_train))\n",
    "   print('The test Accuracy for max_depth {} is:'.format(max_d), model.score(X_test,y_test))\n",
    "   test_perf.append(model.score(X_test,y_test))\n",
    "   depths.append(max_d)\n",
    "   print('') #8 should be the best one, given the prvious result"
   ]
  },
  {
   "cell_type": "code",
   "execution_count": 135,
   "metadata": {},
   "outputs": [
    {
     "data": {
      "text/plain": [
       "Text(0, 0.5, 'Accuracy')"
      ]
     },
     "execution_count": 135,
     "metadata": {},
     "output_type": "execute_result"
    },
    {
     "data": {
      "image/png": "[encoded data removed]",
      "text/plain": [
       "<Figure size 432x288 with 1 Axes>"
      ]
     },
     "metadata": {
      "needs_background": "light"
     },
     "output_type": "display_data"
    }
   ],
   "source": [
    "plt.title(\"Depth_tuning\")\n",
    "plt.plot(depths,train_perf,label = \"Training accuracy\")\n",
    "plt.plot(depths,test_perf,label = \"Test accuracy\")\n",
    "plt.legend()\n",
    "plt.xlabel('Depths')\n",
    "plt.ylabel('Accuracy')"
   ]
  },
  {
   "cell_type": "code",
   "execution_count": 136,
   "metadata": {},
   "outputs": [
    {
     "data": {
      "text/plain": [
       "0.7075285770595191"
      ]
     },
     "execution_count": 136,
     "metadata": {},
     "output_type": "execute_result"
    }
   ],
   "source": [
    "max(test_perf) #max perf"
   ]
  },
  {
   "cell_type": "code",
   "execution_count": 137,
   "metadata": {},
   "outputs": [
    {
     "data": {
      "text/plain": [
       "8"
      ]
     },
     "execution_count": 137,
     "metadata": {},
     "output_type": "execute_result"
    }
   ],
   "source": [
    "opt = depths[test_perf.index(max(test_perf))] #optimal depth\n",
    "opt"
   ]
  },
  {
   "cell_type": "markdown",
   "metadata": {},
   "source": [
    "# BAGGING"
   ]
  },
  {
   "cell_type": "code",
   "execution_count": 138,
   "metadata": {},
   "outputs": [],
   "source": [
    "clf_tuned = tree.DecisionTreeClassifier(max_depth = 8,criterion='entropy')\n",
    "\n",
    "# Train Decision Tree Classifer\n",
    "clf_tuned = clf_tuned.fit(X_train,y_train)\n",
    "\n",
    "#Predict the response for test dataset\n",
    "y_pred = clf_tuned.predict(X_test)"
   ]
  },
  {
   "cell_type": "code",
   "execution_count": 139,
   "metadata": {},
   "outputs": [
    {
     "data": {
      "text/plain": [
       "0.706346078044935"
      ]
     },
     "execution_count": 139,
     "metadata": {},
     "output_type": "execute_result"
    }
   ],
   "source": [
    "accuracy_score(y_test, y_pred)\n"
   ]
  },
  {
   "cell_type": "code",
   "execution_count": 140,
   "metadata": {},
   "outputs": [
    {
     "name": "stderr",
     "output_type": "stream",
     "text": [
      "C:\\Users\\Matteo\\anaconda3\\lib\\site-packages\\sklearn\\ensemble\\_bagging.py:719: DataConversionWarning: A column-vector y was passed when a 1d array was expected. Please change the shape of y to (n_samples, ), for example using ravel().\n",
      "  y = column_or_1d(y, warn=True)\n",
      "C:\\Users\\Matteo\\anaconda3\\lib\\site-packages\\sklearn\\ensemble\\_bagging.py:719: DataConversionWarning: A column-vector y was passed when a 1d array was expected. Please change the shape of y to (n_samples, ), for example using ravel().\n",
      "  y = column_or_1d(y, warn=True)\n",
      "C:\\Users\\Matteo\\anaconda3\\lib\\site-packages\\sklearn\\ensemble\\_bagging.py:719: DataConversionWarning: A column-vector y was passed when a 1d array was expected. Please change the shape of y to (n_samples, ), for example using ravel().\n",
      "  y = column_or_1d(y, warn=True)\n",
      "C:\\Users\\Matteo\\anaconda3\\lib\\site-packages\\sklearn\\ensemble\\_bagging.py:719: DataConversionWarning: A column-vector y was passed when a 1d array was expected. Please change the shape of y to (n_samples, ), for example using ravel().\n",
      "  y = column_or_1d(y, warn=True)\n",
      "C:\\Users\\Matteo\\anaconda3\\lib\\site-packages\\sklearn\\ensemble\\_bagging.py:719: DataConversionWarning: A column-vector y was passed when a 1d array was expected. Please change the shape of y to (n_samples, ), for example using ravel().\n",
      "  y = column_or_1d(y, warn=True)\n",
      "C:\\Users\\Matteo\\anaconda3\\lib\\site-packages\\sklearn\\ensemble\\_bagging.py:719: DataConversionWarning: A column-vector y was passed when a 1d array was expected. Please change the shape of y to (n_samples, ), for example using ravel().\n",
      "  y = column_or_1d(y, warn=True)\n",
      "C:\\Users\\Matteo\\anaconda3\\lib\\site-packages\\sklearn\\ensemble\\_bagging.py:719: DataConversionWarning: A column-vector y was passed when a 1d array was expected. Please change the shape of y to (n_samples, ), for example using ravel().\n",
      "  y = column_or_1d(y, warn=True)\n",
      "C:\\Users\\Matteo\\anaconda3\\lib\\site-packages\\sklearn\\ensemble\\_bagging.py:719: DataConversionWarning: A column-vector y was passed when a 1d array was expected. Please change the shape of y to (n_samples, ), for example using ravel().\n",
      "  y = column_or_1d(y, warn=True)\n",
      "C:\\Users\\Matteo\\anaconda3\\lib\\site-packages\\sklearn\\ensemble\\_bagging.py:719: DataConversionWarning: A column-vector y was passed when a 1d array was expected. Please change the shape of y to (n_samples, ), for example using ravel().\n",
      "  y = column_or_1d(y, warn=True)\n",
      "C:\\Users\\Matteo\\anaconda3\\lib\\site-packages\\sklearn\\ensemble\\_bagging.py:719: DataConversionWarning: A column-vector y was passed when a 1d array was expected. Please change the shape of y to (n_samples, ), for example using ravel().\n",
      "  y = column_or_1d(y, warn=True)\n",
      "C:\\Users\\Matteo\\anaconda3\\lib\\site-packages\\sklearn\\ensemble\\_bagging.py:719: DataConversionWarning: A column-vector y was passed when a 1d array was expected. Please change the shape of y to (n_samples, ), for example using ravel().\n",
      "  y = column_or_1d(y, warn=True)\n",
      "C:\\Users\\Matteo\\anaconda3\\lib\\site-packages\\sklearn\\ensemble\\_bagging.py:719: DataConversionWarning: A column-vector y was passed when a 1d array was expected. Please change the shape of y to (n_samples, ), for example using ravel().\n",
      "  y = column_or_1d(y, warn=True)\n",
      "C:\\Users\\Matteo\\anaconda3\\lib\\site-packages\\sklearn\\ensemble\\_bagging.py:719: DataConversionWarning: A column-vector y was passed when a 1d array was expected. Please change the shape of y to (n_samples, ), for example using ravel().\n",
      "  y = column_or_1d(y, warn=True)\n",
      "C:\\Users\\Matteo\\anaconda3\\lib\\site-packages\\sklearn\\ensemble\\_bagging.py:719: DataConversionWarning: A column-vector y was passed when a 1d array was expected. Please change the shape of y to (n_samples, ), for example using ravel().\n",
      "  y = column_or_1d(y, warn=True)\n",
      "C:\\Users\\Matteo\\anaconda3\\lib\\site-packages\\sklearn\\ensemble\\_bagging.py:719: DataConversionWarning: A column-vector y was passed when a 1d array was expected. Please change the shape of y to (n_samples, ), for example using ravel().\n",
      "  y = column_or_1d(y, warn=True)\n",
      "C:\\Users\\Matteo\\anaconda3\\lib\\site-packages\\sklearn\\ensemble\\_bagging.py:719: DataConversionWarning: A column-vector y was passed when a 1d array was expected. Please change the shape of y to (n_samples, ), for example using ravel().\n",
      "  y = column_or_1d(y, warn=True)\n",
      "C:\\Users\\Matteo\\anaconda3\\lib\\site-packages\\sklearn\\ensemble\\_bagging.py:719: DataConversionWarning: A column-vector y was passed when a 1d array was expected. Please change the shape of y to (n_samples, ), for example using ravel().\n",
      "  y = column_or_1d(y, warn=True)\n",
      "C:\\Users\\Matteo\\anaconda3\\lib\\site-packages\\sklearn\\ensemble\\_bagging.py:719: DataConversionWarning: A column-vector y was passed when a 1d array was expected. Please change the shape of y to (n_samples, ), for example using ravel().\n",
      "  y = column_or_1d(y, warn=True)\n",
      "C:\\Users\\Matteo\\anaconda3\\lib\\site-packages\\sklearn\\ensemble\\_bagging.py:719: DataConversionWarning: A column-vector y was passed when a 1d array was expected. Please change the shape of y to (n_samples, ), for example using ravel().\n",
      "  y = column_or_1d(y, warn=True)\n",
      "C:\\Users\\Matteo\\anaconda3\\lib\\site-packages\\sklearn\\ensemble\\_bagging.py:719: DataConversionWarning: A column-vector y was passed when a 1d array was expected. Please change the shape of y to (n_samples, ), for example using ravel().\n",
      "  y = column_or_1d(y, warn=True)\n"
     ]
    }
   ],
   "source": [
    "clf = tree.DecisionTreeClassifier(criterion=\"entropy\")\n",
    "bag_lrn = BaggingClassifier(base_estimator=clf, n_estimators=1)\n",
    "sizes = range(1000, 8001, 2000)\n",
    "train_size, train_score, val_score = learning_curve(bag_lrn, X_train, y_train, train_sizes=sizes, cv=skf)"
   ]
  },
  {
   "cell_type": "code",
   "execution_count": 141,
   "metadata": {},
   "outputs": [
    {
     "name": "stdout",
     "output_type": "stream",
     "text": [
      "0.6689002759164367\n",
      "0.8728688282250912\n"
     ]
    },
    {
     "name": "stderr",
     "output_type": "stream",
     "text": [
      "C:\\Users\\Matteo\\anaconda3\\lib\\site-packages\\sklearn\\ensemble\\_bagging.py:719: DataConversionWarning: A column-vector y was passed when a 1d array was expected. Please change the shape of y to (n_samples, ), for example using ravel().\n",
      "  y = column_or_1d(y, warn=True)\n"
     ]
    }
   ],
   "source": [
    "bag_lrn = bag_lrn.fit(X_train, y_train)\n",
    "y_p = bag_lrn.predict(X_test)\n",
    "y_t = bag_lrn.predict(X_train)\n",
    "print(accuracy_score(y_test, y_p))\n",
    "print(accuracy_score(y_train, y_t)) #full tree accuracy, test score high but overfitting too"
   ]
  },
  {
   "cell_type": "code",
   "execution_count": 142,
   "metadata": {},
   "outputs": [
    {
     "data": {
      "text/plain": [
       "0.3245824992615375"
      ]
     },
     "execution_count": 142,
     "metadata": {},
     "output_type": "execute_result"
    }
   ],
   "source": [
    "cohen_kappa_score(y_test, y_p)"
   ]
  },
  {
   "cell_type": "code",
   "execution_count": 143,
   "metadata": {},
   "outputs": [
    {
     "data": {
      "image/png": "[encoded data removed]",
      "text/plain": [
       "<Figure size 432x288 with 1 Axes>"
      ]
     },
     "metadata": {
      "needs_background": "light"
     },
     "output_type": "display_data"
    }
   ],
   "source": [
    "plt.title('A single bagging tree')\n",
    "train_score_mean = np.mean(train_score, axis=1)\n",
    "train_score_std = np.std(train_score, axis=1)\n",
    "val_score_mean = np.mean(val_score, axis=1)\n",
    "val_score_std = np.std(val_score, axis=1)\n",
    "plt.grid()\n",
    "plt.fill_between(train_size, train_score_mean - train_score_std,\n",
    "                 train_score_mean + train_score_std, alpha=0.1,\n",
    "                 color=\"r\")\n",
    "plt.fill_between(train_size, val_score_mean - val_score_std,\n",
    "                 val_score_mean + val_score_std, alpha=0.1, color=\"g\")\n",
    "plt.plot(train_size, train_score_mean, 'o-', color=\"r\",\n",
    "         label=\"Training score\")\n",
    "plt.plot(train_size, val_score_mean, 'o-', color=\"g\",\n",
    "         label=\"CV accuracy\")\n",
    "plt.legend()\n",
    "plt.xlabel('Training size')\n",
    "plt.ylabel('Accuracy')\n",
    "plt.show()"
   ]
  },
  {
   "cell_type": "markdown",
   "metadata": {},
   "source": [
    "1 estimator considered, now we are going ot increase the number."
   ]
  },
  {
   "cell_type": "code",
   "execution_count": 144,
   "metadata": {},
   "outputs": [
    {
     "name": "stderr",
     "output_type": "stream",
     "text": [
      "C:\\Users\\Matteo\\anaconda3\\lib\\site-packages\\sklearn\\ensemble\\_bagging.py:719: DataConversionWarning: A column-vector y was passed when a 1d array was expected. Please change the shape of y to (n_samples, ), for example using ravel().\n",
      "  y = column_or_1d(y, warn=True)\n",
      "C:\\Users\\Matteo\\anaconda3\\lib\\site-packages\\sklearn\\ensemble\\_bagging.py:719: DataConversionWarning: A column-vector y was passed when a 1d array was expected. Please change the shape of y to (n_samples, ), for example using ravel().\n",
      "  y = column_or_1d(y, warn=True)\n",
      "C:\\Users\\Matteo\\anaconda3\\lib\\site-packages\\sklearn\\ensemble\\_bagging.py:719: DataConversionWarning: A column-vector y was passed when a 1d array was expected. Please change the shape of y to (n_samples, ), for example using ravel().\n",
      "  y = column_or_1d(y, warn=True)\n",
      "C:\\Users\\Matteo\\anaconda3\\lib\\site-packages\\sklearn\\ensemble\\_bagging.py:719: DataConversionWarning: A column-vector y was passed when a 1d array was expected. Please change the shape of y to (n_samples, ), for example using ravel().\n",
      "  y = column_or_1d(y, warn=True)\n",
      "C:\\Users\\Matteo\\anaconda3\\lib\\site-packages\\sklearn\\ensemble\\_bagging.py:719: DataConversionWarning: A column-vector y was passed when a 1d array was expected. Please change the shape of y to (n_samples, ), for example using ravel().\n",
      "  y = column_or_1d(y, warn=True)\n",
      "C:\\Users\\Matteo\\anaconda3\\lib\\site-packages\\sklearn\\ensemble\\_bagging.py:719: DataConversionWarning: A column-vector y was passed when a 1d array was expected. Please change the shape of y to (n_samples, ), for example using ravel().\n",
      "  y = column_or_1d(y, warn=True)\n",
      "C:\\Users\\Matteo\\anaconda3\\lib\\site-packages\\sklearn\\ensemble\\_bagging.py:719: DataConversionWarning: A column-vector y was passed when a 1d array was expected. Please change the shape of y to (n_samples, ), for example using ravel().\n",
      "  y = column_or_1d(y, warn=True)\n",
      "C:\\Users\\Matteo\\anaconda3\\lib\\site-packages\\sklearn\\ensemble\\_bagging.py:719: DataConversionWarning: A column-vector y was passed when a 1d array was expected. Please change the shape of y to (n_samples, ), for example using ravel().\n",
      "  y = column_or_1d(y, warn=True)\n",
      "C:\\Users\\Matteo\\anaconda3\\lib\\site-packages\\sklearn\\ensemble\\_bagging.py:719: DataConversionWarning: A column-vector y was passed when a 1d array was expected. Please change the shape of y to (n_samples, ), for example using ravel().\n",
      "  y = column_or_1d(y, warn=True)\n",
      "C:\\Users\\Matteo\\anaconda3\\lib\\site-packages\\sklearn\\ensemble\\_bagging.py:719: DataConversionWarning: A column-vector y was passed when a 1d array was expected. Please change the shape of y to (n_samples, ), for example using ravel().\n",
      "  y = column_or_1d(y, warn=True)\n",
      "C:\\Users\\Matteo\\anaconda3\\lib\\site-packages\\sklearn\\ensemble\\_bagging.py:719: DataConversionWarning: A column-vector y was passed when a 1d array was expected. Please change the shape of y to (n_samples, ), for example using ravel().\n",
      "  y = column_or_1d(y, warn=True)\n",
      "C:\\Users\\Matteo\\anaconda3\\lib\\site-packages\\sklearn\\ensemble\\_bagging.py:719: DataConversionWarning: A column-vector y was passed when a 1d array was expected. Please change the shape of y to (n_samples, ), for example using ravel().\n",
      "  y = column_or_1d(y, warn=True)\n",
      "C:\\Users\\Matteo\\anaconda3\\lib\\site-packages\\sklearn\\ensemble\\_bagging.py:719: DataConversionWarning: A column-vector y was passed when a 1d array was expected. Please change the shape of y to (n_samples, ), for example using ravel().\n",
      "  y = column_or_1d(y, warn=True)\n",
      "C:\\Users\\Matteo\\anaconda3\\lib\\site-packages\\sklearn\\ensemble\\_bagging.py:719: DataConversionWarning: A column-vector y was passed when a 1d array was expected. Please change the shape of y to (n_samples, ), for example using ravel().\n",
      "  y = column_or_1d(y, warn=True)\n",
      "C:\\Users\\Matteo\\anaconda3\\lib\\site-packages\\sklearn\\ensemble\\_bagging.py:719: DataConversionWarning: A column-vector y was passed when a 1d array was expected. Please change the shape of y to (n_samples, ), for example using ravel().\n",
      "  y = column_or_1d(y, warn=True)\n",
      "C:\\Users\\Matteo\\anaconda3\\lib\\site-packages\\sklearn\\ensemble\\_bagging.py:719: DataConversionWarning: A column-vector y was passed when a 1d array was expected. Please change the shape of y to (n_samples, ), for example using ravel().\n",
      "  y = column_or_1d(y, warn=True)\n",
      "C:\\Users\\Matteo\\anaconda3\\lib\\site-packages\\sklearn\\ensemble\\_bagging.py:719: DataConversionWarning: A column-vector y was passed when a 1d array was expected. Please change the shape of y to (n_samples, ), for example using ravel().\n",
      "  y = column_or_1d(y, warn=True)\n",
      "C:\\Users\\Matteo\\anaconda3\\lib\\site-packages\\sklearn\\ensemble\\_bagging.py:719: DataConversionWarning: A column-vector y was passed when a 1d array was expected. Please change the shape of y to (n_samples, ), for example using ravel().\n",
      "  y = column_or_1d(y, warn=True)\n",
      "C:\\Users\\Matteo\\anaconda3\\lib\\site-packages\\sklearn\\ensemble\\_bagging.py:719: DataConversionWarning: A column-vector y was passed when a 1d array was expected. Please change the shape of y to (n_samples, ), for example using ravel().\n",
      "  y = column_or_1d(y, warn=True)\n",
      "C:\\Users\\Matteo\\anaconda3\\lib\\site-packages\\sklearn\\ensemble\\_bagging.py:719: DataConversionWarning: A column-vector y was passed when a 1d array was expected. Please change the shape of y to (n_samples, ), for example using ravel().\n",
      "  y = column_or_1d(y, warn=True)\n"
     ]
    }
   ],
   "source": [
    "# Now with 10 trees\n",
    "tree_lrn = DecisionTreeClassifier(criterion = \"entropy\")\n",
    "bag_lrn = BaggingClassifier(base_estimator=tree_lrn, n_estimators=10)\n",
    "sizes = range(1000, 8001, 2000)\n",
    "train_size, train_score, val_score = learning_curve(bag_lrn, X_train, y_train, train_sizes=sizes, cv=skf)"
   ]
  },
  {
   "cell_type": "code",
   "execution_count": 145,
   "metadata": {},
   "outputs": [
    {
     "data": {
      "image/png": "[encoded data removed]",
      "text/plain": [
       "<Figure size 432x288 with 1 Axes>"
      ]
     },
     "metadata": {
      "needs_background": "light"
     },
     "output_type": "display_data"
    }
   ],
   "source": [
    "plt.title('Bagging')\n",
    "train_score_mean = np.mean(train_score, axis=1)\n",
    "train_score_std = np.std(train_score, axis=1)\n",
    "val_score_mean = np.mean(val_score, axis=1)\n",
    "val_score_std = np.std(val_score, axis=1)\n",
    "plt.grid()\n",
    "plt.fill_between(train_size, train_score_mean - train_score_std,\n",
    "                 train_score_mean + train_score_std, alpha=0.1,\n",
    "                 color=\"r\")\n",
    "plt.fill_between(train_size, val_score_mean - val_score_std,\n",
    "                 val_score_mean + val_score_std, alpha=0.1, color=\"g\")\n",
    "plt.plot(train_size, train_score_mean, 'o-', color=\"r\",\n",
    "         label=\"Training score\")\n",
    "plt.plot(train_size, val_score_mean, 'o-', color=\"g\",\n",
    "         label=\"CV accuracy\")\n",
    "plt.legend()\n",
    "plt.xlabel('Training size')\n",
    "plt.ylabel('Accuracy')\n",
    "plt.show()"
   ]
  },
  {
   "cell_type": "markdown",
   "metadata": {},
   "source": [
    "Same training error, but CV accuracy increases of 5%."
   ]
  },
  {
   "cell_type": "code",
   "execution_count": 146,
   "metadata": {},
   "outputs": [
    {
     "name": "stderr",
     "output_type": "stream",
     "text": [
      "C:\\Users\\Matteo\\anaconda3\\lib\\site-packages\\sklearn\\ensemble\\_bagging.py:719: DataConversionWarning: A column-vector y was passed when a 1d array was expected. Please change the shape of y to (n_samples, ), for example using ravel().\n",
      "  y = column_or_1d(y, warn=True)\n",
      "C:\\Users\\Matteo\\anaconda3\\lib\\site-packages\\sklearn\\ensemble\\_bagging.py:719: DataConversionWarning: A column-vector y was passed when a 1d array was expected. Please change the shape of y to (n_samples, ), for example using ravel().\n",
      "  y = column_or_1d(y, warn=True)\n",
      "C:\\Users\\Matteo\\anaconda3\\lib\\site-packages\\sklearn\\ensemble\\_bagging.py:719: DataConversionWarning: A column-vector y was passed when a 1d array was expected. Please change the shape of y to (n_samples, ), for example using ravel().\n",
      "  y = column_or_1d(y, warn=True)\n",
      "C:\\Users\\Matteo\\anaconda3\\lib\\site-packages\\sklearn\\ensemble\\_bagging.py:719: DataConversionWarning: A column-vector y was passed when a 1d array was expected. Please change the shape of y to (n_samples, ), for example using ravel().\n",
      "  y = column_or_1d(y, warn=True)\n",
      "C:\\Users\\Matteo\\anaconda3\\lib\\site-packages\\sklearn\\ensemble\\_bagging.py:719: DataConversionWarning: A column-vector y was passed when a 1d array was expected. Please change the shape of y to (n_samples, ), for example using ravel().\n",
      "  y = column_or_1d(y, warn=True)\n",
      "C:\\Users\\Matteo\\anaconda3\\lib\\site-packages\\sklearn\\ensemble\\_bagging.py:719: DataConversionWarning: A column-vector y was passed when a 1d array was expected. Please change the shape of y to (n_samples, ), for example using ravel().\n",
      "  y = column_or_1d(y, warn=True)\n",
      "C:\\Users\\Matteo\\anaconda3\\lib\\site-packages\\sklearn\\ensemble\\_bagging.py:719: DataConversionWarning: A column-vector y was passed when a 1d array was expected. Please change the shape of y to (n_samples, ), for example using ravel().\n",
      "  y = column_or_1d(y, warn=True)\n",
      "C:\\Users\\Matteo\\anaconda3\\lib\\site-packages\\sklearn\\ensemble\\_bagging.py:719: DataConversionWarning: A column-vector y was passed when a 1d array was expected. Please change the shape of y to (n_samples, ), for example using ravel().\n",
      "  y = column_or_1d(y, warn=True)\n",
      "C:\\Users\\Matteo\\anaconda3\\lib\\site-packages\\sklearn\\ensemble\\_bagging.py:719: DataConversionWarning: A column-vector y was passed when a 1d array was expected. Please change the shape of y to (n_samples, ), for example using ravel().\n",
      "  y = column_or_1d(y, warn=True)\n",
      "C:\\Users\\Matteo\\anaconda3\\lib\\site-packages\\sklearn\\ensemble\\_bagging.py:719: DataConversionWarning: A column-vector y was passed when a 1d array was expected. Please change the shape of y to (n_samples, ), for example using ravel().\n",
      "  y = column_or_1d(y, warn=True)\n",
      "C:\\Users\\Matteo\\anaconda3\\lib\\site-packages\\sklearn\\ensemble\\_bagging.py:719: DataConversionWarning: A column-vector y was passed when a 1d array was expected. Please change the shape of y to (n_samples, ), for example using ravel().\n",
      "  y = column_or_1d(y, warn=True)\n",
      "C:\\Users\\Matteo\\anaconda3\\lib\\site-packages\\sklearn\\ensemble\\_bagging.py:719: DataConversionWarning: A column-vector y was passed when a 1d array was expected. Please change the shape of y to (n_samples, ), for example using ravel().\n",
      "  y = column_or_1d(y, warn=True)\n",
      "C:\\Users\\Matteo\\anaconda3\\lib\\site-packages\\sklearn\\ensemble\\_bagging.py:719: DataConversionWarning: A column-vector y was passed when a 1d array was expected. Please change the shape of y to (n_samples, ), for example using ravel().\n",
      "  y = column_or_1d(y, warn=True)\n",
      "C:\\Users\\Matteo\\anaconda3\\lib\\site-packages\\sklearn\\ensemble\\_bagging.py:719: DataConversionWarning: A column-vector y was passed when a 1d array was expected. Please change the shape of y to (n_samples, ), for example using ravel().\n",
      "  y = column_or_1d(y, warn=True)\n",
      "C:\\Users\\Matteo\\anaconda3\\lib\\site-packages\\sklearn\\ensemble\\_bagging.py:719: DataConversionWarning: A column-vector y was passed when a 1d array was expected. Please change the shape of y to (n_samples, ), for example using ravel().\n",
      "  y = column_or_1d(y, warn=True)\n",
      "C:\\Users\\Matteo\\anaconda3\\lib\\site-packages\\sklearn\\ensemble\\_bagging.py:719: DataConversionWarning: A column-vector y was passed when a 1d array was expected. Please change the shape of y to (n_samples, ), for example using ravel().\n",
      "  y = column_or_1d(y, warn=True)\n",
      "C:\\Users\\Matteo\\anaconda3\\lib\\site-packages\\sklearn\\ensemble\\_bagging.py:719: DataConversionWarning: A column-vector y was passed when a 1d array was expected. Please change the shape of y to (n_samples, ), for example using ravel().\n",
      "  y = column_or_1d(y, warn=True)\n",
      "C:\\Users\\Matteo\\anaconda3\\lib\\site-packages\\sklearn\\ensemble\\_bagging.py:719: DataConversionWarning: A column-vector y was passed when a 1d array was expected. Please change the shape of y to (n_samples, ), for example using ravel().\n",
      "  y = column_or_1d(y, warn=True)\n",
      "C:\\Users\\Matteo\\anaconda3\\lib\\site-packages\\sklearn\\ensemble\\_bagging.py:719: DataConversionWarning: A column-vector y was passed when a 1d array was expected. Please change the shape of y to (n_samples, ), for example using ravel().\n",
      "  y = column_or_1d(y, warn=True)\n",
      "C:\\Users\\Matteo\\anaconda3\\lib\\site-packages\\sklearn\\ensemble\\_bagging.py:719: DataConversionWarning: A column-vector y was passed when a 1d array was expected. Please change the shape of y to (n_samples, ), for example using ravel().\n",
      "  y = column_or_1d(y, warn=True)\n"
     ]
    }
   ],
   "source": [
    "# Now with 20 trees\n",
    "tree_lrn = DecisionTreeClassifier(criterion = \"entropy\")\n",
    "bag_lrn = BaggingClassifier(base_estimator=tree_lrn, n_estimators=20)\n",
    "sizes = range(1000, 8001, 2000)\n",
    "train_size, train_score, val_score = learning_curve(bag_lrn, X_train, y_train, train_sizes=sizes, cv=skf)"
   ]
  },
  {
   "cell_type": "code",
   "execution_count": 147,
   "metadata": {},
   "outputs": [
    {
     "data": {
      "image/png": "[encoded data removed]",
      "text/plain": [
       "<Figure size 432x288 with 1 Axes>"
      ]
     },
     "metadata": {
      "needs_background": "light"
     },
     "output_type": "display_data"
    }
   ],
   "source": [
    "plt.title('Bagging')\n",
    "train_score_mean = np.mean(train_score, axis=1)\n",
    "train_score_std = np.std(train_score, axis=1)\n",
    "val_score_mean = np.mean(val_score, axis=1)\n",
    "val_score_std = np.std(val_score, axis=1)\n",
    "plt.grid()\n",
    "plt.fill_between(train_size, train_score_mean - train_score_std,\n",
    "                 train_score_mean + train_score_std, alpha=0.1,\n",
    "                 color=\"r\")\n",
    "plt.fill_between(train_size, val_score_mean - val_score_std,\n",
    "                 val_score_mean + val_score_std, alpha=0.1, color=\"g\")\n",
    "plt.plot(train_size, train_score_mean, 'o-', color=\"r\",\n",
    "         label=\"Training score\")\n",
    "plt.plot(train_size, val_score_mean, 'o-', color=\"g\",\n",
    "         label=\"CV accuracy\")\n",
    "plt.legend()\n",
    "plt.xlabel('Training size')\n",
    "plt.ylabel('Accuracy')\n",
    "plt.show()"
   ]
  },
  {
   "cell_type": "markdown",
   "metadata": {},
   "source": [
    "With 20 estimators we are approaching 0.75 Cv_accuracy!"
   ]
  },
  {
   "cell_type": "code",
   "execution_count": 148,
   "metadata": {},
   "outputs": [],
   "source": [
    "bag_trains = []\n",
    "bag_test = []\n",
    "depths = range(5,25)\n",
    "for el in depths:\n",
    "    n_estimators = [1,10,20,40]\n",
    "    tree_lrn = tree.DecisionTreeClassifier(criterion = \"entropy\", max_depth = el,random_state=78)\n",
    "    bag_train_score, bag_val_score = validation_curve(BaggingClassifier(base_estimator = tree_lrn), X_train, y_train, param_name='n_estimators', param_range=n_estimators, cv=skf,n_jobs=-1)\n",
    "    bag_trains.append(bag_train_score), bag_test.append(bag_val_score)"
   ]
  },
  {
   "cell_type": "code",
   "execution_count": 149,
   "metadata": {},
   "outputs": [],
   "source": [
    "mean_bag_train = []\n",
    "for el in bag_trains:\n",
    "    cross = []\n",
    "    for i in el:\n",
    "        cross.append(np.mean(i))\n",
    "    mean_bag_train.append(cross)\n",
    "tr_est1 = []\n",
    "tr_est10 = []\n",
    "tr_est20 = []\n",
    "tr_est40 = []\n",
    "for el in mean_bag_train:\n",
    "    tr_est1.append(el[0])\n",
    "    tr_est10.append(el[1])\n",
    "    tr_est20.append(el[2])\n",
    "    tr_est40.append(el[3])\n"
   ]
  },
  {
   "cell_type": "code",
   "execution_count": 150,
   "metadata": {},
   "outputs": [],
   "source": [
    "mean_bag_test = []\n",
    "for el in bag_test:\n",
    "    cross = []\n",
    "    for i in el:\n",
    "        cross.append(np.mean(i))\n",
    "    mean_bag_test.append(cross)\n",
    "test_est1 = []\n",
    "test_est10 = []\n",
    "test_est20 = []\n",
    "test_est40 = []\n",
    "for el in mean_bag_test:\n",
    "    test_est1.append(el[0])\n",
    "    test_est10.append(el[1])\n",
    "    test_est20.append(el[2])\n",
    "    test_est40.append(el[3])"
   ]
  },
  {
   "cell_type": "code",
   "execution_count": 151,
   "metadata": {},
   "outputs": [
    {
     "data": {
      "text/plain": [
       "Text(0, 0.5, 'Accuracy')"
      ]
     },
     "execution_count": 151,
     "metadata": {},
     "output_type": "execute_result"
    },
    {
     "data": {
      "image/png": "[encoded data removed]",
      "text/plain": [
       "<Figure size 1080x576 with 4 Axes>"
      ]
     },
     "metadata": {
      "needs_background": "light"
     },
     "output_type": "display_data"
    }
   ],
   "source": [
    "fig = plt.figure(figsize =(15,8))\n",
    "ax1 = fig.add_subplot(2,2,1)\n",
    "plt.title(\"1 estimator\")\n",
    "plt.plot(depths,tr_est1,label = \"Training accuracy\")\n",
    "plt.plot(depths,test_est1,label = \"Test accuracy\")\n",
    "plt.legend()\n",
    "plt.ylabel('Accuracy')\n",
    "ax2 = fig.add_subplot(2,2,2)\n",
    "plt.title(\"10 estimator\")\n",
    "plt.plot(depths,tr_est10,label = \"Training accuracy\")\n",
    "plt.plot(depths,test_est10,label = \"Test accuracy\")\n",
    "plt.legend()\n",
    "plt.ylabel('Accuracy')\n",
    "ax3 = fig.add_subplot(2,2,3)\n",
    "plt.title(\"20 estimator\")\n",
    "plt.plot(depths,tr_est20,label = \"Training accuracy\")\n",
    "plt.plot(depths,test_est20,label = \"Test accuracy\")\n",
    "plt.legend()\n",
    "plt.xlabel('depths')\n",
    "plt.ylabel('Accuracy')\n",
    "ax4 = fig.add_subplot(2,2,4)\n",
    "plt.title(\"40 estimator\")\n",
    "plt.plot(depths,tr_est40,label = \"Training accuracy\")\n",
    "plt.plot(depths,test_est40,label = \"Test accuracy\")\n",
    "plt.legend()\n",
    "plt.xlabel('depths')\n",
    "plt.ylabel('Accuracy')\n"
   ]
  },
  {
   "cell_type": "markdown",
   "metadata": {},
   "source": [
    "n_estimators = 20 is optimal for all the graphs because there aren't further significant improvements after it. For the depth of tree we will run another selectino over a more restriced and finite grid."
   ]
  },
  {
   "cell_type": "code",
   "execution_count": 152,
   "metadata": {},
   "outputs": [
    {
     "data": {
      "text/plain": [
       "(0.7428808386766275, 0.7478081609761901)"
      ]
     },
     "execution_count": 152,
     "metadata": {},
     "output_type": "execute_result"
    }
   ],
   "source": [
    "max(test_est20),max(test_est40)"
   ]
  },
  {
   "cell_type": "code",
   "execution_count": 153,
   "metadata": {},
   "outputs": [],
   "source": [
    "depths = range(3,35)\n",
    "bag_train_score = []\n",
    "bag_test_score = []\n",
    "for el in depths:\n",
    "    clf = tree.DecisionTreeClassifier(criterion = \"entropy\", max_depth = el, random_state = 6)\n",
    "    bag_score = cross_validate(BaggingClassifier(base_estimator=clf, n_estimators=40,random_state=8), X_train, y_train, cv=skf,return_train_score=True,n_jobs=-1)\n",
    "    bag_train_score.append(np.mean(bag_score['train_score']))\n",
    "    bag_test_score.append(np.mean(bag_score['test_score']))"
   ]
  },
  {
   "cell_type": "code",
   "execution_count": 154,
   "metadata": {},
   "outputs": [
    {
     "data": {
      "text/plain": [
       "[0.6401891780998186,\n",
       " 0.6697563652166736,\n",
       " 0.6877919429358051,\n",
       " 0.7043478429763502,\n",
       " 0.7121321624620344,\n",
       " 0.7206069625892538,\n",
       " 0.7252388640573749,\n",
       " 0.7332213446891988,\n",
       " 0.7353892208299849,\n",
       " 0.7407119913956984,\n",
       " 0.7434705635283464,\n",
       " 0.7475119632326341,\n",
       " 0.7460332566941904,\n",
       " 0.744456756343366,\n",
       " 0.7472158626030925,\n",
       " 0.7477085705545453,\n",
       " 0.7471178745626835,\n",
       " 0.7484972334645181,\n",
       " 0.7488921961605974,\n",
       " 0.7492859449314982,\n",
       " 0.7479065860296635,\n",
       " 0.7490895318376156,\n",
       " 0.7479058576745563,\n",
       " 0.7477084248835238,\n",
       " 0.7481037274786531,\n",
       " 0.7475120603466484,\n",
       " 0.7461325072167851,\n",
       " 0.7470193523951958,\n",
       " 0.7467237858927327,\n",
       " 0.7470196437372386,\n",
       " 0.747315016011673,\n",
       " 0.7470194495092101]"
      ]
     },
     "execution_count": 154,
     "metadata": {},
     "output_type": "execute_result"
    }
   ],
   "source": [
    "bag_test_score"
   ]
  },
  {
   "cell_type": "code",
   "execution_count": 155,
   "metadata": {},
   "outputs": [
    {
     "data": {
      "text/plain": [
       "Text(0, 0.5, 'Accuracy')"
      ]
     },
     "execution_count": 155,
     "metadata": {},
     "output_type": "execute_result"
    },
    {
     "data": {
      "image/png": "[encoded data removed]",
      "text/plain": [
       "<Figure size 432x288 with 1 Axes>"
      ]
     },
     "metadata": {
      "needs_background": "light"
     },
     "output_type": "display_data"
    }
   ],
   "source": [
    "plt.title(\"Depth_bagging_tuning\")\n",
    "plt.plot(depths,bag_train_score,label = \"Training accuracy\")\n",
    "plt.plot(depths,bag_test_score,label = \"CV accuracy\")\n",
    "plt.legend()\n",
    "plt.xlabel('Depths')\n",
    "plt.ylabel('Accuracy')"
   ]
  },
  {
   "cell_type": "markdown",
   "metadata": {},
   "source": [
    "We can see from the graph where we can cut the depth (15) or pick the best (25). Here there is the prediction on our split."
   ]
  },
  {
   "cell_type": "code",
   "execution_count": 156,
   "metadata": {},
   "outputs": [
    {
     "name": "stderr",
     "output_type": "stream",
     "text": [
      "C:\\Users\\Matteo\\anaconda3\\lib\\site-packages\\sklearn\\ensemble\\_bagging.py:719: DataConversionWarning: A column-vector y was passed when a 1d array was expected. Please change the shape of y to (n_samples, ), for example using ravel().\n",
      "  y = column_or_1d(y, warn=True)\n"
     ]
    },
    {
     "name": "stdout",
     "output_type": "stream",
     "text": [
      "Bagging training accuracy is 0.9631418153148714\n",
      "Bagging test accuracy is 0.7611351990540007\n"
     ]
    }
   ],
   "source": [
    "clf_tuned = tree.DecisionTreeClassifier(criterion = \"entropy\", max_depth = 15, random_state = 12)\n",
    "bag_lrn = BaggingClassifier(base_estimator=clf_tuned, n_estimators=40, random_state=12)\n",
    "bag_lrn = bag_lrn.fit(X_train, y_train)\n",
    "y_p = bag_lrn.predict(X_test)\n",
    "y_t = bag_lrn.predict(X_train)\n",
    "print(\"Bagging training accuracy is\", accuracy_score(y_train, y_t))\n",
    "print(\"Bagging test accuracy is\", accuracy_score(y_test, y_p))"
   ]
  },
  {
   "cell_type": "code",
   "execution_count": 157,
   "metadata": {},
   "outputs": [
    {
     "name": "stdout",
     "output_type": "stream",
     "text": [
      "              precision    recall  f1-score   support\n",
      "\n",
      "           0       0.75      0.67      0.71      1095\n",
      "           1       0.77      0.83      0.80      1442\n",
      "\n",
      "    accuracy                           0.76      2537\n",
      "   macro avg       0.76      0.75      0.75      2537\n",
      "weighted avg       0.76      0.76      0.76      2537\n",
      "\n"
     ]
    }
   ],
   "source": [
    "print(classification_report(y_test, y_p))"
   ]
  },
  {
   "cell_type": "code",
   "execution_count": 158,
   "metadata": {},
   "outputs": [
    {
     "data": {
      "text/plain": [
       "0.506657810123414"
      ]
     },
     "execution_count": 158,
     "metadata": {},
     "output_type": "execute_result"
    }
   ],
   "source": [
    "cohen_kappa_score(y_test, y_p)"
   ]
  },
  {
   "cell_type": "code",
   "execution_count": 159,
   "metadata": {},
   "outputs": [
    {
     "name": "stderr",
     "output_type": "stream",
     "text": [
      "C:\\Users\\Matteo\\anaconda3\\lib\\site-packages\\sklearn\\ensemble\\_bagging.py:719: DataConversionWarning: A column-vector y was passed when a 1d array was expected. Please change the shape of y to (n_samples, ), for example using ravel().\n",
      "  y = column_or_1d(y, warn=True)\n",
      "C:\\Users\\Matteo\\anaconda3\\lib\\site-packages\\sklearn\\ensemble\\_bagging.py:719: DataConversionWarning: A column-vector y was passed when a 1d array was expected. Please change the shape of y to (n_samples, ), for example using ravel().\n",
      "  y = column_or_1d(y, warn=True)\n",
      "C:\\Users\\Matteo\\anaconda3\\lib\\site-packages\\sklearn\\ensemble\\_bagging.py:719: DataConversionWarning: A column-vector y was passed when a 1d array was expected. Please change the shape of y to (n_samples, ), for example using ravel().\n",
      "  y = column_or_1d(y, warn=True)\n",
      "C:\\Users\\Matteo\\anaconda3\\lib\\site-packages\\sklearn\\ensemble\\_bagging.py:719: DataConversionWarning: A column-vector y was passed when a 1d array was expected. Please change the shape of y to (n_samples, ), for example using ravel().\n",
      "  y = column_or_1d(y, warn=True)\n",
      "C:\\Users\\Matteo\\anaconda3\\lib\\site-packages\\sklearn\\ensemble\\_bagging.py:719: DataConversionWarning: A column-vector y was passed when a 1d array was expected. Please change the shape of y to (n_samples, ), for example using ravel().\n",
      "  y = column_or_1d(y, warn=True)\n"
     ]
    },
    {
     "data": {
      "text/plain": [
       "(0.9569930884736977, 0.7468470112368493)"
      ]
     },
     "execution_count": 159,
     "metadata": {},
     "output_type": "execute_result"
    }
   ],
   "source": [
    "scores = cross_validate(BaggingClassifier(base_estimator= clf_tuned, n_estimators = 20, random_state=24), X, y, cv=5, return_train_score = True)\n",
    "scores['train_score'].mean(),scores['test_score'].mean()"
   ]
  },
  {
   "cell_type": "code",
   "execution_count": 160,
   "metadata": {},
   "outputs": [],
   "source": [
    "# It doesn't work in reasonable time -> it is tuning both max_depth and n_estimators\n",
    "\n",
    "# depths = range(1,20,2)\n",
    "# bag_train_mean = []\n",
    "# bag_val_mean = []\n",
    "# for el in depths:\n",
    "#    tree_lrn = DecisionTreeClassifier(max_depth = el)\n",
    "#    estimators = [1,10,20,50]\n",
    "#    bag_train_score, bag_val_score = validation_curve(BaggingClassifier(base_estimator=tree_lrn), X, y, 'n_estimators', estimators, cv=5)\n",
    "#    for el in range(len(train_score)):\n",
    "#        bag_train_mean.append(bag_train_score[el].mean())\n",
    "#        bag_val_mean.append(bag_val_score[el].mean())\n",
    "# bag_train_mean,bag_val_mean"
   ]
  },
  {
   "cell_type": "code",
   "execution_count": 161,
   "metadata": {},
   "outputs": [],
   "source": [
    "# train_perf_bag = []\n",
    "# test_perf_bag = []\n",
    "# estimators = []\n",
    "# for max_d in [1,10,50,100,150,200]:\n",
    "#  bag_lrn = BaggingClassifier(base_estimator = clf, n_estimators=max_d)\n",
    "#  bag_lrn.fit(X_train, y_train)\n",
    "#  print('The Training Accuracy for estimators {} is:'.format(max_d), bag_lrn.score(X_train, y_train))\n",
    "#  train_perf_bag.append(bag_lrn.score(X_train, y_train))\n",
    "#  print('The test Accuracy for estimators {} is:'.format(max_d), bag_lrn.score(X_test,y_test))\n",
    "#  test_perf_bag.append(bag_lrn.score(X_test,y_test))\n",
    "#  estimators.append(max_d)\n",
    "#  print('')"
   ]
  },
  {
   "cell_type": "code",
   "execution_count": 162,
   "metadata": {},
   "outputs": [],
   "source": [
    "# plt.title(\"Estimators_tuning\")\n",
    "# plt.plot(estimators,train_perf_bag,label = \"Training accuracy\")\n",
    "# plt.plot(estimators,test_perf_bag,label = \"Test accuracy\")\n",
    "# plt.legend()\n",
    "# plt.xlabel('Estimators')\n",
    "# plt.ylabel('Accuracy')"
   ]
  },
  {
   "cell_type": "code",
   "execution_count": 163,
   "metadata": {},
   "outputs": [],
   "source": [
    "# for max_d in [1,20,50,100]:\n",
    "#    bag_lrn = BaggingClassifier(base_estimator = clf, n_estimators=max_d)\n",
    "#    scores = cross_val_score(bag_lrn, X, y, cv=5)\n",
    "#    print(scores, scores.mean())"
   ]
  },
  {
   "cell_type": "code",
   "execution_count": 164,
   "metadata": {},
   "outputs": [],
   "source": [
    "#TRYING THE FULL DEPTH TO COMPARE\n",
    "\n",
    "# n_estimators = range(1,101,20)\n",
    "# tree_lrn = tree.DecisionTreeClassifier(criterion = \"entropy\")\n",
    "# train_score, val_score = validation_curve(BaggingClassifier(base_estimator= tree_lrn), X, y, param_name='n_estimators', param_range=n_estimators, cv=skf)\n",
    "# train_score, val_score"
   ]
  },
  {
   "cell_type": "code",
   "execution_count": 165,
   "metadata": {},
   "outputs": [],
   "source": [
    "# plt.title('estimators with full depth')\n",
    "# plt.plot(n_estimators, np.mean(val_score, 1), label='Testing accuracy')\n",
    "# plt.plot(n_estimators, np.mean(train_score, 1), label='Training accuracy')\n",
    "# plt.legend()\n",
    "# plt.xlabel('Estimators')\n",
    "#plt.ylabel('Accuracy')\n",
    "# plt.show()"
   ]
  },
  {
   "cell_type": "markdown",
   "metadata": {},
   "source": [
    "# RANDOM FOREST"
   ]
  },
  {
   "cell_type": "code",
   "execution_count": 166,
   "metadata": {},
   "outputs": [
    {
     "name": "stderr",
     "output_type": "stream",
     "text": [
      "C:\\Users\\Matteo\\anaconda3\\lib\\site-packages\\sklearn\\model_selection\\_validation.py:680: DataConversionWarning: A column-vector y was passed when a 1d array was expected. Please change the shape of y to (n_samples,), for example using ravel().\n",
      "  estimator.fit(X_train, y_train, **fit_params)\n",
      "C:\\Users\\Matteo\\anaconda3\\lib\\site-packages\\sklearn\\model_selection\\_validation.py:680: DataConversionWarning: A column-vector y was passed when a 1d array was expected. Please change the shape of y to (n_samples,), for example using ravel().\n",
      "  estimator.fit(X_train, y_train, **fit_params)\n",
      "C:\\Users\\Matteo\\anaconda3\\lib\\site-packages\\sklearn\\model_selection\\_validation.py:680: DataConversionWarning: A column-vector y was passed when a 1d array was expected. Please change the shape of y to (n_samples,), for example using ravel().\n",
      "  estimator.fit(X_train, y_train, **fit_params)\n",
      "C:\\Users\\Matteo\\anaconda3\\lib\\site-packages\\sklearn\\model_selection\\_validation.py:680: DataConversionWarning: A column-vector y was passed when a 1d array was expected. Please change the shape of y to (n_samples,), for example using ravel().\n",
      "  estimator.fit(X_train, y_train, **fit_params)\n",
      "C:\\Users\\Matteo\\anaconda3\\lib\\site-packages\\sklearn\\model_selection\\_validation.py:680: DataConversionWarning: A column-vector y was passed when a 1d array was expected. Please change the shape of y to (n_samples,), for example using ravel().\n",
      "  estimator.fit(X_train, y_train, **fit_params)\n",
      "C:\\Users\\Matteo\\anaconda3\\lib\\site-packages\\sklearn\\model_selection\\_validation.py:680: DataConversionWarning: A column-vector y was passed when a 1d array was expected. Please change the shape of y to (n_samples,), for example using ravel().\n",
      "  estimator.fit(X_train, y_train, **fit_params)\n",
      "C:\\Users\\Matteo\\anaconda3\\lib\\site-packages\\sklearn\\model_selection\\_validation.py:680: DataConversionWarning: A column-vector y was passed when a 1d array was expected. Please change the shape of y to (n_samples,), for example using ravel().\n",
      "  estimator.fit(X_train, y_train, **fit_params)\n",
      "C:\\Users\\Matteo\\anaconda3\\lib\\site-packages\\sklearn\\model_selection\\_validation.py:680: DataConversionWarning: A column-vector y was passed when a 1d array was expected. Please change the shape of y to (n_samples,), for example using ravel().\n",
      "  estimator.fit(X_train, y_train, **fit_params)\n",
      "C:\\Users\\Matteo\\anaconda3\\lib\\site-packages\\sklearn\\model_selection\\_validation.py:680: DataConversionWarning: A column-vector y was passed when a 1d array was expected. Please change the shape of y to (n_samples,), for example using ravel().\n",
      "  estimator.fit(X_train, y_train, **fit_params)\n",
      "C:\\Users\\Matteo\\anaconda3\\lib\\site-packages\\sklearn\\model_selection\\_validation.py:680: DataConversionWarning: A column-vector y was passed when a 1d array was expected. Please change the shape of y to (n_samples,), for example using ravel().\n",
      "  estimator.fit(X_train, y_train, **fit_params)\n",
      "C:\\Users\\Matteo\\anaconda3\\lib\\site-packages\\sklearn\\model_selection\\_validation.py:680: DataConversionWarning: A column-vector y was passed when a 1d array was expected. Please change the shape of y to (n_samples,), for example using ravel().\n",
      "  estimator.fit(X_train, y_train, **fit_params)\n",
      "C:\\Users\\Matteo\\anaconda3\\lib\\site-packages\\sklearn\\model_selection\\_validation.py:680: DataConversionWarning: A column-vector y was passed when a 1d array was expected. Please change the shape of y to (n_samples,), for example using ravel().\n",
      "  estimator.fit(X_train, y_train, **fit_params)\n",
      "C:\\Users\\Matteo\\anaconda3\\lib\\site-packages\\sklearn\\model_selection\\_validation.py:680: DataConversionWarning: A column-vector y was passed when a 1d array was expected. Please change the shape of y to (n_samples,), for example using ravel().\n",
      "  estimator.fit(X_train, y_train, **fit_params)\n",
      "C:\\Users\\Matteo\\anaconda3\\lib\\site-packages\\sklearn\\model_selection\\_validation.py:680: DataConversionWarning: A column-vector y was passed when a 1d array was expected. Please change the shape of y to (n_samples,), for example using ravel().\n",
      "  estimator.fit(X_train, y_train, **fit_params)\n",
      "C:\\Users\\Matteo\\anaconda3\\lib\\site-packages\\sklearn\\model_selection\\_validation.py:680: DataConversionWarning: A column-vector y was passed when a 1d array was expected. Please change the shape of y to (n_samples,), for example using ravel().\n",
      "  estimator.fit(X_train, y_train, **fit_params)\n",
      "C:\\Users\\Matteo\\anaconda3\\lib\\site-packages\\sklearn\\model_selection\\_validation.py:680: DataConversionWarning: A column-vector y was passed when a 1d array was expected. Please change the shape of y to (n_samples,), for example using ravel().\n",
      "  estimator.fit(X_train, y_train, **fit_params)\n",
      "C:\\Users\\Matteo\\anaconda3\\lib\\site-packages\\sklearn\\model_selection\\_validation.py:680: DataConversionWarning: A column-vector y was passed when a 1d array was expected. Please change the shape of y to (n_samples,), for example using ravel().\n",
      "  estimator.fit(X_train, y_train, **fit_params)\n",
      "C:\\Users\\Matteo\\anaconda3\\lib\\site-packages\\sklearn\\model_selection\\_validation.py:680: DataConversionWarning: A column-vector y was passed when a 1d array was expected. Please change the shape of y to (n_samples,), for example using ravel().\n",
      "  estimator.fit(X_train, y_train, **fit_params)\n",
      "C:\\Users\\Matteo\\anaconda3\\lib\\site-packages\\sklearn\\model_selection\\_validation.py:680: DataConversionWarning: A column-vector y was passed when a 1d array was expected. Please change the shape of y to (n_samples,), for example using ravel().\n",
      "  estimator.fit(X_train, y_train, **fit_params)\n",
      "C:\\Users\\Matteo\\anaconda3\\lib\\site-packages\\sklearn\\model_selection\\_validation.py:680: DataConversionWarning: A column-vector y was passed when a 1d array was expected. Please change the shape of y to (n_samples,), for example using ravel().\n",
      "  estimator.fit(X_train, y_train, **fit_params)\n"
     ]
    }
   ],
   "source": [
    "rf_lrn = RandomForestClassifier(criterion=\"entropy\", n_estimators=1)\n",
    "sizes = range(1000, 8001, 2000)\n",
    "train_size, train_score, val_score = learning_curve(rf_lrn, X_train, y_train, train_sizes=sizes, cv=skf)"
   ]
  },
  {
   "cell_type": "code",
   "execution_count": 167,
   "metadata": {},
   "outputs": [
    {
     "data": {
      "image/png": "[encoded data removed]",
      "text/plain": [
       "<Figure size 432x288 with 1 Axes>"
      ]
     },
     "metadata": {
      "needs_background": "light"
     },
     "output_type": "display_data"
    }
   ],
   "source": [
    "plt.title('A single bagging tree')\n",
    "train_score_mean = np.mean(train_score, axis=1)\n",
    "train_score_std = np.std(train_score, axis=1)\n",
    "val_score_mean = np.mean(val_score, axis=1)\n",
    "val_score_std = np.std(val_score, axis=1)\n",
    "plt.grid()\n",
    "plt.fill_between(train_size, train_score_mean - train_score_std,\n",
    "                 train_score_mean + train_score_std, alpha=0.1,\n",
    "                 color=\"r\")\n",
    "plt.fill_between(train_size, val_score_mean - val_score_std,\n",
    "                 val_score_mean + val_score_std, alpha=0.1, color=\"g\")\n",
    "plt.plot(train_size, train_score_mean, 'o-', color=\"r\",\n",
    "         label=\"Training score\")\n",
    "plt.plot(train_size, val_score_mean, 'o-', color=\"g\",\n",
    "         label=\"CV accuracy\")\n",
    "plt.legend()\n",
    "plt.xlabel('Training size')\n",
    "plt.ylabel('Accuracy')\n",
    "plt.show()"
   ]
  },
  {
   "cell_type": "code",
   "execution_count": 168,
   "metadata": {},
   "outputs": [
    {
     "name": "stderr",
     "output_type": "stream",
     "text": [
      "C:\\Users\\Matteo\\anaconda3\\lib\\site-packages\\sklearn\\model_selection\\_validation.py:680: DataConversionWarning: A column-vector y was passed when a 1d array was expected. Please change the shape of y to (n_samples,), for example using ravel().\n",
      "  estimator.fit(X_train, y_train, **fit_params)\n",
      "C:\\Users\\Matteo\\anaconda3\\lib\\site-packages\\sklearn\\model_selection\\_validation.py:680: DataConversionWarning: A column-vector y was passed when a 1d array was expected. Please change the shape of y to (n_samples,), for example using ravel().\n",
      "  estimator.fit(X_train, y_train, **fit_params)\n",
      "C:\\Users\\Matteo\\anaconda3\\lib\\site-packages\\sklearn\\model_selection\\_validation.py:680: DataConversionWarning: A column-vector y was passed when a 1d array was expected. Please change the shape of y to (n_samples,), for example using ravel().\n",
      "  estimator.fit(X_train, y_train, **fit_params)\n",
      "C:\\Users\\Matteo\\anaconda3\\lib\\site-packages\\sklearn\\model_selection\\_validation.py:680: DataConversionWarning: A column-vector y was passed when a 1d array was expected. Please change the shape of y to (n_samples,), for example using ravel().\n",
      "  estimator.fit(X_train, y_train, **fit_params)\n",
      "C:\\Users\\Matteo\\anaconda3\\lib\\site-packages\\sklearn\\model_selection\\_validation.py:680: DataConversionWarning: A column-vector y was passed when a 1d array was expected. Please change the shape of y to (n_samples,), for example using ravel().\n",
      "  estimator.fit(X_train, y_train, **fit_params)\n",
      "C:\\Users\\Matteo\\anaconda3\\lib\\site-packages\\sklearn\\model_selection\\_validation.py:680: DataConversionWarning: A column-vector y was passed when a 1d array was expected. Please change the shape of y to (n_samples,), for example using ravel().\n",
      "  estimator.fit(X_train, y_train, **fit_params)\n",
      "C:\\Users\\Matteo\\anaconda3\\lib\\site-packages\\sklearn\\model_selection\\_validation.py:680: DataConversionWarning: A column-vector y was passed when a 1d array was expected. Please change the shape of y to (n_samples,), for example using ravel().\n",
      "  estimator.fit(X_train, y_train, **fit_params)\n",
      "C:\\Users\\Matteo\\anaconda3\\lib\\site-packages\\sklearn\\model_selection\\_validation.py:680: DataConversionWarning: A column-vector y was passed when a 1d array was expected. Please change the shape of y to (n_samples,), for example using ravel().\n",
      "  estimator.fit(X_train, y_train, **fit_params)\n",
      "C:\\Users\\Matteo\\anaconda3\\lib\\site-packages\\sklearn\\model_selection\\_validation.py:680: DataConversionWarning: A column-vector y was passed when a 1d array was expected. Please change the shape of y to (n_samples,), for example using ravel().\n",
      "  estimator.fit(X_train, y_train, **fit_params)\n",
      "C:\\Users\\Matteo\\anaconda3\\lib\\site-packages\\sklearn\\model_selection\\_validation.py:680: DataConversionWarning: A column-vector y was passed when a 1d array was expected. Please change the shape of y to (n_samples,), for example using ravel().\n",
      "  estimator.fit(X_train, y_train, **fit_params)\n",
      "C:\\Users\\Matteo\\anaconda3\\lib\\site-packages\\sklearn\\model_selection\\_validation.py:680: DataConversionWarning: A column-vector y was passed when a 1d array was expected. Please change the shape of y to (n_samples,), for example using ravel().\n",
      "  estimator.fit(X_train, y_train, **fit_params)\n",
      "C:\\Users\\Matteo\\anaconda3\\lib\\site-packages\\sklearn\\model_selection\\_validation.py:680: DataConversionWarning: A column-vector y was passed when a 1d array was expected. Please change the shape of y to (n_samples,), for example using ravel().\n",
      "  estimator.fit(X_train, y_train, **fit_params)\n",
      "C:\\Users\\Matteo\\anaconda3\\lib\\site-packages\\sklearn\\model_selection\\_validation.py:680: DataConversionWarning: A column-vector y was passed when a 1d array was expected. Please change the shape of y to (n_samples,), for example using ravel().\n",
      "  estimator.fit(X_train, y_train, **fit_params)\n",
      "C:\\Users\\Matteo\\anaconda3\\lib\\site-packages\\sklearn\\model_selection\\_validation.py:680: DataConversionWarning: A column-vector y was passed when a 1d array was expected. Please change the shape of y to (n_samples,), for example using ravel().\n",
      "  estimator.fit(X_train, y_train, **fit_params)\n",
      "C:\\Users\\Matteo\\anaconda3\\lib\\site-packages\\sklearn\\model_selection\\_validation.py:680: DataConversionWarning: A column-vector y was passed when a 1d array was expected. Please change the shape of y to (n_samples,), for example using ravel().\n",
      "  estimator.fit(X_train, y_train, **fit_params)\n",
      "C:\\Users\\Matteo\\anaconda3\\lib\\site-packages\\sklearn\\model_selection\\_validation.py:680: DataConversionWarning: A column-vector y was passed when a 1d array was expected. Please change the shape of y to (n_samples,), for example using ravel().\n",
      "  estimator.fit(X_train, y_train, **fit_params)\n",
      "C:\\Users\\Matteo\\anaconda3\\lib\\site-packages\\sklearn\\model_selection\\_validation.py:680: DataConversionWarning: A column-vector y was passed when a 1d array was expected. Please change the shape of y to (n_samples,), for example using ravel().\n",
      "  estimator.fit(X_train, y_train, **fit_params)\n",
      "C:\\Users\\Matteo\\anaconda3\\lib\\site-packages\\sklearn\\model_selection\\_validation.py:680: DataConversionWarning: A column-vector y was passed when a 1d array was expected. Please change the shape of y to (n_samples,), for example using ravel().\n",
      "  estimator.fit(X_train, y_train, **fit_params)\n",
      "C:\\Users\\Matteo\\anaconda3\\lib\\site-packages\\sklearn\\model_selection\\_validation.py:680: DataConversionWarning: A column-vector y was passed when a 1d array was expected. Please change the shape of y to (n_samples,), for example using ravel().\n",
      "  estimator.fit(X_train, y_train, **fit_params)\n",
      "C:\\Users\\Matteo\\anaconda3\\lib\\site-packages\\sklearn\\model_selection\\_validation.py:680: DataConversionWarning: A column-vector y was passed when a 1d array was expected. Please change the shape of y to (n_samples,), for example using ravel().\n",
      "  estimator.fit(X_train, y_train, **fit_params)\n"
     ]
    }
   ],
   "source": [
    "rf_lrn = RandomForestClassifier(criterion=\"entropy\", n_estimators=10)\n",
    "sizes = range(1000, 8001, 2000)\n",
    "train_size, train_score, val_score = learning_curve(rf_lrn, X_train, y_train, train_sizes=sizes, cv=skf)"
   ]
  },
  {
   "cell_type": "code",
   "execution_count": 169,
   "metadata": {},
   "outputs": [
    {
     "data": {
      "image/png": "[encoded data removed]",
      "text/plain": [
       "<Figure size 432x288 with 1 Axes>"
      ]
     },
     "metadata": {
      "needs_background": "light"
     },
     "output_type": "display_data"
    }
   ],
   "source": [
    "plt.title('A single bagging tree')\n",
    "train_score_mean = np.mean(train_score, axis=1)\n",
    "train_score_std = np.std(train_score, axis=1)\n",
    "val_score_mean = np.mean(val_score, axis=1)\n",
    "val_score_std = np.std(val_score, axis=1)\n",
    "plt.grid()\n",
    "plt.fill_between(train_size, train_score_mean - train_score_std,\n",
    "                 train_score_mean + train_score_std, alpha=0.1,\n",
    "                 color=\"r\")\n",
    "plt.fill_between(train_size, val_score_mean - val_score_std,\n",
    "                 val_score_mean + val_score_std, alpha=0.1, color=\"g\")\n",
    "plt.plot(train_size, train_score_mean, 'o-', color=\"r\",\n",
    "         label=\"Training score\")\n",
    "plt.plot(train_size, val_score_mean, 'o-', color=\"g\",\n",
    "         label=\"CV accuracy\")\n",
    "plt.legend()\n",
    "plt.xlabel('Training size')\n",
    "plt.ylabel('Accuracy')\n",
    "plt.show()"
   ]
  },
  {
   "cell_type": "code",
   "execution_count": 170,
   "metadata": {},
   "outputs": [
    {
     "name": "stderr",
     "output_type": "stream",
     "text": [
      "C:\\Users\\Matteo\\anaconda3\\lib\\site-packages\\sklearn\\model_selection\\_validation.py:680: DataConversionWarning: A column-vector y was passed when a 1d array was expected. Please change the shape of y to (n_samples,), for example using ravel().\n",
      "  estimator.fit(X_train, y_train, **fit_params)\n",
      "C:\\Users\\Matteo\\anaconda3\\lib\\site-packages\\sklearn\\model_selection\\_validation.py:680: DataConversionWarning: A column-vector y was passed when a 1d array was expected. Please change the shape of y to (n_samples,), for example using ravel().\n",
      "  estimator.fit(X_train, y_train, **fit_params)\n",
      "C:\\Users\\Matteo\\anaconda3\\lib\\site-packages\\sklearn\\model_selection\\_validation.py:680: DataConversionWarning: A column-vector y was passed when a 1d array was expected. Please change the shape of y to (n_samples,), for example using ravel().\n",
      "  estimator.fit(X_train, y_train, **fit_params)\n",
      "C:\\Users\\Matteo\\anaconda3\\lib\\site-packages\\sklearn\\model_selection\\_validation.py:680: DataConversionWarning: A column-vector y was passed when a 1d array was expected. Please change the shape of y to (n_samples,), for example using ravel().\n",
      "  estimator.fit(X_train, y_train, **fit_params)\n",
      "C:\\Users\\Matteo\\anaconda3\\lib\\site-packages\\sklearn\\model_selection\\_validation.py:680: DataConversionWarning: A column-vector y was passed when a 1d array was expected. Please change the shape of y to (n_samples,), for example using ravel().\n",
      "  estimator.fit(X_train, y_train, **fit_params)\n",
      "C:\\Users\\Matteo\\anaconda3\\lib\\site-packages\\sklearn\\model_selection\\_validation.py:680: DataConversionWarning: A column-vector y was passed when a 1d array was expected. Please change the shape of y to (n_samples,), for example using ravel().\n",
      "  estimator.fit(X_train, y_train, **fit_params)\n",
      "C:\\Users\\Matteo\\anaconda3\\lib\\site-packages\\sklearn\\model_selection\\_validation.py:680: DataConversionWarning: A column-vector y was passed when a 1d array was expected. Please change the shape of y to (n_samples,), for example using ravel().\n",
      "  estimator.fit(X_train, y_train, **fit_params)\n",
      "C:\\Users\\Matteo\\anaconda3\\lib\\site-packages\\sklearn\\model_selection\\_validation.py:680: DataConversionWarning: A column-vector y was passed when a 1d array was expected. Please change the shape of y to (n_samples,), for example using ravel().\n",
      "  estimator.fit(X_train, y_train, **fit_params)\n",
      "C:\\Users\\Matteo\\anaconda3\\lib\\site-packages\\sklearn\\model_selection\\_validation.py:680: DataConversionWarning: A column-vector y was passed when a 1d array was expected. Please change the shape of y to (n_samples,), for example using ravel().\n",
      "  estimator.fit(X_train, y_train, **fit_params)\n",
      "C:\\Users\\Matteo\\anaconda3\\lib\\site-packages\\sklearn\\model_selection\\_validation.py:680: DataConversionWarning: A column-vector y was passed when a 1d array was expected. Please change the shape of y to (n_samples,), for example using ravel().\n",
      "  estimator.fit(X_train, y_train, **fit_params)\n",
      "C:\\Users\\Matteo\\anaconda3\\lib\\site-packages\\sklearn\\model_selection\\_validation.py:680: DataConversionWarning: A column-vector y was passed when a 1d array was expected. Please change the shape of y to (n_samples,), for example using ravel().\n",
      "  estimator.fit(X_train, y_train, **fit_params)\n",
      "C:\\Users\\Matteo\\anaconda3\\lib\\site-packages\\sklearn\\model_selection\\_validation.py:680: DataConversionWarning: A column-vector y was passed when a 1d array was expected. Please change the shape of y to (n_samples,), for example using ravel().\n",
      "  estimator.fit(X_train, y_train, **fit_params)\n",
      "C:\\Users\\Matteo\\anaconda3\\lib\\site-packages\\sklearn\\model_selection\\_validation.py:680: DataConversionWarning: A column-vector y was passed when a 1d array was expected. Please change the shape of y to (n_samples,), for example using ravel().\n",
      "  estimator.fit(X_train, y_train, **fit_params)\n",
      "C:\\Users\\Matteo\\anaconda3\\lib\\site-packages\\sklearn\\model_selection\\_validation.py:680: DataConversionWarning: A column-vector y was passed when a 1d array was expected. Please change the shape of y to (n_samples,), for example using ravel().\n",
      "  estimator.fit(X_train, y_train, **fit_params)\n",
      "C:\\Users\\Matteo\\anaconda3\\lib\\site-packages\\sklearn\\model_selection\\_validation.py:680: DataConversionWarning: A column-vector y was passed when a 1d array was expected. Please change the shape of y to (n_samples,), for example using ravel().\n",
      "  estimator.fit(X_train, y_train, **fit_params)\n",
      "C:\\Users\\Matteo\\anaconda3\\lib\\site-packages\\sklearn\\model_selection\\_validation.py:680: DataConversionWarning: A column-vector y was passed when a 1d array was expected. Please change the shape of y to (n_samples,), for example using ravel().\n",
      "  estimator.fit(X_train, y_train, **fit_params)\n",
      "C:\\Users\\Matteo\\anaconda3\\lib\\site-packages\\sklearn\\model_selection\\_validation.py:680: DataConversionWarning: A column-vector y was passed when a 1d array was expected. Please change the shape of y to (n_samples,), for example using ravel().\n",
      "  estimator.fit(X_train, y_train, **fit_params)\n",
      "C:\\Users\\Matteo\\anaconda3\\lib\\site-packages\\sklearn\\model_selection\\_validation.py:680: DataConversionWarning: A column-vector y was passed when a 1d array was expected. Please change the shape of y to (n_samples,), for example using ravel().\n",
      "  estimator.fit(X_train, y_train, **fit_params)\n",
      "C:\\Users\\Matteo\\anaconda3\\lib\\site-packages\\sklearn\\model_selection\\_validation.py:680: DataConversionWarning: A column-vector y was passed when a 1d array was expected. Please change the shape of y to (n_samples,), for example using ravel().\n",
      "  estimator.fit(X_train, y_train, **fit_params)\n",
      "C:\\Users\\Matteo\\anaconda3\\lib\\site-packages\\sklearn\\model_selection\\_validation.py:680: DataConversionWarning: A column-vector y was passed when a 1d array was expected. Please change the shape of y to (n_samples,), for example using ravel().\n",
      "  estimator.fit(X_train, y_train, **fit_params)\n"
     ]
    }
   ],
   "source": [
    "rf_lrn = RandomForestClassifier(criterion=\"entropy\", n_estimators=20)\n",
    "sizes = range(1000, 8001, 2000)\n",
    "train_size, train_score, val_score = learning_curve(rf_lrn, X_train, y_train, train_sizes=sizes, cv=skf)"
   ]
  },
  {
   "cell_type": "code",
   "execution_count": 171,
   "metadata": {},
   "outputs": [
    {
     "data": {
      "image/png": "[encoded data removed]",
      "text/plain": [
       "<Figure size 432x288 with 1 Axes>"
      ]
     },
     "metadata": {
      "needs_background": "light"
     },
     "output_type": "display_data"
    }
   ],
   "source": [
    "plt.title('A single bagging tree')\n",
    "train_score_mean = np.mean(train_score, axis=1)\n",
    "train_score_std = np.std(train_score, axis=1)\n",
    "val_score_mean = np.mean(val_score, axis=1)\n",
    "val_score_std = np.std(val_score, axis=1)\n",
    "plt.grid()\n",
    "plt.fill_between(train_size, train_score_mean - train_score_std,\n",
    "                 train_score_mean + train_score_std, alpha=0.1,\n",
    "                 color=\"r\")\n",
    "plt.fill_between(train_size, val_score_mean - val_score_std,\n",
    "                 val_score_mean + val_score_std, alpha=0.1, color=\"g\")\n",
    "plt.plot(train_size, train_score_mean, 'o-', color=\"r\",\n",
    "         label=\"Training score\")\n",
    "plt.plot(train_size, val_score_mean, 'o-', color=\"g\",\n",
    "         label=\"CV accuracy\")\n",
    "plt.legend()\n",
    "plt.xlabel('Training size')\n",
    "plt.ylabel('Accuracy')\n",
    "plt.show()"
   ]
  },
  {
   "cell_type": "code",
   "execution_count": 172,
   "metadata": {},
   "outputs": [
    {
     "data": {
      "text/plain": [
       "[0.6241244807435049,\n",
       " 0.6530974757639839,\n",
       " 0.6726115657935307,\n",
       " 0.6808895158138033,\n",
       " 0.692124733239942,\n",
       " 0.7002064158373534,\n",
       " 0.7072031406672219,\n",
       " 0.7121305115237917,\n",
       " 0.7158756163705093,\n",
       " 0.7219866613901386,\n",
       " 0.7289828035359212,\n",
       " 0.7293770864339006,\n",
       " 0.7341067331573952,\n",
       " 0.7383454685387012,\n",
       " 0.7387405283487947,\n",
       " 0.734699177201514,\n",
       " 0.7436674136352932,\n",
       " 0.7345025698796028,\n",
       " 0.7359802081638895,\n",
       " 0.736965624066795,\n",
       " 0.7358808119702733,\n",
       " 0.7377532672796179,\n",
       " 0.7374578950051834,\n",
       " 0.7368668105572644,\n",
       " 0.7387391687525948,\n",
       " 0.7380509702903952,\n",
       " 0.7355856339238674,\n",
       " 0.7366696691082748,\n",
       " 0.7399226001306184,\n",
       " 0.7430763291873742,\n",
       " 0.7401192074525295,\n",
       " 0.733417660669067]"
      ]
     },
     "execution_count": 172,
     "metadata": {},
     "output_type": "execute_result"
    }
   ],
   "source": [
    "depths = range(3,35)\n",
    "rf_train_score = []\n",
    "rf_test_score = []\n",
    "for el in depths:\n",
    "    rf_score = cross_validate(RandomForestClassifier(criterion = \"entropy\",max_depth=el, n_estimators=40), X_train, y_train, cv=skf,return_train_score=True,n_jobs=-1)\n",
    "    rf_train_score.append(np.mean(rf_score['train_score']))\n",
    "    rf_test_score.append(np.mean(rf_score['test_score']))\n",
    "rf_test_score"
   ]
  },
  {
   "cell_type": "code",
   "execution_count": 173,
   "metadata": {},
   "outputs": [
    {
     "data": {
      "text/plain": [
       "Text(0, 0.5, 'Accuracy')"
      ]
     },
     "execution_count": 173,
     "metadata": {},
     "output_type": "execute_result"
    },
    {
     "data": {
      "image/png": "[encoded data removed]",
      "text/plain": [
       "<Figure size 432x288 with 1 Axes>"
      ]
     },
     "metadata": {
      "needs_background": "light"
     },
     "output_type": "display_data"
    }
   ],
   "source": [
    "plt.title(\"Depth_forest_tuning\")\n",
    "plt.plot(depths,rf_train_score,label = \"Training accuracy\")\n",
    "plt.plot(depths,rf_test_score,label = \"Test accuracy\")\n",
    "plt.legend()\n",
    "plt.xlabel('Depths')\n",
    "plt.ylabel('Accuracy')"
   ]
  },
  {
   "cell_type": "code",
   "execution_count": 174,
   "metadata": {},
   "outputs": [
    {
     "name": "stderr",
     "output_type": "stream",
     "text": [
      "C:\\Users\\Matteo\\anaconda3\\lib\\site-packages\\sklearn\\model_selection\\_search.py:926: DataConversionWarning: A column-vector y was passed when a 1d array was expected. Please change the shape of y to (n_samples,), for example using ravel().\n",
      "  self.best_estimator_.fit(X, y, **fit_params)\n"
     ]
    },
    {
     "data": {
      "text/plain": [
       "({'max_depth': 19, 'n_estimators': 40}, 0.7412030484089083)"
      ]
     },
     "execution_count": 174,
     "metadata": {},
     "output_type": "execute_result"
    }
   ],
   "source": [
    "k_grid = {'max_depth': range(3,35),'n_estimators': range(10,41,5)}\n",
    "learner = GridSearchCV(estimator=RandomForestClassifier(criterion = \"entropy\",random_state=21), param_grid=k_grid, cv=skf, return_train_score=True,n_jobs=-1)\n",
    "learner.fit(X_train, y_train)\n",
    "learner.best_params_, learner.best_score_ #check the previous graph"
   ]
  },
  {
   "cell_type": "code",
   "execution_count": 175,
   "metadata": {},
   "outputs": [
    {
     "name": "stderr",
     "output_type": "stream",
     "text": [
      "<ipython-input-175-bd2011281eaf>:2: DataConversionWarning: A column-vector y was passed when a 1d array was expected. Please change the shape of y to (n_samples,), for example using ravel().\n",
      "  rf_lrn = clf_tuned.fit(X_train, y_train)\n"
     ]
    },
    {
     "name": "stdout",
     "output_type": "stream",
     "text": [
      "Bagging accuracy is 0.9882723957820045\n",
      "Bagging test accuracy is 0.7599527000394166\n"
     ]
    }
   ],
   "source": [
    "clf_tuned = learner.best_estimator_\n",
    "rf_lrn = clf_tuned.fit(X_train, y_train)\n",
    "y_p = rf_lrn.predict(X_test)\n",
    "y_t = rf_lrn.predict(X_train)\n",
    "print(\"Bagging accuracy is\", accuracy_score(y_train, y_t))\n",
    "print(\"Bagging test accuracy is\", accuracy_score(y_test, y_p))"
   ]
  },
  {
   "cell_type": "code",
   "execution_count": 176,
   "metadata": {},
   "outputs": [
    {
     "name": "stdout",
     "output_type": "stream",
     "text": [
      "              precision    recall  f1-score   support\n",
      "\n",
      "           0       0.75      0.66      0.71      1095\n",
      "           1       0.77      0.83      0.80      1442\n",
      "\n",
      "    accuracy                           0.76      2537\n",
      "   macro avg       0.76      0.75      0.75      2537\n",
      "weighted avg       0.76      0.76      0.76      2537\n",
      "\n"
     ]
    }
   ],
   "source": [
    "print(classification_report(y_test, y_p))"
   ]
  },
  {
   "cell_type": "code",
   "execution_count": 177,
   "metadata": {},
   "outputs": [
    {
     "data": {
      "text/plain": [
       "0.5039393438333272"
      ]
     },
     "execution_count": 177,
     "metadata": {},
     "output_type": "execute_result"
    }
   ],
   "source": [
    "cohen_kappa_score(y_test, y_p)"
   ]
  },
  {
   "cell_type": "code",
   "execution_count": 178,
   "metadata": {},
   "outputs": [
    {
     "data": {
      "text/plain": [
       "(0.9880163935438763, 0.7444823862357612)"
      ]
     },
     "execution_count": 178,
     "metadata": {},
     "output_type": "execute_result"
    }
   ],
   "source": [
    "scores = cross_validate(clf_tuned, X, y, cv=5, return_train_score = True,n_jobs=-1)\n",
    "scores['train_score'].mean(),scores['test_score'].mean()"
   ]
  },
  {
   "cell_type": "code",
   "execution_count": 179,
   "metadata": {},
   "outputs": [],
   "source": [
    "#k_grid = {'max_depth': range(1,20,3),'min_samples_leaf': range(1,16,5),'min_samples_split':range(3,19,5),'n_estimators': range(1,51,5)}\n",
    "#learner = GridSearchCV(estimator=RandomForestClassifier(criterion = \"entropy\",random_state=33), param_grid=k_grid, cv=skf, return_train_score=True,n_jobs=-1)\n",
    "#learner.fit(X, y)\n",
    "#learner.best_params_, learner.best_score_ # really slow -> runtime problem! Value reported in the next cell rf_lrn"
   ]
  },
  {
   "cell_type": "markdown",
   "metadata": {},
   "source": [
    "Best couple of paramters are (roughly) max_depth = 10 and n_estimators depends on the considered range. Especially, varying the estimator range the max_depth doesn't move (at most it goes to 13) from the value 10. (try it in the previous cell and in the graph). Previous output: 'max_depth': 16,'min_samples_leaf': 6,'min_samples_split': 18,'n_estimators': 46},"
   ]
  },
  {
   "cell_type": "code",
   "execution_count": 180,
   "metadata": {},
   "outputs": [
    {
     "name": "stderr",
     "output_type": "stream",
     "text": [
      "<ipython-input-180-f9d4b293409e>:3: DataConversionWarning: A column-vector y was passed when a 1d array was expected. Please change the shape of y to (n_samples,), for example using ravel().\n",
      "  rf_lrn_fit = rf_lrn.fit(X_train, y_train)\n"
     ]
    },
    {
     "name": "stdout",
     "output_type": "stream",
     "text": [
      "Random Forest training accuracy is 0.9882723957820045\n",
      "Random Forest test accuracy is 0.7599527000394166\n"
     ]
    }
   ],
   "source": [
    "# evaluated for the given split\n",
    "rf_lrn = RandomForestClassifier(criterion = \"entropy\",max_depth = learner.best_params_['max_depth'], n_estimators = learner.best_params_['n_estimators'], random_state = 21)\n",
    "rf_lrn_fit = rf_lrn.fit(X_train, y_train)\n",
    "y_p = rf_lrn_fit.predict(X_test)\n",
    "y_t = rf_lrn_fit.predict(X_train)\n",
    "print(\"Random Forest training accuracy is\", accuracy_score(y_train, y_t))\n",
    "print(\"Random Forest test accuracy is\", accuracy_score(y_test, y_p))"
   ]
  },
  {
   "cell_type": "code",
   "execution_count": 181,
   "metadata": {},
   "outputs": [
    {
     "name": "stderr",
     "output_type": "stream",
     "text": [
      "C:\\Users\\Matteo\\anaconda3\\lib\\site-packages\\sklearn\\model_selection\\_validation.py:680: DataConversionWarning: A column-vector y was passed when a 1d array was expected. Please change the shape of y to (n_samples,), for example using ravel().\n",
      "  estimator.fit(X_train, y_train, **fit_params)\n",
      "C:\\Users\\Matteo\\anaconda3\\lib\\site-packages\\sklearn\\model_selection\\_validation.py:680: DataConversionWarning: A column-vector y was passed when a 1d array was expected. Please change the shape of y to (n_samples,), for example using ravel().\n",
      "  estimator.fit(X_train, y_train, **fit_params)\n",
      "C:\\Users\\Matteo\\anaconda3\\lib\\site-packages\\sklearn\\model_selection\\_validation.py:680: DataConversionWarning: A column-vector y was passed when a 1d array was expected. Please change the shape of y to (n_samples,), for example using ravel().\n",
      "  estimator.fit(X_train, y_train, **fit_params)\n",
      "C:\\Users\\Matteo\\anaconda3\\lib\\site-packages\\sklearn\\model_selection\\_validation.py:680: DataConversionWarning: A column-vector y was passed when a 1d array was expected. Please change the shape of y to (n_samples,), for example using ravel().\n",
      "  estimator.fit(X_train, y_train, **fit_params)\n",
      "C:\\Users\\Matteo\\anaconda3\\lib\\site-packages\\sklearn\\model_selection\\_validation.py:680: DataConversionWarning: A column-vector y was passed when a 1d array was expected. Please change the shape of y to (n_samples,), for example using ravel().\n",
      "  estimator.fit(X_train, y_train, **fit_params)\n"
     ]
    },
    {
     "data": {
      "text/plain": [
       "(0.9880163935438763, 0.7444823862357612)"
      ]
     },
     "execution_count": 181,
     "metadata": {},
     "output_type": "execute_result"
    }
   ],
   "source": [
    "scores = cross_validate(rf_lrn, X, y, cv=5, return_train_score = True)\n",
    "scores['train_score'].mean(),scores['test_score'].mean() # real estimation of the accuracy with all the paramters tuned"
   ]
  },
  {
   "cell_type": "markdown",
   "metadata": {},
   "source": [
    "Similar performances of bagging"
   ]
  },
  {
   "cell_type": "code",
   "execution_count": 182,
   "metadata": {},
   "outputs": [],
   "source": [
    "#rf_lrn = RandomForestClassifier(n_estimators=10, max_depth=10)\n",
    "#sizes = range(1000, 8001, 2000)\n",
    "#train_size, train_score, val_score = learning_curve(rf_lrn, X, y, train_sizes=sizes, cv=skf)"
   ]
  },
  {
   "cell_type": "code",
   "execution_count": 183,
   "metadata": {},
   "outputs": [],
   "source": [
    "#plt.title('Random Forest')\n",
    "#train_score_mean = np.mean(train_score, axis=1)\n",
    "#train_score_std = np.std(train_score, axis=1)\n",
    "#val_score_mean = np.mean(val_score, axis=1)\n",
    "#val_score_std = np.std(val_score, axis=1)\n",
    "#plt.grid()\n",
    "#plt.fill_between(train_size, train_score_mean - train_score_std,\n",
    "#                 train_score_mean + train_score_std, alpha=0.1,\n",
    "#                 color=\"r\")\n",
    "#plt.fill_between(train_size, val_score_mean - val_score_std,\n",
    "#                 val_score_mean + val_score_std, alpha=0.1, color=\"g\")\n",
    "#plt.plot(train_size, train_score_mean, 'o-', color=\"r\",\n",
    "#         label=\"Training score\")\n",
    "#plt.plot(train_size, val_score_mean, 'o-', color=\"g\",\n",
    "#         label=\"CV accuracy\")\n",
    "#plt.legend()\n",
    "#plt.xlabel('Training size')\n",
    "#plt.ylabel('Accuracy')\n",
    "#plt.show()"
   ]
  },
  {
   "cell_type": "code",
   "execution_count": 184,
   "metadata": {},
   "outputs": [],
   "source": [
    "#depths = np.arange(3,31,3)\n",
    "#learner = RandomForestClassifier(n_estimators=10)\n",
    "#train_score, val_score = validation_curve(learner, X, y, 'max_depth', depths, cv=skf)"
   ]
  },
  {
   "cell_type": "code",
   "execution_count": 185,
   "metadata": {},
   "outputs": [],
   "source": [
    "#plt.title('Random Forest')\n",
    "#train_score_mean = np.mean(train_score, axis=1)\n",
    "#train_score_std = np.std(train_score, axis=1)\n",
    "#val_score_mean = np.mean(val_score, axis=1)\n",
    "#val_score_std = np.std(val_score, axis=1)\n",
    "#plt.grid()\n",
    "#plt.fill_between(depths, train_score_mean - train_score_std,\n",
    "#                 train_score_mean + train_score_std, alpha=0.1,\n",
    "#                 color=\"r\")\n",
    "#plt.fill_between(depths, val_score_mean - val_score_std,\n",
    "#                 val_score_mean + val_score_std, alpha=0.1, color=\"g\")\n",
    "#plt.plot(depths, train_score_mean, 'o-', color=\"r\",\n",
    "#         label=\"Training score\")\n",
    "#plt.plot(depths, val_score_mean, 'o-', color=\"g\",\n",
    "#         label=\"CV accuracy\")\n",
    "#plt.legend()\n",
    "#plt.xlabel('Tree depth')\n",
    "#plt.ylabel('Accuracy')\n",
    "#plt.show()"
   ]
  },
  {
   "cell_type": "code",
   "execution_count": 186,
   "metadata": {},
   "outputs": [
    {
     "name": "stderr",
     "output_type": "stream",
     "text": [
      "C:\\Users\\Matteo\\anaconda3\\lib\\site-packages\\sklearn\\ensemble\\_bagging.py:719: DataConversionWarning: A column-vector y was passed when a 1d array was expected. Please change the shape of y to (n_samples, ), for example using ravel().\n",
      "  y = column_or_1d(y, warn=True)\n",
      "C:\\Users\\Matteo\\anaconda3\\lib\\site-packages\\sklearn\\ensemble\\_bagging.py:719: DataConversionWarning: A column-vector y was passed when a 1d array was expected. Please change the shape of y to (n_samples, ), for example using ravel().\n",
      "  y = column_or_1d(y, warn=True)\n",
      "C:\\Users\\Matteo\\anaconda3\\lib\\site-packages\\sklearn\\ensemble\\_bagging.py:719: DataConversionWarning: A column-vector y was passed when a 1d array was expected. Please change the shape of y to (n_samples, ), for example using ravel().\n",
      "  y = column_or_1d(y, warn=True)\n",
      "C:\\Users\\Matteo\\anaconda3\\lib\\site-packages\\sklearn\\ensemble\\_bagging.py:719: DataConversionWarning: A column-vector y was passed when a 1d array was expected. Please change the shape of y to (n_samples, ), for example using ravel().\n",
      "  y = column_or_1d(y, warn=True)\n",
      "C:\\Users\\Matteo\\anaconda3\\lib\\site-packages\\sklearn\\ensemble\\_bagging.py:719: DataConversionWarning: A column-vector y was passed when a 1d array was expected. Please change the shape of y to (n_samples, ), for example using ravel().\n",
      "  y = column_or_1d(y, warn=True)\n",
      "C:\\Users\\Matteo\\anaconda3\\lib\\site-packages\\sklearn\\ensemble\\_bagging.py:719: DataConversionWarning: A column-vector y was passed when a 1d array was expected. Please change the shape of y to (n_samples, ), for example using ravel().\n",
      "  y = column_or_1d(y, warn=True)\n",
      "C:\\Users\\Matteo\\anaconda3\\lib\\site-packages\\sklearn\\ensemble\\_bagging.py:719: DataConversionWarning: A column-vector y was passed when a 1d array was expected. Please change the shape of y to (n_samples, ), for example using ravel().\n",
      "  y = column_or_1d(y, warn=True)\n",
      "C:\\Users\\Matteo\\anaconda3\\lib\\site-packages\\sklearn\\ensemble\\_bagging.py:719: DataConversionWarning: A column-vector y was passed when a 1d array was expected. Please change the shape of y to (n_samples, ), for example using ravel().\n",
      "  y = column_or_1d(y, warn=True)\n",
      "C:\\Users\\Matteo\\anaconda3\\lib\\site-packages\\sklearn\\ensemble\\_bagging.py:719: DataConversionWarning: A column-vector y was passed when a 1d array was expected. Please change the shape of y to (n_samples, ), for example using ravel().\n",
      "  y = column_or_1d(y, warn=True)\n",
      "C:\\Users\\Matteo\\anaconda3\\lib\\site-packages\\sklearn\\ensemble\\_bagging.py:719: DataConversionWarning: A column-vector y was passed when a 1d array was expected. Please change the shape of y to (n_samples, ), for example using ravel().\n",
      "  y = column_or_1d(y, warn=True)\n",
      "C:\\Users\\Matteo\\anaconda3\\lib\\site-packages\\sklearn\\ensemble\\_bagging.py:719: DataConversionWarning: A column-vector y was passed when a 1d array was expected. Please change the shape of y to (n_samples, ), for example using ravel().\n",
      "  y = column_or_1d(y, warn=True)\n",
      "C:\\Users\\Matteo\\anaconda3\\lib\\site-packages\\sklearn\\ensemble\\_bagging.py:719: DataConversionWarning: A column-vector y was passed when a 1d array was expected. Please change the shape of y to (n_samples, ), for example using ravel().\n",
      "  y = column_or_1d(y, warn=True)\n",
      "C:\\Users\\Matteo\\anaconda3\\lib\\site-packages\\sklearn\\ensemble\\_bagging.py:719: DataConversionWarning: A column-vector y was passed when a 1d array was expected. Please change the shape of y to (n_samples, ), for example using ravel().\n",
      "  y = column_or_1d(y, warn=True)\n",
      "C:\\Users\\Matteo\\anaconda3\\lib\\site-packages\\sklearn\\ensemble\\_bagging.py:719: DataConversionWarning: A column-vector y was passed when a 1d array was expected. Please change the shape of y to (n_samples, ), for example using ravel().\n",
      "  y = column_or_1d(y, warn=True)\n",
      "C:\\Users\\Matteo\\anaconda3\\lib\\site-packages\\sklearn\\ensemble\\_bagging.py:719: DataConversionWarning: A column-vector y was passed when a 1d array was expected. Please change the shape of y to (n_samples, ), for example using ravel().\n",
      "  y = column_or_1d(y, warn=True)\n",
      "C:\\Users\\Matteo\\anaconda3\\lib\\site-packages\\sklearn\\model_selection\\_validation.py:680: DataConversionWarning: A column-vector y was passed when a 1d array was expected. Please change the shape of y to (n_samples,), for example using ravel().\n",
      "  estimator.fit(X_train, y_train, **fit_params)\n",
      "C:\\Users\\Matteo\\anaconda3\\lib\\site-packages\\sklearn\\model_selection\\_validation.py:680: DataConversionWarning: A column-vector y was passed when a 1d array was expected. Please change the shape of y to (n_samples,), for example using ravel().\n",
      "  estimator.fit(X_train, y_train, **fit_params)\n",
      "C:\\Users\\Matteo\\anaconda3\\lib\\site-packages\\sklearn\\model_selection\\_validation.py:680: DataConversionWarning: A column-vector y was passed when a 1d array was expected. Please change the shape of y to (n_samples,), for example using ravel().\n",
      "  estimator.fit(X_train, y_train, **fit_params)\n",
      "C:\\Users\\Matteo\\anaconda3\\lib\\site-packages\\sklearn\\model_selection\\_validation.py:680: DataConversionWarning: A column-vector y was passed when a 1d array was expected. Please change the shape of y to (n_samples,), for example using ravel().\n",
      "  estimator.fit(X_train, y_train, **fit_params)\n",
      "C:\\Users\\Matteo\\anaconda3\\lib\\site-packages\\sklearn\\model_selection\\_validation.py:680: DataConversionWarning: A column-vector y was passed when a 1d array was expected. Please change the shape of y to (n_samples,), for example using ravel().\n",
      "  estimator.fit(X_train, y_train, **fit_params)\n",
      "C:\\Users\\Matteo\\anaconda3\\lib\\site-packages\\sklearn\\model_selection\\_validation.py:680: DataConversionWarning: A column-vector y was passed when a 1d array was expected. Please change the shape of y to (n_samples,), for example using ravel().\n",
      "  estimator.fit(X_train, y_train, **fit_params)\n",
      "C:\\Users\\Matteo\\anaconda3\\lib\\site-packages\\sklearn\\model_selection\\_validation.py:680: DataConversionWarning: A column-vector y was passed when a 1d array was expected. Please change the shape of y to (n_samples,), for example using ravel().\n",
      "  estimator.fit(X_train, y_train, **fit_params)\n",
      "C:\\Users\\Matteo\\anaconda3\\lib\\site-packages\\sklearn\\model_selection\\_validation.py:680: DataConversionWarning: A column-vector y was passed when a 1d array was expected. Please change the shape of y to (n_samples,), for example using ravel().\n",
      "  estimator.fit(X_train, y_train, **fit_params)\n",
      "C:\\Users\\Matteo\\anaconda3\\lib\\site-packages\\sklearn\\model_selection\\_validation.py:680: DataConversionWarning: A column-vector y was passed when a 1d array was expected. Please change the shape of y to (n_samples,), for example using ravel().\n",
      "  estimator.fit(X_train, y_train, **fit_params)\n",
      "C:\\Users\\Matteo\\anaconda3\\lib\\site-packages\\sklearn\\model_selection\\_validation.py:680: DataConversionWarning: A column-vector y was passed when a 1d array was expected. Please change the shape of y to (n_samples,), for example using ravel().\n",
      "  estimator.fit(X_train, y_train, **fit_params)\n",
      "C:\\Users\\Matteo\\anaconda3\\lib\\site-packages\\sklearn\\model_selection\\_validation.py:680: DataConversionWarning: A column-vector y was passed when a 1d array was expected. Please change the shape of y to (n_samples,), for example using ravel().\n",
      "  estimator.fit(X_train, y_train, **fit_params)\n",
      "C:\\Users\\Matteo\\anaconda3\\lib\\site-packages\\sklearn\\model_selection\\_validation.py:680: DataConversionWarning: A column-vector y was passed when a 1d array was expected. Please change the shape of y to (n_samples,), for example using ravel().\n",
      "  estimator.fit(X_train, y_train, **fit_params)\n",
      "C:\\Users\\Matteo\\anaconda3\\lib\\site-packages\\sklearn\\model_selection\\_validation.py:680: DataConversionWarning: A column-vector y was passed when a 1d array was expected. Please change the shape of y to (n_samples,), for example using ravel().\n",
      "  estimator.fit(X_train, y_train, **fit_params)\n",
      "C:\\Users\\Matteo\\anaconda3\\lib\\site-packages\\sklearn\\model_selection\\_validation.py:680: DataConversionWarning: A column-vector y was passed when a 1d array was expected. Please change the shape of y to (n_samples,), for example using ravel().\n",
      "  estimator.fit(X_train, y_train, **fit_params)\n",
      "C:\\Users\\Matteo\\anaconda3\\lib\\site-packages\\sklearn\\model_selection\\_validation.py:680: DataConversionWarning: A column-vector y was passed when a 1d array was expected. Please change the shape of y to (n_samples,), for example using ravel().\n",
      "  estimator.fit(X_train, y_train, **fit_params)\n"
     ]
    }
   ],
   "source": [
    "num_trees = [1,10,100]\n",
    "tree_lrn = DecisionTreeClassifier(splitter='random', min_samples_split=20, min_samples_leaf=10)\n",
    "bag_lrn = BaggingClassifier(base_estimator=tree_lrn)\n",
    "rf_lrn = RandomForestClassifier(max_depth=9, min_samples_split=20, min_samples_leaf=10)\n",
    "train_score, bag_val_score = validation_curve(bag_lrn, X, y, param_name='n_estimators', param_range=num_trees, cv=skf)\n",
    "train_score, rf_val_score = validation_curve(rf_lrn, X, y, param_name='n_estimators', param_range=num_trees, cv=skf)"
   ]
  },
  {
   "cell_type": "code",
   "execution_count": 187,
   "metadata": {},
   "outputs": [
    {
     "data": {
      "image/png": "[encoded data removed]",
      "text/plain": [
       "<Figure size 432x288 with 1 Axes>"
      ]
     },
     "metadata": {
      "needs_background": "light"
     },
     "output_type": "display_data"
    }
   ],
   "source": [
    "plt.title('Bagging vs. Random Forest')\n",
    "bag_val_score_mean = np.mean(bag_val_score, axis=1)\n",
    "bag_val_score_std = np.std(bag_val_score, axis=1)\n",
    "rf_val_score_mean = np.mean(rf_val_score, axis=1)\n",
    "rf_val_score_std = np.std(rf_val_score, axis=1)\n",
    "plt.grid()\n",
    "plt.xscale(\"log\")\n",
    "plt.fill_between(num_trees, bag_val_score_mean - bag_val_score_std,\n",
    "                 bag_val_score_mean + bag_val_score_std, alpha=0.1,\n",
    "                 color=\"r\")\n",
    "plt.fill_between(num_trees, rf_val_score_mean - rf_val_score_std,\n",
    "                 rf_val_score_mean + rf_val_score_std, alpha=0.1, color=\"g\")\n",
    "plt.plot(num_trees, bag_val_score_mean, 'o-', color=\"r\",\n",
    "         label=\"Bagging\")\n",
    "plt.plot(num_trees, rf_val_score_mean, 'o-', color=\"g\",\n",
    "         label=\"Random Forest\")\n",
    "plt.legend()\n",
    "plt.xlabel('Number of Trees')\n",
    "plt.ylabel('Accuracy')\n",
    "plt.show()"
   ]
  },
  {
   "cell_type": "code",
   "execution_count": 188,
   "metadata": {},
   "outputs": [
    {
     "name": "stderr",
     "output_type": "stream",
     "text": [
      "<ipython-input-188-8f5160a642dd>:6: DataConversionWarning: A column-vector y was passed when a 1d array was expected. Please change the shape of y to (n_samples,), for example using ravel().\n",
      "  rf_lrn.fit(X_train, y_train)\n",
      "<ipython-input-188-8f5160a642dd>:6: DataConversionWarning: A column-vector y was passed when a 1d array was expected. Please change the shape of y to (n_samples,), for example using ravel().\n",
      "  rf_lrn.fit(X_train, y_train)\n",
      "<ipython-input-188-8f5160a642dd>:6: DataConversionWarning: A column-vector y was passed when a 1d array was expected. Please change the shape of y to (n_samples,), for example using ravel().\n",
      "  rf_lrn.fit(X_train, y_train)\n"
     ]
    },
    {
     "name": "stdout",
     "output_type": "stream",
     "text": [
      "The Training Accuracy for estimators 1 is: 0.6693604020892875\n",
      "The test Accuracy for estimators 1 is: 0.6448561292865589\n",
      "\n",
      "The Training Accuracy for estimators 10 is: 0.7525376958707007\n",
      "The test Accuracy for estimators 10 is: 0.7012219156484036\n",
      "\n",
      "The Training Accuracy for estimators 50 is: 0.7674189415590815\n",
      "The test Accuracy for estimators 50 is: 0.7098935750886874\n",
      "\n"
     ]
    },
    {
     "name": "stderr",
     "output_type": "stream",
     "text": [
      "<ipython-input-188-8f5160a642dd>:6: DataConversionWarning: A column-vector y was passed when a 1d array was expected. Please change the shape of y to (n_samples,), for example using ravel().\n",
      "  rf_lrn.fit(X_train, y_train)\n"
     ]
    },
    {
     "name": "stdout",
     "output_type": "stream",
     "text": [
      "The Training Accuracy for estimators 100 is: 0.7667290824874347\n",
      "The test Accuracy for estimators 100 is: 0.711864406779661\n",
      "\n"
     ]
    },
    {
     "name": "stderr",
     "output_type": "stream",
     "text": [
      "<ipython-input-188-8f5160a642dd>:6: DataConversionWarning: A column-vector y was passed when a 1d array was expected. Please change the shape of y to (n_samples,), for example using ravel().\n",
      "  rf_lrn.fit(X_train, y_train)\n"
     ]
    },
    {
     "name": "stdout",
     "output_type": "stream",
     "text": [
      "The Training Accuracy for estimators 150 is: 0.7695870700699714\n",
      "The test Accuracy for estimators 150 is: 0.7169885691761924\n",
      "\n"
     ]
    },
    {
     "name": "stderr",
     "output_type": "stream",
     "text": [
      "<ipython-input-188-8f5160a642dd>:6: DataConversionWarning: A column-vector y was passed when a 1d array was expected. Please change the shape of y to (n_samples,), for example using ravel().\n",
      "  rf_lrn.fit(X_train, y_train)\n"
     ]
    },
    {
     "name": "stdout",
     "output_type": "stream",
     "text": [
      "The Training Accuracy for estimators 200 is: 0.7693899674780723\n",
      "The test Accuracy for estimators 200 is: 0.7083169097359086\n",
      "\n"
     ]
    },
    {
     "name": "stderr",
     "output_type": "stream",
     "text": [
      "<ipython-input-188-8f5160a642dd>:6: DataConversionWarning: A column-vector y was passed when a 1d array was expected. Please change the shape of y to (n_samples,), for example using ravel().\n",
      "  rf_lrn.fit(X_train, y_train)\n"
     ]
    },
    {
     "name": "stdout",
     "output_type": "stream",
     "text": [
      "The Training Accuracy for estimators 300 is: 0.765152261752242\n",
      "The test Accuracy for estimators 300 is: 0.7142294048088293\n",
      "\n"
     ]
    },
    {
     "name": "stderr",
     "output_type": "stream",
     "text": [
      "<ipython-input-188-8f5160a642dd>:6: DataConversionWarning: A column-vector y was passed when a 1d array was expected. Please change the shape of y to (n_samples,), for example using ravel().\n",
      "  rf_lrn.fit(X_train, y_train)\n"
     ]
    },
    {
     "name": "stdout",
     "output_type": "stream",
     "text": [
      "The Training Accuracy for estimators 500 is: 0.7701783778456687\n",
      "The test Accuracy for estimators 500 is: 0.7162002364998029\n",
      "\n"
     ]
    },
    {
     "name": "stderr",
     "output_type": "stream",
     "text": [
      "<ipython-input-188-8f5160a642dd>:6: DataConversionWarning: A column-vector y was passed when a 1d array was expected. Please change the shape of y to (n_samples,), for example using ravel().\n",
      "  rf_lrn.fit(X_train, y_train)\n"
     ]
    },
    {
     "name": "stdout",
     "output_type": "stream",
     "text": [
      "The Training Accuracy for estimators 1000 is: 0.7690943135902237\n",
      "The test Accuracy for estimators 1000 is: 0.7154119038234135\n",
      "\n"
     ]
    }
   ],
   "source": [
    "train_perf_rf = []\n",
    "test_perf_rf = []\n",
    "estimators = []\n",
    "for max_d in [1,10,50,100,150,200,300,500,1000]:\n",
    "  rf_lrn = RandomForestClassifier(max_depth=9, n_estimators=max_d)\n",
    "  rf_lrn.fit(X_train, y_train)\n",
    "  print('The Training Accuracy for estimators {} is:'.format(max_d), rf_lrn.score(X_train, y_train))\n",
    "  train_perf_rf.append(rf_lrn.score(X_train, y_train))\n",
    "  print('The test Accuracy for estimators {} is:'.format(max_d), rf_lrn.score(X_test,y_test))\n",
    "  test_perf_rf.append(rf_lrn.score(X_test,y_test))\n",
    "  estimators.append(max_d)\n",
    "  print('')"
   ]
  },
  {
   "cell_type": "code",
   "execution_count": 189,
   "metadata": {},
   "outputs": [
    {
     "data": {
      "text/plain": [
       "Text(0, 0.5, 'Accuracy')"
      ]
     },
     "execution_count": 189,
     "metadata": {},
     "output_type": "execute_result"
    },
    {
     "data": {
      "image/png": "[encoded data removed]",
      "text/plain": [
       "<Figure size 432x288 with 1 Axes>"
      ]
     },
     "metadata": {
      "needs_background": "light"
     },
     "output_type": "display_data"
    }
   ],
   "source": [
    "plt.title(\"Estimators_tuning\")\n",
    "plt.plot(estimators,train_perf_rf,label = \"Training accuracy\")\n",
    "plt.plot(estimators,test_perf_rf,label = \"Test accuracy\")\n",
    "plt.legend()\n",
    "plt.xlabel('Estimators')\n",
    "plt.ylabel('Accuracy')"
   ]
  },
  {
   "cell_type": "code",
   "execution_count": 190,
   "metadata": {},
   "outputs": [
    {
     "name": "stderr",
     "output_type": "stream",
     "text": [
      "C:\\Users\\Matteo\\anaconda3\\lib\\site-packages\\sklearn\\model_selection\\_validation.py:680: DataConversionWarning: A column-vector y was passed when a 1d array was expected. Please change the shape of y to (n_samples,), for example using ravel().\n",
      "  estimator.fit(X_train, y_train, **fit_params)\n",
      "C:\\Users\\Matteo\\anaconda3\\lib\\site-packages\\sklearn\\model_selection\\_validation.py:680: DataConversionWarning: A column-vector y was passed when a 1d array was expected. Please change the shape of y to (n_samples,), for example using ravel().\n",
      "  estimator.fit(X_train, y_train, **fit_params)\n",
      "C:\\Users\\Matteo\\anaconda3\\lib\\site-packages\\sklearn\\model_selection\\_validation.py:680: DataConversionWarning: A column-vector y was passed when a 1d array was expected. Please change the shape of y to (n_samples,), for example using ravel().\n",
      "  estimator.fit(X_train, y_train, **fit_params)\n",
      "C:\\Users\\Matteo\\anaconda3\\lib\\site-packages\\sklearn\\model_selection\\_validation.py:680: DataConversionWarning: A column-vector y was passed when a 1d array was expected. Please change the shape of y to (n_samples,), for example using ravel().\n",
      "  estimator.fit(X_train, y_train, **fit_params)\n",
      "C:\\Users\\Matteo\\anaconda3\\lib\\site-packages\\sklearn\\model_selection\\_validation.py:680: DataConversionWarning: A column-vector y was passed when a 1d array was expected. Please change the shape of y to (n_samples,), for example using ravel().\n",
      "  estimator.fit(X_train, y_train, **fit_params)\n",
      "C:\\Users\\Matteo\\anaconda3\\lib\\site-packages\\sklearn\\model_selection\\_validation.py:680: DataConversionWarning: A column-vector y was passed when a 1d array was expected. Please change the shape of y to (n_samples,), for example using ravel().\n",
      "  estimator.fit(X_train, y_train, **fit_params)\n"
     ]
    },
    {
     "name": "stdout",
     "output_type": "stream",
     "text": [
      "[0.64012613 0.62633031 0.6369728  0.63500197 0.63485804] 0.6346578524276045\n"
     ]
    },
    {
     "name": "stderr",
     "output_type": "stream",
     "text": [
      "C:\\Users\\Matteo\\anaconda3\\lib\\site-packages\\sklearn\\model_selection\\_validation.py:680: DataConversionWarning: A column-vector y was passed when a 1d array was expected. Please change the shape of y to (n_samples,), for example using ravel().\n",
      "  estimator.fit(X_train, y_train, **fit_params)\n",
      "C:\\Users\\Matteo\\anaconda3\\lib\\site-packages\\sklearn\\model_selection\\_validation.py:680: DataConversionWarning: A column-vector y was passed when a 1d array was expected. Please change the shape of y to (n_samples,), for example using ravel().\n",
      "  estimator.fit(X_train, y_train, **fit_params)\n",
      "C:\\Users\\Matteo\\anaconda3\\lib\\site-packages\\sklearn\\model_selection\\_validation.py:680: DataConversionWarning: A column-vector y was passed when a 1d array was expected. Please change the shape of y to (n_samples,), for example using ravel().\n",
      "  estimator.fit(X_train, y_train, **fit_params)\n",
      "C:\\Users\\Matteo\\anaconda3\\lib\\site-packages\\sklearn\\model_selection\\_validation.py:680: DataConversionWarning: A column-vector y was passed when a 1d array was expected. Please change the shape of y to (n_samples,), for example using ravel().\n",
      "  estimator.fit(X_train, y_train, **fit_params)\n"
     ]
    },
    {
     "name": "stdout",
     "output_type": "stream",
     "text": [
      "[0.73985022 0.71974773 0.71462357 0.72881356 0.73146688] 0.7269003915551415\n"
     ]
    },
    {
     "name": "stderr",
     "output_type": "stream",
     "text": [
      "C:\\Users\\Matteo\\anaconda3\\lib\\site-packages\\sklearn\\model_selection\\_validation.py:680: DataConversionWarning: A column-vector y was passed when a 1d array was expected. Please change the shape of y to (n_samples,), for example using ravel().\n",
      "  estimator.fit(X_train, y_train, **fit_params)\n",
      "C:\\Users\\Matteo\\anaconda3\\lib\\site-packages\\sklearn\\model_selection\\_validation.py:680: DataConversionWarning: A column-vector y was passed when a 1d array was expected. Please change the shape of y to (n_samples,), for example using ravel().\n",
      "  estimator.fit(X_train, y_train, **fit_params)\n",
      "C:\\Users\\Matteo\\anaconda3\\lib\\site-packages\\sklearn\\model_selection\\_validation.py:680: DataConversionWarning: A column-vector y was passed when a 1d array was expected. Please change the shape of y to (n_samples,), for example using ravel().\n",
      "  estimator.fit(X_train, y_train, **fit_params)\n",
      "C:\\Users\\Matteo\\anaconda3\\lib\\site-packages\\sklearn\\model_selection\\_validation.py:680: DataConversionWarning: A column-vector y was passed when a 1d array was expected. Please change the shape of y to (n_samples,), for example using ravel().\n",
      "  estimator.fit(X_train, y_train, **fit_params)\n",
      "C:\\Users\\Matteo\\anaconda3\\lib\\site-packages\\sklearn\\model_selection\\_validation.py:680: DataConversionWarning: A column-vector y was passed when a 1d array was expected. Please change the shape of y to (n_samples,), for example using ravel().\n",
      "  estimator.fit(X_train, y_train, **fit_params)\n"
     ]
    },
    {
     "name": "stdout",
     "output_type": "stream",
     "text": [
      "[0.74260938 0.72960189 0.72723689 0.74024438 0.73856467] 0.7356514438051848\n"
     ]
    },
    {
     "name": "stderr",
     "output_type": "stream",
     "text": [
      "C:\\Users\\Matteo\\anaconda3\\lib\\site-packages\\sklearn\\model_selection\\_validation.py:680: DataConversionWarning: A column-vector y was passed when a 1d array was expected. Please change the shape of y to (n_samples,), for example using ravel().\n",
      "  estimator.fit(X_train, y_train, **fit_params)\n",
      "C:\\Users\\Matteo\\anaconda3\\lib\\site-packages\\sklearn\\model_selection\\_validation.py:680: DataConversionWarning: A column-vector y was passed when a 1d array was expected. Please change the shape of y to (n_samples,), for example using ravel().\n",
      "  estimator.fit(X_train, y_train, **fit_params)\n",
      "C:\\Users\\Matteo\\anaconda3\\lib\\site-packages\\sklearn\\model_selection\\_validation.py:680: DataConversionWarning: A column-vector y was passed when a 1d array was expected. Please change the shape of y to (n_samples,), for example using ravel().\n",
      "  estimator.fit(X_train, y_train, **fit_params)\n",
      "C:\\Users\\Matteo\\anaconda3\\lib\\site-packages\\sklearn\\model_selection\\_validation.py:680: DataConversionWarning: A column-vector y was passed when a 1d array was expected. Please change the shape of y to (n_samples,), for example using ravel().\n",
      "  estimator.fit(X_train, y_train, **fit_params)\n",
      "C:\\Users\\Matteo\\anaconda3\\lib\\site-packages\\sklearn\\model_selection\\_validation.py:680: DataConversionWarning: A column-vector y was passed when a 1d array was expected. Please change the shape of y to (n_samples,), for example using ravel().\n",
      "  estimator.fit(X_train, y_train, **fit_params)\n"
     ]
    },
    {
     "name": "stdout",
     "output_type": "stream",
     "text": [
      "[0.74615688 0.74418605 0.73354356 0.74891604 0.74921136] 0.7444027758262883\n"
     ]
    }
   ],
   "source": [
    "for max_d in [1,20,50,100]:\n",
    "    bag_lrn = RandomForestClassifier(max_depth = 15,n_estimators=max_d)\n",
    "    scores = cross_val_score(bag_lrn, X, y, cv=skf)\n",
    "    print(scores, scores.mean())"
   ]
  },
  {
   "cell_type": "markdown",
   "metadata": {},
   "source": [
    "# PCA"
   ]
  },
  {
   "cell_type": "code",
   "execution_count": 191,
   "metadata": {},
   "outputs": [],
   "source": [
    "from sympy import Matrix"
   ]
  },
  {
   "cell_type": "code",
   "execution_count": 192,
   "metadata": {},
   "outputs": [
    {
     "data": {
      "text/html": [
       "<div>\n",
       "<style scoped>\n",
       "    .dataframe tbody tr th:only-of-type {\n",
       "        vertical-align: middle;\n",
       "    }\n",
       "\n",
       "    .dataframe tbody tr th {\n",
       "        vertical-align: top;\n",
       "    }\n",
       "\n",
       "    .dataframe thead th {\n",
       "        text-align: right;\n",
       "    }\n",
       "</style>\n",
       "<table border=\"1\" class=\"dataframe\">\n",
       "  <thead>\n",
       "    <tr style=\"text-align: right;\">\n",
       "      <th></th>\n",
       "      <th>Y</th>\n",
       "      <th>Cluster_1</th>\n",
       "      <th>Cluster_2</th>\n",
       "      <th>Cluster_3</th>\n",
       "      <th>destination_No Urgent Place</th>\n",
       "      <th>destination_Work</th>\n",
       "      <th>passanger_Friend(s)</th>\n",
       "      <th>passanger_Kid(s)</th>\n",
       "      <th>passanger_Partner</th>\n",
       "      <th>weather_Snowy</th>\n",
       "      <th>...</th>\n",
       "      <th>Restaurant20To50_4~8</th>\n",
       "      <th>Restaurant20To50_gt8</th>\n",
       "      <th>Restaurant20To50_less1</th>\n",
       "      <th>Restaurant20To50_never</th>\n",
       "      <th>toCoupon_GEQ15min_1</th>\n",
       "      <th>toCoupon_GEQ25min_1</th>\n",
       "      <th>direction_same_1</th>\n",
       "      <th>direction_opp_1</th>\n",
       "      <th>rich_1</th>\n",
       "      <th>middleclass_1</th>\n",
       "    </tr>\n",
       "  </thead>\n",
       "  <tbody>\n",
       "    <tr>\n",
       "      <th>0</th>\n",
       "      <td>1</td>\n",
       "      <td>0</td>\n",
       "      <td>1</td>\n",
       "      <td>0</td>\n",
       "      <td>0</td>\n",
       "      <td>0</td>\n",
       "      <td>0</td>\n",
       "      <td>0</td>\n",
       "      <td>0</td>\n",
       "      <td>0</td>\n",
       "      <td>...</td>\n",
       "      <td>0</td>\n",
       "      <td>0</td>\n",
       "      <td>0</td>\n",
       "      <td>0</td>\n",
       "      <td>1</td>\n",
       "      <td>0</td>\n",
       "      <td>1</td>\n",
       "      <td>0</td>\n",
       "      <td>0</td>\n",
       "      <td>1</td>\n",
       "    </tr>\n",
       "    <tr>\n",
       "      <th>1</th>\n",
       "      <td>1</td>\n",
       "      <td>0</td>\n",
       "      <td>0</td>\n",
       "      <td>0</td>\n",
       "      <td>1</td>\n",
       "      <td>0</td>\n",
       "      <td>1</td>\n",
       "      <td>0</td>\n",
       "      <td>0</td>\n",
       "      <td>1</td>\n",
       "      <td>...</td>\n",
       "      <td>0</td>\n",
       "      <td>0</td>\n",
       "      <td>1</td>\n",
       "      <td>0</td>\n",
       "      <td>0</td>\n",
       "      <td>0</td>\n",
       "      <td>0</td>\n",
       "      <td>1</td>\n",
       "      <td>1</td>\n",
       "      <td>0</td>\n",
       "    </tr>\n",
       "    <tr>\n",
       "      <th>2</th>\n",
       "      <td>1</td>\n",
       "      <td>0</td>\n",
       "      <td>0</td>\n",
       "      <td>1</td>\n",
       "      <td>0</td>\n",
       "      <td>1</td>\n",
       "      <td>0</td>\n",
       "      <td>0</td>\n",
       "      <td>0</td>\n",
       "      <td>0</td>\n",
       "      <td>...</td>\n",
       "      <td>0</td>\n",
       "      <td>0</td>\n",
       "      <td>0</td>\n",
       "      <td>0</td>\n",
       "      <td>0</td>\n",
       "      <td>0</td>\n",
       "      <td>0</td>\n",
       "      <td>1</td>\n",
       "      <td>0</td>\n",
       "      <td>1</td>\n",
       "    </tr>\n",
       "    <tr>\n",
       "      <th>3</th>\n",
       "      <td>0</td>\n",
       "      <td>0</td>\n",
       "      <td>0</td>\n",
       "      <td>1</td>\n",
       "      <td>1</td>\n",
       "      <td>0</td>\n",
       "      <td>0</td>\n",
       "      <td>0</td>\n",
       "      <td>0</td>\n",
       "      <td>0</td>\n",
       "      <td>...</td>\n",
       "      <td>0</td>\n",
       "      <td>0</td>\n",
       "      <td>1</td>\n",
       "      <td>0</td>\n",
       "      <td>0</td>\n",
       "      <td>0</td>\n",
       "      <td>0</td>\n",
       "      <td>1</td>\n",
       "      <td>0</td>\n",
       "      <td>1</td>\n",
       "    </tr>\n",
       "    <tr>\n",
       "      <th>4</th>\n",
       "      <td>0</td>\n",
       "      <td>0</td>\n",
       "      <td>0</td>\n",
       "      <td>0</td>\n",
       "      <td>1</td>\n",
       "      <td>0</td>\n",
       "      <td>0</td>\n",
       "      <td>0</td>\n",
       "      <td>1</td>\n",
       "      <td>0</td>\n",
       "      <td>...</td>\n",
       "      <td>0</td>\n",
       "      <td>0</td>\n",
       "      <td>1</td>\n",
       "      <td>0</td>\n",
       "      <td>1</td>\n",
       "      <td>0</td>\n",
       "      <td>0</td>\n",
       "      <td>1</td>\n",
       "      <td>1</td>\n",
       "      <td>0</td>\n",
       "    </tr>\n",
       "    <tr>\n",
       "      <th>...</th>\n",
       "      <td>...</td>\n",
       "      <td>...</td>\n",
       "      <td>...</td>\n",
       "      <td>...</td>\n",
       "      <td>...</td>\n",
       "      <td>...</td>\n",
       "      <td>...</td>\n",
       "      <td>...</td>\n",
       "      <td>...</td>\n",
       "      <td>...</td>\n",
       "      <td>...</td>\n",
       "      <td>...</td>\n",
       "      <td>...</td>\n",
       "      <td>...</td>\n",
       "      <td>...</td>\n",
       "      <td>...</td>\n",
       "      <td>...</td>\n",
       "      <td>...</td>\n",
       "      <td>...</td>\n",
       "      <td>...</td>\n",
       "      <td>...</td>\n",
       "    </tr>\n",
       "    <tr>\n",
       "      <th>10142</th>\n",
       "      <td>1</td>\n",
       "      <td>0</td>\n",
       "      <td>0</td>\n",
       "      <td>0</td>\n",
       "      <td>0</td>\n",
       "      <td>0</td>\n",
       "      <td>0</td>\n",
       "      <td>0</td>\n",
       "      <td>0</td>\n",
       "      <td>0</td>\n",
       "      <td>...</td>\n",
       "      <td>0</td>\n",
       "      <td>0</td>\n",
       "      <td>1</td>\n",
       "      <td>0</td>\n",
       "      <td>0</td>\n",
       "      <td>0</td>\n",
       "      <td>0</td>\n",
       "      <td>1</td>\n",
       "      <td>1</td>\n",
       "      <td>0</td>\n",
       "    </tr>\n",
       "    <tr>\n",
       "      <th>10143</th>\n",
       "      <td>1</td>\n",
       "      <td>1</td>\n",
       "      <td>0</td>\n",
       "      <td>0</td>\n",
       "      <td>1</td>\n",
       "      <td>0</td>\n",
       "      <td>1</td>\n",
       "      <td>0</td>\n",
       "      <td>0</td>\n",
       "      <td>1</td>\n",
       "      <td>...</td>\n",
       "      <td>0</td>\n",
       "      <td>0</td>\n",
       "      <td>1</td>\n",
       "      <td>0</td>\n",
       "      <td>1</td>\n",
       "      <td>0</td>\n",
       "      <td>0</td>\n",
       "      <td>1</td>\n",
       "      <td>0</td>\n",
       "      <td>0</td>\n",
       "    </tr>\n",
       "    <tr>\n",
       "      <th>10144</th>\n",
       "      <td>1</td>\n",
       "      <td>1</td>\n",
       "      <td>0</td>\n",
       "      <td>0</td>\n",
       "      <td>1</td>\n",
       "      <td>0</td>\n",
       "      <td>1</td>\n",
       "      <td>0</td>\n",
       "      <td>0</td>\n",
       "      <td>0</td>\n",
       "      <td>...</td>\n",
       "      <td>0</td>\n",
       "      <td>0</td>\n",
       "      <td>1</td>\n",
       "      <td>0</td>\n",
       "      <td>0</td>\n",
       "      <td>0</td>\n",
       "      <td>0</td>\n",
       "      <td>1</td>\n",
       "      <td>0</td>\n",
       "      <td>1</td>\n",
       "    </tr>\n",
       "    <tr>\n",
       "      <th>10145</th>\n",
       "      <td>0</td>\n",
       "      <td>1</td>\n",
       "      <td>0</td>\n",
       "      <td>0</td>\n",
       "      <td>1</td>\n",
       "      <td>0</td>\n",
       "      <td>1</td>\n",
       "      <td>0</td>\n",
       "      <td>0</td>\n",
       "      <td>0</td>\n",
       "      <td>...</td>\n",
       "      <td>0</td>\n",
       "      <td>0</td>\n",
       "      <td>1</td>\n",
       "      <td>0</td>\n",
       "      <td>0</td>\n",
       "      <td>0</td>\n",
       "      <td>0</td>\n",
       "      <td>1</td>\n",
       "      <td>1</td>\n",
       "      <td>0</td>\n",
       "    </tr>\n",
       "    <tr>\n",
       "      <th>10146</th>\n",
       "      <td>1</td>\n",
       "      <td>0</td>\n",
       "      <td>0</td>\n",
       "      <td>0</td>\n",
       "      <td>1</td>\n",
       "      <td>0</td>\n",
       "      <td>1</td>\n",
       "      <td>0</td>\n",
       "      <td>0</td>\n",
       "      <td>0</td>\n",
       "      <td>...</td>\n",
       "      <td>0</td>\n",
       "      <td>0</td>\n",
       "      <td>1</td>\n",
       "      <td>0</td>\n",
       "      <td>1</td>\n",
       "      <td>0</td>\n",
       "      <td>0</td>\n",
       "      <td>1</td>\n",
       "      <td>1</td>\n",
       "      <td>0</td>\n",
       "    </tr>\n",
       "  </tbody>\n",
       "</table>\n",
       "<p>10147 rows × 95 columns</p>\n",
       "</div>"
      ],
      "text/plain": [
       "       Y  Cluster_1  Cluster_2  Cluster_3  destination_No Urgent Place  \\\n",
       "0      1          0          1          0                            0   \n",
       "1      1          0          0          0                            1   \n",
       "2      1          0          0          1                            0   \n",
       "3      0          0          0          1                            1   \n",
       "4      0          0          0          0                            1   \n",
       "...   ..        ...        ...        ...                          ...   \n",
       "10142  1          0          0          0                            0   \n",
       "10143  1          1          0          0                            1   \n",
       "10144  1          1          0          0                            1   \n",
       "10145  0          1          0          0                            1   \n",
       "10146  1          0          0          0                            1   \n",
       "\n",
       "       destination_Work  passanger_Friend(s)  passanger_Kid(s)  \\\n",
       "0                     0                    0                 0   \n",
       "1                     0                    1                 0   \n",
       "2                     1                    0                 0   \n",
       "3                     0                    0                 0   \n",
       "4                     0                    0                 0   \n",
       "...                 ...                  ...               ...   \n",
       "10142                 0                    0                 0   \n",
       "10143                 0                    1                 0   \n",
       "10144                 0                    1                 0   \n",
       "10145                 0                    1                 0   \n",
       "10146                 0                    1                 0   \n",
       "\n",
       "       passanger_Partner  weather_Snowy  ...  Restaurant20To50_4~8  \\\n",
       "0                      0              0  ...                     0   \n",
       "1                      0              1  ...                     0   \n",
       "2                      0              0  ...                     0   \n",
       "3                      0              0  ...                     0   \n",
       "4                      1              0  ...                     0   \n",
       "...                  ...            ...  ...                   ...   \n",
       "10142                  0              0  ...                     0   \n",
       "10143                  0              1  ...                     0   \n",
       "10144                  0              0  ...                     0   \n",
       "10145                  0              0  ...                     0   \n",
       "10146                  0              0  ...                     0   \n",
       "\n",
       "       Restaurant20To50_gt8  Restaurant20To50_less1  Restaurant20To50_never  \\\n",
       "0                         0                       0                       0   \n",
       "1                         0                       1                       0   \n",
       "2                         0                       0                       0   \n",
       "3                         0                       1                       0   \n",
       "4                         0                       1                       0   \n",
       "...                     ...                     ...                     ...   \n",
       "10142                     0                       1                       0   \n",
       "10143                     0                       1                       0   \n",
       "10144                     0                       1                       0   \n",
       "10145                     0                       1                       0   \n",
       "10146                     0                       1                       0   \n",
       "\n",
       "       toCoupon_GEQ15min_1  toCoupon_GEQ25min_1  direction_same_1  \\\n",
       "0                        1                    0                 1   \n",
       "1                        0                    0                 0   \n",
       "2                        0                    0                 0   \n",
       "3                        0                    0                 0   \n",
       "4                        1                    0                 0   \n",
       "...                    ...                  ...               ...   \n",
       "10142                    0                    0                 0   \n",
       "10143                    1                    0                 0   \n",
       "10144                    0                    0                 0   \n",
       "10145                    0                    0                 0   \n",
       "10146                    1                    0                 0   \n",
       "\n",
       "       direction_opp_1  rich_1  middleclass_1  \n",
       "0                    0       0              1  \n",
       "1                    1       1              0  \n",
       "2                    1       0              1  \n",
       "3                    1       0              1  \n",
       "4                    1       1              0  \n",
       "...                ...     ...            ...  \n",
       "10142                1       1              0  \n",
       "10143                1       0              0  \n",
       "10144                1       0              1  \n",
       "10145                1       1              0  \n",
       "10146                1       1              0  \n",
       "\n",
       "[10147 rows x 95 columns]"
      ]
     },
     "execution_count": 192,
     "metadata": {},
     "output_type": "execute_result"
    }
   ],
   "source": [
    "prova"
   ]
  },
  {
   "cell_type": "code",
   "execution_count": 193,
   "metadata": {},
   "outputs": [
    {
     "data": {
      "text/plain": [
       "((95, 95), (95,), (95, 10147))"
      ]
     },
     "execution_count": 193,
     "metadata": {},
     "output_type": "execute_result"
    }
   ],
   "source": [
    "U, s, Vh = LA.svd(prova.T, full_matrices=False)\n",
    "U.shape, s.shape, Vh.shape"
   ]
  },
  {
   "cell_type": "code",
   "execution_count": 195,
   "metadata": {},
   "outputs": [],
   "source": [
    "P = U[:,:2] # the first two columns of U\n",
    "R = P.T @ prova.T"
   ]
  },
  {
   "cell_type": "code",
   "execution_count": 196,
   "metadata": {},
   "outputs": [
    {
     "data": {
      "text/plain": [
       "(2, 10147)"
      ]
     },
     "execution_count": 196,
     "metadata": {},
     "output_type": "execute_result"
    }
   ],
   "source": [
    "R.shape"
   ]
  },
  {
   "cell_type": "code",
   "execution_count": 199,
   "metadata": {},
   "outputs": [
    {
     "data": {
      "text/plain": [
       "array([2.49314466e+02, 8.35809984e+01, 7.97563629e+01, 7.80276569e+01,\n",
       "       7.32569601e+01, 6.71825050e+01, 6.16947062e+01, 5.84604663e+01,\n",
       "       5.84474547e+01, 5.55974293e+01, 5.47534550e+01, 5.37473131e+01,\n",
       "       5.17146842e+01, 5.12537440e+01, 4.96158104e+01, 4.84382619e+01,\n",
       "       4.82917364e+01, 4.73621035e+01, 4.61796158e+01, 4.56331600e+01,\n",
       "       4.38420013e+01, 4.36073992e+01, 4.32219350e+01, 4.21060785e+01,\n",
       "       4.12978174e+01, 4.07150600e+01, 3.96917501e+01, 3.80105200e+01,\n",
       "       3.78430152e+01, 3.74778224e+01, 3.60063934e+01, 3.51546626e+01,\n",
       "       3.50575409e+01, 3.46454534e+01, 3.36904693e+01, 3.34000223e+01,\n",
       "       3.25601628e+01, 3.20490767e+01, 3.19767137e+01, 3.16316423e+01,\n",
       "       2.97278855e+01, 2.89299616e+01, 2.86855427e+01, 2.85779339e+01,\n",
       "       2.82652655e+01, 2.77198247e+01, 2.64145767e+01, 2.62128366e+01,\n",
       "       2.58563106e+01, 2.52616276e+01, 2.48623444e+01, 2.44572712e+01,\n",
       "       2.36603155e+01, 2.33855063e+01, 2.29839851e+01, 2.22617659e+01,\n",
       "       2.18725737e+01, 2.15070488e+01, 2.13233764e+01, 2.07171327e+01,\n",
       "       2.03269830e+01, 1.95332856e+01, 1.84750850e+01, 1.71412032e+01,\n",
       "       1.68697553e+01, 1.65012298e+01, 1.60253304e+01, 1.58759027e+01,\n",
       "       1.49288110e+01, 1.47060849e+01, 1.43999503e+01, 1.39513542e+01,\n",
       "       1.37193950e+01, 1.35408586e+01, 1.31443976e+01, 1.30774491e+01,\n",
       "       1.28800757e+01, 1.25501320e+01, 1.21213471e+01, 1.20262504e+01,\n",
       "       1.18842331e+01, 1.15674081e+01, 1.12010063e+01, 1.10997556e+01,\n",
       "       1.06581107e+01, 1.02658330e+01, 1.01865973e+01, 9.85098429e+00,\n",
       "       9.34146223e+00, 8.04409041e+00, 7.28977383e+00, 5.27310985e+00,\n",
       "       2.21070895e+00, 7.63062237e-13, 2.67080538e-13])"
      ]
     },
     "execution_count": 199,
     "metadata": {},
     "output_type": "execute_result"
    }
   ],
   "source": [
    "s"
   ]
  },
  {
   "cell_type": "markdown",
   "metadata": {},
   "source": [
    "# K-NN"
   ]
  },
  {
   "cell_type": "code",
   "execution_count": 200,
   "metadata": {},
   "outputs": [],
   "source": [
    "from sklearn.neighbors import KNeighborsClassifier as kNN"
   ]
  },
  {
   "cell_type": "code",
   "execution_count": 201,
   "metadata": {},
   "outputs": [
    {
     "name": "stderr",
     "output_type": "stream",
     "text": [
      "C:\\Users\\Matteo\\anaconda3\\lib\\site-packages\\sklearn\\neighbors\\_classification.py:198: DataConversionWarning: A column-vector y was passed when a 1d array was expected. Please change the shape of y to (n_samples,), for example using ravel().\n",
      "  return self._fit(X, y)\n"
     ]
    },
    {
     "data": {
      "text/plain": [
       "(0.9985217305607569, 0.6602286164761529)"
      ]
     },
     "execution_count": 201,
     "metadata": {},
     "output_type": "execute_result"
    }
   ],
   "source": [
    "knn = kNN(n_neighbors=1)\n",
    "knn.fit(X_train, y_train)\n",
    "knn.score(X_train, y_train), knn.score(X_test, y_test)"
   ]
  },
  {
   "cell_type": "code",
   "execution_count": 202,
   "metadata": {},
   "outputs": [
    {
     "name": "stderr",
     "output_type": "stream",
     "text": [
      "C:\\Users\\Matteo\\anaconda3\\lib\\site-packages\\sklearn\\neighbors\\_classification.py:198: DataConversionWarning: A column-vector y was passed when a 1d array was expected. Please change the shape of y to (n_samples,), for example using ravel().\n",
      "  return self._fit(X, y)\n",
      "C:\\Users\\Matteo\\anaconda3\\lib\\site-packages\\sklearn\\neighbors\\_classification.py:198: DataConversionWarning: A column-vector y was passed when a 1d array was expected. Please change the shape of y to (n_samples,), for example using ravel().\n",
      "  return self._fit(X, y)\n",
      "C:\\Users\\Matteo\\anaconda3\\lib\\site-packages\\sklearn\\neighbors\\_classification.py:198: DataConversionWarning: A column-vector y was passed when a 1d array was expected. Please change the shape of y to (n_samples,), for example using ravel().\n",
      "  return self._fit(X, y)\n",
      "C:\\Users\\Matteo\\anaconda3\\lib\\site-packages\\sklearn\\neighbors\\_classification.py:198: DataConversionWarning: A column-vector y was passed when a 1d array was expected. Please change the shape of y to (n_samples,), for example using ravel().\n",
      "  return self._fit(X, y)\n",
      "C:\\Users\\Matteo\\anaconda3\\lib\\site-packages\\sklearn\\neighbors\\_classification.py:198: DataConversionWarning: A column-vector y was passed when a 1d array was expected. Please change the shape of y to (n_samples,), for example using ravel().\n",
      "  return self._fit(X, y)\n",
      "C:\\Users\\Matteo\\anaconda3\\lib\\site-packages\\sklearn\\neighbors\\_classification.py:198: DataConversionWarning: A column-vector y was passed when a 1d array was expected. Please change the shape of y to (n_samples,), for example using ravel().\n",
      "  return self._fit(X, y)\n",
      "C:\\Users\\Matteo\\anaconda3\\lib\\site-packages\\sklearn\\neighbors\\_classification.py:198: DataConversionWarning: A column-vector y was passed when a 1d array was expected. Please change the shape of y to (n_samples,), for example using ravel().\n",
      "  return self._fit(X, y)\n",
      "C:\\Users\\Matteo\\anaconda3\\lib\\site-packages\\sklearn\\neighbors\\_classification.py:198: DataConversionWarning: A column-vector y was passed when a 1d array was expected. Please change the shape of y to (n_samples,), for example using ravel().\n",
      "  return self._fit(X, y)\n",
      "C:\\Users\\Matteo\\anaconda3\\lib\\site-packages\\sklearn\\neighbors\\_classification.py:198: DataConversionWarning: A column-vector y was passed when a 1d array was expected. Please change the shape of y to (n_samples,), for example using ravel().\n",
      "  return self._fit(X, y)\n",
      "C:\\Users\\Matteo\\anaconda3\\lib\\site-packages\\sklearn\\neighbors\\_classification.py:198: DataConversionWarning: A column-vector y was passed when a 1d array was expected. Please change the shape of y to (n_samples,), for example using ravel().\n",
      "  return self._fit(X, y)\n"
     ]
    }
   ],
   "source": [
    "k_train_acc = []\n",
    "k_test_acc =[]\n",
    "neig = []\n",
    "for n in range(1,11):\n",
    "    knn = kNN(n_neighbors=n)\n",
    "    knn.fit(X_train, y_train)\n",
    "    k_train_acc.append(knn.score(X_train, y_train))\n",
    "    k_test_acc.append(knn.score(X_test, y_test))\n",
    "    neig.append(n)\n",
    "    "
   ]
  },
  {
   "cell_type": "code",
   "execution_count": 203,
   "metadata": {},
   "outputs": [
    {
     "data": {
      "text/plain": [
       "Text(0, 0.5, 'Accuracy')"
      ]
     },
     "execution_count": 203,
     "metadata": {},
     "output_type": "execute_result"
    },
    {
     "data": {
      "image/png": "[encoded data removed]",
      "text/plain": [
       "<Figure size 432x288 with 1 Axes>"
      ]
     },
     "metadata": {
      "needs_background": "light"
     },
     "output_type": "display_data"
    }
   ],
   "source": [
    "plt.title(\"Neighbours_tuning\")\n",
    "plt.plot(neig,k_train_acc,label = \"Training accuracy\")\n",
    "plt.plot(neig,k_test_acc,label = \"Test accuracy\")\n",
    "plt.legend()\n",
    "plt.xlabel('neighbours')\n",
    "plt.ylabel('Accuracy')"
   ]
  },
  {
   "cell_type": "markdown",
   "metadata": {},
   "source": [
    "K-NN perform worse than trees (random and bagging) as we expected. This because encoded features in the 0-1 space don't reflect geometric relationship in the space (which is the basic concept of K-NN)"
   ]
  },
  {
   "cell_type": "code",
   "execution_count": 204,
   "metadata": {},
   "outputs": [
    {
     "name": "stderr",
     "output_type": "stream",
     "text": [
      "C:\\Users\\Matteo\\anaconda3\\lib\\site-packages\\sklearn\\neighbors\\_classification.py:198: DataConversionWarning: A column-vector y was passed when a 1d array was expected. Please change the shape of y to (n_samples,), for example using ravel().\n",
      "  return self._fit(X, y)\n",
      "C:\\Users\\Matteo\\anaconda3\\lib\\site-packages\\sklearn\\neighbors\\_classification.py:198: DataConversionWarning: A column-vector y was passed when a 1d array was expected. Please change the shape of y to (n_samples,), for example using ravel().\n",
      "  return self._fit(X, y)\n",
      "C:\\Users\\Matteo\\anaconda3\\lib\\site-packages\\sklearn\\neighbors\\_classification.py:198: DataConversionWarning: A column-vector y was passed when a 1d array was expected. Please change the shape of y to (n_samples,), for example using ravel().\n",
      "  return self._fit(X, y)\n",
      "C:\\Users\\Matteo\\anaconda3\\lib\\site-packages\\sklearn\\neighbors\\_classification.py:198: DataConversionWarning: A column-vector y was passed when a 1d array was expected. Please change the shape of y to (n_samples,), for example using ravel().\n",
      "  return self._fit(X, y)\n",
      "C:\\Users\\Matteo\\anaconda3\\lib\\site-packages\\sklearn\\neighbors\\_classification.py:198: DataConversionWarning: A column-vector y was passed when a 1d array was expected. Please change the shape of y to (n_samples,), for example using ravel().\n",
      "  return self._fit(X, y)\n",
      "C:\\Users\\Matteo\\anaconda3\\lib\\site-packages\\sklearn\\neighbors\\_classification.py:198: DataConversionWarning: A column-vector y was passed when a 1d array was expected. Please change the shape of y to (n_samples,), for example using ravel().\n",
      "  return self._fit(X, y)\n",
      "C:\\Users\\Matteo\\anaconda3\\lib\\site-packages\\sklearn\\neighbors\\_classification.py:198: DataConversionWarning: A column-vector y was passed when a 1d array was expected. Please change the shape of y to (n_samples,), for example using ravel().\n",
      "  return self._fit(X, y)\n",
      "C:\\Users\\Matteo\\anaconda3\\lib\\site-packages\\sklearn\\neighbors\\_classification.py:198: DataConversionWarning: A column-vector y was passed when a 1d array was expected. Please change the shape of y to (n_samples,), for example using ravel().\n",
      "  return self._fit(X, y)\n",
      "C:\\Users\\Matteo\\anaconda3\\lib\\site-packages\\sklearn\\neighbors\\_classification.py:198: DataConversionWarning: A column-vector y was passed when a 1d array was expected. Please change the shape of y to (n_samples,), for example using ravel().\n",
      "  return self._fit(X, y)\n",
      "C:\\Users\\Matteo\\anaconda3\\lib\\site-packages\\sklearn\\neighbors\\_classification.py:198: DataConversionWarning: A column-vector y was passed when a 1d array was expected. Please change the shape of y to (n_samples,), for example using ravel().\n",
      "  return self._fit(X, y)\n",
      "C:\\Users\\Matteo\\anaconda3\\lib\\site-packages\\sklearn\\neighbors\\_classification.py:198: DataConversionWarning: A column-vector y was passed when a 1d array was expected. Please change the shape of y to (n_samples,), for example using ravel().\n",
      "  return self._fit(X, y)\n",
      "C:\\Users\\Matteo\\anaconda3\\lib\\site-packages\\sklearn\\neighbors\\_classification.py:198: DataConversionWarning: A column-vector y was passed when a 1d array was expected. Please change the shape of y to (n_samples,), for example using ravel().\n",
      "  return self._fit(X, y)\n",
      "C:\\Users\\Matteo\\anaconda3\\lib\\site-packages\\sklearn\\neighbors\\_classification.py:198: DataConversionWarning: A column-vector y was passed when a 1d array was expected. Please change the shape of y to (n_samples,), for example using ravel().\n",
      "  return self._fit(X, y)\n",
      "C:\\Users\\Matteo\\anaconda3\\lib\\site-packages\\sklearn\\neighbors\\_classification.py:198: DataConversionWarning: A column-vector y was passed when a 1d array was expected. Please change the shape of y to (n_samples,), for example using ravel().\n",
      "  return self._fit(X, y)\n",
      "C:\\Users\\Matteo\\anaconda3\\lib\\site-packages\\sklearn\\neighbors\\_classification.py:198: DataConversionWarning: A column-vector y was passed when a 1d array was expected. Please change the shape of y to (n_samples,), for example using ravel().\n",
      "  return self._fit(X, y)\n",
      "C:\\Users\\Matteo\\anaconda3\\lib\\site-packages\\sklearn\\neighbors\\_classification.py:198: DataConversionWarning: A column-vector y was passed when a 1d array was expected. Please change the shape of y to (n_samples,), for example using ravel().\n",
      "  return self._fit(X, y)\n",
      "C:\\Users\\Matteo\\anaconda3\\lib\\site-packages\\sklearn\\neighbors\\_classification.py:198: DataConversionWarning: A column-vector y was passed when a 1d array was expected. Please change the shape of y to (n_samples,), for example using ravel().\n",
      "  return self._fit(X, y)\n",
      "C:\\Users\\Matteo\\anaconda3\\lib\\site-packages\\sklearn\\neighbors\\_classification.py:198: DataConversionWarning: A column-vector y was passed when a 1d array was expected. Please change the shape of y to (n_samples,), for example using ravel().\n",
      "  return self._fit(X, y)\n",
      "C:\\Users\\Matteo\\anaconda3\\lib\\site-packages\\sklearn\\neighbors\\_classification.py:198: DataConversionWarning: A column-vector y was passed when a 1d array was expected. Please change the shape of y to (n_samples,), for example using ravel().\n",
      "  return self._fit(X, y)\n",
      "C:\\Users\\Matteo\\anaconda3\\lib\\site-packages\\sklearn\\neighbors\\_classification.py:198: DataConversionWarning: A column-vector y was passed when a 1d array was expected. Please change the shape of y to (n_samples,), for example using ravel().\n",
      "  return self._fit(X, y)\n",
      "C:\\Users\\Matteo\\anaconda3\\lib\\site-packages\\sklearn\\neighbors\\_classification.py:198: DataConversionWarning: A column-vector y was passed when a 1d array was expected. Please change the shape of y to (n_samples,), for example using ravel().\n",
      "  return self._fit(X, y)\n",
      "C:\\Users\\Matteo\\anaconda3\\lib\\site-packages\\sklearn\\neighbors\\_classification.py:198: DataConversionWarning: A column-vector y was passed when a 1d array was expected. Please change the shape of y to (n_samples,), for example using ravel().\n",
      "  return self._fit(X, y)\n",
      "C:\\Users\\Matteo\\anaconda3\\lib\\site-packages\\sklearn\\neighbors\\_classification.py:198: DataConversionWarning: A column-vector y was passed when a 1d array was expected. Please change the shape of y to (n_samples,), for example using ravel().\n",
      "  return self._fit(X, y)\n",
      "C:\\Users\\Matteo\\anaconda3\\lib\\site-packages\\sklearn\\neighbors\\_classification.py:198: DataConversionWarning: A column-vector y was passed when a 1d array was expected. Please change the shape of y to (n_samples,), for example using ravel().\n",
      "  return self._fit(X, y)\n",
      "C:\\Users\\Matteo\\anaconda3\\lib\\site-packages\\sklearn\\neighbors\\_classification.py:198: DataConversionWarning: A column-vector y was passed when a 1d array was expected. Please change the shape of y to (n_samples,), for example using ravel().\n",
      "  return self._fit(X, y)\n",
      "C:\\Users\\Matteo\\anaconda3\\lib\\site-packages\\sklearn\\neighbors\\_classification.py:198: DataConversionWarning: A column-vector y was passed when a 1d array was expected. Please change the shape of y to (n_samples,), for example using ravel().\n",
      "  return self._fit(X, y)\n",
      "C:\\Users\\Matteo\\anaconda3\\lib\\site-packages\\sklearn\\neighbors\\_classification.py:198: DataConversionWarning: A column-vector y was passed when a 1d array was expected. Please change the shape of y to (n_samples,), for example using ravel().\n",
      "  return self._fit(X, y)\n",
      "C:\\Users\\Matteo\\anaconda3\\lib\\site-packages\\sklearn\\neighbors\\_classification.py:198: DataConversionWarning: A column-vector y was passed when a 1d array was expected. Please change the shape of y to (n_samples,), for example using ravel().\n",
      "  return self._fit(X, y)\n",
      "C:\\Users\\Matteo\\anaconda3\\lib\\site-packages\\sklearn\\neighbors\\_classification.py:198: DataConversionWarning: A column-vector y was passed when a 1d array was expected. Please change the shape of y to (n_samples,), for example using ravel().\n",
      "  return self._fit(X, y)\n",
      "C:\\Users\\Matteo\\anaconda3\\lib\\site-packages\\sklearn\\neighbors\\_classification.py:198: DataConversionWarning: A column-vector y was passed when a 1d array was expected. Please change the shape of y to (n_samples,), for example using ravel().\n",
      "  return self._fit(X, y)\n",
      "C:\\Users\\Matteo\\anaconda3\\lib\\site-packages\\sklearn\\neighbors\\_classification.py:198: DataConversionWarning: A column-vector y was passed when a 1d array was expected. Please change the shape of y to (n_samples,), for example using ravel().\n",
      "  return self._fit(X, y)\n",
      "C:\\Users\\Matteo\\anaconda3\\lib\\site-packages\\sklearn\\neighbors\\_classification.py:198: DataConversionWarning: A column-vector y was passed when a 1d array was expected. Please change the shape of y to (n_samples,), for example using ravel().\n",
      "  return self._fit(X, y)\n",
      "C:\\Users\\Matteo\\anaconda3\\lib\\site-packages\\sklearn\\neighbors\\_classification.py:198: DataConversionWarning: A column-vector y was passed when a 1d array was expected. Please change the shape of y to (n_samples,), for example using ravel().\n",
      "  return self._fit(X, y)\n",
      "C:\\Users\\Matteo\\anaconda3\\lib\\site-packages\\sklearn\\neighbors\\_classification.py:198: DataConversionWarning: A column-vector y was passed when a 1d array was expected. Please change the shape of y to (n_samples,), for example using ravel().\n",
      "  return self._fit(X, y)\n",
      "C:\\Users\\Matteo\\anaconda3\\lib\\site-packages\\sklearn\\neighbors\\_classification.py:198: DataConversionWarning: A column-vector y was passed when a 1d array was expected. Please change the shape of y to (n_samples,), for example using ravel().\n",
      "  return self._fit(X, y)\n",
      "C:\\Users\\Matteo\\anaconda3\\lib\\site-packages\\sklearn\\neighbors\\_classification.py:198: DataConversionWarning: A column-vector y was passed when a 1d array was expected. Please change the shape of y to (n_samples,), for example using ravel().\n",
      "  return self._fit(X, y)\n",
      "C:\\Users\\Matteo\\anaconda3\\lib\\site-packages\\sklearn\\neighbors\\_classification.py:198: DataConversionWarning: A column-vector y was passed when a 1d array was expected. Please change the shape of y to (n_samples,), for example using ravel().\n",
      "  return self._fit(X, y)\n",
      "C:\\Users\\Matteo\\anaconda3\\lib\\site-packages\\sklearn\\neighbors\\_classification.py:198: DataConversionWarning: A column-vector y was passed when a 1d array was expected. Please change the shape of y to (n_samples,), for example using ravel().\n",
      "  return self._fit(X, y)\n",
      "C:\\Users\\Matteo\\anaconda3\\lib\\site-packages\\sklearn\\neighbors\\_classification.py:198: DataConversionWarning: A column-vector y was passed when a 1d array was expected. Please change the shape of y to (n_samples,), for example using ravel().\n",
      "  return self._fit(X, y)\n",
      "C:\\Users\\Matteo\\anaconda3\\lib\\site-packages\\sklearn\\neighbors\\_classification.py:198: DataConversionWarning: A column-vector y was passed when a 1d array was expected. Please change the shape of y to (n_samples,), for example using ravel().\n",
      "  return self._fit(X, y)\n",
      "C:\\Users\\Matteo\\anaconda3\\lib\\site-packages\\sklearn\\neighbors\\_classification.py:198: DataConversionWarning: A column-vector y was passed when a 1d array was expected. Please change the shape of y to (n_samples,), for example using ravel().\n",
      "  return self._fit(X, y)\n",
      "C:\\Users\\Matteo\\anaconda3\\lib\\site-packages\\sklearn\\neighbors\\_classification.py:198: DataConversionWarning: A column-vector y was passed when a 1d array was expected. Please change the shape of y to (n_samples,), for example using ravel().\n",
      "  return self._fit(X, y)\n",
      "C:\\Users\\Matteo\\anaconda3\\lib\\site-packages\\sklearn\\neighbors\\_classification.py:198: DataConversionWarning: A column-vector y was passed when a 1d array was expected. Please change the shape of y to (n_samples,), for example using ravel().\n",
      "  return self._fit(X, y)\n",
      "C:\\Users\\Matteo\\anaconda3\\lib\\site-packages\\sklearn\\neighbors\\_classification.py:198: DataConversionWarning: A column-vector y was passed when a 1d array was expected. Please change the shape of y to (n_samples,), for example using ravel().\n",
      "  return self._fit(X, y)\n",
      "C:\\Users\\Matteo\\anaconda3\\lib\\site-packages\\sklearn\\neighbors\\_classification.py:198: DataConversionWarning: A column-vector y was passed when a 1d array was expected. Please change the shape of y to (n_samples,), for example using ravel().\n",
      "  return self._fit(X, y)\n",
      "C:\\Users\\Matteo\\anaconda3\\lib\\site-packages\\sklearn\\neighbors\\_classification.py:198: DataConversionWarning: A column-vector y was passed when a 1d array was expected. Please change the shape of y to (n_samples,), for example using ravel().\n",
      "  return self._fit(X, y)\n"
     ]
    },
    {
     "data": {
      "text/plain": [
       "({'n_neighbors': 50}, 0.696625805585225)"
      ]
     },
     "execution_count": 204,
     "metadata": {},
     "output_type": "execute_result"
    }
   ],
   "source": [
    "k_grid = {'n_neighbors': range(10,51,5)}\n",
    "learner = GridSearchCV(estimator=kNN(), param_grid=k_grid, cv=5, return_train_score=True)\n",
    "learner.fit(X, y)\n",
    "learner.best_params_, learner.best_score_ #check the previous graph"
   ]
  },
  {
   "cell_type": "code",
   "execution_count": 205,
   "metadata": {},
   "outputs": [
    {
     "name": "stderr",
     "output_type": "stream",
     "text": [
      "C:\\Users\\Matteo\\anaconda3\\lib\\site-packages\\sklearn\\neighbors\\_classification.py:198: DataConversionWarning: A column-vector y was passed when a 1d array was expected. Please change the shape of y to (n_samples,), for example using ravel().\n",
      "  return self._fit(X, y)\n",
      "C:\\Users\\Matteo\\anaconda3\\lib\\site-packages\\sklearn\\neighbors\\_classification.py:198: DataConversionWarning: A column-vector y was passed when a 1d array was expected. Please change the shape of y to (n_samples,), for example using ravel().\n",
      "  return self._fit(X, y)\n",
      "C:\\Users\\Matteo\\anaconda3\\lib\\site-packages\\sklearn\\neighbors\\_classification.py:198: DataConversionWarning: A column-vector y was passed when a 1d array was expected. Please change the shape of y to (n_samples,), for example using ravel().\n",
      "  return self._fit(X, y)\n",
      "C:\\Users\\Matteo\\anaconda3\\lib\\site-packages\\sklearn\\neighbors\\_classification.py:198: DataConversionWarning: A column-vector y was passed when a 1d array was expected. Please change the shape of y to (n_samples,), for example using ravel().\n",
      "  return self._fit(X, y)\n",
      "C:\\Users\\Matteo\\anaconda3\\lib\\site-packages\\sklearn\\neighbors\\_classification.py:198: DataConversionWarning: A column-vector y was passed when a 1d array was expected. Please change the shape of y to (n_samples,), for example using ravel().\n",
      "  return self._fit(X, y)\n"
     ]
    },
    {
     "data": {
      "text/plain": [
       "(0.7198241991716642, 0.696625805585225)"
      ]
     },
     "execution_count": 205,
     "metadata": {},
     "output_type": "execute_result"
    }
   ],
   "source": [
    "scores = cross_validate(kNN(n_neighbors = learner.best_params_['n_neighbors']), X, y, cv=5, return_train_score = True)\n",
    "scores['train_score'].mean(),scores['test_score'].mean()"
   ]
  },
  {
   "cell_type": "markdown",
   "metadata": {},
   "source": [
    "Outperformed by trees"
   ]
  },
  {
   "cell_type": "code",
   "execution_count": null,
   "metadata": {},
   "outputs": [],
   "source": []
  }
 ],
 "metadata": {
  "interpreter": {
   "hash": "ac59ebe37160ed0dfa835113d9b8498d9f09ceb179beaac4002f036b9467c963"
  },
  "kernelspec": {
   "display_name": "Python 3",
   "language": "python",
   "name": "python3"
  },
  "language_info": {
   "codemirror_mode": {
    "name": "ipython",
    "version": 3
   },
   "file_extension": ".py",
   "mimetype": "text/x-python",
   "name": "python",
   "nbconvert_exporter": "python",
   "pygments_lexer": "ipython3",
   "version": "3.9.7"
  }
 },
 "nbformat": 4,
 "nbformat_minor": 2
}
