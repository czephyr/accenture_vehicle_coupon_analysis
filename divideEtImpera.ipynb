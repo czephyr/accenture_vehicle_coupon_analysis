{
 "cells": [
  {
   "cell_type": "code",
   "execution_count": 1,
   "metadata": {},
   "outputs": [],
   "source": [
    "import pandas as pd\n",
    "import numpy as np"
   ]
  },
  {
   "cell_type": "code",
   "execution_count": 2,
   "metadata": {},
   "outputs": [],
   "source": [
    "df = pd.read_csv('clean_df.csv', \n",
    "                        dtype={'has_children': str,\n",
    "                              'direction_same': str})"
   ]
  },
  {
   "cell_type": "code",
   "execution_count": 3,
   "metadata": {},
   "outputs": [
    {
     "data": {
      "text/plain": [
       "Index(['destination', 'passanger', 'weather', 'temperature', 'time', 'coupon',\n",
       "       'expiration', 'gender', 'maritalStatus', 'has_children', 'education',\n",
       "       'occupation', 'Bar', 'CoffeeHouse', 'CarryAway', 'RestaurantLessThan20',\n",
       "       'Restaurant20To50', 'direction_same', 'Y', 'rich', 'middleclass',\n",
       "       'poor', 'age0', 'age21', 'age31', 'age41', 'age51', 'distance'],\n",
       "      dtype='object')"
      ]
     },
     "execution_count": 3,
     "metadata": {},
     "output_type": "execute_result"
    }
   ],
   "source": [
    "df.columns"
   ]
  },
  {
   "cell_type": "code",
   "execution_count": 4,
   "metadata": {},
   "outputs": [],
   "source": [
    "coupons = df[\"coupon\"].unique().tolist()"
   ]
  },
  {
   "cell_type": "code",
   "execution_count": 5,
   "metadata": {},
   "outputs": [],
   "source": [
    "df_rest20 = df[df[\"coupon\"]==\"Restaurant(<20)\"]\n",
    "\n",
    "df_coffee = df[df[\"coupon\"]== \"Coffee House\"]\n",
    "\n",
    "df_bar = df[df[\"coupon\"]== \"Bar\"]\n",
    "\n",
    "df_takeaway = df[df[\"coupon\"]==\"Carry out & Take away\"]\n",
    "\n",
    "df_rest50 = df[df[\"coupon\"]==\"Restaurant(20-50)\"]"
   ]
  },
  {
   "cell_type": "code",
   "execution_count": 6,
   "metadata": {},
   "outputs": [
    {
     "name": "stdout",
     "output_type": "stream",
     "text": [
      "2653\n",
      "3816\n",
      "1913\n",
      "2280\n",
      "1417\n"
     ]
    }
   ],
   "source": [
    "print(len(df_rest20))\n",
    "print(len(df_coffee))\n",
    "print(len(df_bar))\n",
    "print(len(df_takeaway))\n",
    "print(len(df_rest50))"
   ]
  },
  {
   "cell_type": "code",
   "execution_count": 7,
   "metadata": {},
   "outputs": [
    {
     "data": {
      "text/plain": [
       "0    0.588082\n",
       "1    0.411918\n",
       "Name: Y, dtype: float64"
      ]
     },
     "execution_count": 7,
     "metadata": {},
     "output_type": "execute_result"
    }
   ],
   "source": [
    "df_bar[\"Y\"].value_counts()/df_bar.shape[0]"
   ]
  },
  {
   "cell_type": "code",
   "execution_count": 8,
   "metadata": {},
   "outputs": [
    {
     "data": {
      "text/plain": [
       "0    0.553987\n",
       "1    0.446013\n",
       "Name: Y, dtype: float64"
      ]
     },
     "execution_count": 8,
     "metadata": {},
     "output_type": "execute_result"
    }
   ],
   "source": [
    "df_rest50[\"Y\"].value_counts()/df_rest50.shape[0]"
   ]
  },
  {
   "cell_type": "code",
   "execution_count": 9,
   "metadata": {},
   "outputs": [
    {
     "data": {
      "text/plain": [
       "0    0.503669\n",
       "1    0.496331\n",
       "Name: Y, dtype: float64"
      ]
     },
     "execution_count": 9,
     "metadata": {},
     "output_type": "execute_result"
    }
   ],
   "source": [
    "df_coffee[\"Y\"].value_counts()/df_coffee.shape[0]"
   ]
  },
  {
   "cell_type": "code",
   "execution_count": 10,
   "metadata": {},
   "outputs": [
    {
     "data": {
      "text/plain": [
       "1    0.737719\n",
       "0    0.262281\n",
       "Name: Y, dtype: float64"
      ]
     },
     "execution_count": 10,
     "metadata": {},
     "output_type": "execute_result"
    }
   ],
   "source": [
    "df_takeaway[\"Y\"].value_counts()/df_takeaway.shape[0]"
   ]
  },
  {
   "cell_type": "code",
   "execution_count": 11,
   "metadata": {},
   "outputs": [
    {
     "data": {
      "text/plain": [
       "1    0.709009\n",
       "0    0.290991\n",
       "Name: Y, dtype: float64"
      ]
     },
     "execution_count": 11,
     "metadata": {},
     "output_type": "execute_result"
    }
   ],
   "source": [
    "df_rest20[\"Y\"].value_counts()/df_rest20.shape[0]"
   ]
  },
  {
   "cell_type": "code",
   "execution_count": 22,
   "metadata": {},
   "outputs": [
    {
     "name": "stdout",
     "output_type": "stream",
     "text": [
      "test_acc 0.7650130548302873\n",
      "f1_score 0.6590909090909091\n"
     ]
    }
   ],
   "source": [
    "from sklearn.model_selection import train_test_split\n",
    "RANDOM_SEED = 2021\n",
    "x = df_bar.drop(columns=['Y'])\n",
    "y = df_bar.Y\n",
    "X_train, X_test, y_train, y_test = train_test_split(x, y, random_state=RANDOM_SEED, test_size=0.2)\n",
    "\n",
    "from sklearn.pipeline import Pipeline\n",
    "from sklearn.impute import SimpleImputer\n",
    "from sklearn.preprocessing import StandardScaler, OneHotEncoder\n",
    "from sklearn.compose import ColumnTransformer\n",
    "\n",
    "num_features_a = X_train.select_dtypes(['int64', 'float64']).columns\n",
    "cat_features_a = X_train.select_dtypes(['object']).columns\n",
    "num_transformer = Pipeline(steps=[\n",
    "    ('imputer', SimpleImputer(strategy='most_frequent')),\n",
    "    ('scaler', StandardScaler())\n",
    "])\n",
    "cat_transformer = OneHotEncoder()\n",
    "preprocessor_a = ColumnTransformer(transformers=[\n",
    "    ('num', num_transformer, num_features_a),\n",
    "    ('cat', cat_transformer, cat_features_a)\n",
    "])\n",
    "X_train = preprocessor_a.fit_transform(X_train)\n",
    "X_test = preprocessor_a.transform(X_test)\n",
    "\n",
    "from sklearn.utils import class_weight\n",
    "\n",
    "from sklearn.linear_model import LogisticRegression\n",
    "logreg_clf = LogisticRegression(solver='saga', max_iter=1000,\n",
    "                               random_state=RANDOM_SEED)\n",
    "\n",
    "best_est = logreg_clf.fit(X_test,y_test)\n",
    "\n",
    "\n",
    "from sklearn import metrics\n",
    "\n",
    "print(\"test_acc \" + str(best_est.score(X_test, y_test)))\n",
    "print(\"f1_score \" + str(metrics.f1_score(y_test, best_est.predict(X_test))))"
   ]
  },
  {
   "cell_type": "code",
   "execution_count": null,
   "metadata": {},
   "outputs": [
    {
     "data": {
      "text/plain": [
       "0.7234807290423151"
      ]
     },
     "execution_count": 58,
     "metadata": {},
     "output_type": "execute_result"
    }
   ],
   "source": [
    "f1 = [0.7159685863874345,0.7401129943502824,0.6767015706806283,0.7587719298245614,0.7258485639686684]\n",
    "np.mean(f1)"
   ]
  },
  {
   "cell_type": "code",
   "execution_count": null,
   "metadata": {},
   "outputs": [],
   "source": [
    "\"\"\"\n",
    "coffe \n",
    "test_acc 0.7159685863874345\n",
    "f1_score 0.7071524966261808\n",
    "\n",
    "rest_20\n",
    "test_acc 0.7401129943502824\n",
    "f1_score 0.823529411764706\n",
    "\n",
    "bar\n",
    "test_acc 0.6767015706806283\n",
    "f1_score 0.7196367763904653\n",
    "\n",
    "takeaway\n",
    "test_acc 0.7587719298245614\n",
    "f1_score 0.8604060913705585\n",
    "\n",
    "rest_50\n",
    "test_acc 0.7258485639686684\n",
    "f1_score 0.5569620253164557\n",
    "\"\"\""
   ]
  }
 ],
 "metadata": {
  "interpreter": {
   "hash": "ac59ebe37160ed0dfa835113d9b8498d9f09ceb179beaac4002f036b9467c963"
  },
  "kernelspec": {
   "display_name": "Python 3.9.7 64-bit",
   "language": "python",
   "name": "python3"
  },
  "language_info": {
   "codemirror_mode": {
    "name": "ipython",
    "version": 3
   },
   "file_extension": ".py",
   "mimetype": "text/x-python",
   "name": "python",
   "nbconvert_exporter": "python",
   "pygments_lexer": "ipython3",
   "version": "3.9.7"
  },
  "orig_nbformat": 4
 },
 "nbformat": 4,
 "nbformat_minor": 2
}
