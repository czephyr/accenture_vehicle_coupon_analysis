{
 "cells": [
  {
   "cell_type": "code",
   "execution_count": 1,
   "metadata": {},
   "outputs": [],
   "source": [
    "import pandas as pd"
   ]
  },
  {
   "cell_type": "code",
   "execution_count": 16,
   "metadata": {},
   "outputs": [],
   "source": [
    "df = pd.read_csv('clean_df.csv', \n",
    "                        dtype={'has_children': str,\n",
    "                              'direction_same': str})"
   ]
  },
  {
   "cell_type": "code",
   "execution_count": 17,
   "metadata": {},
   "outputs": [],
   "source": [
    "from sklearn.model_selection import train_test_split, KFold\n",
    "from sklearn import base\n",
    "import numpy as np\n",
    "RANDOM_SEED = 2021\n",
    "\n",
    "x = df.drop(columns=['Y'])\n",
    "y = df.Y\n",
    "X_train, X_test, y_train, y_test = train_test_split(x, y, random_state=RANDOM_SEED, test_size=0.2)"
   ]
  },
  {
   "cell_type": "code",
   "execution_count": 19,
   "metadata": {},
   "outputs": [],
   "source": [
    "from sklearn.pipeline import Pipeline\n",
    "from sklearn.impute import SimpleImputer\n",
    "from sklearn.preprocessing import StandardScaler, OneHotEncoder\n",
    "from sklearn.compose import ColumnTransformer"
   ]
  },
  {
   "cell_type": "code",
   "execution_count": 20,
   "metadata": {},
   "outputs": [],
   "source": [
    "num_features_a = X_train.select_dtypes(['int64', 'float64']).columns\n",
    "cat_features_a = X_train.select_dtypes(['object']).columns\n",
    "num_transformer = Pipeline(steps=[\n",
    "    ('imputer', SimpleImputer(strategy='most_frequent')),\n",
    "    ('scaler', StandardScaler())\n",
    "])\n",
    "cat_transformer = OneHotEncoder()\n",
    "preprocessor_a = ColumnTransformer(transformers=[\n",
    "    ('num', num_transformer, num_features_a),\n",
    "    ('cat', cat_transformer, cat_features_a)\n",
    "])\n",
    "X_train = preprocessor_a.fit_transform(X_train)\n",
    "X_test = preprocessor_a.transform(X_test)"
   ]
  },
  {
   "cell_type": "code",
   "execution_count": 21,
   "metadata": {},
   "outputs": [],
   "source": [
    "from sklearn.linear_model import LogisticRegression, LogisticRegressionCV\n",
    "from sklearn.tree import DecisionTreeClassifier\n",
    "from sklearn.naive_bayes import GaussianNB, BernoulliNB\n",
    "from sklearn.neighbors import KNeighborsClassifier\n",
    "from sklearn.svm import LinearSVC, SVC"
   ]
  },
  {
   "cell_type": "code",
   "execution_count": 22,
   "metadata": {},
   "outputs": [],
   "source": [
    "logreg_clf = LogisticRegression(solver='saga', max_iter=500,\n",
    "                               random_state=RANDOM_SEED)\n",
    "dt_clf = DecisionTreeClassifier(random_state=RANDOM_SEED)\n",
    "bnb_clf = BernoulliNB()\n",
    "knn_clf = KNeighborsClassifier()\n",
    "lsvm_clf = LinearSVC(max_iter=5000, dual=False)"
   ]
  },
  {
   "cell_type": "code",
   "execution_count": 23,
   "metadata": {},
   "outputs": [],
   "source": [
    "from sklearn.utils.fixes import loguniform"
   ]
  },
  {
   "cell_type": "code",
   "execution_count": 24,
   "metadata": {},
   "outputs": [],
   "source": [
    "logreg_params = dict(C=loguniform(1e-1, 1e2),\n",
    "                     penalty=['l1', 'l2'])\n",
    "dt_params = dict(criterion=['gini', 'entropy'],\n",
    "                 min_samples_split=[2, 4, 6, 8, 10],\n",
    "                 max_depth=[2, 4, 6, 8, 10])\n",
    "bnb_params = dict(alpha=loguniform(1e-1, 1e0))\n",
    "knn_params = dict(n_neighbors=[2, 4, 6, 8, 10, 12, 14, 20],\n",
    "               weights=['uniform', 'distance'],\n",
    "               metric=['euclidean', 'manhattan'])\n",
    "lsvm_params = dict(C=loguniform(1e-1, 1e2))"
   ]
  },
  {
   "cell_type": "code",
   "execution_count": 25,
   "metadata": {},
   "outputs": [],
   "source": [
    "clf_list = [logreg_clf, dt_clf, bnb_clf, knn_clf, lsvm_clf]\n",
    "params_list = [logreg_params, dt_params, bnb_params, knn_params, lsvm_params]\n",
    "model_names = ['Logistic Regression', 'Decison Tree', 'Bernoulli Naive Bayes',\n",
    "               'KNN Classifier', 'Linear SVM']"
   ]
  },
  {
   "cell_type": "code",
   "execution_count": 26,
   "metadata": {},
   "outputs": [],
   "source": [
    "from sklearn.model_selection import RandomizedSearchCV"
   ]
  },
  {
   "cell_type": "code",
   "execution_count": 27,
   "metadata": {},
   "outputs": [],
   "source": [
    "def train_model(X, y, model_suffix, clf_list=clf_list, params_list=params_list):\n",
    "    for i in range(len(clf_list)):\n",
    "        # model training with RandomizedSearchCV\n",
    "        rscv = RandomizedSearchCV(estimator=clf_list[i],\n",
    "                                  param_distributions=params_list[i],\n",
    "                                  n_jobs=-1, random_state=RANDOM_SEED).fit(X, y)\n",
    "        # store cv results\n",
    "        globals()['rscv%s' % model_suffix[i]] = pd.DataFrame(rscv.cv_results_)\n",
    "        # store the best model\n",
    "        globals()['best%s' % model_suffix[i]] = rscv"
   ]
  },
  {
   "cell_type": "code",
   "execution_count": 28,
   "metadata": {},
   "outputs": [],
   "source": [
    "def record_best_result(model_list, model_suffix):\n",
    "    # store the best results into a dataframe\n",
    "    for i in range(len(model_list)):\n",
    "        globals()['df%s' % model_suffix[i]] = model_list[i].query('rank_test_score == 1')\\\n",
    "        [['params', 'mean_test_score', 'std_test_score']]"
   ]
  },
  {
   "cell_type": "code",
   "execution_count": 29,
   "metadata": {},
   "outputs": [],
   "source": [
    "from sklearn import metrics\n",
    "from sklearn.metrics import silhouette_samples, silhouette_score"
   ]
  },
  {
   "cell_type": "code",
   "execution_count": 30,
   "metadata": {},
   "outputs": [],
   "source": [
    "def model_eval(clf_list, model_names, X_test, y_test):\n",
    "    test_acc = []\n",
    "    f1_score = []\n",
    "    for clf in clf_list:\n",
    "        test_acc.append(clf.score(X_test, y_test))\n",
    "        f1_score.append(metrics.f1_score(y_test, clf.predict(X_test)))\n",
    "    return pd.DataFrame(data={'model': model_names, 'test_acc': test_acc, 'f1_score': f1_score})"
   ]
  },
  {
   "cell_type": "code",
   "execution_count": 32,
   "metadata": {},
   "outputs": [],
   "source": [
    "# train models\n",
    "model_suffix_a = ['_logreg_a', '_dt_a', '_bnb_a', '_knn_a', '_lsvm_a']\n",
    "train_model(X_train, y_train, model_suffix_a)\n",
    "\n",
    "# record best results in cross validation\n",
    "rscv_list_a = [rscv_logreg_a, rscv_dt_a, rscv_bnb_a, rscv_knn_a, rscv_lsvm_a]\n",
    "record_best_result(rscv_list_a, model_suffix_a)\n",
    "\n",
    "# output the best results as a dataframe\n",
    "df_list_a = [df_logreg_a, df_dt_a, df_bnb_a, df_knn_a, df_lsvm_a]\n",
    "for df, model in zip(df_list_a, model_names):\n",
    "    df['model'] = model\n",
    "result_df_a = pd.concat(df_list_a)\n",
    "\n",
    "# check test scores\n",
    "best_clfs_a = [best_logreg_a, best_dt_a, best_bnb_a, best_knn_a, best_lsvm_a]\n",
    "test_result_a = model_eval(best_clfs_a, model_names, X_test, y_test)"
   ]
  },
  {
   "cell_type": "code",
   "execution_count": 35,
   "metadata": {},
   "outputs": [
    {
     "data": {
      "text/plain": [
       "RandomizedSearchCV(estimator=LogisticRegression(max_iter=500, random_state=2021,\n",
       "                                                solver='saga'),\n",
       "                   n_jobs=-1,\n",
       "                   param_distributions={'C': <scipy.stats._distn_infrastructure.rv_frozen object at 0x00000192820709A0>,\n",
       "                                        'penalty': ['l1', 'l2']},\n",
       "                   random_state=2021)"
      ]
     },
     "execution_count": 35,
     "metadata": {},
     "output_type": "execute_result"
    }
   ],
   "source": [
    "best_logreg_a"
   ]
  },
  {
   "cell_type": "code",
   "execution_count": 33,
   "metadata": {},
   "outputs": [
    {
     "data": {
      "text/html": [
       "<div>\n",
       "<style scoped>\n",
       "    .dataframe tbody tr th:only-of-type {\n",
       "        vertical-align: middle;\n",
       "    }\n",
       "\n",
       "    .dataframe tbody tr th {\n",
       "        vertical-align: top;\n",
       "    }\n",
       "\n",
       "    .dataframe thead th {\n",
       "        text-align: right;\n",
       "    }\n",
       "</style>\n",
       "<table border=\"1\" class=\"dataframe\">\n",
       "  <thead>\n",
       "    <tr style=\"text-align: right;\">\n",
       "      <th></th>\n",
       "      <th>params</th>\n",
       "      <th>mean_test_score</th>\n",
       "      <th>std_test_score</th>\n",
       "      <th>model</th>\n",
       "    </tr>\n",
       "  </thead>\n",
       "  <tbody>\n",
       "    <tr>\n",
       "      <th>4</th>\n",
       "      <td>{'C': 0.344333532380571, 'penalty': 'l1'}</td>\n",
       "      <td>0.683949</td>\n",
       "      <td>0.009104</td>\n",
       "      <td>Logistic Regression</td>\n",
       "    </tr>\n",
       "    <tr>\n",
       "      <th>9</th>\n",
       "      <td>{'min_samples_split': 2, 'max_depth': 8, 'crit...</td>\n",
       "      <td>0.692747</td>\n",
       "      <td>0.005682</td>\n",
       "      <td>Decison Tree</td>\n",
       "    </tr>\n",
       "    <tr>\n",
       "      <th>0</th>\n",
       "      <td>{'alpha': 0.40362520519080136}</td>\n",
       "      <td>0.656524</td>\n",
       "      <td>0.006633</td>\n",
       "      <td>Bernoulli Naive Bayes</td>\n",
       "    </tr>\n",
       "    <tr>\n",
       "      <th>1</th>\n",
       "      <td>{'alpha': 0.5412144223247399}</td>\n",
       "      <td>0.656524</td>\n",
       "      <td>0.006633</td>\n",
       "      <td>Bernoulli Naive Bayes</td>\n",
       "    </tr>\n",
       "    <tr>\n",
       "      <th>7</th>\n",
       "      <td>{'alpha': 0.5661420703684213}</td>\n",
       "      <td>0.656524</td>\n",
       "      <td>0.006633</td>\n",
       "      <td>Bernoulli Naive Bayes</td>\n",
       "    </tr>\n",
       "    <tr>\n",
       "      <th>8</th>\n",
       "      <td>{'alpha': 0.4593677628057311}</td>\n",
       "      <td>0.656524</td>\n",
       "      <td>0.006633</td>\n",
       "      <td>Bernoulli Naive Bayes</td>\n",
       "    </tr>\n",
       "    <tr>\n",
       "      <th>9</th>\n",
       "      <td>{'alpha': 0.6085694290112444}</td>\n",
       "      <td>0.656524</td>\n",
       "      <td>0.006633</td>\n",
       "      <td>Bernoulli Naive Bayes</td>\n",
       "    </tr>\n",
       "    <tr>\n",
       "      <th>6</th>\n",
       "      <td>{'weights': 'distance', 'n_neighbors': 12, 'me...</td>\n",
       "      <td>0.695539</td>\n",
       "      <td>0.008030</td>\n",
       "      <td>KNN Classifier</td>\n",
       "    </tr>\n",
       "    <tr>\n",
       "      <th>5</th>\n",
       "      <td>{'C': 0.24237461166526628}</td>\n",
       "      <td>0.685087</td>\n",
       "      <td>0.008189</td>\n",
       "      <td>Linear SVM</td>\n",
       "    </tr>\n",
       "  </tbody>\n",
       "</table>\n",
       "</div>"
      ],
      "text/plain": [
       "                                              params  mean_test_score  \\\n",
       "4          {'C': 0.344333532380571, 'penalty': 'l1'}         0.683949   \n",
       "9  {'min_samples_split': 2, 'max_depth': 8, 'crit...         0.692747   \n",
       "0                     {'alpha': 0.40362520519080136}         0.656524   \n",
       "1                      {'alpha': 0.5412144223247399}         0.656524   \n",
       "7                      {'alpha': 0.5661420703684213}         0.656524   \n",
       "8                      {'alpha': 0.4593677628057311}         0.656524   \n",
       "9                      {'alpha': 0.6085694290112444}         0.656524   \n",
       "6  {'weights': 'distance', 'n_neighbors': 12, 'me...         0.695539   \n",
       "5                         {'C': 0.24237461166526628}         0.685087   \n",
       "\n",
       "   std_test_score                  model  \n",
       "4        0.009104    Logistic Regression  \n",
       "9        0.005682           Decison Tree  \n",
       "0        0.006633  Bernoulli Naive Bayes  \n",
       "1        0.006633  Bernoulli Naive Bayes  \n",
       "7        0.006633  Bernoulli Naive Bayes  \n",
       "8        0.006633  Bernoulli Naive Bayes  \n",
       "9        0.006633  Bernoulli Naive Bayes  \n",
       "6        0.008030         KNN Classifier  \n",
       "5        0.008189             Linear SVM  "
      ]
     },
     "execution_count": 33,
     "metadata": {},
     "output_type": "execute_result"
    }
   ],
   "source": [
    "result_df_a"
   ]
  },
  {
   "cell_type": "code",
   "execution_count": 34,
   "metadata": {},
   "outputs": [
    {
     "data": {
      "text/html": [
       "<div>\n",
       "<style scoped>\n",
       "    .dataframe tbody tr th:only-of-type {\n",
       "        vertical-align: middle;\n",
       "    }\n",
       "\n",
       "    .dataframe tbody tr th {\n",
       "        vertical-align: top;\n",
       "    }\n",
       "\n",
       "    .dataframe thead th {\n",
       "        text-align: right;\n",
       "    }\n",
       "</style>\n",
       "<table border=\"1\" class=\"dataframe\">\n",
       "  <thead>\n",
       "    <tr style=\"text-align: right;\">\n",
       "      <th></th>\n",
       "      <th>model</th>\n",
       "      <th>test_acc</th>\n",
       "      <th>f1_score</th>\n",
       "    </tr>\n",
       "  </thead>\n",
       "  <tbody>\n",
       "    <tr>\n",
       "      <th>0</th>\n",
       "      <td>Logistic Regression</td>\n",
       "      <td>0.687086</td>\n",
       "      <td>0.743555</td>\n",
       "    </tr>\n",
       "    <tr>\n",
       "      <th>1</th>\n",
       "      <td>Decison Tree</td>\n",
       "      <td>0.688742</td>\n",
       "      <td>0.742642</td>\n",
       "    </tr>\n",
       "    <tr>\n",
       "      <th>2</th>\n",
       "      <td>Bernoulli Naive Bayes</td>\n",
       "      <td>0.666391</td>\n",
       "      <td>0.714993</td>\n",
       "    </tr>\n",
       "    <tr>\n",
       "      <th>3</th>\n",
       "      <td>KNN Classifier</td>\n",
       "      <td>0.692053</td>\n",
       "      <td>0.742025</td>\n",
       "    </tr>\n",
       "    <tr>\n",
       "      <th>4</th>\n",
       "      <td>Linear SVM</td>\n",
       "      <td>0.687914</td>\n",
       "      <td>0.743537</td>\n",
       "    </tr>\n",
       "  </tbody>\n",
       "</table>\n",
       "</div>"
      ],
      "text/plain": [
       "                   model  test_acc  f1_score\n",
       "0    Logistic Regression  0.687086  0.743555\n",
       "1           Decison Tree  0.688742  0.742642\n",
       "2  Bernoulli Naive Bayes  0.666391  0.714993\n",
       "3         KNN Classifier  0.692053  0.742025\n",
       "4             Linear SVM  0.687914  0.743537"
      ]
     },
     "execution_count": 34,
     "metadata": {},
     "output_type": "execute_result"
    }
   ],
   "source": [
    "test_result_a\n"
   ]
  }
 ],
 "metadata": {
  "interpreter": {
   "hash": "ac59ebe37160ed0dfa835113d9b8498d9f09ceb179beaac4002f036b9467c963"
  },
  "kernelspec": {
   "display_name": "Python 3.9.7 64-bit",
   "language": "python",
   "name": "python3"
  },
  "language_info": {
   "codemirror_mode": {
    "name": "ipython",
    "version": 3
   },
   "file_extension": ".py",
   "mimetype": "text/x-python",
   "name": "python",
   "nbconvert_exporter": "python",
   "pygments_lexer": "ipython3",
   "version": "3.9.7"
  },
  "orig_nbformat": 4
 },
 "nbformat": 4,
 "nbformat_minor": 2
}
