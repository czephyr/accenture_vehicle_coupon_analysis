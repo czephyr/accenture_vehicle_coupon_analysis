{
 "cells": [
  {
   "cell_type": "code",
   "execution_count": 1,
   "metadata": {},
   "outputs": [],
   "source": [
    "import pandas as pd\n",
    "import matplotlib.pyplot as plt\n",
    "import numpy as np\n",
    "import seaborn as sns"
   ]
  },
  {
   "cell_type": "code",
   "execution_count": null,
   "metadata": {},
   "outputs": [],
   "source": [
    "##### BUSINESS PROBLEM DESCRIPTION\n",
    "## Ha senso investire soldi per fare advertising per ristorazione con i coupon attraverso le metriche\n",
    "## raccolte dai dispositivi di geolocalizzazione? Sarebbe un business model monetizzabile? \n",
    "## Quale segmento di clientela potrebbe essere più responsive alla call to action? \n",
    "## Che abitudini ha la clientela che sarebbe responsive? \n",
    "## Che caratteristiche deve avere il coupon per essere interessante? (Distanza, Expiration date, \n",
    "# Tipologia di ristorante, Comodità per l'utente in viaggio [direzione], \n",
    "# Dove sta andando l'utente [destinazione], con chi è [passenger (magari giovani con amici che stanno uscendo a divertirsi????)])\n",
    "######## Lavoratori che vanno a lavoro? \n",
    "## Ci sarebbe un periodo \n",
    "\n",
    "\n",
    "##### GENERAL STUFF \n",
    "## A noi interessa essere più accurati sullo scoprire quelli che useranno il coupon o quello che non lo useranno?\n",
    "## ne dipende la metrica del modello, e le implicazioni di business sul come agire (nel caso si usino risorse per \n",
    "## inviare i coupon ci piacerebbe evitare che vengano sprecati e non inviarli a chi non li userebbe)\n",
    "\n",
    "##### VARIABLES\n",
    "## Weather not distributed evenly so i'd say not statistically relevant\n",
    "## Time, seems like 7AM and 10PM don't offer any insights (orari strambi per mangiare)\n",
    "## Coupon type, \"Carry out & Take away\" and \"Restaurant <20\" are extremely good performers, while Bars suck\n",
    "## Expiration, 1day is performing extremely good, the other one not relevant\n",
    "## Gender, males are 59, females 54, seems not relevant\n",
    "## Age, don't really know what to do, all positive, below21 most performing\n",
    "## maritalStatus, mostly positive but singles have 60, widowed and diverced are useless because of sample size\n",
    "## has_children, no children have 0\n",
    "## education, not really statistical, might be useful to feature engineer into overHighschool, underHighschool\n",
    "## income, lesser income\n",
    "\n",
    "##### FEATURE ENGINEERING\n",
    "## GEQ Variables just one feature \n",
    "## direction Variables just one feature \n",
    "## Implicazioni di business nel capire \n",
    "## Interaction between GEQ and Direction (and maybe Expiration, [Vizualization on these ones]) \n",
    "## Education feature engineer into overHighschool, underHighschool"
   ]
  },
  {
   "cell_type": "code",
   "execution_count": 2,
   "metadata": {},
   "outputs": [],
   "source": [
    "df = pd.read_csv(\"Vehicle Coupon Recommendation.csv\")"
   ]
  },
  {
   "cell_type": "code",
   "execution_count": 13,
   "metadata": {},
   "outputs": [],
   "source": [
    "df.drop(\"car\",axis=1,inplace=True)"
   ]
  },
  {
   "cell_type": "code",
   "execution_count": 30,
   "metadata": {},
   "outputs": [
    {
     "data": {
      "text/plain": [
       "destination               0\n",
       "passanger                 0\n",
       "weather                   0\n",
       "temperature               0\n",
       "time                      0\n",
       "coupon                    0\n",
       "expiration                0\n",
       "gender                    0\n",
       "age                       0\n",
       "maritalStatus             0\n",
       "has_children              0\n",
       "education                 0\n",
       "occupation                0\n",
       "income                    0\n",
       "Bar                     107\n",
       "CoffeeHouse             217\n",
       "CarryAway               151\n",
       "RestaurantLessThan20    130\n",
       "Restaurant20To50        189\n",
       "toCoupon_GEQ5min          0\n",
       "toCoupon_GEQ15min         0\n",
       "toCoupon_GEQ25min         0\n",
       "direction_same            0\n",
       "direction_opp             0\n",
       "Y                         0\n",
       "dtype: int64"
      ]
     },
     "execution_count": 30,
     "metadata": {},
     "output_type": "execute_result"
    }
   ],
   "source": [
    "df.isna().sum()"
   ]
  },
  {
   "cell_type": "code",
   "execution_count": 66,
   "metadata": {},
   "outputs": [
    {
     "data": {
      "text/plain": [
       "Some college - no degree                  4351\n",
       "Bachelors degree                          4335\n",
       "Graduate degree (Masters or Doctorate)    1852\n",
       "Associates degree                         1153\n",
       "High School Graduate                       905\n",
       "Some High School                            88\n",
       "Name: education, dtype: int64"
      ]
     },
     "execution_count": 66,
     "metadata": {},
     "output_type": "execute_result"
    }
   ],
   "source": [
    "df[\"education\"].value_counts()"
   ]
  },
  {
   "cell_type": "code",
   "execution_count": 63,
   "metadata": {},
   "outputs": [],
   "source": [
    "def educ(x):\n",
    "    if x in [\"Some college - no degree\",\"Associates degree\",\"High School Graduate\",\"Some High School\"]:\n",
    "        return \"low\"\n",
    "    elif x in [\"Graduate degree (Masters or Doctorate)\",\"Bachelors degree\"]:\n",
    "        return \"high\""
   ]
  },
  {
   "cell_type": "code",
   "execution_count": 64,
   "metadata": {},
   "outputs": [],
   "source": [
    "df[\"educlvl\"] = df[\"education\"].apply(educ)"
   ]
  },
  {
   "cell_type": "code",
   "execution_count": 65,
   "metadata": {},
   "outputs": [
    {
     "data": {
      "text/plain": [
       "(-1.1038233124814194,\n",
       " 1.1073300106205075,\n",
       " -1.106156939761134,\n",
       " 1.1002931876076731)"
      ]
     },
     "execution_count": 65,
     "metadata": {},
     "output_type": "execute_result"
    },
    {
     "data": {
      "image/png": "[encoded data removed]",
      "text/plain": [
       "<Figure size 432x288 with 1 Axes>"
      ]
     },
     "metadata": {},
     "output_type": "display_data"
    }
   ],
   "source": [
    "sizes = df[\"educlvl\"].value_counts()\n",
    "explode = (0,0,0)\n",
    "\n",
    "fig1, ax1 = plt.subplots(1)\n",
    "ax1.pie(sizes,labels=sizes.index, autopct='%1.1f%%',\n",
    "        shadow=True, startangle=90)\n",
    "ax1.axis('equal')  # Equal aspect ratio ensures that pie is drawn as a circle."
   ]
  },
  {
   "cell_type": "code",
   "execution_count": 48,
   "metadata": {},
   "outputs": [
    {
     "data": {
      "text/plain": [
       "12684"
      ]
     },
     "execution_count": 48,
     "metadata": {},
     "output_type": "execute_result"
    }
   ],
   "source": [
    "len(df)"
   ]
  },
  {
   "cell_type": "code",
   "execution_count": 69,
   "metadata": {},
   "outputs": [
    {
     "data": {
      "text/plain": [
       "(-1.1117837432240012,\n",
       " 1.1151344617184509,\n",
       " -1.1278946171723707,\n",
       " 1.1013283211616596)"
      ]
     },
     "execution_count": 69,
     "metadata": {},
     "output_type": "execute_result"
    },
    {
     "data": {
      "image/png": "[encoded data removed]",
      "text/plain": [
       "<Figure size 432x288 with 1 Axes>"
      ]
     },
     "metadata": {},
     "output_type": "display_data"
    }
   ],
   "source": [
    "sizes = df[\"coupon\"].value_counts()\n",
    "explode = (0,0,0)\n",
    "\n",
    "fig1, ax1 = plt.subplots(1)\n",
    "ax1.set_title(\"Coupon Type\")\n",
    "ax1.pie(sizes,labels=sizes.index, autopct='%1.1f%%',\n",
    "        shadow=True, startangle=90)\n",
    "ax1.axis('equal')  # Equal aspect ratio ensures that pie is drawn as a circle."
   ]
  },
  {
   "cell_type": "code",
   "execution_count": 68,
   "metadata": {},
   "outputs": [
    {
     "data": {
      "text/plain": [
       "(-1.1014025659423399,\n",
       " 1.1033365724471815,\n",
       " -1.1023389664250711,\n",
       " 1.1001113793535748)"
      ]
     },
     "execution_count": 68,
     "metadata": {},
     "output_type": "execute_result"
    },
    {
     "data": {
      "image/png": "[encoded data removed]",
      "text/plain": [
       "<Figure size 432x288 with 1 Axes>"
      ]
     },
     "metadata": {},
     "output_type": "display_data"
    }
   ],
   "source": [
    "sizes = df[\"weather\"].value_counts()\n",
    "explode = (0,0,0)\n",
    "\n",
    "fig1, ax1 = plt.subplots(1)\n",
    "ax1.set_title(\"Weather\")\n",
    "ax1.pie(sizes, explode=explode,labels=sizes.index, autopct='%1.1f%%',\n",
    "        shadow=True, startangle=90)\n",
    "ax1.axis('equal')  # Equal aspect ratio ensures that pie is drawn as a circle."
   ]
  },
  {
   "cell_type": "code",
   "execution_count": 24,
   "metadata": {},
   "outputs": [
    {
     "data": {
      "text/plain": [
       "0.9523021128981394"
      ]
     },
     "execution_count": 24,
     "metadata": {},
     "output_type": "execute_result"
    }
   ],
   "source": [
    "df.dropna().shape[0] / df.shape[0]"
   ]
  },
  {
   "cell_type": "code",
   "execution_count": 5,
   "metadata": {},
   "outputs": [],
   "source": [
    "def clear(x):\n",
    "    if x == \"Less than $12500\":\n",
    "        return \"12499\"\n",
    "    elif x == \"$12500 - $24999\":\n",
    "        return \"12500\"\n",
    "    elif x == \"$25000 - $37499\":\n",
    "        return \"25000\"\n",
    "    elif x == \"$37500 - $49999\":\n",
    "        return \"37500\"\n",
    "    elif x == \"$50000 - $62499\":\n",
    "        return \"50000\"\n",
    "    elif x == \"$62500 - $74999\":\n",
    "        return \"62500\"\n",
    "    elif x == \"$75000 - $87499\":\n",
    "        return \"75000\"\n",
    "    elif x == \"$87500 - $99999\":\n",
    "        return \"87500\"\n",
    "    elif x ==\"$100000 or More\":\n",
    "        return \"more than 100k\""
   ]
  },
  {
   "cell_type": "code",
   "execution_count": 99,
   "metadata": {},
   "outputs": [],
   "source": [
    "def rich(x):\n",
    "    if x in [\"62500\",\"75000\",\"87500\",\"more than 100k\"]:\n",
    "        return 1\n",
    "    else:\n",
    "        return 0\n",
    "def middle(x):\n",
    "    if x in [\"25000\",\"37500\",\"50000\"]:\n",
    "        return 1\n",
    "    else:\n",
    "        return 0\n",
    "def poor(x):\n",
    "    if x in [\"12499\",\"12500\"]:\n",
    "        return 1\n",
    "    else:\n",
    "        return 0"
   ]
  },
  {
   "cell_type": "code",
   "execution_count": 102,
   "metadata": {},
   "outputs": [],
   "source": [
    "df[\"income\"]= df[\"income\"].apply(clear)"
   ]
  },
  {
   "cell_type": "code",
   "execution_count": 104,
   "metadata": {},
   "outputs": [],
   "source": [
    "df[\"rich\"] = df[\"income\"].apply(rich)\n",
    "df[\"middleclass\"] = df[\"income\"].apply(middle)\n",
    "df[\"poor\"] = df[\"income\"].apply(poor)"
   ]
  },
  {
   "cell_type": "code",
   "execution_count": 167,
   "metadata": {},
   "outputs": [
    {
     "name": "stdout",
     "output_type": "stream",
     "text": [
      "rich           0.539917\n",
      "poor           0.581274\n",
      "middleclass    0.584261\n",
      "Name: Wealth, dtype: float64\n"
     ]
    },
    {
     "data": {
      "image/png": "[encoded data removed]",
      "text/plain": [
       "<Figure size 432x288 with 1 Axes>"
      ]
     },
     "metadata": {
      "needs_background": "light"
     },
     "output_type": "display_data"
    }
   ],
   "source": [
    "show = {}\n",
    "\n",
    "count = df[[\"rich\",\"middleclass\",\"poor\"]].sum()\n",
    "\n",
    "for val in count.index:\n",
    "    show[val] = (df[df[val]==1][\"Y\"].sum() / df[df[val]==1][\"Y\"].count())\n",
    "ser = pd.Series(show,name=\"Wealth\")\n",
    "f, ax = plt.subplots(1)\n",
    "ser = ser.sort_values(ascending=True)\n",
    "plt.axhline(y=0.60,linewidth=1, color='red')\n",
    "plt.bar(ser.index,ser)\n",
    "ax.set_ylim(ymin=0.50)\n",
    "print(ser.sort_values())"
   ]
  },
  {
   "cell_type": "code",
   "execution_count": 155,
   "metadata": {},
   "outputs": [
    {
     "name": "stdout",
     "output_type": "stream",
     "text": [
      "rich           4334\n",
      "middleclass    5477\n",
      "poor           2873\n",
      "dtype: int64\n"
     ]
    },
    {
     "data": {
      "image/png": "[encoded data removed]",
      "text/plain": [
       "<Figure size 432x288 with 1 Axes>"
      ]
     },
     "metadata": {},
     "output_type": "display_data"
    }
   ],
   "source": [
    "sizes = df[[\"rich\",\"middleclass\",\"poor\"]].sum()\n",
    "explode = (0, 0, 0)\n",
    "\n",
    "fig1, ax1 = plt.subplots(1)\n",
    "ax1.pie(sizes, explode=explode,labels=sizes.index, autopct='%1.1f%%',\n",
    "        shadow=True, startangle=90)\n",
    "ax1.axis('equal')  # Equal aspect ratio ensures that pie is drawn as a circle.\n",
    "\n",
    "print(df[[\"rich\",\"middleclass\",\"poor\"]].sum())"
   ]
  },
  {
   "cell_type": "code",
   "execution_count": 61,
   "metadata": {},
   "outputs": [
    {
     "data": {
      "text/plain": [
       "(-1.2202963239941453,\n",
       " 1.1118001307821304,\n",
       " -1.1121077874372518,\n",
       " 1.1835236307282337)"
      ]
     },
     "execution_count": 61,
     "metadata": {},
     "output_type": "execute_result"
    },
    {
     "data": {
      "image/png": "[encoded data removed]",
      "text/plain": [
       "<Figure size 432x288 with 1 Axes>"
      ]
     },
     "metadata": {},
     "output_type": "display_data"
    }
   ],
   "source": [
    "sizes = df[\"age\"].value_counts()\n",
    "explode = (0.1, 0.1, 0,0,0,0,0,0)\n",
    "\n",
    "fig1, ax1 = plt.subplots(1)\n",
    "ax1.pie(sizes, explode=explode,labels=sizes.index, autopct='%1.1f%%',\n",
    "        shadow=True, startangle=90)\n",
    "ax1.axis('equal')  # Equal aspect ratio ensures that pie is drawn as a circle."
   ]
  },
  {
   "cell_type": "code",
   "execution_count": 112,
   "metadata": {},
   "outputs": [],
   "source": [
    "df[\"age0\"] = df[\"age\"].apply(lambda x: 1 if x ==\"below21\" else 0)\n",
    "df[\"age21\"] = df[\"age\"].apply(lambda x: 1 if x in [\"21\",\"26\"] else 0)\n",
    "df[\"age31\"] = df[\"age\"].apply(lambda x: 1 if x in [\"31\",\"36\"] else 0)\n",
    "df[\"age41\"] = df[\"age\"].apply(lambda x: 1 if x in [\"41\",\"46\"] else 0)\n",
    "df[\"age51\"] = df[\"age\"].apply(lambda x: 1 if x in [\"50plus\"] else 0)"
   ]
  },
  {
   "cell_type": "code",
   "execution_count": 44,
   "metadata": {},
   "outputs": [
    {
     "name": "stdout",
     "output_type": "stream",
     "text": [
      "50plus     0.508949\n",
      "36         0.535254\n",
      "31         0.546346\n",
      "41         0.572736\n",
      "46         0.575802\n",
      "26         0.595936\n",
      "21         0.598191\n",
      "below21    0.634369\n",
      "Name: Age, dtype: float64\n"
     ]
    },
    {
     "data": {
      "image/png": "[encoded data removed]",
      "text/plain": [
       "<Figure size 432x288 with 1 Axes>"
      ]
     },
     "metadata": {
      "needs_background": "light"
     },
     "output_type": "display_data"
    }
   ],
   "source": [
    "show = {}\n",
    "for val in df[\"age\"].unique():\n",
    "    show[val]=(df[df[\"age\"]==val][\"Y\"].sum() / df[df[\"age\"]==val][\"Y\"].count())\n",
    "ser = pd.Series(show,name=\"Age\")\n",
    "f, ax = plt.subplots(1)\n",
    "ser = ser.sort_values(ascending=True)\n",
    "plt.axhline(y=0.60,linewidth=1, color='red')\n",
    "plt.bar(ser.index,ser)\n",
    "ax.set_ylim(ymin=0.50)\n",
    "print(ser.sort_values())"
   ]
  },
  {
   "cell_type": "markdown",
   "metadata": {},
   "source": [
    "Potrebbe essere interessante capire come mai i 50plus sono il 14% ma performano così male"
   ]
  },
  {
   "cell_type": "markdown",
   "metadata": {},
   "source": [
    "31, 26 e 21 rappresentano più della metà delle persone intervistate, ma 31 ha meno adesione, quindi guardiamo 26 e 21."
   ]
  },
  {
   "cell_type": "code",
   "execution_count": 78,
   "metadata": {},
   "outputs": [
    {
     "data": {
      "text/plain": [
       "<BarContainer object of 9 artists>"
      ]
     },
     "execution_count": 78,
     "metadata": {},
     "output_type": "execute_result"
    },
    {
     "data": {
      "image/png": "[encoded data removed]",
      "text/plain": [
       "<Figure size 432x288 with 1 Axes>"
      ]
     },
     "metadata": {
      "needs_background": "light"
     },
     "output_type": "display_data"
    }
   ],
   "source": [
    "ser = df[df[\"age\"].isin([\"21\",\"26\"]) & df[\"Y\"]==1][\"income\"].value_counts().sort_index()\n",
    "plt.bar(ser.index,ser)"
   ]
  },
  {
   "cell_type": "code",
   "execution_count": 82,
   "metadata": {},
   "outputs": [
    {
     "data": {
      "text/plain": [
       "([0, 1, 2, 3, 4, 5],\n",
       " [Text(0, 0, ''),\n",
       "  Text(0, 0, ''),\n",
       "  Text(0, 0, ''),\n",
       "  Text(0, 0, ''),\n",
       "  Text(0, 0, ''),\n",
       "  Text(0, 0, '')])"
      ]
     },
     "execution_count": 82,
     "metadata": {},
     "output_type": "execute_result"
    },
    {
     "data": {
      "image/png": "[encoded data removed]",
      "text/plain": [
       "<Figure size 432x288 with 1 Axes>"
      ]
     },
     "metadata": {
      "needs_background": "light"
     },
     "output_type": "display_data"
    }
   ],
   "source": [
    "ser = df[df[\"age\"].isin([\"21\",\"26\"]) & df[\"Y\"]==1][\"education\"].value_counts()\n",
    "plt.bar(ser.index,ser)\n",
    "plt.xticks(rotation='vertical')"
   ]
  },
  {
   "cell_type": "code",
   "execution_count": 83,
   "metadata": {},
   "outputs": [
    {
     "data": {
      "text/plain": [
       "<BarContainer object of 2 artists>"
      ]
     },
     "execution_count": 83,
     "metadata": {},
     "output_type": "execute_result"
    },
    {
     "data": {
      "image/png": "[encoded data removed]",
      "text/plain": [
       "<Figure size 432x288 with 1 Axes>"
      ]
     },
     "metadata": {
      "needs_background": "light"
     },
     "output_type": "display_data"
    }
   ],
   "source": [
    "ser = df[df[\"age\"].isin([\"21\",\"26\"]) & df[\"Y\"]==1][\"has_children\"].value_counts()\n",
    "plt.bar(ser.index,ser)"
   ]
  },
  {
   "cell_type": "code",
   "execution_count": 84,
   "metadata": {},
   "outputs": [
    {
     "data": {
      "text/plain": [
       "<BarContainer object of 5 artists>"
      ]
     },
     "execution_count": 84,
     "metadata": {},
     "output_type": "execute_result"
    },
    {
     "data": {
      "image/png": "[encoded data removed]",
      "text/plain": [
       "<Figure size 432x288 with 1 Axes>"
      ]
     },
     "metadata": {
      "needs_background": "light"
     },
     "output_type": "display_data"
    }
   ],
   "source": [
    "ser = df[df[\"age\"].isin([\"21\",\"26\"]) & df[\"Y\"]==1][\"coupon\"].value_counts()\n",
    "plt.bar(ser.index,ser)"
   ]
  },
  {
   "cell_type": "code",
   "execution_count": 87,
   "metadata": {},
   "outputs": [
    {
     "data": {
      "text/plain": [
       "<BarContainer object of 5 artists>"
      ]
     },
     "execution_count": 87,
     "metadata": {},
     "output_type": "execute_result"
    },
    {
     "data": {
      "image/png": "[encoded data removed]",
      "text/plain": [
       "<Figure size 432x288 with 1 Axes>"
      ]
     },
     "metadata": {
      "needs_background": "light"
     },
     "output_type": "display_data"
    }
   ],
   "source": [
    "ser = df[df[\"age\"].isin([\"21\",\"26\"]) & df[\"Y\"]==1][\"Bar\"].value_counts()\n",
    "plt.bar(ser.index,ser)"
   ]
  },
  {
   "cell_type": "code",
   "execution_count": 88,
   "metadata": {},
   "outputs": [
    {
     "data": {
      "text/plain": [
       "<BarContainer object of 5 artists>"
      ]
     },
     "execution_count": 88,
     "metadata": {},
     "output_type": "execute_result"
    },
    {
     "data": {
      "image/png": "[encoded data removed]",
      "text/plain": [
       "<Figure size 432x288 with 1 Axes>"
      ]
     },
     "metadata": {
      "needs_background": "light"
     },
     "output_type": "display_data"
    }
   ],
   "source": [
    "ser = df[df[\"age\"].isin([\"21\",\"26\"]) & df[\"Y\"]==1][\"CarryAway\"].value_counts()\n",
    "plt.bar(ser.index,ser)"
   ]
  },
  {
   "cell_type": "code",
   "execution_count": 89,
   "metadata": {},
   "outputs": [
    {
     "data": {
      "text/plain": [
       "<BarContainer object of 5 artists>"
      ]
     },
     "execution_count": 89,
     "metadata": {},
     "output_type": "execute_result"
    },
    {
     "data": {
      "image/png": "[encoded data removed]",
      "text/plain": [
       "<Figure size 432x288 with 1 Axes>"
      ]
     },
     "metadata": {
      "needs_background": "light"
     },
     "output_type": "display_data"
    }
   ],
   "source": [
    "ser = df[df[\"age\"].isin([\"21\",\"26\"]) & df[\"Y\"]==1][\"CoffeeHouse\"].value_counts()\n",
    "plt.bar(ser.index,ser)"
   ]
  },
  {
   "cell_type": "code",
   "execution_count": 91,
   "metadata": {},
   "outputs": [],
   "source": [
    "young = df[df[\"age\"].isin([\"21\",\"26\"])]"
   ]
  },
  {
   "cell_type": "code",
   "execution_count": 118,
   "metadata": {},
   "outputs": [
    {
     "data": {
      "text/html": [
       "<div>\n",
       "<style scoped>\n",
       "    .dataframe tbody tr th:only-of-type {\n",
       "        vertical-align: middle;\n",
       "    }\n",
       "\n",
       "    .dataframe tbody tr th {\n",
       "        vertical-align: top;\n",
       "    }\n",
       "\n",
       "    .dataframe thead th {\n",
       "        text-align: right;\n",
       "    }\n",
       "</style>\n",
       "<table border=\"1\" class=\"dataframe\">\n",
       "  <thead>\n",
       "    <tr style=\"text-align: right;\">\n",
       "      <th></th>\n",
       "      <th></th>\n",
       "      <th>Y</th>\n",
       "    </tr>\n",
       "    <tr>\n",
       "      <th>RestaurantLessThan20</th>\n",
       "      <th>coupon</th>\n",
       "      <th></th>\n",
       "    </tr>\n",
       "  </thead>\n",
       "  <tbody>\n",
       "    <tr>\n",
       "      <th rowspan=\"2\" valign=\"top\">gt8</th>\n",
       "      <th>Carry out &amp; Take away</th>\n",
       "      <td>0.752688</td>\n",
       "    </tr>\n",
       "    <tr>\n",
       "      <th>Restaurant(&lt;20)</th>\n",
       "      <td>0.817391</td>\n",
       "    </tr>\n",
       "    <tr>\n",
       "      <th>never</th>\n",
       "      <th>Carry out &amp; Take away</th>\n",
       "      <td>0.866667</td>\n",
       "    </tr>\n",
       "  </tbody>\n",
       "</table>\n",
       "</div>"
      ],
      "text/plain": [
       "                                                   Y\n",
       "RestaurantLessThan20 coupon                         \n",
       "gt8                  Carry out & Take away  0.752688\n",
       "                     Restaurant(<20)        0.817391\n",
       "never                Carry out & Take away  0.866667"
      ]
     },
     "execution_count": 118,
     "metadata": {},
     "output_type": "execute_result"
    }
   ],
   "source": [
    "found = pd.pivot_table(young,index=[\"RestaurantLessThan20\",\"coupon\"],values=\"Y\")\n",
    "found[found[\"Y\"] > 0.75]"
   ]
  },
  {
   "cell_type": "code",
   "execution_count": 121,
   "metadata": {},
   "outputs": [
    {
     "data": {
      "text/plain": [
       "Index(['destination', 'passanger', 'weather', 'temperature', 'time', 'coupon',\n",
       "       'expiration', 'gender', 'age', 'maritalStatus', 'has_children',\n",
       "       'education', 'occupation', 'income', 'car', 'Bar', 'CoffeeHouse',\n",
       "       'CarryAway', 'RestaurantLessThan20', 'Restaurant20To50',\n",
       "       'toCoupon_GEQ5min', 'toCoupon_GEQ15min', 'toCoupon_GEQ25min',\n",
       "       'direction_same', 'direction_opp', 'Y', 'rich', 'middleclass', 'poor',\n",
       "       'age0', 'age21', 'age31', 'age41', 'age51'],\n",
       "      dtype='object')"
      ]
     },
     "execution_count": 121,
     "metadata": {},
     "output_type": "execute_result"
    }
   ],
   "source": [
    "df.columns"
   ]
  },
  {
   "cell_type": "code",
   "execution_count": 131,
   "metadata": {},
   "outputs": [
    {
     "data": {
      "text/html": [
       "<div>\n",
       "<style scoped>\n",
       "    .dataframe tbody tr th:only-of-type {\n",
       "        vertical-align: middle;\n",
       "    }\n",
       "\n",
       "    .dataframe tbody tr th {\n",
       "        vertical-align: top;\n",
       "    }\n",
       "\n",
       "    .dataframe thead th {\n",
       "        text-align: right;\n",
       "    }\n",
       "</style>\n",
       "<table border=\"1\" class=\"dataframe\">\n",
       "  <thead>\n",
       "    <tr style=\"text-align: right;\">\n",
       "      <th></th>\n",
       "      <th>Y</th>\n",
       "    </tr>\n",
       "    <tr>\n",
       "      <th>passanger</th>\n",
       "      <th></th>\n",
       "    </tr>\n",
       "  </thead>\n",
       "  <tbody>\n",
       "    <tr>\n",
       "      <th>Alone</th>\n",
       "      <td>0.611570</td>\n",
       "    </tr>\n",
       "    <tr>\n",
       "      <th>Friend(s)</th>\n",
       "      <td>0.712121</td>\n",
       "    </tr>\n",
       "    <tr>\n",
       "      <th>Partner</th>\n",
       "      <td>0.596154</td>\n",
       "    </tr>\n",
       "  </tbody>\n",
       "</table>\n",
       "</div>"
      ],
      "text/plain": [
       "                  Y\n",
       "passanger          \n",
       "Alone      0.611570\n",
       "Friend(s)  0.712121\n",
       "Partner    0.596154"
      ]
     },
     "execution_count": 131,
     "metadata": {},
     "output_type": "execute_result"
    }
   ],
   "source": [
    "pd.pivot_table(df[df[\"age0\"]==1],index=[\"passanger\"],values=\"Y\")"
   ]
  },
  {
   "cell_type": "code",
   "execution_count": 186,
   "metadata": {},
   "outputs": [],
   "source": [
    "some = []\n",
    "for col in ['rich', 'middleclass', 'poor','age0', 'age21', 'age31', 'age41', 'age51']:\n",
    "  for col2 in ['destination', 'passanger', 'weather', 'temperature', 'time', 'coupon',\n",
    "    'expiration', 'gender', 'maritalStatus', 'has_children',\n",
    "    'Bar', 'CoffeeHouse',\n",
    "    'CarryAway', 'RestaurantLessThan20', 'Restaurant20To50',\n",
    "    'toCoupon_GEQ5min', 'toCoupon_GEQ15min', 'toCoupon_GEQ25min',\n",
    "    'direction_same', 'direction_opp']:\n",
    "    found = pd.pivot_table(df[df[col]==1],index=[col2],values=\"Y\")\n",
    "    if not ((found[found[\"Y\"]>0.70]).empty):\n",
    "        some.append((col,(found[found[\"Y\"]>0.70])))\n",
    "\n",
    "\n",
    "######### CHECK DURING WINTER WHAT PLACE PREFERRED, AND CHECK AT WHAT TIME WHAT PLACE PREFERRED\n",
    "######### CHECK POPULATION WITH CHILDREN WHAT PREFERS\n",
    "######### \n"
   ]
  },
  {
   "cell_type": "code",
   "execution_count": 187,
   "metadata": {},
   "outputs": [
    {
     "data": {
      "text/plain": [
       "[('rich',\n",
       "                                Y\n",
       "  coupon                         \n",
       "  Carry out & Take away  0.702439),\n",
       " ('middleclass',\n",
       "                                Y\n",
       "  coupon                         \n",
       "  Carry out & Take away  0.753196\n",
       "  Restaurant(<20)        0.738294),\n",
       " ('middleclass',\n",
       "                           Y\n",
       "  Restaurant20To50          \n",
       "  4~8               0.721591),\n",
       " ('poor',\n",
       "                                Y\n",
       "  coupon                         \n",
       "  Carry out & Take away  0.751799),\n",
       " ('poor',\n",
       "                           Y\n",
       "  Restaurant20To50          \n",
       "  4~8               0.812183),\n",
       " ('age0',\n",
       "                    Y\n",
       "  passanger          \n",
       "  Friend(s)  0.712121),\n",
       " ('age0',\n",
       "                     Y\n",
       "  temperature         \n",
       "  80           0.72242),\n",
       " ('age0',\n",
       "               Y\n",
       "  time          \n",
       "  2PM   0.702703),\n",
       " ('age0',\n",
       "                                Y\n",
       "  coupon                         \n",
       "  Carry out & Take away  0.728070\n",
       "  Restaurant(<20)        0.734375),\n",
       " ('age0',\n",
       "                      Y\n",
       "  CoffeeHouse          \n",
       "  less1        0.753846),\n",
       " ('age0',\n",
       "                    Y\n",
       "  CarryAway          \n",
       "  never      0.863636),\n",
       " ('age0',\n",
       "                               Y\n",
       "  RestaurantLessThan20          \n",
       "  1~3                   0.718954),\n",
       " ('age0',\n",
       "                           Y\n",
       "  Restaurant20To50          \n",
       "  1~3               0.747126),\n",
       " ('age0',\n",
       "                            Y\n",
       "  toCoupon_GEQ15min          \n",
       "  0                  0.704724),\n",
       " ('age21',\n",
       "                    Y\n",
       "  passanger          \n",
       "  Friend(s)  0.710767),\n",
       " ('age21',\n",
       "              Y\n",
       "  time         \n",
       "  2PM   0.70119),\n",
       " ('age21',\n",
       "                                Y\n",
       "  coupon                         \n",
       "  Carry out & Take away  0.736402\n",
       "  Restaurant(<20)        0.736283),\n",
       " ('age21',\n",
       "                           Y\n",
       "  Restaurant20To50          \n",
       "  4~8               0.742424),\n",
       " ('age31',\n",
       "                                Y\n",
       "  coupon                         \n",
       "  Carry out & Take away  0.721617),\n",
       " ('age41',\n",
       "                    Y\n",
       "  passanger          \n",
       "  Partner    0.756757),\n",
       " ('age41',\n",
       "                                Y\n",
       "  coupon                         \n",
       "  Carry out & Take away  0.721557\n",
       "  Restaurant(<20)        0.726582),\n",
       " ('age51',\n",
       "                                Y\n",
       "  coupon                         \n",
       "  Carry out & Take away  0.774566),\n",
       " ('age51',\n",
       "                           Y\n",
       "  Restaurant20To50          \n",
       "  4~8               0.757576)]"
      ]
     },
     "execution_count": 187,
     "metadata": {},
     "output_type": "execute_result"
    }
   ],
   "source": [
    "some"
   ]
  },
  {
   "cell_type": "code",
   "execution_count": 110,
   "metadata": {},
   "outputs": [
    {
     "data": {
      "text/plain": [
       "<BarContainer object of 4 artists>"
      ]
     },
     "execution_count": 110,
     "metadata": {},
     "output_type": "execute_result"
    },
    {
     "data": {
      "image/png": "[encoded data removed]",
      "text/plain": [
       "<Figure size 432x288 with 1 Axes>"
      ]
     },
     "metadata": {
      "needs_background": "light"
     },
     "output_type": "display_data"
    }
   ],
   "source": [
    "ser = df[df[\"income\"]==\"more than 100k\"][\"Restaurant20To50\"].value_counts()\n",
    "plt.bar(ser.index,ser)\n"
   ]
  },
  {
   "cell_type": "markdown",
   "metadata": {},
   "source": [
    "Lets get a general look at the accepted the coupons"
   ]
  },
  {
   "cell_type": "code",
   "execution_count": 86,
   "metadata": {},
   "outputs": [
    {
     "data": {
      "text/plain": [
       "<BarContainer object of 5 artists>"
      ]
     },
     "execution_count": 86,
     "metadata": {},
     "output_type": "execute_result"
    },
    {
     "data": {
      "image/png": "[encoded data removed]",
      "text/plain": [
       "<Figure size 432x288 with 1 Axes>"
      ]
     },
     "metadata": {
      "needs_background": "light"
     },
     "output_type": "display_data"
    }
   ],
   "source": [
    "ser = df[df[\"Y\"]==1][\"coupon\"].value_counts()\n",
    "plt.bar(ser.index,ser)"
   ]
  },
  {
   "cell_type": "code",
   "execution_count": 7,
   "metadata": {},
   "outputs": [
    {
     "data": {
      "text/plain": [
       "Index(['destination', 'passanger', 'weather', 'temperature', 'time', 'coupon',\n",
       "       'expiration', 'gender', 'age', 'maritalStatus', 'has_children',\n",
       "       'education', 'occupation', 'income', 'car', 'Bar', 'CoffeeHouse',\n",
       "       'CarryAway', 'RestaurantLessThan20', 'Restaurant20To50',\n",
       "       'toCoupon_GEQ5min', 'toCoupon_GEQ15min', 'toCoupon_GEQ25min',\n",
       "       'direction_same', 'direction_opp', 'Y'],\n",
       "      dtype='object')"
      ]
     },
     "execution_count": 7,
     "metadata": {},
     "output_type": "execute_result"
    }
   ],
   "source": [
    "df.columns"
   ]
  },
  {
   "cell_type": "code",
   "execution_count": 69,
   "metadata": {},
   "outputs": [
    {
     "data": {
      "text/plain": [
       "destination             object\n",
       "passanger               object\n",
       "weather                 object\n",
       "temperature              int64\n",
       "time                    object\n",
       "coupon                  object\n",
       "expiration              object\n",
       "gender                  object\n",
       "age                     object\n",
       "maritalStatus           object\n",
       "has_children             int64\n",
       "education               object\n",
       "occupation              object\n",
       "income                  object\n",
       "car                     object\n",
       "Bar                     object\n",
       "CoffeeHouse             object\n",
       "CarryAway               object\n",
       "RestaurantLessThan20    object\n",
       "Restaurant20To50        object\n",
       "toCoupon_GEQ5min         int64\n",
       "toCoupon_GEQ15min        int64\n",
       "toCoupon_GEQ25min        int64\n",
       "direction_same           int64\n",
       "direction_opp            int64\n",
       "Y                        int64\n",
       "dtype: object"
      ]
     },
     "execution_count": 69,
     "metadata": {},
     "output_type": "execute_result"
    }
   ],
   "source": [
    "df.dtypes"
   ]
  },
  {
   "cell_type": "code",
   "execution_count": 108,
   "metadata": {},
   "outputs": [
    {
     "data": {
      "text/html": [
       "<div>\n",
       "<style scoped>\n",
       "    .dataframe tbody tr th:only-of-type {\n",
       "        vertical-align: middle;\n",
       "    }\n",
       "\n",
       "    .dataframe tbody tr th {\n",
       "        vertical-align: top;\n",
       "    }\n",
       "\n",
       "    .dataframe thead th {\n",
       "        text-align: right;\n",
       "    }\n",
       "</style>\n",
       "<table border=\"1\" class=\"dataframe\">\n",
       "  <thead>\n",
       "    <tr style=\"text-align: right;\">\n",
       "      <th></th>\n",
       "      <th>Y</th>\n",
       "    </tr>\n",
       "    <tr>\n",
       "      <th>maritalStatus</th>\n",
       "      <th></th>\n",
       "    </tr>\n",
       "  </thead>\n",
       "  <tbody>\n",
       "    <tr>\n",
       "      <th>Divorced</th>\n",
       "      <td>0.529070</td>\n",
       "    </tr>\n",
       "    <tr>\n",
       "      <th>Married partner</th>\n",
       "      <td>0.542941</td>\n",
       "    </tr>\n",
       "    <tr>\n",
       "      <th>Single</th>\n",
       "      <td>0.605850</td>\n",
       "    </tr>\n",
       "    <tr>\n",
       "      <th>Unmarried partner</th>\n",
       "      <td>0.561299</td>\n",
       "    </tr>\n",
       "    <tr>\n",
       "      <th>Widowed</th>\n",
       "      <td>0.476923</td>\n",
       "    </tr>\n",
       "  </tbody>\n",
       "</table>\n",
       "</div>"
      ],
      "text/plain": [
       "                          Y\n",
       "maritalStatus              \n",
       "Divorced           0.529070\n",
       "Married partner    0.542941\n",
       "Single             0.605850\n",
       "Unmarried partner  0.561299\n",
       "Widowed            0.476923"
      ]
     },
     "execution_count": 108,
     "metadata": {},
     "output_type": "execute_result"
    }
   ],
   "source": [
    "pd.pivot_table(df, values='Y', index=['maritalStatus'], aggfunc=np.mean)"
   ]
  }
 ],
 "metadata": {
  "interpreter": {
   "hash": "ac59ebe37160ed0dfa835113d9b8498d9f09ceb179beaac4002f036b9467c963"
  },
  "kernelspec": {
   "display_name": "Python 3.9.7 64-bit",
   "language": "python",
   "name": "python3"
  },
  "language_info": {
   "codemirror_mode": {
    "name": "ipython",
    "version": 3
   },
   "file_extension": ".py",
   "mimetype": "text/x-python",
   "name": "python",
   "nbconvert_exporter": "python",
   "pygments_lexer": "ipython3",
   "version": "3.9.7"
  },
  "orig_nbformat": 4
 },
 "nbformat": 4,
 "nbformat_minor": 2
}
